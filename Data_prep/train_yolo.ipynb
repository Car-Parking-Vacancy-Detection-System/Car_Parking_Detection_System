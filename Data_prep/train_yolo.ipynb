{
 "cells": [
  {
   "cell_type": "markdown",
   "metadata": {},
   "source": [
    "Parking Lot Segmentation"
   ]
  },
  {
   "cell_type": "code",
   "execution_count": null,
   "metadata": {},
   "outputs": [],
   "source": [
    "from ultralytics import YOLO"
   ]
  },
  {
   "cell_type": "code",
   "execution_count": 3,
   "metadata": {},
   "outputs": [
    {
     "name": "stdout",
     "output_type": "stream",
     "text": [
      "New https://pypi.org/project/ultralytics/8.3.81 available  Update with 'pip install -U ultralytics'\n",
      "Ultralytics 8.3.78  Python-3.12.3 torch-2.6.0+cu118 CUDA:0 (NVIDIA GeForce RTX 3050 Laptop GPU, 4096MiB)\n",
      "\u001b[34m\u001b[1mengine\\trainer: \u001b[0mtask=segment, mode=train, model=./yolo11s-seg.pt, data=./Final Merge/Parking Lot Detection/Export/data.yaml, epochs=50, time=None, patience=100, batch=16, imgsz=640, save=True, save_period=-1, cache=False, device=None, workers=4, project=None, name=train3, exist_ok=False, pretrained=True, optimizer=auto, verbose=True, seed=0, deterministic=True, single_cls=False, rect=False, cos_lr=False, close_mosaic=10, resume=False, amp=True, fraction=1.0, profile=False, freeze=None, multi_scale=False, overlap_mask=True, mask_ratio=4, dropout=0.0, val=True, split=val, save_json=False, save_hybrid=False, conf=None, iou=0.7, max_det=300, half=False, dnn=False, plots=True, source=None, vid_stride=1, stream_buffer=False, visualize=False, augment=False, agnostic_nms=False, classes=None, retina_masks=False, embed=None, show=False, save_frames=False, save_txt=False, save_conf=False, save_crop=False, show_labels=True, show_conf=True, show_boxes=True, line_width=None, format=torchscript, keras=False, optimize=False, int8=False, dynamic=False, simplify=True, opset=None, workspace=None, nms=False, lr0=0.01, lrf=0.01, momentum=0.937, weight_decay=0.0005, warmup_epochs=3.0, warmup_momentum=0.8, warmup_bias_lr=0.1, box=7.5, cls=0.5, dfl=1.5, pose=12.0, kobj=1.0, nbs=64, hsv_h=0.015, hsv_s=0.7, hsv_v=0.4, degrees=0.0, translate=0.1, scale=0.5, shear=0.0, perspective=0.0, flipud=0.0, fliplr=0.5, bgr=0.0, mosaic=1.0, mixup=0.0, copy_paste=0.0, copy_paste_mode=flip, auto_augment=randaugment, erasing=0.4, crop_fraction=1.0, cfg=None, tracker=botsort.yaml, save_dir=runs\\segment\\train3\n",
      "Overriding model.yaml nc=80 with nc=1\n",
      "\n",
      "                   from  n    params  module                                       arguments                     \n",
      "  0                  -1  1       928  ultralytics.nn.modules.conv.Conv             [3, 32, 3, 2]                 \n",
      "  1                  -1  1     18560  ultralytics.nn.modules.conv.Conv             [32, 64, 3, 2]                \n",
      "  2                  -1  1     26080  ultralytics.nn.modules.block.C3k2            [64, 128, 1, False, 0.25]     \n",
      "  3                  -1  1    147712  ultralytics.nn.modules.conv.Conv             [128, 128, 3, 2]              \n",
      "  4                  -1  1    103360  ultralytics.nn.modules.block.C3k2            [128, 256, 1, False, 0.25]    \n",
      "  5                  -1  1    590336  ultralytics.nn.modules.conv.Conv             [256, 256, 3, 2]              \n",
      "  6                  -1  1    346112  ultralytics.nn.modules.block.C3k2            [256, 256, 1, True]           \n",
      "  7                  -1  1   1180672  ultralytics.nn.modules.conv.Conv             [256, 512, 3, 2]              \n",
      "  8                  -1  1   1380352  ultralytics.nn.modules.block.C3k2            [512, 512, 1, True]           \n",
      "  9                  -1  1    656896  ultralytics.nn.modules.block.SPPF            [512, 512, 5]                 \n",
      " 10                  -1  1    990976  ultralytics.nn.modules.block.C2PSA           [512, 512, 1]                 \n",
      " 11                  -1  1         0  torch.nn.modules.upsampling.Upsample         [None, 2, 'nearest']          \n",
      " 12             [-1, 6]  1         0  ultralytics.nn.modules.conv.Concat           [1]                           \n",
      " 13                  -1  1    443776  ultralytics.nn.modules.block.C3k2            [768, 256, 1, False]          \n",
      " 14                  -1  1         0  torch.nn.modules.upsampling.Upsample         [None, 2, 'nearest']          \n",
      " 15             [-1, 4]  1         0  ultralytics.nn.modules.conv.Concat           [1]                           \n",
      " 16                  -1  1    127680  ultralytics.nn.modules.block.C3k2            [512, 128, 1, False]          \n",
      " 17                  -1  1    147712  ultralytics.nn.modules.conv.Conv             [128, 128, 3, 2]              \n",
      " 18            [-1, 13]  1         0  ultralytics.nn.modules.conv.Concat           [1]                           \n",
      " 19                  -1  1    345472  ultralytics.nn.modules.block.C3k2            [384, 256, 1, False]          \n",
      " 20                  -1  1    590336  ultralytics.nn.modules.conv.Conv             [256, 256, 3, 2]              \n",
      " 21            [-1, 10]  1         0  ultralytics.nn.modules.conv.Concat           [1]                           \n",
      " 22                  -1  1   1511424  ultralytics.nn.modules.block.C3k2            [768, 512, 1, True]           \n",
      " 23        [16, 19, 22]  1   1474291  ultralytics.nn.modules.head.Segment          [1, 32, 128, [128, 256, 512]] \n",
      "YOLO11s-seg summary: 203 layers, 10,082,675 parameters, 10,082,659 gradients, 35.6 GFLOPs\n",
      "\n",
      "Transferred 555/561 items from pretrained weights\n",
      "Freezing layer 'model.23.dfl.conv.weight'\n",
      "\u001b[34m\u001b[1mAMP: \u001b[0mrunning Automatic Mixed Precision (AMP) checks...\n",
      "\u001b[34m\u001b[1mAMP: \u001b[0mchecks passed \n"
     ]
    },
    {
     "name": "stderr",
     "output_type": "stream",
     "text": [
      "\u001b[34m\u001b[1mtrain: \u001b[0mScanning D:\\Downloads\\VIT Downloads\\Local Downloads\\Semester 6\\Deep Learning\\Project\\Bounding Box Detection\\Final Merge\\Parking Lot Detection\\Export\\labels\\train.cache... 100 images, 0 backgrounds, 0 corrupt: 100%|██████████| 100/100 [00:00<?, ?it/s]\n",
      "\u001b[34m\u001b[1mval: \u001b[0mScanning D:\\Downloads\\VIT Downloads\\Local Downloads\\Semester 6\\Deep Learning\\Project\\Bounding Box Detection\\Final Merge\\Parking Lot Detection\\Export\\labels\\val.cache... 12 images, 0 backgrounds, 0 corrupt: 100%|██████████| 12/12 [00:00<?, ?it/s]\n"
     ]
    },
    {
     "name": "stdout",
     "output_type": "stream",
     "text": [
      "Plotting labels to runs\\segment\\train3\\labels.jpg... \n",
      "\u001b[34m\u001b[1moptimizer:\u001b[0m 'optimizer=auto' found, ignoring 'lr0=0.01' and 'momentum=0.937' and determining best 'optimizer', 'lr0' and 'momentum' automatically... \n",
      "\u001b[34m\u001b[1moptimizer:\u001b[0m AdamW(lr=0.002, momentum=0.9) with parameter groups 90 weight(decay=0.0), 101 weight(decay=0.0005), 100 bias(decay=0.0)\n",
      "Image sizes 640 train, 640 val\n",
      "Using 4 dataloader workers\n",
      "Logging results to \u001b[1mruns\\segment\\train3\u001b[0m\n",
      "Starting training for 50 epochs...\n",
      "\n",
      "      Epoch    GPU_mem   box_loss   seg_loss   cls_loss   dfl_loss  Instances       Size\n"
     ]
    },
    {
     "name": "stderr",
     "output_type": "stream",
     "text": [
      "       1/50      4.91G      1.437      5.357      4.747      1.817         11        640: 100%|██████████| 7/7 [00:18<00:00,  2.61s/it]\n",
      "                 Class     Images  Instances      Box(P          R      mAP50  mAP50-95)     Mask(P          R      mAP50  mAP50-95): 100%|██████████| 1/1 [00:00<00:00,  1.24it/s]"
     ]
    },
    {
     "name": "stdout",
     "output_type": "stream",
     "text": [
      "                   all         12         12      0.447      0.667      0.541      0.266      0.318        0.5      0.354      0.104\n"
     ]
    },
    {
     "name": "stderr",
     "output_type": "stream",
     "text": [
      "\n"
     ]
    },
    {
     "name": "stdout",
     "output_type": "stream",
     "text": [
      "\n",
      "      Epoch    GPU_mem   box_loss   seg_loss   cls_loss   dfl_loss  Instances       Size\n"
     ]
    },
    {
     "name": "stderr",
     "output_type": "stream",
     "text": [
      "       2/50      5.09G     0.7389       1.61      2.257      1.202         13        640: 100%|██████████| 7/7 [00:22<00:00,  3.20s/it]\n",
      "                 Class     Images  Instances      Box(P          R      mAP50  mAP50-95)     Mask(P          R      mAP50  mAP50-95): 100%|██████████| 1/1 [00:01<00:00,  1.21s/it]"
     ]
    },
    {
     "name": "stdout",
     "output_type": "stream",
     "text": [
      "                   all         12         12      0.743      0.966      0.942      0.642      0.647      0.917      0.893      0.689\n"
     ]
    },
    {
     "name": "stderr",
     "output_type": "stream",
     "text": [
      "\n"
     ]
    },
    {
     "name": "stdout",
     "output_type": "stream",
     "text": [
      "\n",
      "      Epoch    GPU_mem   box_loss   seg_loss   cls_loss   dfl_loss  Instances       Size\n"
     ]
    },
    {
     "name": "stderr",
     "output_type": "stream",
     "text": [
      "       3/50      5.11G      0.548     0.7529      1.218      1.041         11        640: 100%|██████████| 7/7 [00:21<00:00,  3.10s/it]\n",
      "                 Class     Images  Instances      Box(P          R      mAP50  mAP50-95)     Mask(P          R      mAP50  mAP50-95): 100%|██████████| 1/1 [00:01<00:00,  1.12s/it]"
     ]
    },
    {
     "name": "stdout",
     "output_type": "stream",
     "text": [
      "                   all         12         12      0.698          1      0.829      0.701      0.698          1      0.829      0.773\n"
     ]
    },
    {
     "name": "stderr",
     "output_type": "stream",
     "text": [
      "\n"
     ]
    },
    {
     "name": "stdout",
     "output_type": "stream",
     "text": [
      "\n",
      "      Epoch    GPU_mem   box_loss   seg_loss   cls_loss   dfl_loss  Instances       Size\n"
     ]
    },
    {
     "name": "stderr",
     "output_type": "stream",
     "text": [
      "       4/50      5.09G     0.5103     0.7112     0.8935      1.016         11        640: 100%|██████████| 7/7 [00:21<00:00,  3.10s/it]\n",
      "                 Class     Images  Instances      Box(P          R      mAP50  mAP50-95)     Mask(P          R      mAP50  mAP50-95): 100%|██████████| 1/1 [00:00<00:00,  1.00it/s]"
     ]
    },
    {
     "name": "stdout",
     "output_type": "stream",
     "text": [
      "                   all         12         12      0.636       0.75      0.753      0.567      0.636       0.75      0.753      0.529\n"
     ]
    },
    {
     "name": "stderr",
     "output_type": "stream",
     "text": [
      "\n"
     ]
    },
    {
     "name": "stdout",
     "output_type": "stream",
     "text": [
      "\n",
      "      Epoch    GPU_mem   box_loss   seg_loss   cls_loss   dfl_loss  Instances       Size\n"
     ]
    },
    {
     "name": "stderr",
     "output_type": "stream",
     "text": [
      "       5/50      5.15G     0.6086     0.7419      0.831       1.06         11        640: 100%|██████████| 7/7 [00:20<00:00,  2.86s/it]\n",
      "                 Class     Images  Instances      Box(P          R      mAP50  mAP50-95)     Mask(P          R      mAP50  mAP50-95): 100%|██████████| 1/1 [00:00<00:00,  1.51it/s]"
     ]
    },
    {
     "name": "stdout",
     "output_type": "stream",
     "text": [
      "                   all         12         12      0.848          1      0.972      0.794      0.569      0.667      0.656      0.198\n"
     ]
    },
    {
     "name": "stderr",
     "output_type": "stream",
     "text": [
      "\n"
     ]
    },
    {
     "name": "stdout",
     "output_type": "stream",
     "text": [
      "\n",
      "      Epoch    GPU_mem   box_loss   seg_loss   cls_loss   dfl_loss  Instances       Size\n"
     ]
    },
    {
     "name": "stderr",
     "output_type": "stream",
     "text": [
      "       6/50      5.07G     0.6373     0.8051     0.7402      1.057         13        640: 100%|██████████| 7/7 [00:21<00:00,  3.11s/it]\n",
      "                 Class     Images  Instances      Box(P          R      mAP50  mAP50-95)     Mask(P          R      mAP50  mAP50-95): 100%|██████████| 1/1 [00:01<00:00,  1.07s/it]"
     ]
    },
    {
     "name": "stdout",
     "output_type": "stream",
     "text": [
      "                   all         12         12      0.614      0.667      0.705      0.496      0.457        0.5      0.342      0.132\n"
     ]
    },
    {
     "name": "stderr",
     "output_type": "stream",
     "text": [
      "\n"
     ]
    },
    {
     "name": "stdout",
     "output_type": "stream",
     "text": [
      "\n",
      "      Epoch    GPU_mem   box_loss   seg_loss   cls_loss   dfl_loss  Instances       Size\n"
     ]
    },
    {
     "name": "stderr",
     "output_type": "stream",
     "text": [
      "       7/50      5.11G     0.5688     0.6328     0.6362      1.048          9        640: 100%|██████████| 7/7 [00:21<00:00,  3.09s/it]\n",
      "                 Class     Images  Instances      Box(P          R      mAP50  mAP50-95)     Mask(P          R      mAP50  mAP50-95): 100%|██████████| 1/1 [00:00<00:00,  1.43it/s]"
     ]
    },
    {
     "name": "stdout",
     "output_type": "stream",
     "text": [
      "                   all         12         12      0.119       0.75      0.118     0.0525     0.0328       0.25     0.0132    0.00275\n"
     ]
    },
    {
     "name": "stderr",
     "output_type": "stream",
     "text": [
      "\n"
     ]
    },
    {
     "name": "stdout",
     "output_type": "stream",
     "text": [
      "\n",
      "      Epoch    GPU_mem   box_loss   seg_loss   cls_loss   dfl_loss  Instances       Size\n"
     ]
    },
    {
     "name": "stderr",
     "output_type": "stream",
     "text": [
      "       8/50       5.1G      0.572     0.6584     0.6326      1.028         13        640: 100%|██████████| 7/7 [00:20<00:00,  2.99s/it]\n",
      "                 Class     Images  Instances      Box(P          R      mAP50  mAP50-95)     Mask(P          R      mAP50  mAP50-95): 100%|██████████| 1/1 [00:00<00:00,  1.40it/s]"
     ]
    },
    {
     "name": "stdout",
     "output_type": "stream",
     "text": [
      "                   all         12         12      0.133      0.167      0.101     0.0456      0.133      0.167     0.0802     0.0414\n"
     ]
    },
    {
     "name": "stderr",
     "output_type": "stream",
     "text": [
      "\n"
     ]
    },
    {
     "name": "stdout",
     "output_type": "stream",
     "text": [
      "\n",
      "      Epoch    GPU_mem   box_loss   seg_loss   cls_loss   dfl_loss  Instances       Size\n"
     ]
    },
    {
     "name": "stderr",
     "output_type": "stream",
     "text": [
      "       9/50      5.11G     0.5436     0.6255     0.5359      1.019         11        640: 100%|██████████| 7/7 [00:19<00:00,  2.76s/it]\n",
      "                 Class     Images  Instances      Box(P          R      mAP50  mAP50-95)     Mask(P          R      mAP50  mAP50-95): 100%|██████████| 1/1 [00:00<00:00,  2.17it/s]"
     ]
    },
    {
     "name": "stdout",
     "output_type": "stream",
     "text": [
      "                   all         12         12      0.106      0.333     0.0759     0.0398      0.106      0.333     0.0544     0.0148\n"
     ]
    },
    {
     "name": "stderr",
     "output_type": "stream",
     "text": [
      "\n"
     ]
    },
    {
     "name": "stdout",
     "output_type": "stream",
     "text": [
      "\n",
      "      Epoch    GPU_mem   box_loss   seg_loss   cls_loss   dfl_loss  Instances       Size\n"
     ]
    },
    {
     "name": "stderr",
     "output_type": "stream",
     "text": [
      "      10/50      5.09G     0.6909     0.6365     0.6877      1.104         12        640: 100%|██████████| 7/7 [00:22<00:00,  3.18s/it]\n",
      "                 Class     Images  Instances      Box(P          R      mAP50  mAP50-95)     Mask(P          R      mAP50  mAP50-95): 100%|██████████| 1/1 [00:00<00:00,  1.37it/s]"
     ]
    },
    {
     "name": "stdout",
     "output_type": "stream",
     "text": [
      "                   all         12         12      0.578      0.687       0.68      0.434      0.607      0.775        0.7       0.35\n"
     ]
    },
    {
     "name": "stderr",
     "output_type": "stream",
     "text": [
      "\n"
     ]
    },
    {
     "name": "stdout",
     "output_type": "stream",
     "text": [
      "\n",
      "      Epoch    GPU_mem   box_loss   seg_loss   cls_loss   dfl_loss  Instances       Size\n"
     ]
    },
    {
     "name": "stderr",
     "output_type": "stream",
     "text": [
      "      11/50      5.15G     0.6562     0.6041     0.5451       1.06         13        640: 100%|██████████| 7/7 [00:21<00:00,  3.00s/it]\n",
      "                 Class     Images  Instances      Box(P          R      mAP50  mAP50-95)     Mask(P          R      mAP50  mAP50-95): 100%|██████████| 1/1 [00:00<00:00,  2.29it/s]"
     ]
    },
    {
     "name": "stdout",
     "output_type": "stream",
     "text": [
      "                   all         12         12      0.656          1      0.876      0.678      0.656          1      0.876       0.65\n"
     ]
    },
    {
     "name": "stderr",
     "output_type": "stream",
     "text": [
      "\n"
     ]
    },
    {
     "name": "stdout",
     "output_type": "stream",
     "text": [
      "\n",
      "      Epoch    GPU_mem   box_loss   seg_loss   cls_loss   dfl_loss  Instances       Size\n"
     ]
    },
    {
     "name": "stderr",
     "output_type": "stream",
     "text": [
      "      12/50      5.15G     0.5811     0.5711     0.5503      1.049          8        640: 100%|██████████| 7/7 [00:22<00:00,  3.24s/it]\n",
      "                 Class     Images  Instances      Box(P          R      mAP50  mAP50-95)     Mask(P          R      mAP50  mAP50-95): 100%|██████████| 1/1 [00:00<00:00,  1.86it/s]"
     ]
    },
    {
     "name": "stdout",
     "output_type": "stream",
     "text": [
      "                   all         12         12       0.49          1      0.915      0.713      0.368       0.75      0.768      0.512\n"
     ]
    },
    {
     "name": "stderr",
     "output_type": "stream",
     "text": [
      "\n"
     ]
    },
    {
     "name": "stdout",
     "output_type": "stream",
     "text": [
      "\n",
      "      Epoch    GPU_mem   box_loss   seg_loss   cls_loss   dfl_loss  Instances       Size\n"
     ]
    },
    {
     "name": "stderr",
     "output_type": "stream",
     "text": [
      "      13/50      5.12G     0.5395     0.5913     0.5062      1.014         15        640: 100%|██████████| 7/7 [00:22<00:00,  3.27s/it]\n",
      "                 Class     Images  Instances      Box(P          R      mAP50  mAP50-95)     Mask(P          R      mAP50  mAP50-95): 100%|██████████| 1/1 [00:00<00:00,  4.09it/s]"
     ]
    },
    {
     "name": "stdout",
     "output_type": "stream",
     "text": [
      "                   all         12         12      0.571       0.75      0.736      0.404      0.563      0.667       0.62      0.354\n"
     ]
    },
    {
     "name": "stderr",
     "output_type": "stream",
     "text": [
      "\n"
     ]
    },
    {
     "name": "stdout",
     "output_type": "stream",
     "text": [
      "\n",
      "      Epoch    GPU_mem   box_loss   seg_loss   cls_loss   dfl_loss  Instances       Size\n"
     ]
    },
    {
     "name": "stderr",
     "output_type": "stream",
     "text": [
      "      14/50      5.13G     0.5831     0.5897     0.5234      1.032         12        640: 100%|██████████| 7/7 [00:25<00:00,  3.65s/it]\n",
      "                 Class     Images  Instances      Box(P          R      mAP50  mAP50-95)     Mask(P          R      mAP50  mAP50-95): 100%|██████████| 1/1 [00:00<00:00,  2.88it/s]"
     ]
    },
    {
     "name": "stdout",
     "output_type": "stream",
     "text": [
      "                   all         12         12      0.528      0.833      0.723      0.389      0.565      0.865      0.739      0.383\n"
     ]
    },
    {
     "name": "stderr",
     "output_type": "stream",
     "text": [
      "\n"
     ]
    },
    {
     "name": "stdout",
     "output_type": "stream",
     "text": [
      "\n",
      "      Epoch    GPU_mem   box_loss   seg_loss   cls_loss   dfl_loss  Instances       Size\n"
     ]
    },
    {
     "name": "stderr",
     "output_type": "stream",
     "text": [
      "      15/50       5.1G     0.5837     0.5519     0.5292      1.056          7        640: 100%|██████████| 7/7 [00:24<00:00,  3.54s/it]\n",
      "                 Class     Images  Instances      Box(P          R      mAP50  mAP50-95)     Mask(P          R      mAP50  mAP50-95): 100%|██████████| 1/1 [00:00<00:00,  1.62it/s]"
     ]
    },
    {
     "name": "stdout",
     "output_type": "stream",
     "text": [
      "                   all         12         12      0.561          1      0.995       0.87      0.561          1      0.995      0.791\n"
     ]
    },
    {
     "name": "stderr",
     "output_type": "stream",
     "text": [
      "\n"
     ]
    },
    {
     "name": "stdout",
     "output_type": "stream",
     "text": [
      "\n",
      "      Epoch    GPU_mem   box_loss   seg_loss   cls_loss   dfl_loss  Instances       Size\n"
     ]
    },
    {
     "name": "stderr",
     "output_type": "stream",
     "text": [
      "      16/50      5.13G     0.5445     0.6027      0.489      1.044         13        640: 100%|██████████| 7/7 [00:24<00:00,  3.50s/it]\n",
      "                 Class     Images  Instances      Box(P          R      mAP50  mAP50-95)     Mask(P          R      mAP50  mAP50-95): 100%|██████████| 1/1 [00:00<00:00,  3.25it/s]"
     ]
    },
    {
     "name": "stdout",
     "output_type": "stream",
     "text": [
      "                   all         12         12      0.649       0.75      0.723      0.518      0.494      0.652      0.573       0.36\n"
     ]
    },
    {
     "name": "stderr",
     "output_type": "stream",
     "text": [
      "\n"
     ]
    },
    {
     "name": "stdout",
     "output_type": "stream",
     "text": [
      "\n",
      "      Epoch    GPU_mem   box_loss   seg_loss   cls_loss   dfl_loss  Instances       Size\n"
     ]
    },
    {
     "name": "stderr",
     "output_type": "stream",
     "text": [
      "      17/50       5.1G      0.505      0.539     0.4607      1.003          9        640: 100%|██████████| 7/7 [00:18<00:00,  2.65s/it]\n",
      "                 Class     Images  Instances      Box(P          R      mAP50  mAP50-95)     Mask(P          R      mAP50  mAP50-95): 100%|██████████| 1/1 [00:00<00:00,  1.15it/s]"
     ]
    },
    {
     "name": "stdout",
     "output_type": "stream",
     "text": [
      "                   all         12         12      0.285      0.667      0.384      0.211      0.491       0.25      0.299      0.122\n"
     ]
    },
    {
     "name": "stderr",
     "output_type": "stream",
     "text": [
      "\n"
     ]
    },
    {
     "name": "stdout",
     "output_type": "stream",
     "text": [
      "\n",
      "      Epoch    GPU_mem   box_loss   seg_loss   cls_loss   dfl_loss  Instances       Size\n"
     ]
    },
    {
     "name": "stderr",
     "output_type": "stream",
     "text": [
      "      18/50      5.13G     0.5742     0.6673     0.4906      1.049          7        640: 100%|██████████| 7/7 [00:19<00:00,  2.79s/it]\n",
      "                 Class     Images  Instances      Box(P          R      mAP50  mAP50-95)     Mask(P          R      mAP50  mAP50-95): 100%|██████████| 1/1 [00:00<00:00,  1.63it/s]"
     ]
    },
    {
     "name": "stdout",
     "output_type": "stream",
     "text": [
      "                   all         12         12      0.563      0.753      0.838      0.604      0.672      0.667      0.785      0.497\n"
     ]
    },
    {
     "name": "stderr",
     "output_type": "stream",
     "text": [
      "\n"
     ]
    },
    {
     "name": "stdout",
     "output_type": "stream",
     "text": [
      "\n",
      "      Epoch    GPU_mem   box_loss   seg_loss   cls_loss   dfl_loss  Instances       Size\n"
     ]
    },
    {
     "name": "stderr",
     "output_type": "stream",
     "text": [
      "      19/50      5.11G      0.539      0.564     0.4718      1.016         15        640: 100%|██████████| 7/7 [00:21<00:00,  3.04s/it]\n",
      "                 Class     Images  Instances      Box(P          R      mAP50  mAP50-95)     Mask(P          R      mAP50  mAP50-95): 100%|██████████| 1/1 [00:00<00:00,  2.27it/s]"
     ]
    },
    {
     "name": "stdout",
     "output_type": "stream",
     "text": [
      "                   all         12         12      0.693      0.943      0.895      0.738      0.705      0.998      0.886      0.609\n"
     ]
    },
    {
     "name": "stderr",
     "output_type": "stream",
     "text": [
      "\n"
     ]
    },
    {
     "name": "stdout",
     "output_type": "stream",
     "text": [
      "\n",
      "      Epoch    GPU_mem   box_loss   seg_loss   cls_loss   dfl_loss  Instances       Size\n"
     ]
    },
    {
     "name": "stderr",
     "output_type": "stream",
     "text": [
      "      20/50      5.12G     0.5182     0.6134     0.4619     0.9971         14        640: 100%|██████████| 7/7 [00:21<00:00,  3.11s/it]\n",
      "                 Class     Images  Instances      Box(P          R      mAP50  mAP50-95)     Mask(P          R      mAP50  mAP50-95): 100%|██████████| 1/1 [00:00<00:00,  3.35it/s]"
     ]
    },
    {
     "name": "stdout",
     "output_type": "stream",
     "text": [
      "                   all         12         12      0.624      0.967      0.814      0.606      0.574        0.9      0.728      0.461\n"
     ]
    },
    {
     "name": "stderr",
     "output_type": "stream",
     "text": [
      "\n"
     ]
    },
    {
     "name": "stdout",
     "output_type": "stream",
     "text": [
      "\n",
      "      Epoch    GPU_mem   box_loss   seg_loss   cls_loss   dfl_loss  Instances       Size\n"
     ]
    },
    {
     "name": "stderr",
     "output_type": "stream",
     "text": [
      "      21/50      5.13G     0.5339     0.5991     0.4609      1.015         11        640: 100%|██████████| 7/7 [00:23<00:00,  3.41s/it]\n",
      "                 Class     Images  Instances      Box(P          R      mAP50  mAP50-95)     Mask(P          R      mAP50  mAP50-95): 100%|██████████| 1/1 [00:00<00:00,  1.50it/s]"
     ]
    },
    {
     "name": "stdout",
     "output_type": "stream",
     "text": [
      "                   all         12         12      0.547       0.75      0.634      0.514      0.661        0.5      0.611      0.404\n"
     ]
    },
    {
     "name": "stderr",
     "output_type": "stream",
     "text": [
      "\n"
     ]
    },
    {
     "name": "stdout",
     "output_type": "stream",
     "text": [
      "\n",
      "      Epoch    GPU_mem   box_loss   seg_loss   cls_loss   dfl_loss  Instances       Size\n"
     ]
    },
    {
     "name": "stderr",
     "output_type": "stream",
     "text": [
      "      22/50       5.1G     0.4484     0.5361     0.3966     0.9693         12        640: 100%|██████████| 7/7 [00:23<00:00,  3.35s/it]\n",
      "                 Class     Images  Instances      Box(P          R      mAP50  mAP50-95)     Mask(P          R      mAP50  mAP50-95): 100%|██████████| 1/1 [00:00<00:00,  1.92it/s]"
     ]
    },
    {
     "name": "stdout",
     "output_type": "stream",
     "text": [
      "                   all         12         12      0.653      0.583      0.543      0.421      0.653      0.583      0.543      0.234\n"
     ]
    },
    {
     "name": "stderr",
     "output_type": "stream",
     "text": [
      "\n"
     ]
    },
    {
     "name": "stdout",
     "output_type": "stream",
     "text": [
      "\n",
      "      Epoch    GPU_mem   box_loss   seg_loss   cls_loss   dfl_loss  Instances       Size\n"
     ]
    },
    {
     "name": "stderr",
     "output_type": "stream",
     "text": [
      "      23/50      5.08G      0.456     0.4899     0.4323      0.968         14        640: 100%|██████████| 7/7 [00:18<00:00,  2.70s/it]\n",
      "                 Class     Images  Instances      Box(P          R      mAP50  mAP50-95)     Mask(P          R      mAP50  mAP50-95): 100%|██████████| 1/1 [00:00<00:00,  1.79it/s]"
     ]
    },
    {
     "name": "stdout",
     "output_type": "stream",
     "text": [
      "                   all         12         12      0.901      0.917      0.948      0.745      0.901      0.917      0.959      0.764\n"
     ]
    },
    {
     "name": "stderr",
     "output_type": "stream",
     "text": [
      "\n"
     ]
    },
    {
     "name": "stdout",
     "output_type": "stream",
     "text": [
      "\n",
      "      Epoch    GPU_mem   box_loss   seg_loss   cls_loss   dfl_loss  Instances       Size\n"
     ]
    },
    {
     "name": "stderr",
     "output_type": "stream",
     "text": [
      "      24/50      5.11G     0.4415     0.5195     0.3915     0.9667         15        640: 100%|██████████| 7/7 [00:20<00:00,  2.90s/it]\n",
      "                 Class     Images  Instances      Box(P          R      mAP50  mAP50-95)     Mask(P          R      mAP50  mAP50-95): 100%|██████████| 1/1 [00:00<00:00,  2.29it/s]"
     ]
    },
    {
     "name": "stdout",
     "output_type": "stream",
     "text": [
      "                   all         12         12      0.994          1      0.995      0.908      0.994          1      0.995      0.878\n"
     ]
    },
    {
     "name": "stderr",
     "output_type": "stream",
     "text": [
      "\n"
     ]
    },
    {
     "name": "stdout",
     "output_type": "stream",
     "text": [
      "\n",
      "      Epoch    GPU_mem   box_loss   seg_loss   cls_loss   dfl_loss  Instances       Size\n"
     ]
    },
    {
     "name": "stderr",
     "output_type": "stream",
     "text": [
      "      25/50      5.13G     0.4649     0.5733     0.4217     0.9716          9        640: 100%|██████████| 7/7 [00:23<00:00,  3.29s/it]\n",
      "                 Class     Images  Instances      Box(P          R      mAP50  mAP50-95)     Mask(P          R      mAP50  mAP50-95): 100%|██████████| 1/1 [00:00<00:00,  2.45it/s]"
     ]
    },
    {
     "name": "stdout",
     "output_type": "stream",
     "text": [
      "                   all         12         12      0.989          1      0.995      0.912      0.989          1      0.995      0.909\n"
     ]
    },
    {
     "name": "stderr",
     "output_type": "stream",
     "text": [
      "\n"
     ]
    },
    {
     "name": "stdout",
     "output_type": "stream",
     "text": [
      "\n",
      "      Epoch    GPU_mem   box_loss   seg_loss   cls_loss   dfl_loss  Instances       Size\n"
     ]
    },
    {
     "name": "stderr",
     "output_type": "stream",
     "text": [
      "      26/50      5.13G     0.4425     0.4549     0.3773     0.9731         13        640: 100%|██████████| 7/7 [00:22<00:00,  3.27s/it]\n",
      "                 Class     Images  Instances      Box(P          R      mAP50  mAP50-95)     Mask(P          R      mAP50  mAP50-95): 100%|██████████| 1/1 [00:00<00:00,  2.54it/s]"
     ]
    },
    {
     "name": "stdout",
     "output_type": "stream",
     "text": [
      "                   all         12         12      0.974          1      0.995      0.905      0.974          1      0.995      0.888\n"
     ]
    },
    {
     "name": "stderr",
     "output_type": "stream",
     "text": [
      "\n"
     ]
    },
    {
     "name": "stdout",
     "output_type": "stream",
     "text": [
      "\n",
      "      Epoch    GPU_mem   box_loss   seg_loss   cls_loss   dfl_loss  Instances       Size\n"
     ]
    },
    {
     "name": "stderr",
     "output_type": "stream",
     "text": [
      "      27/50      5.11G     0.4692     0.4871     0.4204     0.9755          9        640: 100%|██████████| 7/7 [00:22<00:00,  3.27s/it]\n",
      "                 Class     Images  Instances      Box(P          R      mAP50  mAP50-95)     Mask(P          R      mAP50  mAP50-95): 100%|██████████| 1/1 [00:00<00:00,  1.70it/s]"
     ]
    },
    {
     "name": "stdout",
     "output_type": "stream",
     "text": [
      "                   all         12         12      0.983          1      0.995      0.942      0.983          1      0.995      0.972\n"
     ]
    },
    {
     "name": "stderr",
     "output_type": "stream",
     "text": [
      "\n"
     ]
    },
    {
     "name": "stdout",
     "output_type": "stream",
     "text": [
      "\n",
      "      Epoch    GPU_mem   box_loss   seg_loss   cls_loss   dfl_loss  Instances       Size\n"
     ]
    },
    {
     "name": "stderr",
     "output_type": "stream",
     "text": [
      "      28/50      5.13G     0.4204     0.4697     0.3473     0.9578         14        640: 100%|██████████| 7/7 [00:22<00:00,  3.23s/it]\n",
      "                 Class     Images  Instances      Box(P          R      mAP50  mAP50-95)     Mask(P          R      mAP50  mAP50-95): 100%|██████████| 1/1 [00:00<00:00,  2.22it/s]"
     ]
    },
    {
     "name": "stdout",
     "output_type": "stream",
     "text": [
      "                   all         12         12      0.898          1      0.983      0.891      0.898          1      0.983      0.937\n"
     ]
    },
    {
     "name": "stderr",
     "output_type": "stream",
     "text": [
      "\n"
     ]
    },
    {
     "name": "stdout",
     "output_type": "stream",
     "text": [
      "\n",
      "      Epoch    GPU_mem   box_loss   seg_loss   cls_loss   dfl_loss  Instances       Size\n"
     ]
    },
    {
     "name": "stderr",
     "output_type": "stream",
     "text": [
      "      29/50      5.11G     0.5084     0.5004     0.4105     0.9929          9        640: 100%|██████████| 7/7 [00:19<00:00,  2.77s/it]\n",
      "                 Class     Images  Instances      Box(P          R      mAP50  mAP50-95)     Mask(P          R      mAP50  mAP50-95): 100%|██████████| 1/1 [00:00<00:00,  2.34it/s]"
     ]
    },
    {
     "name": "stdout",
     "output_type": "stream",
     "text": [
      "                   all         12         12       0.97          1      0.995      0.926       0.97          1      0.995      0.915\n"
     ]
    },
    {
     "name": "stderr",
     "output_type": "stream",
     "text": [
      "\n"
     ]
    },
    {
     "name": "stdout",
     "output_type": "stream",
     "text": [
      "\n",
      "      Epoch    GPU_mem   box_loss   seg_loss   cls_loss   dfl_loss  Instances       Size\n"
     ]
    },
    {
     "name": "stderr",
     "output_type": "stream",
     "text": [
      "      30/50      5.12G     0.4203     0.4505     0.3357     0.9471         12        640: 100%|██████████| 7/7 [00:20<00:00,  2.96s/it]\n",
      "                 Class     Images  Instances      Box(P          R      mAP50  mAP50-95)     Mask(P          R      mAP50  mAP50-95): 100%|██████████| 1/1 [00:00<00:00,  3.22it/s]"
     ]
    },
    {
     "name": "stdout",
     "output_type": "stream",
     "text": [
      "                   all         12         12      0.994          1      0.995      0.943      0.994          1      0.995      0.934\n"
     ]
    },
    {
     "name": "stderr",
     "output_type": "stream",
     "text": [
      "\n"
     ]
    },
    {
     "name": "stdout",
     "output_type": "stream",
     "text": [
      "\n",
      "      Epoch    GPU_mem   box_loss   seg_loss   cls_loss   dfl_loss  Instances       Size\n"
     ]
    },
    {
     "name": "stderr",
     "output_type": "stream",
     "text": [
      "      31/50      5.08G     0.4415     0.4297     0.3505     0.9633         11        640: 100%|██████████| 7/7 [00:20<00:00,  2.91s/it]\n",
      "                 Class     Images  Instances      Box(P          R      mAP50  mAP50-95)     Mask(P          R      mAP50  mAP50-95): 100%|██████████| 1/1 [00:00<00:00,  3.43it/s]"
     ]
    },
    {
     "name": "stdout",
     "output_type": "stream",
     "text": [
      "                   all         12         12       0.99          1      0.995       0.89       0.99          1      0.995      0.892\n"
     ]
    },
    {
     "name": "stderr",
     "output_type": "stream",
     "text": [
      "\n"
     ]
    },
    {
     "name": "stdout",
     "output_type": "stream",
     "text": [
      "\n",
      "      Epoch    GPU_mem   box_loss   seg_loss   cls_loss   dfl_loss  Instances       Size\n"
     ]
    },
    {
     "name": "stderr",
     "output_type": "stream",
     "text": [
      "      32/50      5.12G     0.4277     0.4728     0.3538     0.9677          8        640: 100%|██████████| 7/7 [00:23<00:00,  3.37s/it]\n",
      "                 Class     Images  Instances      Box(P          R      mAP50  mAP50-95)     Mask(P          R      mAP50  mAP50-95): 100%|██████████| 1/1 [00:00<00:00,  3.40it/s]"
     ]
    },
    {
     "name": "stdout",
     "output_type": "stream",
     "text": [
      "                   all         12         12      0.993          1      0.995      0.968      0.993          1      0.995      0.961\n"
     ]
    },
    {
     "name": "stderr",
     "output_type": "stream",
     "text": [
      "\n"
     ]
    },
    {
     "name": "stdout",
     "output_type": "stream",
     "text": [
      "\n",
      "      Epoch    GPU_mem   box_loss   seg_loss   cls_loss   dfl_loss  Instances       Size\n"
     ]
    },
    {
     "name": "stderr",
     "output_type": "stream",
     "text": [
      "      33/50      5.14G     0.3908     0.4645     0.3141     0.9003         12        640: 100%|██████████| 7/7 [00:24<00:00,  3.52s/it]\n",
      "                 Class     Images  Instances      Box(P          R      mAP50  mAP50-95)     Mask(P          R      mAP50  mAP50-95): 100%|██████████| 1/1 [00:00<00:00,  2.73it/s]"
     ]
    },
    {
     "name": "stdout",
     "output_type": "stream",
     "text": [
      "                   all         12         12      0.991          1      0.995      0.978      0.991          1      0.995      0.963\n"
     ]
    },
    {
     "name": "stderr",
     "output_type": "stream",
     "text": [
      "\n"
     ]
    },
    {
     "name": "stdout",
     "output_type": "stream",
     "text": [
      "\n",
      "      Epoch    GPU_mem   box_loss   seg_loss   cls_loss   dfl_loss  Instances       Size\n"
     ]
    },
    {
     "name": "stderr",
     "output_type": "stream",
     "text": [
      "      34/50      5.14G     0.4038     0.3999     0.3429     0.9652         12        640: 100%|██████████| 7/7 [00:24<00:00,  3.46s/it]\n",
      "                 Class     Images  Instances      Box(P          R      mAP50  mAP50-95)     Mask(P          R      mAP50  mAP50-95): 100%|██████████| 1/1 [00:00<00:00,  3.20it/s]"
     ]
    },
    {
     "name": "stdout",
     "output_type": "stream",
     "text": [
      "                   all         12         12      0.994          1      0.995      0.987      0.994          1      0.995      0.967\n"
     ]
    },
    {
     "name": "stderr",
     "output_type": "stream",
     "text": [
      "\n"
     ]
    },
    {
     "name": "stdout",
     "output_type": "stream",
     "text": [
      "\n",
      "      Epoch    GPU_mem   box_loss   seg_loss   cls_loss   dfl_loss  Instances       Size\n"
     ]
    },
    {
     "name": "stderr",
     "output_type": "stream",
     "text": [
      "      35/50       5.1G     0.3612     0.3909     0.3028     0.9462         11        640: 100%|██████████| 7/7 [00:19<00:00,  2.73s/it]\n",
      "                 Class     Images  Instances      Box(P          R      mAP50  mAP50-95)     Mask(P          R      mAP50  mAP50-95): 100%|██████████| 1/1 [00:00<00:00,  1.93it/s]"
     ]
    },
    {
     "name": "stdout",
     "output_type": "stream",
     "text": [
      "                   all         12         12      0.996          1      0.995      0.943      0.996          1      0.995      0.961\n"
     ]
    },
    {
     "name": "stderr",
     "output_type": "stream",
     "text": [
      "\n"
     ]
    },
    {
     "name": "stdout",
     "output_type": "stream",
     "text": [
      "\n",
      "      Epoch    GPU_mem   box_loss   seg_loss   cls_loss   dfl_loss  Instances       Size\n"
     ]
    },
    {
     "name": "stderr",
     "output_type": "stream",
     "text": [
      "      36/50      5.13G     0.3577     0.3723     0.2944     0.9029         13        640: 100%|██████████| 7/7 [00:20<00:00,  3.00s/it]\n",
      "                 Class     Images  Instances      Box(P          R      mAP50  mAP50-95)     Mask(P          R      mAP50  mAP50-95): 100%|██████████| 1/1 [00:00<00:00,  1.93it/s]"
     ]
    },
    {
     "name": "stdout",
     "output_type": "stream",
     "text": [
      "                   all         12         12      0.996          1      0.995       0.96      0.996          1      0.995      0.966\n"
     ]
    },
    {
     "name": "stderr",
     "output_type": "stream",
     "text": [
      "\n"
     ]
    },
    {
     "name": "stdout",
     "output_type": "stream",
     "text": [
      "\n",
      "      Epoch    GPU_mem   box_loss   seg_loss   cls_loss   dfl_loss  Instances       Size\n"
     ]
    },
    {
     "name": "stderr",
     "output_type": "stream",
     "text": [
      "      37/50      5.12G     0.3851     0.3883     0.3197     0.9391          9        640: 100%|██████████| 7/7 [00:20<00:00,  2.99s/it]\n",
      "                 Class     Images  Instances      Box(P          R      mAP50  mAP50-95)     Mask(P          R      mAP50  mAP50-95): 100%|██████████| 1/1 [00:00<00:00,  1.80it/s]"
     ]
    },
    {
     "name": "stdout",
     "output_type": "stream",
     "text": [
      "                   all         12         12      0.996          1      0.995      0.939      0.996          1      0.995      0.979\n"
     ]
    },
    {
     "name": "stderr",
     "output_type": "stream",
     "text": [
      "\n"
     ]
    },
    {
     "name": "stdout",
     "output_type": "stream",
     "text": [
      "\n",
      "      Epoch    GPU_mem   box_loss   seg_loss   cls_loss   dfl_loss  Instances       Size\n"
     ]
    },
    {
     "name": "stderr",
     "output_type": "stream",
     "text": [
      "      38/50      5.11G     0.3824     0.4245      0.316     0.9356         12        640: 100%|██████████| 7/7 [00:20<00:00,  2.95s/it]\n",
      "                 Class     Images  Instances      Box(P          R      mAP50  mAP50-95)     Mask(P          R      mAP50  mAP50-95): 100%|██████████| 1/1 [00:00<00:00,  2.20it/s]"
     ]
    },
    {
     "name": "stdout",
     "output_type": "stream",
     "text": [
      "                   all         12         12      0.996          1      0.995      0.931      0.996          1      0.995      0.986\n"
     ]
    },
    {
     "name": "stderr",
     "output_type": "stream",
     "text": [
      "\n"
     ]
    },
    {
     "name": "stdout",
     "output_type": "stream",
     "text": [
      "\n",
      "      Epoch    GPU_mem   box_loss   seg_loss   cls_loss   dfl_loss  Instances       Size\n"
     ]
    },
    {
     "name": "stderr",
     "output_type": "stream",
     "text": [
      "      39/50      5.09G     0.3907     0.3913     0.3187     0.9267         13        640: 100%|██████████| 7/7 [00:22<00:00,  3.22s/it]\n",
      "                 Class     Images  Instances      Box(P          R      mAP50  mAP50-95)     Mask(P          R      mAP50  mAP50-95): 100%|██████████| 1/1 [00:00<00:00,  2.38it/s]"
     ]
    },
    {
     "name": "stdout",
     "output_type": "stream",
     "text": [
      "                   all         12         12      0.996          1      0.995      0.936      0.996          1      0.995      0.976\n"
     ]
    },
    {
     "name": "stderr",
     "output_type": "stream",
     "text": [
      "\n"
     ]
    },
    {
     "name": "stdout",
     "output_type": "stream",
     "text": [
      "\n",
      "      Epoch    GPU_mem   box_loss   seg_loss   cls_loss   dfl_loss  Instances       Size\n"
     ]
    },
    {
     "name": "stderr",
     "output_type": "stream",
     "text": [
      "      40/50      5.13G     0.3719     0.3722     0.3318     0.9338          7        640: 100%|██████████| 7/7 [00:22<00:00,  3.23s/it]\n",
      "                 Class     Images  Instances      Box(P          R      mAP50  mAP50-95)     Mask(P          R      mAP50  mAP50-95): 100%|██████████| 1/1 [00:00<00:00,  3.13it/s]"
     ]
    },
    {
     "name": "stdout",
     "output_type": "stream",
     "text": [
      "                   all         12         12      0.996          1      0.995      0.978      0.996          1      0.995      0.987\n"
     ]
    },
    {
     "name": "stderr",
     "output_type": "stream",
     "text": [
      "\n"
     ]
    },
    {
     "name": "stdout",
     "output_type": "stream",
     "text": [
      "Closing dataloader mosaic\n",
      "\n",
      "      Epoch    GPU_mem   box_loss   seg_loss   cls_loss   dfl_loss  Instances       Size\n"
     ]
    },
    {
     "name": "stderr",
     "output_type": "stream",
     "text": [
      "      41/50      5.04G     0.3986     0.3081     0.5711      1.029          4        640: 100%|██████████| 7/7 [00:21<00:00,  3.14s/it]\n",
      "                 Class     Images  Instances      Box(P          R      mAP50  mAP50-95)     Mask(P          R      mAP50  mAP50-95): 100%|██████████| 1/1 [00:00<00:00,  3.26it/s]"
     ]
    },
    {
     "name": "stdout",
     "output_type": "stream",
     "text": [
      "                   all         12         12      0.996          1      0.995      0.973      0.996          1      0.995      0.975\n"
     ]
    },
    {
     "name": "stderr",
     "output_type": "stream",
     "text": [
      "\n"
     ]
    },
    {
     "name": "stdout",
     "output_type": "stream",
     "text": [
      "\n",
      "      Epoch    GPU_mem   box_loss   seg_loss   cls_loss   dfl_loss  Instances       Size\n"
     ]
    },
    {
     "name": "stderr",
     "output_type": "stream",
     "text": [
      "      42/50      5.06G     0.3448     0.3695     0.3589     0.9421          4        640: 100%|██████████| 7/7 [00:19<00:00,  2.86s/it]\n",
      "                 Class     Images  Instances      Box(P          R      mAP50  mAP50-95)     Mask(P          R      mAP50  mAP50-95): 100%|██████████| 1/1 [00:00<00:00,  2.11it/s]"
     ]
    },
    {
     "name": "stdout",
     "output_type": "stream",
     "text": [
      "                   all         12         12      0.995          1      0.995      0.957      0.995          1      0.995      0.961\n"
     ]
    },
    {
     "name": "stderr",
     "output_type": "stream",
     "text": [
      "\n"
     ]
    },
    {
     "name": "stdout",
     "output_type": "stream",
     "text": [
      "\n",
      "      Epoch    GPU_mem   box_loss   seg_loss   cls_loss   dfl_loss  Instances       Size\n"
     ]
    },
    {
     "name": "stderr",
     "output_type": "stream",
     "text": [
      "      43/50      5.03G      0.322     0.2845      0.327     0.9256          4        640: 100%|██████████| 7/7 [00:19<00:00,  2.82s/it]\n",
      "                 Class     Images  Instances      Box(P          R      mAP50  mAP50-95)     Mask(P          R      mAP50  mAP50-95): 100%|██████████| 1/1 [00:00<00:00,  1.39it/s]"
     ]
    },
    {
     "name": "stdout",
     "output_type": "stream",
     "text": [
      "                   all         12         12      0.995          1      0.995      0.985      0.995          1      0.995      0.965\n"
     ]
    },
    {
     "name": "stderr",
     "output_type": "stream",
     "text": [
      "\n"
     ]
    },
    {
     "name": "stdout",
     "output_type": "stream",
     "text": [
      "\n",
      "      Epoch    GPU_mem   box_loss   seg_loss   cls_loss   dfl_loss  Instances       Size\n"
     ]
    },
    {
     "name": "stderr",
     "output_type": "stream",
     "text": [
      "      44/50      5.05G     0.2912     0.2756     0.2987     0.9068          4        640: 100%|██████████| 7/7 [00:20<00:00,  2.98s/it]\n",
      "                 Class     Images  Instances      Box(P          R      mAP50  mAP50-95)     Mask(P          R      mAP50  mAP50-95): 100%|██████████| 1/1 [00:00<00:00,  1.87it/s]"
     ]
    },
    {
     "name": "stdout",
     "output_type": "stream",
     "text": [
      "                   all         12         12      0.996          1      0.995      0.995      0.996          1      0.995      0.983\n"
     ]
    },
    {
     "name": "stderr",
     "output_type": "stream",
     "text": [
      "\n"
     ]
    },
    {
     "name": "stdout",
     "output_type": "stream",
     "text": [
      "\n",
      "      Epoch    GPU_mem   box_loss   seg_loss   cls_loss   dfl_loss  Instances       Size\n"
     ]
    },
    {
     "name": "stderr",
     "output_type": "stream",
     "text": [
      "      45/50      5.04G     0.2814     0.2514     0.2696     0.9239          4        640: 100%|██████████| 7/7 [00:23<00:00,  3.33s/it]\n",
      "                 Class     Images  Instances      Box(P          R      mAP50  mAP50-95)     Mask(P          R      mAP50  mAP50-95): 100%|██████████| 1/1 [00:00<00:00,  1.38it/s]"
     ]
    },
    {
     "name": "stdout",
     "output_type": "stream",
     "text": [
      "                   all         12         12      0.996          1      0.995      0.995      0.996          1      0.995      0.974\n"
     ]
    },
    {
     "name": "stderr",
     "output_type": "stream",
     "text": [
      "\n"
     ]
    },
    {
     "name": "stdout",
     "output_type": "stream",
     "text": [
      "\n",
      "      Epoch    GPU_mem   box_loss   seg_loss   cls_loss   dfl_loss  Instances       Size\n"
     ]
    },
    {
     "name": "stderr",
     "output_type": "stream",
     "text": [
      "      46/50      5.05G      0.277     0.2436     0.2635     0.8659          4        640: 100%|██████████| 7/7 [00:21<00:00,  3.13s/it]\n",
      "                 Class     Images  Instances      Box(P          R      mAP50  mAP50-95)     Mask(P          R      mAP50  mAP50-95): 100%|██████████| 1/1 [00:00<00:00,  2.25it/s]"
     ]
    },
    {
     "name": "stdout",
     "output_type": "stream",
     "text": [
      "                   all         12         12      0.996          1      0.995      0.986      0.996          1      0.995       0.96\n"
     ]
    },
    {
     "name": "stderr",
     "output_type": "stream",
     "text": [
      "\n"
     ]
    },
    {
     "name": "stdout",
     "output_type": "stream",
     "text": [
      "\n",
      "      Epoch    GPU_mem   box_loss   seg_loss   cls_loss   dfl_loss  Instances       Size\n"
     ]
    },
    {
     "name": "stderr",
     "output_type": "stream",
     "text": [
      "      47/50      5.03G     0.2851     0.2486     0.2665     0.8955          4        640: 100%|██████████| 7/7 [00:22<00:00,  3.22s/it]\n",
      "                 Class     Images  Instances      Box(P          R      mAP50  mAP50-95)     Mask(P          R      mAP50  mAP50-95): 100%|██████████| 1/1 [00:00<00:00,  2.67it/s]"
     ]
    },
    {
     "name": "stdout",
     "output_type": "stream",
     "text": [
      "                   all         12         12      0.996          1      0.995      0.977      0.996          1      0.995      0.975\n"
     ]
    },
    {
     "name": "stderr",
     "output_type": "stream",
     "text": [
      "\n"
     ]
    },
    {
     "name": "stdout",
     "output_type": "stream",
     "text": [
      "\n",
      "      Epoch    GPU_mem   box_loss   seg_loss   cls_loss   dfl_loss  Instances       Size\n"
     ]
    },
    {
     "name": "stderr",
     "output_type": "stream",
     "text": [
      "      48/50      5.06G     0.2465     0.2439     0.2444     0.8684          4        640: 100%|██████████| 7/7 [00:17<00:00,  2.50s/it]\n",
      "                 Class     Images  Instances      Box(P          R      mAP50  mAP50-95)     Mask(P          R      mAP50  mAP50-95): 100%|██████████| 1/1 [00:00<00:00,  2.08it/s]"
     ]
    },
    {
     "name": "stdout",
     "output_type": "stream",
     "text": [
      "                   all         12         12      0.996          1      0.995      0.995      0.996          1      0.995      0.983\n"
     ]
    },
    {
     "name": "stderr",
     "output_type": "stream",
     "text": [
      "\n"
     ]
    },
    {
     "name": "stdout",
     "output_type": "stream",
     "text": [
      "\n",
      "      Epoch    GPU_mem   box_loss   seg_loss   cls_loss   dfl_loss  Instances       Size\n"
     ]
    },
    {
     "name": "stderr",
     "output_type": "stream",
     "text": [
      "      49/50      5.04G      0.273      0.237     0.2537     0.9105          4        640: 100%|██████████| 7/7 [00:19<00:00,  2.81s/it]\n",
      "                 Class     Images  Instances      Box(P          R      mAP50  mAP50-95)     Mask(P          R      mAP50  mAP50-95): 100%|██████████| 1/1 [00:00<00:00,  2.18it/s]"
     ]
    },
    {
     "name": "stdout",
     "output_type": "stream",
     "text": [
      "                   all         12         12      0.996          1      0.995      0.995      0.996          1      0.995      0.979\n"
     ]
    },
    {
     "name": "stderr",
     "output_type": "stream",
     "text": [
      "\n"
     ]
    },
    {
     "name": "stdout",
     "output_type": "stream",
     "text": [
      "\n",
      "      Epoch    GPU_mem   box_loss   seg_loss   cls_loss   dfl_loss  Instances       Size\n"
     ]
    },
    {
     "name": "stderr",
     "output_type": "stream",
     "text": [
      "      50/50      5.05G      0.252     0.2524     0.2366     0.8812          4        640: 100%|██████████| 7/7 [00:21<00:00,  3.02s/it]\n",
      "                 Class     Images  Instances      Box(P          R      mAP50  mAP50-95)     Mask(P          R      mAP50  mAP50-95): 100%|██████████| 1/1 [00:00<00:00,  2.07it/s]"
     ]
    },
    {
     "name": "stdout",
     "output_type": "stream",
     "text": [
      "                   all         12         12      0.996          1      0.995      0.982      0.996          1      0.995      0.979\n"
     ]
    },
    {
     "name": "stderr",
     "output_type": "stream",
     "text": [
      "\n"
     ]
    },
    {
     "name": "stdout",
     "output_type": "stream",
     "text": [
      "\n",
      "50 epochs completed in 0.325 hours.\n",
      "Optimizer stripped from runs\\segment\\train3\\weights\\last.pt, 20.5MB\n",
      "Optimizer stripped from runs\\segment\\train3\\weights\\best.pt, 20.5MB\n",
      "\n",
      "Validating runs\\segment\\train3\\weights\\best.pt...\n",
      "Ultralytics 8.3.78  Python-3.12.3 torch-2.6.0+cu118 CUDA:0 (NVIDIA GeForce RTX 3050 Laptop GPU, 4096MiB)\n",
      "YOLO11s-seg summary (fused): 113 layers, 10,067,203 parameters, 0 gradients, 35.3 GFLOPs\n"
     ]
    },
    {
     "name": "stderr",
     "output_type": "stream",
     "text": [
      "                 Class     Images  Instances      Box(P          R      mAP50  mAP50-95)     Mask(P          R      mAP50  mAP50-95): 100%|██████████| 1/1 [00:00<00:00,  3.73it/s]\n"
     ]
    },
    {
     "name": "stdout",
     "output_type": "stream",
     "text": [
      "                   all         12         12      0.996          1      0.995      0.995      0.996          1      0.995      0.983\n",
      "Speed: 0.2ms preprocess, 13.5ms inference, 0.0ms loss, 2.3ms postprocess per image\n",
      "Results saved to \u001b[1mruns\\segment\\train3\u001b[0m\n"
     ]
    }
   ],
   "source": [
    "model = YOLO('./yolo11s-seg.pt')\n",
    "\n",
    "\n",
    "results = model.train(data = './Final Merge/Parking Lot Detection/Export/data.yaml', epochs = 50, imgsz = 640, batch = 16, workers = 4)\n"
   ]
  },
  {
   "cell_type": "code",
   "execution_count": 2,
   "metadata": {},
   "outputs": [],
   "source": [
    "model = YOLO(\"./runs/segment/train3/weights/best.pt\")"
   ]
  },
  {
   "cell_type": "code",
   "execution_count": 3,
   "metadata": {},
   "outputs": [
    {
     "name": "stdout",
     "output_type": "stream",
     "text": [
      "\n",
      "\n",
      "WARNING  inference results will accumulate in RAM unless `stream=True` is passed, causing potential out-of-memory\n",
      "errors for large sources or long-running streams and videos. See https://docs.ultralytics.com/modes/predict/ for help.\n",
      "\n",
      "Example:\n",
      "    results = model(source=..., stream=True)  # generator of Results objects\n",
      "    for r in results:\n",
      "        boxes = r.boxes  # Boxes object for bbox outputs\n",
      "        masks = r.masks  # Masks object for segment masks outputs\n",
      "        probs = r.probs  # Class probabilities for classification outputs\n",
      "\n",
      "image 1/1614 d:\\Downloads\\VIT Downloads\\Local Downloads\\Semester 6\\Deep Learning\\Project\\Bounding Box Detection\\Final Merge\\final\\images\\train\\01.10.24 01.00Pm_frame_000000_aug_0.jpg: 384x640 1 ParkingLot, 83.4ms\n",
      "image 2/1614 d:\\Downloads\\VIT Downloads\\Local Downloads\\Semester 6\\Deep Learning\\Project\\Bounding Box Detection\\Final Merge\\final\\images\\train\\01.10.24 01.00Pm_frame_000000_aug_1.jpg: 640x384 1 ParkingLot, 74.7ms\n",
      "image 3/1614 d:\\Downloads\\VIT Downloads\\Local Downloads\\Semester 6\\Deep Learning\\Project\\Bounding Box Detection\\Final Merge\\final\\images\\train\\01.10.24 01.00Pm_frame_000000_aug_2.jpg: 384x640 1 ParkingLot, 15.5ms\n",
      "image 4/1614 d:\\Downloads\\VIT Downloads\\Local Downloads\\Semester 6\\Deep Learning\\Project\\Bounding Box Detection\\Final Merge\\final\\images\\train\\01.10.24 01.00Pm_frame_000000_aug_3.jpg: 384x640 1 ParkingLot, 13.0ms\n",
      "image 5/1614 d:\\Downloads\\VIT Downloads\\Local Downloads\\Semester 6\\Deep Learning\\Project\\Bounding Box Detection\\Final Merge\\final\\images\\train\\01.10.24 01.00Pm_frame_000000_aug_4.jpg: 384x640 1 ParkingLot, 16.6ms\n",
      "image 6/1614 d:\\Downloads\\VIT Downloads\\Local Downloads\\Semester 6\\Deep Learning\\Project\\Bounding Box Detection\\Final Merge\\final\\images\\train\\01.10.24 01.00Pm_frame_056748_aug_0.jpg: 384x640 1 ParkingLot, 28.1ms\n",
      "image 7/1614 d:\\Downloads\\VIT Downloads\\Local Downloads\\Semester 6\\Deep Learning\\Project\\Bounding Box Detection\\Final Merge\\final\\images\\train\\01.10.24 01.00Pm_frame_056748_aug_1.jpg: 384x640 1 ParkingLot, 14.1ms\n",
      "image 8/1614 d:\\Downloads\\VIT Downloads\\Local Downloads\\Semester 6\\Deep Learning\\Project\\Bounding Box Detection\\Final Merge\\final\\images\\train\\01.10.24 01.00Pm_frame_056748_aug_2.jpg: 384x640 1 ParkingLot, 13.9ms\n",
      "image 9/1614 d:\\Downloads\\VIT Downloads\\Local Downloads\\Semester 6\\Deep Learning\\Project\\Bounding Box Detection\\Final Merge\\final\\images\\train\\01.10.24 01.00Pm_frame_056748_aug_3.jpg: 384x640 1 ParkingLot, 27.3ms\n",
      "image 10/1614 d:\\Downloads\\VIT Downloads\\Local Downloads\\Semester 6\\Deep Learning\\Project\\Bounding Box Detection\\Final Merge\\final\\images\\train\\01.10.24 01.00Pm_frame_075664_aug_0.jpg: 384x640 1 ParkingLot, 15.8ms\n",
      "image 11/1614 d:\\Downloads\\VIT Downloads\\Local Downloads\\Semester 6\\Deep Learning\\Project\\Bounding Box Detection\\Final Merge\\final\\images\\train\\01.10.24 01.00Pm_frame_075664_aug_1.jpg: 384x640 1 ParkingLot, 13.8ms\n",
      "image 12/1614 d:\\Downloads\\VIT Downloads\\Local Downloads\\Semester 6\\Deep Learning\\Project\\Bounding Box Detection\\Final Merge\\final\\images\\train\\01.10.24 01.00Pm_frame_075664_aug_2.jpg: 384x640 1 ParkingLot, 16.1ms\n",
      "image 13/1614 d:\\Downloads\\VIT Downloads\\Local Downloads\\Semester 6\\Deep Learning\\Project\\Bounding Box Detection\\Final Merge\\final\\images\\train\\01.10.24 01.00Pm_frame_075664_aug_3.jpg: 384x640 1 ParkingLot, 16.9ms\n",
      "image 14/1614 d:\\Downloads\\VIT Downloads\\Local Downloads\\Semester 6\\Deep Learning\\Project\\Bounding Box Detection\\Final Merge\\final\\images\\train\\01.10.24 01.00Pm_frame_075664_aug_4.jpg: 384x640 1 ParkingLot, 14.2ms\n",
      "image 15/1614 d:\\Downloads\\VIT Downloads\\Local Downloads\\Semester 6\\Deep Learning\\Project\\Bounding Box Detection\\Final Merge\\final\\images\\train\\01.10.24 01.00Pm_frame_085122_aug_1.jpg: 384x640 1 ParkingLot, 18.1ms\n",
      "image 16/1614 d:\\Downloads\\VIT Downloads\\Local Downloads\\Semester 6\\Deep Learning\\Project\\Bounding Box Detection\\Final Merge\\final\\images\\train\\01.10.24 01.00Pm_frame_085122_aug_2.jpg: 384x640 1 ParkingLot, 13.2ms\n",
      "image 17/1614 d:\\Downloads\\VIT Downloads\\Local Downloads\\Semester 6\\Deep Learning\\Project\\Bounding Box Detection\\Final Merge\\final\\images\\train\\01.10.24 01.00Pm_frame_085122_aug_3.jpg: 384x640 1 ParkingLot, 19.5ms\n",
      "image 18/1614 d:\\Downloads\\VIT Downloads\\Local Downloads\\Semester 6\\Deep Learning\\Project\\Bounding Box Detection\\Final Merge\\final\\images\\train\\01.10.24 01.00Pm_frame_132412_aug_0.jpg: 384x640 1 ParkingLot, 18.9ms\n",
      "image 19/1614 d:\\Downloads\\VIT Downloads\\Local Downloads\\Semester 6\\Deep Learning\\Project\\Bounding Box Detection\\Final Merge\\final\\images\\train\\01.10.24 01.00Pm_frame_132412_aug_1.jpg: 384x640 1 ParkingLot, 18.7ms\n",
      "image 20/1614 d:\\Downloads\\VIT Downloads\\Local Downloads\\Semester 6\\Deep Learning\\Project\\Bounding Box Detection\\Final Merge\\final\\images\\train\\01.10.24 01.00Pm_frame_132412_aug_2.jpg: 384x640 1 ParkingLot, 22.4ms\n",
      "image 21/1614 d:\\Downloads\\VIT Downloads\\Local Downloads\\Semester 6\\Deep Learning\\Project\\Bounding Box Detection\\Final Merge\\final\\images\\train\\01.10.24 01.00Pm_frame_132412_aug_3.jpg: 384x640 1 ParkingLot, 28.6ms\n",
      "image 22/1614 d:\\Downloads\\VIT Downloads\\Local Downloads\\Semester 6\\Deep Learning\\Project\\Bounding Box Detection\\Final Merge\\final\\images\\train\\01.10.24 01.00Pm_frame_132412_aug_4.jpg: 384x640 1 ParkingLot, 16.2ms\n",
      "image 23/1614 d:\\Downloads\\VIT Downloads\\Local Downloads\\Semester 6\\Deep Learning\\Project\\Bounding Box Detection\\Final Merge\\final\\images\\train\\01.10.24 01.00Pm_frame_170244_aug_0.jpg: 384x640 1 ParkingLot, 14.7ms\n",
      "image 24/1614 d:\\Downloads\\VIT Downloads\\Local Downloads\\Semester 6\\Deep Learning\\Project\\Bounding Box Detection\\Final Merge\\final\\images\\train\\01.10.24 01.00Pm_frame_170244_aug_1.jpg: 384x640 1 ParkingLot, 14.7ms\n",
      "image 25/1614 d:\\Downloads\\VIT Downloads\\Local Downloads\\Semester 6\\Deep Learning\\Project\\Bounding Box Detection\\Final Merge\\final\\images\\train\\01.10.24 01.00Pm_frame_170244_aug_2.jpg: 384x640 1 ParkingLot, 15.4ms\n",
      "image 26/1614 d:\\Downloads\\VIT Downloads\\Local Downloads\\Semester 6\\Deep Learning\\Project\\Bounding Box Detection\\Final Merge\\final\\images\\train\\01.10.24 01.00Pm_frame_170244_aug_3.jpg: 384x640 1 ParkingLot, 16.8ms\n",
      "image 27/1614 d:\\Downloads\\VIT Downloads\\Local Downloads\\Semester 6\\Deep Learning\\Project\\Bounding Box Detection\\Final Merge\\final\\images\\train\\01.10.24 01.00Pm_frame_170244_aug_4.jpg: 384x640 1 ParkingLot, 20.0ms\n",
      "image 28/1614 d:\\Downloads\\VIT Downloads\\Local Downloads\\Semester 6\\Deep Learning\\Project\\Bounding Box Detection\\Final Merge\\final\\images\\train\\01.10.24 01.00Pm_frame_208076_aug_0.jpg: 384x640 1 ParkingLot, 14.2ms\n",
      "image 29/1614 d:\\Downloads\\VIT Downloads\\Local Downloads\\Semester 6\\Deep Learning\\Project\\Bounding Box Detection\\Final Merge\\final\\images\\train\\01.10.24 01.00Pm_frame_208076_aug_1.jpg: 384x640 1 ParkingLot, 14.2ms\n",
      "image 30/1614 d:\\Downloads\\VIT Downloads\\Local Downloads\\Semester 6\\Deep Learning\\Project\\Bounding Box Detection\\Final Merge\\final\\images\\train\\01.10.24 01.00Pm_frame_208076_aug_2.jpg: 384x640 1 ParkingLot, 18.7ms\n",
      "image 31/1614 d:\\Downloads\\VIT Downloads\\Local Downloads\\Semester 6\\Deep Learning\\Project\\Bounding Box Detection\\Final Merge\\final\\images\\train\\01.10.24 01.00Pm_frame_208076_aug_3.jpg: 640x384 1 ParkingLot, 14.9ms\n",
      "image 32/1614 d:\\Downloads\\VIT Downloads\\Local Downloads\\Semester 6\\Deep Learning\\Project\\Bounding Box Detection\\Final Merge\\final\\images\\train\\01.10.24 01.00Pm_frame_208076_aug_4.jpg: 384x640 1 ParkingLot, 14.7ms\n",
      "image 33/1614 d:\\Downloads\\VIT Downloads\\Local Downloads\\Semester 6\\Deep Learning\\Project\\Bounding Box Detection\\Final Merge\\final\\images\\train\\01.10.24 01.00Pm_frame_226992_aug_0.jpg: 384x640 1 ParkingLot, 13.2ms\n",
      "image 34/1614 d:\\Downloads\\VIT Downloads\\Local Downloads\\Semester 6\\Deep Learning\\Project\\Bounding Box Detection\\Final Merge\\final\\images\\train\\01.10.24 01.00Pm_frame_226992_aug_1.jpg: 384x640 1 ParkingLot, 13.7ms\n",
      "image 35/1614 d:\\Downloads\\VIT Downloads\\Local Downloads\\Semester 6\\Deep Learning\\Project\\Bounding Box Detection\\Final Merge\\final\\images\\train\\01.10.24 01.00Pm_frame_226992_aug_2.jpg: 384x640 1 ParkingLot, 12.8ms\n",
      "image 36/1614 d:\\Downloads\\VIT Downloads\\Local Downloads\\Semester 6\\Deep Learning\\Project\\Bounding Box Detection\\Final Merge\\final\\images\\train\\01.10.24 01.00Pm_frame_226992_aug_3.jpg: 384x640 1 ParkingLot, 14.2ms\n",
      "image 37/1614 d:\\Downloads\\VIT Downloads\\Local Downloads\\Semester 6\\Deep Learning\\Project\\Bounding Box Detection\\Final Merge\\final\\images\\train\\01.10.24 01.00Pm_frame_226992_aug_4.jpg: 384x640 1 ParkingLot, 13.3ms\n",
      "image 38/1614 d:\\Downloads\\VIT Downloads\\Local Downloads\\Semester 6\\Deep Learning\\Project\\Bounding Box Detection\\Final Merge\\final\\images\\train\\01.10.24 01.00Pm_frame_236450_aug_0.jpg: 384x640 1 ParkingLot, 27.2ms\n",
      "image 39/1614 d:\\Downloads\\VIT Downloads\\Local Downloads\\Semester 6\\Deep Learning\\Project\\Bounding Box Detection\\Final Merge\\final\\images\\train\\01.10.24 01.00Pm_frame_236450_aug_1.jpg: 384x640 1 ParkingLot, 22.5ms\n",
      "image 40/1614 d:\\Downloads\\VIT Downloads\\Local Downloads\\Semester 6\\Deep Learning\\Project\\Bounding Box Detection\\Final Merge\\final\\images\\train\\01.10.24 01.00Pm_frame_236450_aug_2.jpg: 384x640 1 ParkingLot, 26.7ms\n",
      "image 41/1614 d:\\Downloads\\VIT Downloads\\Local Downloads\\Semester 6\\Deep Learning\\Project\\Bounding Box Detection\\Final Merge\\final\\images\\train\\01.10.24 01.00Pm_frame_236450_aug_3.jpg: 384x640 1 ParkingLot, 13.3ms\n",
      "image 42/1614 d:\\Downloads\\VIT Downloads\\Local Downloads\\Semester 6\\Deep Learning\\Project\\Bounding Box Detection\\Final Merge\\final\\images\\train\\01.10.24 01.00Pm_frame_236450_aug_4.jpg: 384x640 1 ParkingLot, 14.2ms\n",
      "image 43/1614 d:\\Downloads\\VIT Downloads\\Local Downloads\\Semester 6\\Deep Learning\\Project\\Bounding Box Detection\\Final Merge\\final\\images\\train\\01.10.24 01.00Pm_frame_245908_aug_0.jpg: 384x640 1 ParkingLot, 13.9ms\n",
      "image 44/1614 d:\\Downloads\\VIT Downloads\\Local Downloads\\Semester 6\\Deep Learning\\Project\\Bounding Box Detection\\Final Merge\\final\\images\\train\\01.10.24 01.00Pm_frame_245908_aug_1.jpg: 384x640 1 ParkingLot, 13.1ms\n",
      "image 45/1614 d:\\Downloads\\VIT Downloads\\Local Downloads\\Semester 6\\Deep Learning\\Project\\Bounding Box Detection\\Final Merge\\final\\images\\train\\01.10.24 01.00Pm_frame_245908_aug_2.jpg: 384x640 1 ParkingLot, 20.5ms\n",
      "image 46/1614 d:\\Downloads\\VIT Downloads\\Local Downloads\\Semester 6\\Deep Learning\\Project\\Bounding Box Detection\\Final Merge\\final\\images\\train\\01.10.24 01.00Pm_frame_245908_aug_3.jpg: 384x640 1 ParkingLot, 16.3ms\n",
      "image 47/1614 d:\\Downloads\\VIT Downloads\\Local Downloads\\Semester 6\\Deep Learning\\Project\\Bounding Box Detection\\Final Merge\\final\\images\\train\\01.10.24 01.00Pm_frame_245908_aug_4.jpg: 384x640 1 ParkingLot, 14.0ms\n",
      "image 48/1614 d:\\Downloads\\VIT Downloads\\Local Downloads\\Semester 6\\Deep Learning\\Project\\Bounding Box Detection\\Final Merge\\final\\images\\train\\01.10.24 01.00Pm_frame_274282_aug_0.jpg: 384x640 1 ParkingLot, 22.2ms\n",
      "image 49/1614 d:\\Downloads\\VIT Downloads\\Local Downloads\\Semester 6\\Deep Learning\\Project\\Bounding Box Detection\\Final Merge\\final\\images\\train\\01.10.24 01.00Pm_frame_274282_aug_2.jpg: 384x640 1 ParkingLot, 14.4ms\n",
      "image 50/1614 d:\\Downloads\\VIT Downloads\\Local Downloads\\Semester 6\\Deep Learning\\Project\\Bounding Box Detection\\Final Merge\\final\\images\\train\\01.10.24 01.00Pm_frame_274282_aug_3.jpg: 384x640 1 ParkingLot, 17.3ms\n",
      "image 51/1614 d:\\Downloads\\VIT Downloads\\Local Downloads\\Semester 6\\Deep Learning\\Project\\Bounding Box Detection\\Final Merge\\final\\images\\train\\01.10.24 01.00Pm_frame_274282_aug_4.jpg: 384x640 1 ParkingLot, 15.0ms\n",
      "image 52/1614 d:\\Downloads\\VIT Downloads\\Local Downloads\\Semester 6\\Deep Learning\\Project\\Bounding Box Detection\\Final Merge\\final\\images\\train\\01.10.24 01.00Pm_frame_283740_aug_0.jpg: 640x384 1 ParkingLot, 14.9ms\n",
      "image 53/1614 d:\\Downloads\\VIT Downloads\\Local Downloads\\Semester 6\\Deep Learning\\Project\\Bounding Box Detection\\Final Merge\\final\\images\\train\\01.10.24 01.00Pm_frame_283740_aug_1.jpg: 384x640 1 ParkingLot, 28.3ms\n",
      "image 54/1614 d:\\Downloads\\VIT Downloads\\Local Downloads\\Semester 6\\Deep Learning\\Project\\Bounding Box Detection\\Final Merge\\final\\images\\train\\01.10.24 01.00Pm_frame_283740_aug_2.jpg: 384x640 1 ParkingLot, 15.2ms\n",
      "image 55/1614 d:\\Downloads\\VIT Downloads\\Local Downloads\\Semester 6\\Deep Learning\\Project\\Bounding Box Detection\\Final Merge\\final\\images\\train\\01.10.24 01.00Pm_frame_283740_aug_3.jpg: 384x640 1 ParkingLot, 13.8ms\n",
      "image 56/1614 d:\\Downloads\\VIT Downloads\\Local Downloads\\Semester 6\\Deep Learning\\Project\\Bounding Box Detection\\Final Merge\\final\\images\\train\\01.10.24 01.00Pm_frame_293198_aug_0.jpg: 384x640 1 ParkingLot, 13.4ms\n",
      "image 57/1614 d:\\Downloads\\VIT Downloads\\Local Downloads\\Semester 6\\Deep Learning\\Project\\Bounding Box Detection\\Final Merge\\final\\images\\train\\01.10.24 01.00Pm_frame_293198_aug_1.jpg: 384x640 1 ParkingLot, 18.4ms\n",
      "image 58/1614 d:\\Downloads\\VIT Downloads\\Local Downloads\\Semester 6\\Deep Learning\\Project\\Bounding Box Detection\\Final Merge\\final\\images\\train\\01.10.24 01.00Pm_frame_293198_aug_2.jpg: 384x640 1 ParkingLot, 14.3ms\n",
      "image 59/1614 d:\\Downloads\\VIT Downloads\\Local Downloads\\Semester 6\\Deep Learning\\Project\\Bounding Box Detection\\Final Merge\\final\\images\\train\\01.10.24 01.00Pm_frame_293198_aug_4.jpg: 640x384 1 ParkingLot, 14.3ms\n",
      "image 60/1614 d:\\Downloads\\VIT Downloads\\Local Downloads\\Semester 6\\Deep Learning\\Project\\Bounding Box Detection\\Final Merge\\final\\images\\train\\01.10.24 01.00Pm_frame_312114_aug_0.jpg: 384x640 1 ParkingLot, 18.6ms\n",
      "image 61/1614 d:\\Downloads\\VIT Downloads\\Local Downloads\\Semester 6\\Deep Learning\\Project\\Bounding Box Detection\\Final Merge\\final\\images\\train\\01.10.24 01.00Pm_frame_312114_aug_1.jpg: 640x384 1 ParkingLot, 15.7ms\n",
      "image 62/1614 d:\\Downloads\\VIT Downloads\\Local Downloads\\Semester 6\\Deep Learning\\Project\\Bounding Box Detection\\Final Merge\\final\\images\\train\\01.10.24 01.00Pm_frame_312114_aug_2.jpg: 384x640 1 ParkingLot, 15.1ms\n",
      "image 63/1614 d:\\Downloads\\VIT Downloads\\Local Downloads\\Semester 6\\Deep Learning\\Project\\Bounding Box Detection\\Final Merge\\final\\images\\train\\01.10.24 01.00Pm_frame_312114_aug_3.jpg: 384x640 1 ParkingLot, 16.2ms\n",
      "image 64/1614 d:\\Downloads\\VIT Downloads\\Local Downloads\\Semester 6\\Deep Learning\\Project\\Bounding Box Detection\\Final Merge\\final\\images\\train\\01.10.24 01.00Pm_frame_312114_aug_4.jpg: 384x640 1 ParkingLot, 16.9ms\n",
      "image 65/1614 d:\\Downloads\\VIT Downloads\\Local Downloads\\Semester 6\\Deep Learning\\Project\\Bounding Box Detection\\Final Merge\\final\\images\\train\\01.10.24 01.00Pm_frame_321572_aug_0.jpg: 640x384 1 ParkingLot, 16.3ms\n",
      "image 66/1614 d:\\Downloads\\VIT Downloads\\Local Downloads\\Semester 6\\Deep Learning\\Project\\Bounding Box Detection\\Final Merge\\final\\images\\train\\01.10.24 01.00Pm_frame_321572_aug_1.jpg: 384x640 1 ParkingLot, 14.6ms\n",
      "image 67/1614 d:\\Downloads\\VIT Downloads\\Local Downloads\\Semester 6\\Deep Learning\\Project\\Bounding Box Detection\\Final Merge\\final\\images\\train\\01.10.24 01.00Pm_frame_321572_aug_2.jpg: 640x384 1 ParkingLot, 16.2ms\n",
      "image 68/1614 d:\\Downloads\\VIT Downloads\\Local Downloads\\Semester 6\\Deep Learning\\Project\\Bounding Box Detection\\Final Merge\\final\\images\\train\\01.10.24 01.00Pm_frame_321572_aug_4.jpg: 384x640 1 ParkingLot, 16.1ms\n",
      "image 69/1614 d:\\Downloads\\VIT Downloads\\Local Downloads\\Semester 6\\Deep Learning\\Project\\Bounding Box Detection\\Final Merge\\final\\images\\train\\01.10.24 01.00Pm_frame_331030_aug_0.jpg: 384x640 1 ParkingLot, 14.3ms\n",
      "image 70/1614 d:\\Downloads\\VIT Downloads\\Local Downloads\\Semester 6\\Deep Learning\\Project\\Bounding Box Detection\\Final Merge\\final\\images\\train\\01.10.24 01.00Pm_frame_331030_aug_1.jpg: 384x640 1 ParkingLot, 15.4ms\n",
      "image 71/1614 d:\\Downloads\\VIT Downloads\\Local Downloads\\Semester 6\\Deep Learning\\Project\\Bounding Box Detection\\Final Merge\\final\\images\\train\\01.10.24 01.00Pm_frame_331030_aug_2.jpg: 384x640 1 ParkingLot, 18.7ms\n",
      "image 72/1614 d:\\Downloads\\VIT Downloads\\Local Downloads\\Semester 6\\Deep Learning\\Project\\Bounding Box Detection\\Final Merge\\final\\images\\train\\01.10.24 01.00Pm_frame_331030_aug_3.jpg: 640x384 1 ParkingLot, 16.3ms\n",
      "image 73/1614 d:\\Downloads\\VIT Downloads\\Local Downloads\\Semester 6\\Deep Learning\\Project\\Bounding Box Detection\\Final Merge\\final\\images\\train\\01.10.24 01.00Pm_frame_331030_aug_4.jpg: 384x640 1 ParkingLot, 15.0ms\n",
      "image 74/1614 d:\\Downloads\\VIT Downloads\\Local Downloads\\Semester 6\\Deep Learning\\Project\\Bounding Box Detection\\Final Merge\\final\\images\\train\\01.10.24 01.00Pm_frame_359404_aug_0.jpg: 384x640 1 ParkingLot, 15.0ms\n",
      "image 75/1614 d:\\Downloads\\VIT Downloads\\Local Downloads\\Semester 6\\Deep Learning\\Project\\Bounding Box Detection\\Final Merge\\final\\images\\train\\01.10.24 01.00Pm_frame_359404_aug_1.jpg: 640x384 1 ParkingLot, 15.0ms\n",
      "image 76/1614 d:\\Downloads\\VIT Downloads\\Local Downloads\\Semester 6\\Deep Learning\\Project\\Bounding Box Detection\\Final Merge\\final\\images\\train\\01.10.24 01.00Pm_frame_359404_aug_2.jpg: 384x640 1 ParkingLot, 17.5ms\n",
      "image 77/1614 d:\\Downloads\\VIT Downloads\\Local Downloads\\Semester 6\\Deep Learning\\Project\\Bounding Box Detection\\Final Merge\\final\\images\\train\\01.10.24 01.00Pm_frame_359404_aug_3.jpg: 384x640 1 ParkingLot, 14.1ms\n",
      "image 78/1614 d:\\Downloads\\VIT Downloads\\Local Downloads\\Semester 6\\Deep Learning\\Project\\Bounding Box Detection\\Final Merge\\final\\images\\train\\01.10.24 01.00Pm_frame_359404_aug_4.jpg: 384x640 1 ParkingLot, 17.1ms\n",
      "image 79/1614 d:\\Downloads\\VIT Downloads\\Local Downloads\\Semester 6\\Deep Learning\\Project\\Bounding Box Detection\\Final Merge\\final\\images\\train\\01.10.24 01.00Pm_frame_368862_aug_0.jpg: 384x640 1 ParkingLot, 13.3ms\n",
      "image 80/1614 d:\\Downloads\\VIT Downloads\\Local Downloads\\Semester 6\\Deep Learning\\Project\\Bounding Box Detection\\Final Merge\\final\\images\\train\\01.10.24 01.00Pm_frame_368862_aug_2.jpg: 384x640 1 ParkingLot, 14.8ms\n",
      "image 81/1614 d:\\Downloads\\VIT Downloads\\Local Downloads\\Semester 6\\Deep Learning\\Project\\Bounding Box Detection\\Final Merge\\final\\images\\train\\01.10.24 01.00Pm_frame_368862_aug_4.jpg: 384x640 1 ParkingLot, 13.7ms\n",
      "image 82/1614 d:\\Downloads\\VIT Downloads\\Local Downloads\\Semester 6\\Deep Learning\\Project\\Bounding Box Detection\\Final Merge\\final\\images\\train\\01.10.24 01.00Pm_frame_378320_aug_0.jpg: 384x640 1 ParkingLot, 13.9ms\n",
      "image 83/1614 d:\\Downloads\\VIT Downloads\\Local Downloads\\Semester 6\\Deep Learning\\Project\\Bounding Box Detection\\Final Merge\\final\\images\\train\\01.10.24 01.00Pm_frame_378320_aug_1.jpg: 384x640 1 ParkingLot, 14.3ms\n",
      "image 84/1614 d:\\Downloads\\VIT Downloads\\Local Downloads\\Semester 6\\Deep Learning\\Project\\Bounding Box Detection\\Final Merge\\final\\images\\train\\01.10.24 01.00Pm_frame_378320_aug_2.jpg: 384x640 1 ParkingLot, 14.8ms\n",
      "image 85/1614 d:\\Downloads\\VIT Downloads\\Local Downloads\\Semester 6\\Deep Learning\\Project\\Bounding Box Detection\\Final Merge\\final\\images\\train\\01.10.24 01.00Pm_frame_378320_aug_3.jpg: 384x640 1 ParkingLot, 14.4ms\n",
      "image 86/1614 d:\\Downloads\\VIT Downloads\\Local Downloads\\Semester 6\\Deep Learning\\Project\\Bounding Box Detection\\Final Merge\\final\\images\\train\\01.10.24 01.00Pm_frame_378320_aug_4.jpg: 384x640 1 ParkingLot, 13.3ms\n",
      "image 87/1614 d:\\Downloads\\VIT Downloads\\Local Downloads\\Semester 6\\Deep Learning\\Project\\Bounding Box Detection\\Final Merge\\final\\images\\train\\01.10.24 01.00Pm_frame_387778_aug_0.jpg: 384x640 1 ParkingLot, 13.4ms\n",
      "image 88/1614 d:\\Downloads\\VIT Downloads\\Local Downloads\\Semester 6\\Deep Learning\\Project\\Bounding Box Detection\\Final Merge\\final\\images\\train\\01.10.24 01.00Pm_frame_387778_aug_1.jpg: 384x640 1 ParkingLot, 13.1ms\n",
      "image 89/1614 d:\\Downloads\\VIT Downloads\\Local Downloads\\Semester 6\\Deep Learning\\Project\\Bounding Box Detection\\Final Merge\\final\\images\\train\\01.10.24 01.00Pm_frame_387778_aug_2.jpg: 384x640 1 ParkingLot, 13.1ms\n",
      "image 90/1614 d:\\Downloads\\VIT Downloads\\Local Downloads\\Semester 6\\Deep Learning\\Project\\Bounding Box Detection\\Final Merge\\final\\images\\train\\01.10.24 01.00Pm_frame_387778_aug_3.jpg: 384x640 1 ParkingLot, 12.7ms\n",
      "image 91/1614 d:\\Downloads\\VIT Downloads\\Local Downloads\\Semester 6\\Deep Learning\\Project\\Bounding Box Detection\\Final Merge\\final\\images\\train\\01.10.24 01.00Pm_frame_387778_aug_4.jpg: 640x384 1 ParkingLot, 14.6ms\n",
      "image 92/1614 d:\\Downloads\\VIT Downloads\\Local Downloads\\Semester 6\\Deep Learning\\Project\\Bounding Box Detection\\Final Merge\\final\\images\\train\\01.10.24 01.00Pm_frame_435068_aug_0.jpg: 384x640 1 ParkingLot, 14.8ms\n",
      "image 93/1614 d:\\Downloads\\VIT Downloads\\Local Downloads\\Semester 6\\Deep Learning\\Project\\Bounding Box Detection\\Final Merge\\final\\images\\train\\01.10.24 01.00Pm_frame_435068_aug_1.jpg: 640x384 1 ParkingLot, 20.6ms\n",
      "image 94/1614 d:\\Downloads\\VIT Downloads\\Local Downloads\\Semester 6\\Deep Learning\\Project\\Bounding Box Detection\\Final Merge\\final\\images\\train\\01.10.24 01.00Pm_frame_435068_aug_2.jpg: 384x640 1 ParkingLot, 16.2ms\n",
      "image 95/1614 d:\\Downloads\\VIT Downloads\\Local Downloads\\Semester 6\\Deep Learning\\Project\\Bounding Box Detection\\Final Merge\\final\\images\\train\\01.10.24 01.00Pm_frame_435068_aug_3.jpg: 384x640 1 ParkingLot, 13.6ms\n",
      "image 96/1614 d:\\Downloads\\VIT Downloads\\Local Downloads\\Semester 6\\Deep Learning\\Project\\Bounding Box Detection\\Final Merge\\final\\images\\train\\01.10.24 01.00Pm_frame_435068_aug_4.jpg: 384x640 1 ParkingLot, 15.0ms\n",
      "image 97/1614 d:\\Downloads\\VIT Downloads\\Local Downloads\\Semester 6\\Deep Learning\\Project\\Bounding Box Detection\\Final Merge\\final\\images\\train\\01.10.24 01.00Pm_frame_444526_aug_0.jpg: 640x384 1 ParkingLot, 14.4ms\n",
      "image 98/1614 d:\\Downloads\\VIT Downloads\\Local Downloads\\Semester 6\\Deep Learning\\Project\\Bounding Box Detection\\Final Merge\\final\\images\\train\\01.10.24 01.00Pm_frame_444526_aug_1.jpg: 640x384 1 ParkingLot, 13.9ms\n",
      "image 99/1614 d:\\Downloads\\VIT Downloads\\Local Downloads\\Semester 6\\Deep Learning\\Project\\Bounding Box Detection\\Final Merge\\final\\images\\train\\01.10.24 01.00Pm_frame_444526_aug_2.jpg: 384x640 1 ParkingLot, 16.5ms\n",
      "image 100/1614 d:\\Downloads\\VIT Downloads\\Local Downloads\\Semester 6\\Deep Learning\\Project\\Bounding Box Detection\\Final Merge\\final\\images\\train\\01.10.24 01.00Pm_frame_444526_aug_3.jpg: 384x640 1 ParkingLot, 14.9ms\n",
      "image 101/1614 d:\\Downloads\\VIT Downloads\\Local Downloads\\Semester 6\\Deep Learning\\Project\\Bounding Box Detection\\Final Merge\\final\\images\\train\\01.10.24 01.00Pm_frame_444526_aug_4.jpg: 384x640 1 ParkingLot, 15.1ms\n",
      "image 102/1614 d:\\Downloads\\VIT Downloads\\Local Downloads\\Semester 6\\Deep Learning\\Project\\Bounding Box Detection\\Final Merge\\final\\images\\train\\01.10.24 01.00Pm_frame_453984_aug_0.jpg: 384x640 1 ParkingLot, 14.5ms\n",
      "image 103/1614 d:\\Downloads\\VIT Downloads\\Local Downloads\\Semester 6\\Deep Learning\\Project\\Bounding Box Detection\\Final Merge\\final\\images\\train\\01.10.24 01.00Pm_frame_453984_aug_1.jpg: 384x640 1 ParkingLot, 14.4ms\n",
      "image 104/1614 d:\\Downloads\\VIT Downloads\\Local Downloads\\Semester 6\\Deep Learning\\Project\\Bounding Box Detection\\Final Merge\\final\\images\\train\\01.10.24 01.00Pm_frame_453984_aug_2.jpg: 384x640 1 ParkingLot, 14.5ms\n",
      "image 105/1614 d:\\Downloads\\VIT Downloads\\Local Downloads\\Semester 6\\Deep Learning\\Project\\Bounding Box Detection\\Final Merge\\final\\images\\train\\01.10.24 01.00Pm_frame_453984_aug_3.jpg: 384x640 1 ParkingLot, 14.3ms\n",
      "image 106/1614 d:\\Downloads\\VIT Downloads\\Local Downloads\\Semester 6\\Deep Learning\\Project\\Bounding Box Detection\\Final Merge\\final\\images\\train\\01.10.24 01.00Pm_frame_453984_aug_4.jpg: 384x640 1 ParkingLot, 13.9ms\n",
      "image 107/1614 d:\\Downloads\\VIT Downloads\\Local Downloads\\Semester 6\\Deep Learning\\Project\\Bounding Box Detection\\Final Merge\\final\\images\\train\\01.10.24 01.00Pm_frame_463442_aug_0.jpg: 384x640 1 ParkingLot, 13.1ms\n",
      "image 108/1614 d:\\Downloads\\VIT Downloads\\Local Downloads\\Semester 6\\Deep Learning\\Project\\Bounding Box Detection\\Final Merge\\final\\images\\train\\01.10.24 01.00Pm_frame_463442_aug_1.jpg: 640x384 1 ParkingLot, 15.2ms\n",
      "image 109/1614 d:\\Downloads\\VIT Downloads\\Local Downloads\\Semester 6\\Deep Learning\\Project\\Bounding Box Detection\\Final Merge\\final\\images\\train\\01.10.24 01.00Pm_frame_463442_aug_2.jpg: 640x384 1 ParkingLot, 14.0ms\n",
      "image 110/1614 d:\\Downloads\\VIT Downloads\\Local Downloads\\Semester 6\\Deep Learning\\Project\\Bounding Box Detection\\Final Merge\\final\\images\\train\\01.10.24 01.00Pm_frame_463442_aug_3.jpg: 384x640 1 ParkingLot, 19.8ms\n",
      "image 111/1614 d:\\Downloads\\VIT Downloads\\Local Downloads\\Semester 6\\Deep Learning\\Project\\Bounding Box Detection\\Final Merge\\final\\images\\train\\01.10.24 01.00Pm_frame_463442_aug_4.jpg: 384x640 1 ParkingLot, 18.2ms\n",
      "image 112/1614 d:\\Downloads\\VIT Downloads\\Local Downloads\\Semester 6\\Deep Learning\\Project\\Bounding Box Detection\\Final Merge\\final\\images\\train\\01.10.24 01.00Pm_frame_472900_aug_0.jpg: 384x640 1 ParkingLot, 12.9ms\n",
      "image 113/1614 d:\\Downloads\\VIT Downloads\\Local Downloads\\Semester 6\\Deep Learning\\Project\\Bounding Box Detection\\Final Merge\\final\\images\\train\\01.10.24 01.00Pm_frame_472900_aug_1.jpg: 384x640 1 ParkingLot, 13.7ms\n",
      "image 114/1614 d:\\Downloads\\VIT Downloads\\Local Downloads\\Semester 6\\Deep Learning\\Project\\Bounding Box Detection\\Final Merge\\final\\images\\train\\01.10.24 01.00Pm_frame_472900_aug_2.jpg: 640x384 1 ParkingLot, 13.8ms\n",
      "image 115/1614 d:\\Downloads\\VIT Downloads\\Local Downloads\\Semester 6\\Deep Learning\\Project\\Bounding Box Detection\\Final Merge\\final\\images\\train\\01.10.24 01.00Pm_frame_472900_aug_3.jpg: 384x640 1 ParkingLot, 14.7ms\n",
      "image 116/1614 d:\\Downloads\\VIT Downloads\\Local Downloads\\Semester 6\\Deep Learning\\Project\\Bounding Box Detection\\Final Merge\\final\\images\\train\\01.10.24 01.00Pm_frame_472900_aug_4.jpg: 384x640 1 ParkingLot, 13.3ms\n",
      "image 117/1614 d:\\Downloads\\VIT Downloads\\Local Downloads\\Semester 6\\Deep Learning\\Project\\Bounding Box Detection\\Final Merge\\final\\images\\train\\01.10.24 03.30Pm_frame_000000_aug_0.jpg: 384x640 1 ParkingLot, 16.2ms\n",
      "image 118/1614 d:\\Downloads\\VIT Downloads\\Local Downloads\\Semester 6\\Deep Learning\\Project\\Bounding Box Detection\\Final Merge\\final\\images\\train\\01.10.24 03.30Pm_frame_000000_aug_1.jpg: 384x640 1 ParkingLot, 13.5ms\n",
      "image 119/1614 d:\\Downloads\\VIT Downloads\\Local Downloads\\Semester 6\\Deep Learning\\Project\\Bounding Box Detection\\Final Merge\\final\\images\\train\\01.10.24 03.30Pm_frame_000000_aug_2.jpg: 384x640 1 ParkingLot, 26.3ms\n",
      "image 120/1614 d:\\Downloads\\VIT Downloads\\Local Downloads\\Semester 6\\Deep Learning\\Project\\Bounding Box Detection\\Final Merge\\final\\images\\train\\01.10.24 03.30Pm_frame_000000_aug_3.jpg: 384x640 1 ParkingLot, 13.9ms\n",
      "image 121/1614 d:\\Downloads\\VIT Downloads\\Local Downloads\\Semester 6\\Deep Learning\\Project\\Bounding Box Detection\\Final Merge\\final\\images\\train\\01.10.24 03.30Pm_frame_000000_aug_4.jpg: 384x640 1 ParkingLot, 12.8ms\n",
      "image 122/1614 d:\\Downloads\\VIT Downloads\\Local Downloads\\Semester 6\\Deep Learning\\Project\\Bounding Box Detection\\Final Merge\\final\\images\\train\\01.10.24 03.30Pm_frame_009094_aug_0.jpg: 640x384 1 ParkingLot, 15.8ms\n",
      "image 123/1614 d:\\Downloads\\VIT Downloads\\Local Downloads\\Semester 6\\Deep Learning\\Project\\Bounding Box Detection\\Final Merge\\final\\images\\train\\01.10.24 03.30Pm_frame_009094_aug_1.jpg: 384x640 1 ParkingLot, 25.1ms\n",
      "image 124/1614 d:\\Downloads\\VIT Downloads\\Local Downloads\\Semester 6\\Deep Learning\\Project\\Bounding Box Detection\\Final Merge\\final\\images\\train\\01.10.24 03.30Pm_frame_009094_aug_2.jpg: 640x384 1 ParkingLot, 13.9ms\n",
      "image 125/1614 d:\\Downloads\\VIT Downloads\\Local Downloads\\Semester 6\\Deep Learning\\Project\\Bounding Box Detection\\Final Merge\\final\\images\\train\\01.10.24 03.30Pm_frame_009094_aug_3.jpg: 384x640 1 ParkingLot, 15.9ms\n",
      "image 126/1614 d:\\Downloads\\VIT Downloads\\Local Downloads\\Semester 6\\Deep Learning\\Project\\Bounding Box Detection\\Final Merge\\final\\images\\train\\01.10.24 03.30Pm_frame_009094_aug_4.jpg: 384x640 1 ParkingLot, 13.9ms\n",
      "image 127/1614 d:\\Downloads\\VIT Downloads\\Local Downloads\\Semester 6\\Deep Learning\\Project\\Bounding Box Detection\\Final Merge\\final\\images\\train\\01.10.24 03.30Pm_frame_036376_aug_0.jpg: 640x384 1 ParkingLot, 14.8ms\n",
      "image 128/1614 d:\\Downloads\\VIT Downloads\\Local Downloads\\Semester 6\\Deep Learning\\Project\\Bounding Box Detection\\Final Merge\\final\\images\\train\\01.10.24 03.30Pm_frame_036376_aug_1.jpg: 384x640 1 ParkingLot, 14.1ms\n",
      "image 129/1614 d:\\Downloads\\VIT Downloads\\Local Downloads\\Semester 6\\Deep Learning\\Project\\Bounding Box Detection\\Final Merge\\final\\images\\train\\01.10.24 03.30Pm_frame_036376_aug_2.jpg: 640x384 1 ParkingLot, 15.6ms\n",
      "image 130/1614 d:\\Downloads\\VIT Downloads\\Local Downloads\\Semester 6\\Deep Learning\\Project\\Bounding Box Detection\\Final Merge\\final\\images\\train\\01.10.24 03.30Pm_frame_036376_aug_3.jpg: 384x640 1 ParkingLot, 13.8ms\n",
      "image 131/1614 d:\\Downloads\\VIT Downloads\\Local Downloads\\Semester 6\\Deep Learning\\Project\\Bounding Box Detection\\Final Merge\\final\\images\\train\\01.10.24 03.30Pm_frame_036376_aug_4.jpg: 384x640 1 ParkingLot, 13.2ms\n",
      "image 132/1614 d:\\Downloads\\VIT Downloads\\Local Downloads\\Semester 6\\Deep Learning\\Project\\Bounding Box Detection\\Final Merge\\final\\images\\train\\01.10.24 03.30Pm_frame_054564_aug_0.jpg: 384x640 1 ParkingLot, 25.1ms\n",
      "image 133/1614 d:\\Downloads\\VIT Downloads\\Local Downloads\\Semester 6\\Deep Learning\\Project\\Bounding Box Detection\\Final Merge\\final\\images\\train\\01.10.24 03.30Pm_frame_054564_aug_1.jpg: 384x640 1 ParkingLot, 13.4ms\n",
      "image 134/1614 d:\\Downloads\\VIT Downloads\\Local Downloads\\Semester 6\\Deep Learning\\Project\\Bounding Box Detection\\Final Merge\\final\\images\\train\\01.10.24 03.30Pm_frame_054564_aug_3.jpg: 384x640 1 ParkingLot, 17.4ms\n",
      "image 135/1614 d:\\Downloads\\VIT Downloads\\Local Downloads\\Semester 6\\Deep Learning\\Project\\Bounding Box Detection\\Final Merge\\final\\images\\train\\01.10.24 03.30Pm_frame_054564_aug_4.jpg: 640x384 1 ParkingLot, 24.2ms\n",
      "image 136/1614 d:\\Downloads\\VIT Downloads\\Local Downloads\\Semester 6\\Deep Learning\\Project\\Bounding Box Detection\\Final Merge\\final\\images\\train\\01.10.24 03.30Pm_frame_063658_aug_0.jpg: 384x640 1 ParkingLot, 13.9ms\n",
      "image 137/1614 d:\\Downloads\\VIT Downloads\\Local Downloads\\Semester 6\\Deep Learning\\Project\\Bounding Box Detection\\Final Merge\\final\\images\\train\\01.10.24 03.30Pm_frame_063658_aug_1.jpg: 384x640 1 ParkingLot, 14.1ms\n",
      "image 138/1614 d:\\Downloads\\VIT Downloads\\Local Downloads\\Semester 6\\Deep Learning\\Project\\Bounding Box Detection\\Final Merge\\final\\images\\train\\01.10.24 03.30Pm_frame_063658_aug_2.jpg: 640x384 1 ParkingLot, 19.6ms\n",
      "image 139/1614 d:\\Downloads\\VIT Downloads\\Local Downloads\\Semester 6\\Deep Learning\\Project\\Bounding Box Detection\\Final Merge\\final\\images\\train\\01.10.24 03.30Pm_frame_063658_aug_3.jpg: 640x384 1 ParkingLot, 14.9ms\n",
      "image 140/1614 d:\\Downloads\\VIT Downloads\\Local Downloads\\Semester 6\\Deep Learning\\Project\\Bounding Box Detection\\Final Merge\\final\\images\\train\\01.10.24 03.30Pm_frame_063658_aug_4.jpg: 384x640 1 ParkingLot, 14.6ms\n",
      "image 141/1614 d:\\Downloads\\VIT Downloads\\Local Downloads\\Semester 6\\Deep Learning\\Project\\Bounding Box Detection\\Final Merge\\final\\images\\train\\01.10.24 03.30Pm_frame_118222_aug_0.jpg: 384x640 1 ParkingLot, 13.7ms\n",
      "image 142/1614 d:\\Downloads\\VIT Downloads\\Local Downloads\\Semester 6\\Deep Learning\\Project\\Bounding Box Detection\\Final Merge\\final\\images\\train\\01.10.24 03.30Pm_frame_118222_aug_1.jpg: 640x384 1 ParkingLot, 14.7ms\n",
      "image 143/1614 d:\\Downloads\\VIT Downloads\\Local Downloads\\Semester 6\\Deep Learning\\Project\\Bounding Box Detection\\Final Merge\\final\\images\\train\\01.10.24 03.30Pm_frame_118222_aug_2.jpg: 640x384 1 ParkingLot, 12.8ms\n",
      "image 144/1614 d:\\Downloads\\VIT Downloads\\Local Downloads\\Semester 6\\Deep Learning\\Project\\Bounding Box Detection\\Final Merge\\final\\images\\train\\01.10.24 03.30Pm_frame_118222_aug_3.jpg: 384x640 1 ParkingLot, 14.6ms\n",
      "image 145/1614 d:\\Downloads\\VIT Downloads\\Local Downloads\\Semester 6\\Deep Learning\\Project\\Bounding Box Detection\\Final Merge\\final\\images\\train\\01.10.24 03.30Pm_frame_118222_aug_4.jpg: 384x640 1 ParkingLot, 13.1ms\n",
      "image 146/1614 d:\\Downloads\\VIT Downloads\\Local Downloads\\Semester 6\\Deep Learning\\Project\\Bounding Box Detection\\Final Merge\\final\\images\\train\\01.10.24 03.30Pm_frame_127316_aug_0.jpg: 640x384 1 ParkingLot, 16.3ms\n",
      "image 147/1614 d:\\Downloads\\VIT Downloads\\Local Downloads\\Semester 6\\Deep Learning\\Project\\Bounding Box Detection\\Final Merge\\final\\images\\train\\01.10.24 03.30Pm_frame_127316_aug_1.jpg: 384x640 1 ParkingLot, 21.5ms\n",
      "image 148/1614 d:\\Downloads\\VIT Downloads\\Local Downloads\\Semester 6\\Deep Learning\\Project\\Bounding Box Detection\\Final Merge\\final\\images\\train\\01.10.24 03.30Pm_frame_127316_aug_2.jpg: 384x640 1 ParkingLot, 18.4ms\n",
      "image 149/1614 d:\\Downloads\\VIT Downloads\\Local Downloads\\Semester 6\\Deep Learning\\Project\\Bounding Box Detection\\Final Merge\\final\\images\\train\\01.10.24 03.30Pm_frame_127316_aug_3.jpg: 384x640 1 ParkingLot, 14.4ms\n",
      "image 150/1614 d:\\Downloads\\VIT Downloads\\Local Downloads\\Semester 6\\Deep Learning\\Project\\Bounding Box Detection\\Final Merge\\final\\images\\train\\01.10.24 03.30Pm_frame_127316_aug_4.jpg: 384x640 1 ParkingLot, 18.8ms\n",
      "image 151/1614 d:\\Downloads\\VIT Downloads\\Local Downloads\\Semester 6\\Deep Learning\\Project\\Bounding Box Detection\\Final Merge\\final\\images\\train\\01.10.24 03.30Pm_frame_145504_aug_0.jpg: 384x640 1 ParkingLot, 14.4ms\n",
      "image 152/1614 d:\\Downloads\\VIT Downloads\\Local Downloads\\Semester 6\\Deep Learning\\Project\\Bounding Box Detection\\Final Merge\\final\\images\\train\\01.10.24 03.30Pm_frame_145504_aug_1.jpg: 384x640 1 ParkingLot, 13.7ms\n",
      "image 153/1614 d:\\Downloads\\VIT Downloads\\Local Downloads\\Semester 6\\Deep Learning\\Project\\Bounding Box Detection\\Final Merge\\final\\images\\train\\01.10.24 03.30Pm_frame_145504_aug_2.jpg: 384x640 1 ParkingLot, 13.4ms\n",
      "image 154/1614 d:\\Downloads\\VIT Downloads\\Local Downloads\\Semester 6\\Deep Learning\\Project\\Bounding Box Detection\\Final Merge\\final\\images\\train\\01.10.24 03.30Pm_frame_145504_aug_3.jpg: 640x384 1 ParkingLot, 15.8ms\n",
      "image 155/1614 d:\\Downloads\\VIT Downloads\\Local Downloads\\Semester 6\\Deep Learning\\Project\\Bounding Box Detection\\Final Merge\\final\\images\\train\\01.10.24 03.30Pm_frame_145504_aug_4.jpg: 384x640 1 ParkingLot, 14.2ms\n",
      "image 156/1614 d:\\Downloads\\VIT Downloads\\Local Downloads\\Semester 6\\Deep Learning\\Project\\Bounding Box Detection\\Final Merge\\final\\images\\train\\01.10.24 03.30Pm_frame_154598_aug_0.jpg: 384x640 1 ParkingLot, 15.5ms\n",
      "image 157/1614 d:\\Downloads\\VIT Downloads\\Local Downloads\\Semester 6\\Deep Learning\\Project\\Bounding Box Detection\\Final Merge\\final\\images\\train\\01.10.24 03.30Pm_frame_154598_aug_1.jpg: 384x640 1 ParkingLot, 21.2ms\n",
      "image 158/1614 d:\\Downloads\\VIT Downloads\\Local Downloads\\Semester 6\\Deep Learning\\Project\\Bounding Box Detection\\Final Merge\\final\\images\\train\\01.10.24 03.30Pm_frame_154598_aug_2.jpg: 640x384 1 ParkingLot, 15.2ms\n",
      "image 159/1614 d:\\Downloads\\VIT Downloads\\Local Downloads\\Semester 6\\Deep Learning\\Project\\Bounding Box Detection\\Final Merge\\final\\images\\train\\01.10.24 03.30Pm_frame_154598_aug_3.jpg: 640x384 1 ParkingLot, 13.1ms\n",
      "image 160/1614 d:\\Downloads\\VIT Downloads\\Local Downloads\\Semester 6\\Deep Learning\\Project\\Bounding Box Detection\\Final Merge\\final\\images\\train\\01.10.24 03.30Pm_frame_154598_aug_4.jpg: 384x640 1 ParkingLot, 14.3ms\n",
      "image 161/1614 d:\\Downloads\\VIT Downloads\\Local Downloads\\Semester 6\\Deep Learning\\Project\\Bounding Box Detection\\Final Merge\\final\\images\\train\\01.10.24 03.30Pm_frame_163692_aug_0.jpg: 384x640 1 ParkingLot, 13.6ms\n",
      "image 162/1614 d:\\Downloads\\VIT Downloads\\Local Downloads\\Semester 6\\Deep Learning\\Project\\Bounding Box Detection\\Final Merge\\final\\images\\train\\01.10.24 03.30Pm_frame_163692_aug_1.jpg: 384x640 1 ParkingLot, 13.4ms\n",
      "image 163/1614 d:\\Downloads\\VIT Downloads\\Local Downloads\\Semester 6\\Deep Learning\\Project\\Bounding Box Detection\\Final Merge\\final\\images\\train\\01.10.24 03.30Pm_frame_163692_aug_2.jpg: 640x384 1 ParkingLot, 15.2ms\n",
      "image 164/1614 d:\\Downloads\\VIT Downloads\\Local Downloads\\Semester 6\\Deep Learning\\Project\\Bounding Box Detection\\Final Merge\\final\\images\\train\\01.10.24 03.30Pm_frame_163692_aug_3.jpg: 384x640 1 ParkingLot, 15.0ms\n",
      "image 165/1614 d:\\Downloads\\VIT Downloads\\Local Downloads\\Semester 6\\Deep Learning\\Project\\Bounding Box Detection\\Final Merge\\final\\images\\train\\01.10.24 03.30Pm_frame_163692_aug_4.jpg: 384x640 1 ParkingLot, 13.8ms\n",
      "image 166/1614 d:\\Downloads\\VIT Downloads\\Local Downloads\\Semester 6\\Deep Learning\\Project\\Bounding Box Detection\\Final Merge\\final\\images\\train\\01.10.24 03.30Pm_frame_181880_aug_0.jpg: 384x640 1 ParkingLot, 13.6ms\n",
      "image 167/1614 d:\\Downloads\\VIT Downloads\\Local Downloads\\Semester 6\\Deep Learning\\Project\\Bounding Box Detection\\Final Merge\\final\\images\\train\\01.10.24 03.30Pm_frame_181880_aug_1.jpg: 384x640 1 ParkingLot, 15.4ms\n",
      "image 168/1614 d:\\Downloads\\VIT Downloads\\Local Downloads\\Semester 6\\Deep Learning\\Project\\Bounding Box Detection\\Final Merge\\final\\images\\train\\01.10.24 03.30Pm_frame_181880_aug_2.jpg: 384x640 1 ParkingLot, 19.9ms\n",
      "image 169/1614 d:\\Downloads\\VIT Downloads\\Local Downloads\\Semester 6\\Deep Learning\\Project\\Bounding Box Detection\\Final Merge\\final\\images\\train\\01.10.24 03.30Pm_frame_181880_aug_3.jpg: 384x640 1 ParkingLot, 18.6ms\n",
      "image 170/1614 d:\\Downloads\\VIT Downloads\\Local Downloads\\Semester 6\\Deep Learning\\Project\\Bounding Box Detection\\Final Merge\\final\\images\\train\\01.10.24 03.30Pm_frame_181880_aug_4.jpg: 384x640 1 ParkingLot, 15.6ms\n",
      "image 171/1614 d:\\Downloads\\VIT Downloads\\Local Downloads\\Semester 6\\Deep Learning\\Project\\Bounding Box Detection\\Final Merge\\final\\images\\train\\01.10.24 03.30Pm_frame_190974_aug_0.jpg: 384x640 1 ParkingLot, 17.7ms\n",
      "image 172/1614 d:\\Downloads\\VIT Downloads\\Local Downloads\\Semester 6\\Deep Learning\\Project\\Bounding Box Detection\\Final Merge\\final\\images\\train\\01.10.24 03.30Pm_frame_190974_aug_1.jpg: 384x640 1 ParkingLot, 13.8ms\n",
      "image 173/1614 d:\\Downloads\\VIT Downloads\\Local Downloads\\Semester 6\\Deep Learning\\Project\\Bounding Box Detection\\Final Merge\\final\\images\\train\\01.10.24 03.30Pm_frame_190974_aug_2.jpg: 384x640 1 ParkingLot, 12.7ms\n",
      "image 174/1614 d:\\Downloads\\VIT Downloads\\Local Downloads\\Semester 6\\Deep Learning\\Project\\Bounding Box Detection\\Final Merge\\final\\images\\train\\01.10.24 03.30Pm_frame_190974_aug_3.jpg: 384x640 1 ParkingLot, 17.5ms\n",
      "image 175/1614 d:\\Downloads\\VIT Downloads\\Local Downloads\\Semester 6\\Deep Learning\\Project\\Bounding Box Detection\\Final Merge\\final\\images\\train\\01.10.24 03.30Pm_frame_190974_aug_4.jpg: 384x640 1 ParkingLot, 13.4ms\n",
      "image 176/1614 d:\\Downloads\\VIT Downloads\\Local Downloads\\Semester 6\\Deep Learning\\Project\\Bounding Box Detection\\Final Merge\\final\\images\\train\\01.10.24 03.30Pm_frame_200068_aug_0.jpg: 384x640 1 ParkingLot, 13.3ms\n",
      "image 177/1614 d:\\Downloads\\VIT Downloads\\Local Downloads\\Semester 6\\Deep Learning\\Project\\Bounding Box Detection\\Final Merge\\final\\images\\train\\01.10.24 03.30Pm_frame_200068_aug_1.jpg: 640x384 1 ParkingLot, 13.3ms\n",
      "image 178/1614 d:\\Downloads\\VIT Downloads\\Local Downloads\\Semester 6\\Deep Learning\\Project\\Bounding Box Detection\\Final Merge\\final\\images\\train\\01.10.24 03.30Pm_frame_200068_aug_2.jpg: 384x640 1 ParkingLot, 14.3ms\n",
      "image 179/1614 d:\\Downloads\\VIT Downloads\\Local Downloads\\Semester 6\\Deep Learning\\Project\\Bounding Box Detection\\Final Merge\\final\\images\\train\\01.10.24 03.30Pm_frame_200068_aug_3.jpg: 384x640 1 ParkingLot, 13.4ms\n",
      "image 180/1614 d:\\Downloads\\VIT Downloads\\Local Downloads\\Semester 6\\Deep Learning\\Project\\Bounding Box Detection\\Final Merge\\final\\images\\train\\01.10.24 03.30Pm_frame_200068_aug_4.jpg: 384x640 1 ParkingLot, 13.3ms\n",
      "image 181/1614 d:\\Downloads\\VIT Downloads\\Local Downloads\\Semester 6\\Deep Learning\\Project\\Bounding Box Detection\\Final Merge\\final\\images\\train\\01.10.24 03.30Pm_frame_209162_aug_0.jpg: 384x640 1 ParkingLot, 13.2ms\n",
      "image 182/1614 d:\\Downloads\\VIT Downloads\\Local Downloads\\Semester 6\\Deep Learning\\Project\\Bounding Box Detection\\Final Merge\\final\\images\\train\\01.10.24 03.30Pm_frame_209162_aug_1.jpg: 384x640 1 ParkingLot, 14.7ms\n",
      "image 183/1614 d:\\Downloads\\VIT Downloads\\Local Downloads\\Semester 6\\Deep Learning\\Project\\Bounding Box Detection\\Final Merge\\final\\images\\train\\01.10.24 03.30Pm_frame_209162_aug_2.jpg: 384x640 1 ParkingLot, 14.9ms\n",
      "image 184/1614 d:\\Downloads\\VIT Downloads\\Local Downloads\\Semester 6\\Deep Learning\\Project\\Bounding Box Detection\\Final Merge\\final\\images\\train\\01.10.24 03.30Pm_frame_209162_aug_3.jpg: 384x640 1 ParkingLot, 16.5ms\n",
      "image 185/1614 d:\\Downloads\\VIT Downloads\\Local Downloads\\Semester 6\\Deep Learning\\Project\\Bounding Box Detection\\Final Merge\\final\\images\\train\\01.10.24 03.30Pm_frame_209162_aug_4.jpg: 384x640 1 ParkingLot, 13.7ms\n",
      "image 186/1614 d:\\Downloads\\VIT Downloads\\Local Downloads\\Semester 6\\Deep Learning\\Project\\Bounding Box Detection\\Final Merge\\final\\images\\train\\01.10.24 03.30Pm_frame_227350_aug_0.jpg: 384x640 1 ParkingLot, 13.6ms\n",
      "image 187/1614 d:\\Downloads\\VIT Downloads\\Local Downloads\\Semester 6\\Deep Learning\\Project\\Bounding Box Detection\\Final Merge\\final\\images\\train\\01.10.24 03.30Pm_frame_227350_aug_1.jpg: 640x384 1 ParkingLot, 23.6ms\n",
      "image 188/1614 d:\\Downloads\\VIT Downloads\\Local Downloads\\Semester 6\\Deep Learning\\Project\\Bounding Box Detection\\Final Merge\\final\\images\\train\\01.10.24 03.30Pm_frame_227350_aug_2.jpg: 384x640 1 ParkingLot, 15.2ms\n",
      "image 189/1614 d:\\Downloads\\VIT Downloads\\Local Downloads\\Semester 6\\Deep Learning\\Project\\Bounding Box Detection\\Final Merge\\final\\images\\train\\01.10.24 03.30Pm_frame_227350_aug_3.jpg: 384x640 1 ParkingLot, 15.3ms\n",
      "image 190/1614 d:\\Downloads\\VIT Downloads\\Local Downloads\\Semester 6\\Deep Learning\\Project\\Bounding Box Detection\\Final Merge\\final\\images\\train\\01.10.24 03.30Pm_frame_227350_aug_4.jpg: 384x640 1 ParkingLot, 18.3ms\n",
      "image 191/1614 d:\\Downloads\\VIT Downloads\\Local Downloads\\Semester 6\\Deep Learning\\Project\\Bounding Box Detection\\Final Merge\\final\\images\\train\\01.10.24 03.30Pm_frame_236444_aug_0.jpg: 384x640 1 ParkingLot, 12.9ms\n",
      "image 192/1614 d:\\Downloads\\VIT Downloads\\Local Downloads\\Semester 6\\Deep Learning\\Project\\Bounding Box Detection\\Final Merge\\final\\images\\train\\01.10.24 03.30Pm_frame_236444_aug_1.jpg: 384x640 1 ParkingLot, 14.6ms\n",
      "image 193/1614 d:\\Downloads\\VIT Downloads\\Local Downloads\\Semester 6\\Deep Learning\\Project\\Bounding Box Detection\\Final Merge\\final\\images\\train\\01.10.24 03.30Pm_frame_236444_aug_2.jpg: 384x640 1 ParkingLot, 13.5ms\n",
      "image 194/1614 d:\\Downloads\\VIT Downloads\\Local Downloads\\Semester 6\\Deep Learning\\Project\\Bounding Box Detection\\Final Merge\\final\\images\\train\\01.10.24 03.30Pm_frame_236444_aug_3.jpg: 384x640 1 ParkingLot, 13.2ms\n",
      "image 195/1614 d:\\Downloads\\VIT Downloads\\Local Downloads\\Semester 6\\Deep Learning\\Project\\Bounding Box Detection\\Final Merge\\final\\images\\train\\01.10.24 03.30Pm_frame_263726_aug_2.jpg: 384x640 1 ParkingLot, 12.8ms\n",
      "image 196/1614 d:\\Downloads\\VIT Downloads\\Local Downloads\\Semester 6\\Deep Learning\\Project\\Bounding Box Detection\\Final Merge\\final\\images\\train\\01.10.24 03.30Pm_frame_263726_aug_3.jpg: 384x640 1 ParkingLot, 13.6ms\n",
      "image 197/1614 d:\\Downloads\\VIT Downloads\\Local Downloads\\Semester 6\\Deep Learning\\Project\\Bounding Box Detection\\Final Merge\\final\\images\\train\\01.10.24 03.30Pm_frame_263726_aug_4.jpg: 640x384 1 ParkingLot, 12.8ms\n",
      "image 198/1614 d:\\Downloads\\VIT Downloads\\Local Downloads\\Semester 6\\Deep Learning\\Project\\Bounding Box Detection\\Final Merge\\final\\images\\train\\01.10.24 03.30Pm_frame_272820_aug_0.jpg: 384x640 1 ParkingLot, 14.8ms\n",
      "image 199/1614 d:\\Downloads\\VIT Downloads\\Local Downloads\\Semester 6\\Deep Learning\\Project\\Bounding Box Detection\\Final Merge\\final\\images\\train\\01.10.24 03.30Pm_frame_272820_aug_1.jpg: 384x640 1 ParkingLot, 13.4ms\n",
      "image 200/1614 d:\\Downloads\\VIT Downloads\\Local Downloads\\Semester 6\\Deep Learning\\Project\\Bounding Box Detection\\Final Merge\\final\\images\\train\\01.10.24 03.30Pm_frame_272820_aug_2.jpg: 384x640 1 ParkingLot, 25.7ms\n",
      "image 201/1614 d:\\Downloads\\VIT Downloads\\Local Downloads\\Semester 6\\Deep Learning\\Project\\Bounding Box Detection\\Final Merge\\final\\images\\train\\01.10.24 03.30Pm_frame_272820_aug_3.jpg: 384x640 1 ParkingLot, 13.4ms\n",
      "image 202/1614 d:\\Downloads\\VIT Downloads\\Local Downloads\\Semester 6\\Deep Learning\\Project\\Bounding Box Detection\\Final Merge\\final\\images\\train\\01.10.24 03.30Pm_frame_272820_aug_4.jpg: 384x640 1 ParkingLot, 14.3ms\n",
      "image 203/1614 d:\\Downloads\\VIT Downloads\\Local Downloads\\Semester 6\\Deep Learning\\Project\\Bounding Box Detection\\Final Merge\\final\\images\\train\\01.10.24 03.30Pm_frame_281914_aug_0.jpg: 640x384 1 ParkingLot, 27.2ms\n",
      "image 204/1614 d:\\Downloads\\VIT Downloads\\Local Downloads\\Semester 6\\Deep Learning\\Project\\Bounding Box Detection\\Final Merge\\final\\images\\train\\01.10.24 03.30Pm_frame_281914_aug_1.jpg: 384x640 1 ParkingLot, 14.5ms\n",
      "image 205/1614 d:\\Downloads\\VIT Downloads\\Local Downloads\\Semester 6\\Deep Learning\\Project\\Bounding Box Detection\\Final Merge\\final\\images\\train\\01.10.24 03.30Pm_frame_281914_aug_2.jpg: 640x384 1 ParkingLot, 14.8ms\n",
      "image 206/1614 d:\\Downloads\\VIT Downloads\\Local Downloads\\Semester 6\\Deep Learning\\Project\\Bounding Box Detection\\Final Merge\\final\\images\\train\\01.10.24 03.30Pm_frame_281914_aug_3.jpg: 384x640 1 ParkingLot, 14.9ms\n",
      "image 207/1614 d:\\Downloads\\VIT Downloads\\Local Downloads\\Semester 6\\Deep Learning\\Project\\Bounding Box Detection\\Final Merge\\final\\images\\train\\01.10.24 03.30Pm_frame_281914_aug_4.jpg: 384x640 1 ParkingLot, 14.9ms\n",
      "image 208/1614 d:\\Downloads\\VIT Downloads\\Local Downloads\\Semester 6\\Deep Learning\\Project\\Bounding Box Detection\\Final Merge\\final\\images\\train\\01.10.24 03.30Pm_frame_291008_aug_0.jpg: 384x640 1 ParkingLot, 14.6ms\n",
      "image 209/1614 d:\\Downloads\\VIT Downloads\\Local Downloads\\Semester 6\\Deep Learning\\Project\\Bounding Box Detection\\Final Merge\\final\\images\\train\\01.10.24 03.30Pm_frame_291008_aug_1.jpg: 384x640 1 ParkingLot, 13.2ms\n",
      "image 210/1614 d:\\Downloads\\VIT Downloads\\Local Downloads\\Semester 6\\Deep Learning\\Project\\Bounding Box Detection\\Final Merge\\final\\images\\train\\01.10.24 03.30Pm_frame_291008_aug_2.jpg: 384x640 1 ParkingLot, 12.8ms\n",
      "image 211/1614 d:\\Downloads\\VIT Downloads\\Local Downloads\\Semester 6\\Deep Learning\\Project\\Bounding Box Detection\\Final Merge\\final\\images\\train\\01.10.24 03.30Pm_frame_291008_aug_3.jpg: 384x640 1 ParkingLot, 14.1ms\n",
      "image 212/1614 d:\\Downloads\\VIT Downloads\\Local Downloads\\Semester 6\\Deep Learning\\Project\\Bounding Box Detection\\Final Merge\\final\\images\\train\\01.10.24 03.30Pm_frame_291008_aug_4.jpg: 384x640 1 ParkingLot, 13.8ms\n",
      "image 213/1614 d:\\Downloads\\VIT Downloads\\Local Downloads\\Semester 6\\Deep Learning\\Project\\Bounding Box Detection\\Final Merge\\final\\images\\train\\01.10.24 03.30Pm_frame_354666_aug_0.jpg: 640x384 1 ParkingLot, 13.3ms\n",
      "image 214/1614 d:\\Downloads\\VIT Downloads\\Local Downloads\\Semester 6\\Deep Learning\\Project\\Bounding Box Detection\\Final Merge\\final\\images\\train\\01.10.24 03.30Pm_frame_354666_aug_1.jpg: 384x640 1 ParkingLot, 15.3ms\n",
      "image 215/1614 d:\\Downloads\\VIT Downloads\\Local Downloads\\Semester 6\\Deep Learning\\Project\\Bounding Box Detection\\Final Merge\\final\\images\\train\\01.10.24 03.30Pm_frame_354666_aug_2.jpg: 384x640 1 ParkingLot, 14.6ms\n",
      "image 216/1614 d:\\Downloads\\VIT Downloads\\Local Downloads\\Semester 6\\Deep Learning\\Project\\Bounding Box Detection\\Final Merge\\final\\images\\train\\01.10.24 03.30Pm_frame_354666_aug_3.jpg: 384x640 1 ParkingLot, 19.3ms\n",
      "image 217/1614 d:\\Downloads\\VIT Downloads\\Local Downloads\\Semester 6\\Deep Learning\\Project\\Bounding Box Detection\\Final Merge\\final\\images\\train\\01.10.24 03.30Pm_frame_354666_aug_4.jpg: 640x384 1 ParkingLot, 14.5ms\n",
      "image 218/1614 d:\\Downloads\\VIT Downloads\\Local Downloads\\Semester 6\\Deep Learning\\Project\\Bounding Box Detection\\Final Merge\\final\\images\\train\\01.10.24 03.30Pm_frame_363760_aug_0.jpg: 640x384 1 ParkingLot, 13.9ms\n",
      "image 219/1614 d:\\Downloads\\VIT Downloads\\Local Downloads\\Semester 6\\Deep Learning\\Project\\Bounding Box Detection\\Final Merge\\final\\images\\train\\01.10.24 03.30Pm_frame_363760_aug_2.jpg: 384x640 1 ParkingLot, 15.3ms\n",
      "image 220/1614 d:\\Downloads\\VIT Downloads\\Local Downloads\\Semester 6\\Deep Learning\\Project\\Bounding Box Detection\\Final Merge\\final\\images\\train\\01.10.24 03.30Pm_frame_363760_aug_4.jpg: 384x640 1 ParkingLot, 25.4ms\n",
      "image 221/1614 d:\\Downloads\\VIT Downloads\\Local Downloads\\Semester 6\\Deep Learning\\Project\\Bounding Box Detection\\Final Merge\\final\\images\\train\\01.10.24 03.30Pm_frame_372854_aug_0.jpg: 384x640 1 ParkingLot, 12.7ms\n",
      "image 222/1614 d:\\Downloads\\VIT Downloads\\Local Downloads\\Semester 6\\Deep Learning\\Project\\Bounding Box Detection\\Final Merge\\final\\images\\train\\01.10.24 03.30Pm_frame_372854_aug_1.jpg: 384x640 1 ParkingLot, 16.3ms\n",
      "image 223/1614 d:\\Downloads\\VIT Downloads\\Local Downloads\\Semester 6\\Deep Learning\\Project\\Bounding Box Detection\\Final Merge\\final\\images\\train\\01.10.24 03.30Pm_frame_372854_aug_2.jpg: 384x640 1 ParkingLot, 26.0ms\n",
      "image 224/1614 d:\\Downloads\\VIT Downloads\\Local Downloads\\Semester 6\\Deep Learning\\Project\\Bounding Box Detection\\Final Merge\\final\\images\\train\\01.10.24 03.30Pm_frame_372854_aug_3.jpg: 384x640 1 ParkingLot, 25.9ms\n",
      "image 225/1614 d:\\Downloads\\VIT Downloads\\Local Downloads\\Semester 6\\Deep Learning\\Project\\Bounding Box Detection\\Final Merge\\final\\images\\train\\01.10.24 03.30Pm_frame_372854_aug_4.jpg: 640x384 1 ParkingLot, 18.2ms\n",
      "image 226/1614 d:\\Downloads\\VIT Downloads\\Local Downloads\\Semester 6\\Deep Learning\\Project\\Bounding Box Detection\\Final Merge\\final\\images\\train\\01.10.24 03.30Pm_frame_436512_aug_0.jpg: 384x640 1 ParkingLot, 20.0ms\n",
      "image 227/1614 d:\\Downloads\\VIT Downloads\\Local Downloads\\Semester 6\\Deep Learning\\Project\\Bounding Box Detection\\Final Merge\\final\\images\\train\\01.10.24 03.30Pm_frame_436512_aug_1.jpg: 384x640 1 ParkingLot, 13.6ms\n",
      "image 228/1614 d:\\Downloads\\VIT Downloads\\Local Downloads\\Semester 6\\Deep Learning\\Project\\Bounding Box Detection\\Final Merge\\final\\images\\train\\01.10.24 03.30Pm_frame_436512_aug_2.jpg: 384x640 1 ParkingLot, 15.5ms\n",
      "image 229/1614 d:\\Downloads\\VIT Downloads\\Local Downloads\\Semester 6\\Deep Learning\\Project\\Bounding Box Detection\\Final Merge\\final\\images\\train\\01.10.24 03.30Pm_frame_436512_aug_3.jpg: 384x640 1 ParkingLot, 15.2ms\n",
      "image 230/1614 d:\\Downloads\\VIT Downloads\\Local Downloads\\Semester 6\\Deep Learning\\Project\\Bounding Box Detection\\Final Merge\\final\\images\\train\\01.10.24 03.30Pm_frame_436512_aug_4.jpg: 384x640 1 ParkingLot, 14.2ms\n",
      "image 231/1614 d:\\Downloads\\VIT Downloads\\Local Downloads\\Semester 6\\Deep Learning\\Project\\Bounding Box Detection\\Final Merge\\final\\images\\train\\01.10.24 03.30Pm_frame_454700_aug_0.jpg: 384x640 1 ParkingLot, 14.4ms\n",
      "image 232/1614 d:\\Downloads\\VIT Downloads\\Local Downloads\\Semester 6\\Deep Learning\\Project\\Bounding Box Detection\\Final Merge\\final\\images\\train\\01.10.24 03.30Pm_frame_454700_aug_1.jpg: 640x384 1 ParkingLot, 16.4ms\n",
      "image 233/1614 d:\\Downloads\\VIT Downloads\\Local Downloads\\Semester 6\\Deep Learning\\Project\\Bounding Box Detection\\Final Merge\\final\\images\\train\\01.10.24 03.30Pm_frame_454700_aug_2.jpg: 384x640 1 ParkingLot, 14.9ms\n",
      "image 234/1614 d:\\Downloads\\VIT Downloads\\Local Downloads\\Semester 6\\Deep Learning\\Project\\Bounding Box Detection\\Final Merge\\final\\images\\train\\01.10.24 03.30Pm_frame_454700_aug_3.jpg: 640x384 1 ParkingLot, 14.3ms\n",
      "image 235/1614 d:\\Downloads\\VIT Downloads\\Local Downloads\\Semester 6\\Deep Learning\\Project\\Bounding Box Detection\\Final Merge\\final\\images\\train\\01.10.24 03.30Pm_frame_454700_aug_4.jpg: 384x640 1 ParkingLot, 15.4ms\n",
      "image 236/1614 d:\\Downloads\\VIT Downloads\\Local Downloads\\Semester 6\\Deep Learning\\Project\\Bounding Box Detection\\Final Merge\\final\\images\\train\\06.01.25 02.30Pm_frame_000000_aug_0.jpg: 384x640 1 ParkingLot, 13.7ms\n",
      "image 237/1614 d:\\Downloads\\VIT Downloads\\Local Downloads\\Semester 6\\Deep Learning\\Project\\Bounding Box Detection\\Final Merge\\final\\images\\train\\06.01.25 02.30Pm_frame_000000_aug_1.jpg: 384x640 1 ParkingLot, 13.3ms\n",
      "image 238/1614 d:\\Downloads\\VIT Downloads\\Local Downloads\\Semester 6\\Deep Learning\\Project\\Bounding Box Detection\\Final Merge\\final\\images\\train\\06.01.25 02.30Pm_frame_000000_aug_2.jpg: 384x640 1 ParkingLot, 14.4ms\n",
      "image 239/1614 d:\\Downloads\\VIT Downloads\\Local Downloads\\Semester 6\\Deep Learning\\Project\\Bounding Box Detection\\Final Merge\\final\\images\\train\\06.01.25 02.30Pm_frame_000000_aug_3.jpg: 384x640 1 ParkingLot, 13.3ms\n",
      "image 240/1614 d:\\Downloads\\VIT Downloads\\Local Downloads\\Semester 6\\Deep Learning\\Project\\Bounding Box Detection\\Final Merge\\final\\images\\train\\06.01.25 02.30Pm_frame_000000_aug_4.jpg: 384x640 1 ParkingLot, 14.5ms\n",
      "image 241/1614 d:\\Downloads\\VIT Downloads\\Local Downloads\\Semester 6\\Deep Learning\\Project\\Bounding Box Detection\\Final Merge\\final\\images\\train\\06.01.25 02.30Pm_frame_008548_aug_0.jpg: 384x640 1 ParkingLot, 15.5ms\n",
      "image 242/1614 d:\\Downloads\\VIT Downloads\\Local Downloads\\Semester 6\\Deep Learning\\Project\\Bounding Box Detection\\Final Merge\\final\\images\\train\\06.01.25 02.30Pm_frame_008548_aug_1.jpg: 384x640 1 ParkingLot, 13.6ms\n",
      "image 243/1614 d:\\Downloads\\VIT Downloads\\Local Downloads\\Semester 6\\Deep Learning\\Project\\Bounding Box Detection\\Final Merge\\final\\images\\train\\06.01.25 02.30Pm_frame_008548_aug_2.jpg: 384x640 1 ParkingLot, 13.7ms\n",
      "image 244/1614 d:\\Downloads\\VIT Downloads\\Local Downloads\\Semester 6\\Deep Learning\\Project\\Bounding Box Detection\\Final Merge\\final\\images\\train\\06.01.25 02.30Pm_frame_008548_aug_3.jpg: 384x640 1 ParkingLot, 14.7ms\n",
      "image 245/1614 d:\\Downloads\\VIT Downloads\\Local Downloads\\Semester 6\\Deep Learning\\Project\\Bounding Box Detection\\Final Merge\\final\\images\\train\\06.01.25 02.30Pm_frame_008548_aug_4.jpg: 384x640 1 ParkingLot, 14.1ms\n",
      "image 246/1614 d:\\Downloads\\VIT Downloads\\Local Downloads\\Semester 6\\Deep Learning\\Project\\Bounding Box Detection\\Final Merge\\final\\images\\train\\06.01.25 02.30Pm_frame_017096_aug_0.jpg: 384x640 1 ParkingLot, 13.9ms\n",
      "image 247/1614 d:\\Downloads\\VIT Downloads\\Local Downloads\\Semester 6\\Deep Learning\\Project\\Bounding Box Detection\\Final Merge\\final\\images\\train\\06.01.25 02.30Pm_frame_017096_aug_1.jpg: 384x640 1 ParkingLot, 17.4ms\n",
      "image 248/1614 d:\\Downloads\\VIT Downloads\\Local Downloads\\Semester 6\\Deep Learning\\Project\\Bounding Box Detection\\Final Merge\\final\\images\\train\\06.01.25 02.30Pm_frame_017096_aug_2.jpg: 384x640 1 ParkingLot, 14.9ms\n",
      "image 249/1614 d:\\Downloads\\VIT Downloads\\Local Downloads\\Semester 6\\Deep Learning\\Project\\Bounding Box Detection\\Final Merge\\final\\images\\train\\06.01.25 02.30Pm_frame_017096_aug_3.jpg: 640x384 1 ParkingLot, 27.1ms\n",
      "image 250/1614 d:\\Downloads\\VIT Downloads\\Local Downloads\\Semester 6\\Deep Learning\\Project\\Bounding Box Detection\\Final Merge\\final\\images\\train\\06.01.25 02.30Pm_frame_017096_aug_4.jpg: 384x640 1 ParkingLot, 16.3ms\n",
      "image 251/1614 d:\\Downloads\\VIT Downloads\\Local Downloads\\Semester 6\\Deep Learning\\Project\\Bounding Box Detection\\Final Merge\\final\\images\\train\\06.01.25 02.30Pm_frame_034192_aug_0.jpg: 384x640 1 ParkingLot, 13.5ms\n",
      "image 252/1614 d:\\Downloads\\VIT Downloads\\Local Downloads\\Semester 6\\Deep Learning\\Project\\Bounding Box Detection\\Final Merge\\final\\images\\train\\06.01.25 02.30Pm_frame_034192_aug_1.jpg: 384x640 1 ParkingLot, 13.6ms\n",
      "image 253/1614 d:\\Downloads\\VIT Downloads\\Local Downloads\\Semester 6\\Deep Learning\\Project\\Bounding Box Detection\\Final Merge\\final\\images\\train\\06.01.25 02.30Pm_frame_034192_aug_2.jpg: 384x640 1 ParkingLot, 13.6ms\n",
      "image 254/1614 d:\\Downloads\\VIT Downloads\\Local Downloads\\Semester 6\\Deep Learning\\Project\\Bounding Box Detection\\Final Merge\\final\\images\\train\\06.01.25 02.30Pm_frame_034192_aug_3.jpg: 384x640 1 ParkingLot, 15.2ms\n",
      "image 255/1614 d:\\Downloads\\VIT Downloads\\Local Downloads\\Semester 6\\Deep Learning\\Project\\Bounding Box Detection\\Final Merge\\final\\images\\train\\06.01.25 02.30Pm_frame_034192_aug_4.jpg: 384x640 1 ParkingLot, 19.2ms\n",
      "image 256/1614 d:\\Downloads\\VIT Downloads\\Local Downloads\\Semester 6\\Deep Learning\\Project\\Bounding Box Detection\\Final Merge\\final\\images\\train\\06.01.25 02.30Pm_frame_059836_aug_0.jpg: 384x640 1 ParkingLot, 13.3ms\n",
      "image 257/1614 d:\\Downloads\\VIT Downloads\\Local Downloads\\Semester 6\\Deep Learning\\Project\\Bounding Box Detection\\Final Merge\\final\\images\\train\\06.01.25 02.30Pm_frame_059836_aug_2.jpg: 384x640 1 ParkingLot, 16.0ms\n",
      "image 258/1614 d:\\Downloads\\VIT Downloads\\Local Downloads\\Semester 6\\Deep Learning\\Project\\Bounding Box Detection\\Final Merge\\final\\images\\train\\06.01.25 02.30Pm_frame_059836_aug_3.jpg: 384x640 1 ParkingLot, 20.4ms\n",
      "image 259/1614 d:\\Downloads\\VIT Downloads\\Local Downloads\\Semester 6\\Deep Learning\\Project\\Bounding Box Detection\\Final Merge\\final\\images\\train\\06.01.25 02.30Pm_frame_059836_aug_4.jpg: 384x640 1 ParkingLot, 19.3ms\n",
      "image 260/1614 d:\\Downloads\\VIT Downloads\\Local Downloads\\Semester 6\\Deep Learning\\Project\\Bounding Box Detection\\Final Merge\\final\\images\\train\\06.01.25 02.30Pm_frame_076932_aug_0.jpg: 384x640 1 ParkingLot, 13.5ms\n",
      "image 261/1614 d:\\Downloads\\VIT Downloads\\Local Downloads\\Semester 6\\Deep Learning\\Project\\Bounding Box Detection\\Final Merge\\final\\images\\train\\06.01.25 02.30Pm_frame_076932_aug_1.jpg: 384x640 1 ParkingLot, 13.3ms\n",
      "image 262/1614 d:\\Downloads\\VIT Downloads\\Local Downloads\\Semester 6\\Deep Learning\\Project\\Bounding Box Detection\\Final Merge\\final\\images\\train\\06.01.25 02.30Pm_frame_076932_aug_2.jpg: 384x640 1 ParkingLot, 14.4ms\n",
      "image 263/1614 d:\\Downloads\\VIT Downloads\\Local Downloads\\Semester 6\\Deep Learning\\Project\\Bounding Box Detection\\Final Merge\\final\\images\\train\\06.01.25 02.30Pm_frame_076932_aug_3.jpg: 640x384 1 ParkingLot, 24.3ms\n",
      "image 264/1614 d:\\Downloads\\VIT Downloads\\Local Downloads\\Semester 6\\Deep Learning\\Project\\Bounding Box Detection\\Final Merge\\final\\images\\train\\06.01.25 02.30Pm_frame_076932_aug_4.jpg: 384x640 1 ParkingLot, 13.9ms\n",
      "image 265/1614 d:\\Downloads\\VIT Downloads\\Local Downloads\\Semester 6\\Deep Learning\\Project\\Bounding Box Detection\\Final Merge\\final\\images\\train\\06.01.25 02.30Pm_frame_094028_aug_0.jpg: 384x640 1 ParkingLot, 26.4ms\n",
      "image 266/1614 d:\\Downloads\\VIT Downloads\\Local Downloads\\Semester 6\\Deep Learning\\Project\\Bounding Box Detection\\Final Merge\\final\\images\\train\\06.01.25 02.30Pm_frame_094028_aug_1.jpg: 384x640 1 ParkingLot, 18.7ms\n",
      "image 267/1614 d:\\Downloads\\VIT Downloads\\Local Downloads\\Semester 6\\Deep Learning\\Project\\Bounding Box Detection\\Final Merge\\final\\images\\train\\06.01.25 02.30Pm_frame_094028_aug_2.jpg: 384x640 1 ParkingLot, 13.8ms\n",
      "image 268/1614 d:\\Downloads\\VIT Downloads\\Local Downloads\\Semester 6\\Deep Learning\\Project\\Bounding Box Detection\\Final Merge\\final\\images\\train\\06.01.25 02.30Pm_frame_094028_aug_3.jpg: 384x640 1 ParkingLot, 14.6ms\n",
      "image 269/1614 d:\\Downloads\\VIT Downloads\\Local Downloads\\Semester 6\\Deep Learning\\Project\\Bounding Box Detection\\Final Merge\\final\\images\\train\\06.01.25 02.30Pm_frame_094028_aug_4.jpg: 384x640 1 ParkingLot, 13.3ms\n",
      "image 270/1614 d:\\Downloads\\VIT Downloads\\Local Downloads\\Semester 6\\Deep Learning\\Project\\Bounding Box Detection\\Final Merge\\final\\images\\train\\06.01.25 02.30Pm_frame_111124_aug_0.jpg: 384x640 1 ParkingLot, 14.0ms\n",
      "image 271/1614 d:\\Downloads\\VIT Downloads\\Local Downloads\\Semester 6\\Deep Learning\\Project\\Bounding Box Detection\\Final Merge\\final\\images\\train\\06.01.25 02.30Pm_frame_111124_aug_1.jpg: 384x640 1 ParkingLot, 17.6ms\n",
      "image 272/1614 d:\\Downloads\\VIT Downloads\\Local Downloads\\Semester 6\\Deep Learning\\Project\\Bounding Box Detection\\Final Merge\\final\\images\\train\\06.01.25 02.30Pm_frame_111124_aug_2.jpg: 640x384 1 ParkingLot, 15.0ms\n",
      "image 273/1614 d:\\Downloads\\VIT Downloads\\Local Downloads\\Semester 6\\Deep Learning\\Project\\Bounding Box Detection\\Final Merge\\final\\images\\train\\06.01.25 02.30Pm_frame_111124_aug_3.jpg: 640x384 1 ParkingLot, 12.7ms\n",
      "image 274/1614 d:\\Downloads\\VIT Downloads\\Local Downloads\\Semester 6\\Deep Learning\\Project\\Bounding Box Detection\\Final Merge\\final\\images\\train\\06.01.25 02.30Pm_frame_111124_aug_4.jpg: 384x640 1 ParkingLot, 21.5ms\n",
      "image 275/1614 d:\\Downloads\\VIT Downloads\\Local Downloads\\Semester 6\\Deep Learning\\Project\\Bounding Box Detection\\Final Merge\\final\\images\\train\\06.01.25 02.30Pm_frame_119672_aug_0.jpg: 384x640 1 ParkingLot, 13.1ms\n",
      "image 276/1614 d:\\Downloads\\VIT Downloads\\Local Downloads\\Semester 6\\Deep Learning\\Project\\Bounding Box Detection\\Final Merge\\final\\images\\train\\06.01.25 02.30Pm_frame_119672_aug_1.jpg: 640x384 1 ParkingLot, 15.0ms\n",
      "image 277/1614 d:\\Downloads\\VIT Downloads\\Local Downloads\\Semester 6\\Deep Learning\\Project\\Bounding Box Detection\\Final Merge\\final\\images\\train\\06.01.25 02.30Pm_frame_119672_aug_2.jpg: 384x640 1 ParkingLot, 14.5ms\n",
      "image 278/1614 d:\\Downloads\\VIT Downloads\\Local Downloads\\Semester 6\\Deep Learning\\Project\\Bounding Box Detection\\Final Merge\\final\\images\\train\\06.01.25 02.30Pm_frame_119672_aug_3.jpg: 384x640 1 ParkingLot, 15.5ms\n",
      "image 279/1614 d:\\Downloads\\VIT Downloads\\Local Downloads\\Semester 6\\Deep Learning\\Project\\Bounding Box Detection\\Final Merge\\final\\images\\train\\06.01.25 02.30Pm_frame_119672_aug_4.jpg: 384x640 1 ParkingLot, 15.9ms\n",
      "image 280/1614 d:\\Downloads\\VIT Downloads\\Local Downloads\\Semester 6\\Deep Learning\\Project\\Bounding Box Detection\\Final Merge\\final\\images\\train\\06.01.25 02.30Pm_frame_162412_aug_0.jpg: 384x640 1 ParkingLot, 13.3ms\n",
      "image 281/1614 d:\\Downloads\\VIT Downloads\\Local Downloads\\Semester 6\\Deep Learning\\Project\\Bounding Box Detection\\Final Merge\\final\\images\\train\\06.01.25 02.30Pm_frame_162412_aug_1.jpg: 384x640 1 ParkingLot, 13.9ms\n",
      "image 282/1614 d:\\Downloads\\VIT Downloads\\Local Downloads\\Semester 6\\Deep Learning\\Project\\Bounding Box Detection\\Final Merge\\final\\images\\train\\06.01.25 02.30Pm_frame_162412_aug_2.jpg: 384x640 1 ParkingLot, 15.5ms\n",
      "image 283/1614 d:\\Downloads\\VIT Downloads\\Local Downloads\\Semester 6\\Deep Learning\\Project\\Bounding Box Detection\\Final Merge\\final\\images\\train\\06.01.25 02.30Pm_frame_162412_aug_3.jpg: 384x640 1 ParkingLot, 13.7ms\n",
      "image 284/1614 d:\\Downloads\\VIT Downloads\\Local Downloads\\Semester 6\\Deep Learning\\Project\\Bounding Box Detection\\Final Merge\\final\\images\\train\\06.01.25 02.30Pm_frame_162412_aug_4.jpg: 384x640 1 ParkingLot, 14.0ms\n",
      "image 285/1614 d:\\Downloads\\VIT Downloads\\Local Downloads\\Semester 6\\Deep Learning\\Project\\Bounding Box Detection\\Final Merge\\final\\images\\train\\06.01.25 02.30Pm_frame_170960_aug_0.jpg: 384x640 1 ParkingLot, 13.5ms\n",
      "image 286/1614 d:\\Downloads\\VIT Downloads\\Local Downloads\\Semester 6\\Deep Learning\\Project\\Bounding Box Detection\\Final Merge\\final\\images\\train\\06.01.25 02.30Pm_frame_170960_aug_1.jpg: 384x640 1 ParkingLot, 14.0ms\n",
      "image 287/1614 d:\\Downloads\\VIT Downloads\\Local Downloads\\Semester 6\\Deep Learning\\Project\\Bounding Box Detection\\Final Merge\\final\\images\\train\\06.01.25 02.30Pm_frame_170960_aug_2.jpg: 384x640 1 ParkingLot, 15.0ms\n",
      "image 288/1614 d:\\Downloads\\VIT Downloads\\Local Downloads\\Semester 6\\Deep Learning\\Project\\Bounding Box Detection\\Final Merge\\final\\images\\train\\06.01.25 02.30Pm_frame_170960_aug_3.jpg: 384x640 1 ParkingLot, 14.3ms\n",
      "image 289/1614 d:\\Downloads\\VIT Downloads\\Local Downloads\\Semester 6\\Deep Learning\\Project\\Bounding Box Detection\\Final Merge\\final\\images\\train\\06.01.25 02.30Pm_frame_170960_aug_4.jpg: 384x640 1 ParkingLot, 13.3ms\n",
      "image 290/1614 d:\\Downloads\\VIT Downloads\\Local Downloads\\Semester 6\\Deep Learning\\Project\\Bounding Box Detection\\Final Merge\\final\\images\\train\\06.01.25 02.30Pm_frame_179508_aug_0.jpg: 384x640 1 ParkingLot, 16.3ms\n",
      "image 291/1614 d:\\Downloads\\VIT Downloads\\Local Downloads\\Semester 6\\Deep Learning\\Project\\Bounding Box Detection\\Final Merge\\final\\images\\train\\06.01.25 02.30Pm_frame_179508_aug_1.jpg: 384x640 1 ParkingLot, 15.4ms\n",
      "image 292/1614 d:\\Downloads\\VIT Downloads\\Local Downloads\\Semester 6\\Deep Learning\\Project\\Bounding Box Detection\\Final Merge\\final\\images\\train\\06.01.25 02.30Pm_frame_179508_aug_2.jpg: 384x640 1 ParkingLot, 14.4ms\n",
      "image 293/1614 d:\\Downloads\\VIT Downloads\\Local Downloads\\Semester 6\\Deep Learning\\Project\\Bounding Box Detection\\Final Merge\\final\\images\\train\\06.01.25 02.30Pm_frame_179508_aug_3.jpg: 384x640 1 ParkingLot, 16.0ms\n",
      "image 294/1614 d:\\Downloads\\VIT Downloads\\Local Downloads\\Semester 6\\Deep Learning\\Project\\Bounding Box Detection\\Final Merge\\final\\images\\train\\06.01.25 02.30Pm_frame_179508_aug_4.jpg: 384x640 1 ParkingLot, 15.2ms\n",
      "image 295/1614 d:\\Downloads\\VIT Downloads\\Local Downloads\\Semester 6\\Deep Learning\\Project\\Bounding Box Detection\\Final Merge\\final\\images\\train\\06.01.25 02.30Pm_frame_196604_aug_0.jpg: 384x640 1 ParkingLot, 17.2ms\n",
      "image 296/1614 d:\\Downloads\\VIT Downloads\\Local Downloads\\Semester 6\\Deep Learning\\Project\\Bounding Box Detection\\Final Merge\\final\\images\\train\\06.01.25 02.30Pm_frame_196604_aug_1.jpg: 384x640 1 ParkingLot, 17.6ms\n",
      "image 297/1614 d:\\Downloads\\VIT Downloads\\Local Downloads\\Semester 6\\Deep Learning\\Project\\Bounding Box Detection\\Final Merge\\final\\images\\train\\06.01.25 02.30Pm_frame_196604_aug_2.jpg: 384x640 1 ParkingLot, 24.9ms\n",
      "image 298/1614 d:\\Downloads\\VIT Downloads\\Local Downloads\\Semester 6\\Deep Learning\\Project\\Bounding Box Detection\\Final Merge\\final\\images\\train\\06.01.25 02.30Pm_frame_196604_aug_3.jpg: 384x640 1 ParkingLot, 12.9ms\n",
      "image 299/1614 d:\\Downloads\\VIT Downloads\\Local Downloads\\Semester 6\\Deep Learning\\Project\\Bounding Box Detection\\Final Merge\\final\\images\\train\\06.01.25 02.30Pm_frame_196604_aug_4.jpg: 640x384 1 ParkingLot, 18.6ms\n",
      "image 300/1614 d:\\Downloads\\VIT Downloads\\Local Downloads\\Semester 6\\Deep Learning\\Project\\Bounding Box Detection\\Final Merge\\final\\images\\train\\06.01.25 02.30Pm_frame_205152_aug_0.jpg: 384x640 1 ParkingLot, 13.6ms\n",
      "image 301/1614 d:\\Downloads\\VIT Downloads\\Local Downloads\\Semester 6\\Deep Learning\\Project\\Bounding Box Detection\\Final Merge\\final\\images\\train\\06.01.25 02.30Pm_frame_205152_aug_1.jpg: 384x640 1 ParkingLot, 16.3ms\n",
      "image 302/1614 d:\\Downloads\\VIT Downloads\\Local Downloads\\Semester 6\\Deep Learning\\Project\\Bounding Box Detection\\Final Merge\\final\\images\\train\\06.01.25 02.30Pm_frame_205152_aug_2.jpg: 384x640 1 ParkingLot, 13.4ms\n",
      "image 303/1614 d:\\Downloads\\VIT Downloads\\Local Downloads\\Semester 6\\Deep Learning\\Project\\Bounding Box Detection\\Final Merge\\final\\images\\train\\06.01.25 02.30Pm_frame_205152_aug_3.jpg: 384x640 1 ParkingLot, 12.7ms\n",
      "image 304/1614 d:\\Downloads\\VIT Downloads\\Local Downloads\\Semester 6\\Deep Learning\\Project\\Bounding Box Detection\\Final Merge\\final\\images\\train\\06.01.25 02.30Pm_frame_205152_aug_4.jpg: 384x640 1 ParkingLot, 13.0ms\n",
      "image 305/1614 d:\\Downloads\\VIT Downloads\\Local Downloads\\Semester 6\\Deep Learning\\Project\\Bounding Box Detection\\Final Merge\\final\\images\\train\\06.01.25 02.30Pm_frame_264988_aug_0.jpg: 384x640 1 ParkingLot, 13.0ms\n",
      "image 306/1614 d:\\Downloads\\VIT Downloads\\Local Downloads\\Semester 6\\Deep Learning\\Project\\Bounding Box Detection\\Final Merge\\final\\images\\train\\06.01.25 02.30Pm_frame_264988_aug_1.jpg: 384x640 1 ParkingLot, 26.5ms\n",
      "image 307/1614 d:\\Downloads\\VIT Downloads\\Local Downloads\\Semester 6\\Deep Learning\\Project\\Bounding Box Detection\\Final Merge\\final\\images\\train\\06.01.25 02.30Pm_frame_264988_aug_2.jpg: 384x640 1 ParkingLot, 14.9ms\n",
      "image 308/1614 d:\\Downloads\\VIT Downloads\\Local Downloads\\Semester 6\\Deep Learning\\Project\\Bounding Box Detection\\Final Merge\\final\\images\\train\\06.01.25 02.30Pm_frame_264988_aug_4.jpg: 384x640 1 ParkingLot, 15.7ms\n",
      "image 309/1614 d:\\Downloads\\VIT Downloads\\Local Downloads\\Semester 6\\Deep Learning\\Project\\Bounding Box Detection\\Final Merge\\final\\images\\train\\06.01.25 02.30Pm_frame_316276_aug_0.jpg: 384x640 1 ParkingLot, 21.0ms\n",
      "image 310/1614 d:\\Downloads\\VIT Downloads\\Local Downloads\\Semester 6\\Deep Learning\\Project\\Bounding Box Detection\\Final Merge\\final\\images\\train\\06.01.25 02.30Pm_frame_316276_aug_1.jpg: 384x640 1 ParkingLot, 26.1ms\n",
      "image 311/1614 d:\\Downloads\\VIT Downloads\\Local Downloads\\Semester 6\\Deep Learning\\Project\\Bounding Box Detection\\Final Merge\\final\\images\\train\\06.01.25 02.30Pm_frame_316276_aug_2.jpg: 640x384 1 ParkingLot, 14.0ms\n",
      "image 312/1614 d:\\Downloads\\VIT Downloads\\Local Downloads\\Semester 6\\Deep Learning\\Project\\Bounding Box Detection\\Final Merge\\final\\images\\train\\06.01.25 02.30Pm_frame_316276_aug_3.jpg: 384x640 1 ParkingLot, 14.8ms\n",
      "image 313/1614 d:\\Downloads\\VIT Downloads\\Local Downloads\\Semester 6\\Deep Learning\\Project\\Bounding Box Detection\\Final Merge\\final\\images\\train\\06.01.25 02.30Pm_frame_316276_aug_4.jpg: 384x640 1 ParkingLot, 14.3ms\n",
      "image 314/1614 d:\\Downloads\\VIT Downloads\\Local Downloads\\Semester 6\\Deep Learning\\Project\\Bounding Box Detection\\Final Merge\\final\\images\\train\\06.01.25 02.30Pm_frame_350468_aug_0.jpg: 640x384 1 ParkingLot, 15.1ms\n",
      "image 315/1614 d:\\Downloads\\VIT Downloads\\Local Downloads\\Semester 6\\Deep Learning\\Project\\Bounding Box Detection\\Final Merge\\final\\images\\train\\06.01.25 02.30Pm_frame_350468_aug_1.jpg: 384x640 1 ParkingLot, 15.3ms\n",
      "image 316/1614 d:\\Downloads\\VIT Downloads\\Local Downloads\\Semester 6\\Deep Learning\\Project\\Bounding Box Detection\\Final Merge\\final\\images\\train\\06.01.25 02.30Pm_frame_350468_aug_2.jpg: 384x640 1 ParkingLot, 16.6ms\n",
      "image 317/1614 d:\\Downloads\\VIT Downloads\\Local Downloads\\Semester 6\\Deep Learning\\Project\\Bounding Box Detection\\Final Merge\\final\\images\\train\\06.01.25 02.30Pm_frame_350468_aug_3.jpg: 384x640 1 ParkingLot, 21.8ms\n",
      "image 318/1614 d:\\Downloads\\VIT Downloads\\Local Downloads\\Semester 6\\Deep Learning\\Project\\Bounding Box Detection\\Final Merge\\final\\images\\train\\06.01.25 02.30Pm_frame_350468_aug_4.jpg: 640x384 1 ParkingLot, 19.9ms\n",
      "image 319/1614 d:\\Downloads\\VIT Downloads\\Local Downloads\\Semester 6\\Deep Learning\\Project\\Bounding Box Detection\\Final Merge\\final\\images\\train\\06.01.25 02.30Pm_frame_359016_aug_0.jpg: 384x640 1 ParkingLot, 15.3ms\n",
      "image 320/1614 d:\\Downloads\\VIT Downloads\\Local Downloads\\Semester 6\\Deep Learning\\Project\\Bounding Box Detection\\Final Merge\\final\\images\\train\\06.01.25 02.30Pm_frame_359016_aug_1.jpg: 640x384 1 ParkingLot, 14.7ms\n",
      "image 321/1614 d:\\Downloads\\VIT Downloads\\Local Downloads\\Semester 6\\Deep Learning\\Project\\Bounding Box Detection\\Final Merge\\final\\images\\train\\06.01.25 02.30Pm_frame_359016_aug_2.jpg: 384x640 1 ParkingLot, 14.1ms\n",
      "image 322/1614 d:\\Downloads\\VIT Downloads\\Local Downloads\\Semester 6\\Deep Learning\\Project\\Bounding Box Detection\\Final Merge\\final\\images\\train\\06.01.25 02.30Pm_frame_359016_aug_3.jpg: 384x640 1 ParkingLot, 20.0ms\n",
      "image 323/1614 d:\\Downloads\\VIT Downloads\\Local Downloads\\Semester 6\\Deep Learning\\Project\\Bounding Box Detection\\Final Merge\\final\\images\\train\\06.01.25 02.30Pm_frame_359016_aug_4.jpg: 384x640 1 ParkingLot, 14.1ms\n",
      "image 324/1614 d:\\Downloads\\VIT Downloads\\Local Downloads\\Semester 6\\Deep Learning\\Project\\Bounding Box Detection\\Final Merge\\final\\images\\train\\06.01.25 02.30Pm_frame_367564_aug_0.jpg: 384x640 1 ParkingLot, 13.3ms\n",
      "image 325/1614 d:\\Downloads\\VIT Downloads\\Local Downloads\\Semester 6\\Deep Learning\\Project\\Bounding Box Detection\\Final Merge\\final\\images\\train\\06.01.25 02.30Pm_frame_367564_aug_1.jpg: 640x384 1 ParkingLot, 14.3ms\n",
      "image 326/1614 d:\\Downloads\\VIT Downloads\\Local Downloads\\Semester 6\\Deep Learning\\Project\\Bounding Box Detection\\Final Merge\\final\\images\\train\\06.01.25 02.30Pm_frame_367564_aug_2.jpg: 384x640 1 ParkingLot, 14.6ms\n",
      "image 327/1614 d:\\Downloads\\VIT Downloads\\Local Downloads\\Semester 6\\Deep Learning\\Project\\Bounding Box Detection\\Final Merge\\final\\images\\train\\06.01.25 02.30Pm_frame_367564_aug_3.jpg: 384x640 1 ParkingLot, 27.0ms\n",
      "image 328/1614 d:\\Downloads\\VIT Downloads\\Local Downloads\\Semester 6\\Deep Learning\\Project\\Bounding Box Detection\\Final Merge\\final\\images\\train\\06.01.25 02.30Pm_frame_367564_aug_4.jpg: 384x640 1 ParkingLot, 13.6ms\n",
      "image 329/1614 d:\\Downloads\\VIT Downloads\\Local Downloads\\Semester 6\\Deep Learning\\Project\\Bounding Box Detection\\Final Merge\\final\\images\\train\\06.01.25 02.30Pm_frame_376112_aug_0.jpg: 384x640 1 ParkingLot, 14.6ms\n",
      "image 330/1614 d:\\Downloads\\VIT Downloads\\Local Downloads\\Semester 6\\Deep Learning\\Project\\Bounding Box Detection\\Final Merge\\final\\images\\train\\06.01.25 02.30Pm_frame_376112_aug_1.jpg: 384x640 1 ParkingLot, 14.0ms\n",
      "image 331/1614 d:\\Downloads\\VIT Downloads\\Local Downloads\\Semester 6\\Deep Learning\\Project\\Bounding Box Detection\\Final Merge\\final\\images\\train\\06.01.25 02.30Pm_frame_376112_aug_3.jpg: 384x640 1 ParkingLot, 13.6ms\n",
      "image 332/1614 d:\\Downloads\\VIT Downloads\\Local Downloads\\Semester 6\\Deep Learning\\Project\\Bounding Box Detection\\Final Merge\\final\\images\\train\\06.01.25 02.30Pm_frame_384660_aug_0.jpg: 384x640 1 ParkingLot, 13.1ms\n",
      "image 333/1614 d:\\Downloads\\VIT Downloads\\Local Downloads\\Semester 6\\Deep Learning\\Project\\Bounding Box Detection\\Final Merge\\final\\images\\train\\06.01.25 02.30Pm_frame_384660_aug_1.jpg: 384x640 1 ParkingLot, 17.8ms\n",
      "image 334/1614 d:\\Downloads\\VIT Downloads\\Local Downloads\\Semester 6\\Deep Learning\\Project\\Bounding Box Detection\\Final Merge\\final\\images\\train\\06.01.25 02.30Pm_frame_384660_aug_2.jpg: 384x640 1 ParkingLot, 13.5ms\n",
      "image 335/1614 d:\\Downloads\\VIT Downloads\\Local Downloads\\Semester 6\\Deep Learning\\Project\\Bounding Box Detection\\Final Merge\\final\\images\\train\\06.01.25 02.30Pm_frame_384660_aug_3.jpg: 384x640 1 ParkingLot, 14.8ms\n",
      "image 336/1614 d:\\Downloads\\VIT Downloads\\Local Downloads\\Semester 6\\Deep Learning\\Project\\Bounding Box Detection\\Final Merge\\final\\images\\train\\06.01.25 02.30Pm_frame_384660_aug_4.jpg: 384x640 1 ParkingLot, 27.0ms\n",
      "image 337/1614 d:\\Downloads\\VIT Downloads\\Local Downloads\\Semester 6\\Deep Learning\\Project\\Bounding Box Detection\\Final Merge\\final\\images\\train\\06.01.25 02.30Pm_frame_393208_aug_0.jpg: 384x640 1 ParkingLot, 25.1ms\n",
      "image 338/1614 d:\\Downloads\\VIT Downloads\\Local Downloads\\Semester 6\\Deep Learning\\Project\\Bounding Box Detection\\Final Merge\\final\\images\\train\\06.01.25 02.30Pm_frame_393208_aug_1.jpg: 384x640 1 ParkingLot, 13.2ms\n",
      "image 339/1614 d:\\Downloads\\VIT Downloads\\Local Downloads\\Semester 6\\Deep Learning\\Project\\Bounding Box Detection\\Final Merge\\final\\images\\train\\06.01.25 02.30Pm_frame_393208_aug_2.jpg: 384x640 1 ParkingLot, 13.8ms\n",
      "image 340/1614 d:\\Downloads\\VIT Downloads\\Local Downloads\\Semester 6\\Deep Learning\\Project\\Bounding Box Detection\\Final Merge\\final\\images\\train\\06.01.25 02.30Pm_frame_393208_aug_3.jpg: 640x384 1 ParkingLot, 26.1ms\n",
      "image 341/1614 d:\\Downloads\\VIT Downloads\\Local Downloads\\Semester 6\\Deep Learning\\Project\\Bounding Box Detection\\Final Merge\\final\\images\\train\\06.01.25 02.30Pm_frame_393208_aug_4.jpg: 384x640 1 ParkingLot, 14.4ms\n",
      "image 342/1614 d:\\Downloads\\VIT Downloads\\Local Downloads\\Semester 6\\Deep Learning\\Project\\Bounding Box Detection\\Final Merge\\final\\images\\train\\06.01.25 02.30Pm_frame_401756_aug_0.jpg: 384x640 1 ParkingLot, 18.4ms\n",
      "image 343/1614 d:\\Downloads\\VIT Downloads\\Local Downloads\\Semester 6\\Deep Learning\\Project\\Bounding Box Detection\\Final Merge\\final\\images\\train\\06.01.25 02.30Pm_frame_401756_aug_1.jpg: 384x640 1 ParkingLot, 13.2ms\n",
      "image 344/1614 d:\\Downloads\\VIT Downloads\\Local Downloads\\Semester 6\\Deep Learning\\Project\\Bounding Box Detection\\Final Merge\\final\\images\\train\\06.01.25 02.30Pm_frame_401756_aug_2.jpg: 640x384 1 ParkingLot, 14.0ms\n",
      "image 345/1614 d:\\Downloads\\VIT Downloads\\Local Downloads\\Semester 6\\Deep Learning\\Project\\Bounding Box Detection\\Final Merge\\final\\images\\train\\06.01.25 02.30Pm_frame_401756_aug_3.jpg: 384x640 1 ParkingLot, 14.3ms\n",
      "image 346/1614 d:\\Downloads\\VIT Downloads\\Local Downloads\\Semester 6\\Deep Learning\\Project\\Bounding Box Detection\\Final Merge\\final\\images\\train\\06.01.25 02.30Pm_frame_410304_aug_0.jpg: 640x384 1 ParkingLot, 14.0ms\n",
      "image 347/1614 d:\\Downloads\\VIT Downloads\\Local Downloads\\Semester 6\\Deep Learning\\Project\\Bounding Box Detection\\Final Merge\\final\\images\\train\\06.01.25 02.30Pm_frame_410304_aug_1.jpg: 384x640 1 ParkingLot, 13.9ms\n",
      "image 348/1614 d:\\Downloads\\VIT Downloads\\Local Downloads\\Semester 6\\Deep Learning\\Project\\Bounding Box Detection\\Final Merge\\final\\images\\train\\06.01.25 02.30Pm_frame_410304_aug_2.jpg: 384x640 1 ParkingLot, 12.7ms\n",
      "image 349/1614 d:\\Downloads\\VIT Downloads\\Local Downloads\\Semester 6\\Deep Learning\\Project\\Bounding Box Detection\\Final Merge\\final\\images\\train\\06.01.25 02.30Pm_frame_410304_aug_3.jpg: 384x640 1 ParkingLot, 14.6ms\n",
      "image 350/1614 d:\\Downloads\\VIT Downloads\\Local Downloads\\Semester 6\\Deep Learning\\Project\\Bounding Box Detection\\Final Merge\\final\\images\\train\\06.01.25 02.30Pm_frame_410304_aug_4.jpg: 640x384 1 ParkingLot, 19.9ms\n",
      "image 351/1614 d:\\Downloads\\VIT Downloads\\Local Downloads\\Semester 6\\Deep Learning\\Project\\Bounding Box Detection\\Final Merge\\final\\images\\train\\06.01.25 02.30Pm_frame_427400_aug_0.jpg: 384x640 1 ParkingLot, 14.6ms\n",
      "image 352/1614 d:\\Downloads\\VIT Downloads\\Local Downloads\\Semester 6\\Deep Learning\\Project\\Bounding Box Detection\\Final Merge\\final\\images\\train\\06.01.25 02.30Pm_frame_427400_aug_1.jpg: 384x640 1 ParkingLot, 14.2ms\n",
      "image 353/1614 d:\\Downloads\\VIT Downloads\\Local Downloads\\Semester 6\\Deep Learning\\Project\\Bounding Box Detection\\Final Merge\\final\\images\\train\\06.01.25 02.30Pm_frame_427400_aug_2.jpg: 384x640 1 ParkingLot, 14.2ms\n",
      "image 354/1614 d:\\Downloads\\VIT Downloads\\Local Downloads\\Semester 6\\Deep Learning\\Project\\Bounding Box Detection\\Final Merge\\final\\images\\train\\06.01.25 02.30Pm_frame_427400_aug_3.jpg: 384x640 1 ParkingLot, 13.0ms\n",
      "image 355/1614 d:\\Downloads\\VIT Downloads\\Local Downloads\\Semester 6\\Deep Learning\\Project\\Bounding Box Detection\\Final Merge\\final\\images\\train\\06.01.25 02.30Pm_frame_427400_aug_4.jpg: 384x640 1 ParkingLot, 14.1ms\n",
      "image 356/1614 d:\\Downloads\\VIT Downloads\\Local Downloads\\Semester 6\\Deep Learning\\Project\\Bounding Box Detection\\Final Merge\\final\\images\\train\\06.01.25 04.50Pm_frame_000000_aug_1.jpg: 384x640 1 ParkingLot, 17.9ms\n",
      "image 357/1614 d:\\Downloads\\VIT Downloads\\Local Downloads\\Semester 6\\Deep Learning\\Project\\Bounding Box Detection\\Final Merge\\final\\images\\train\\06.01.25 04.50Pm_frame_000000_aug_2.jpg: 384x640 1 ParkingLot, 13.5ms\n",
      "image 358/1614 d:\\Downloads\\VIT Downloads\\Local Downloads\\Semester 6\\Deep Learning\\Project\\Bounding Box Detection\\Final Merge\\final\\images\\train\\06.01.25 04.50Pm_frame_000000_aug_3.jpg: 384x640 1 ParkingLot, 13.0ms\n",
      "image 359/1614 d:\\Downloads\\VIT Downloads\\Local Downloads\\Semester 6\\Deep Learning\\Project\\Bounding Box Detection\\Final Merge\\final\\images\\train\\06.01.25 04.50Pm_frame_000000_aug_4.jpg: 384x640 1 ParkingLot, 12.6ms\n",
      "image 360/1614 d:\\Downloads\\VIT Downloads\\Local Downloads\\Semester 6\\Deep Learning\\Project\\Bounding Box Detection\\Final Merge\\final\\images\\train\\06.01.25 04.50Pm_frame_008514_aug_0.jpg: 384x640 1 ParkingLot, 24.6ms\n",
      "image 361/1614 d:\\Downloads\\VIT Downloads\\Local Downloads\\Semester 6\\Deep Learning\\Project\\Bounding Box Detection\\Final Merge\\final\\images\\train\\06.01.25 04.50Pm_frame_008514_aug_1.jpg: 384x640 1 ParkingLot, 13.8ms\n",
      "image 362/1614 d:\\Downloads\\VIT Downloads\\Local Downloads\\Semester 6\\Deep Learning\\Project\\Bounding Box Detection\\Final Merge\\final\\images\\train\\06.01.25 04.50Pm_frame_008514_aug_2.jpg: 384x640 1 ParkingLot, 13.4ms\n",
      "image 363/1614 d:\\Downloads\\VIT Downloads\\Local Downloads\\Semester 6\\Deep Learning\\Project\\Bounding Box Detection\\Final Merge\\final\\images\\train\\06.01.25 04.50Pm_frame_008514_aug_3.jpg: 640x384 1 ParkingLot, 13.6ms\n",
      "image 364/1614 d:\\Downloads\\VIT Downloads\\Local Downloads\\Semester 6\\Deep Learning\\Project\\Bounding Box Detection\\Final Merge\\final\\images\\train\\06.01.25 04.50Pm_frame_008514_aug_4.jpg: 384x640 1 ParkingLot, 17.8ms\n",
      "image 365/1614 d:\\Downloads\\VIT Downloads\\Local Downloads\\Semester 6\\Deep Learning\\Project\\Bounding Box Detection\\Final Merge\\final\\images\\train\\06.01.25 04.50Pm_frame_017028_aug_0.jpg: 384x640 1 ParkingLot, 13.6ms\n",
      "image 366/1614 d:\\Downloads\\VIT Downloads\\Local Downloads\\Semester 6\\Deep Learning\\Project\\Bounding Box Detection\\Final Merge\\final\\images\\train\\06.01.25 04.50Pm_frame_017028_aug_1.jpg: 384x640 1 ParkingLot, 16.2ms\n",
      "image 367/1614 d:\\Downloads\\VIT Downloads\\Local Downloads\\Semester 6\\Deep Learning\\Project\\Bounding Box Detection\\Final Merge\\final\\images\\train\\06.01.25 04.50Pm_frame_017028_aug_2.jpg: 384x640 1 ParkingLot, 14.0ms\n",
      "image 368/1614 d:\\Downloads\\VIT Downloads\\Local Downloads\\Semester 6\\Deep Learning\\Project\\Bounding Box Detection\\Final Merge\\final\\images\\train\\06.01.25 04.50Pm_frame_017028_aug_3.jpg: 384x640 1 ParkingLot, 25.3ms\n",
      "image 369/1614 d:\\Downloads\\VIT Downloads\\Local Downloads\\Semester 6\\Deep Learning\\Project\\Bounding Box Detection\\Final Merge\\final\\images\\train\\06.01.25 04.50Pm_frame_017028_aug_4.jpg: 384x640 1 ParkingLot, 13.5ms\n",
      "image 370/1614 d:\\Downloads\\VIT Downloads\\Local Downloads\\Semester 6\\Deep Learning\\Project\\Bounding Box Detection\\Final Merge\\final\\images\\train\\06.01.25 04.50Pm_frame_025542_aug_0.jpg: 384x640 1 ParkingLot, 20.4ms\n",
      "image 371/1614 d:\\Downloads\\VIT Downloads\\Local Downloads\\Semester 6\\Deep Learning\\Project\\Bounding Box Detection\\Final Merge\\final\\images\\train\\06.01.25 04.50Pm_frame_025542_aug_1.jpg: 384x640 1 ParkingLot, 15.8ms\n",
      "image 372/1614 d:\\Downloads\\VIT Downloads\\Local Downloads\\Semester 6\\Deep Learning\\Project\\Bounding Box Detection\\Final Merge\\final\\images\\train\\06.01.25 04.50Pm_frame_025542_aug_2.jpg: 384x640 1 ParkingLot, 15.6ms\n",
      "image 373/1614 d:\\Downloads\\VIT Downloads\\Local Downloads\\Semester 6\\Deep Learning\\Project\\Bounding Box Detection\\Final Merge\\final\\images\\train\\06.01.25 04.50Pm_frame_025542_aug_3.jpg: 384x640 1 ParkingLot, 15.0ms\n",
      "image 374/1614 d:\\Downloads\\VIT Downloads\\Local Downloads\\Semester 6\\Deep Learning\\Project\\Bounding Box Detection\\Final Merge\\final\\images\\train\\06.01.25 04.50Pm_frame_025542_aug_4.jpg: 384x640 1 ParkingLot, 14.1ms\n",
      "image 375/1614 d:\\Downloads\\VIT Downloads\\Local Downloads\\Semester 6\\Deep Learning\\Project\\Bounding Box Detection\\Final Merge\\final\\images\\train\\06.01.25 04.50Pm_frame_034056_aug_0.jpg: 384x640 1 ParkingLot, 13.2ms\n",
      "image 376/1614 d:\\Downloads\\VIT Downloads\\Local Downloads\\Semester 6\\Deep Learning\\Project\\Bounding Box Detection\\Final Merge\\final\\images\\train\\06.01.25 04.50Pm_frame_034056_aug_1.jpg: 640x384 1 ParkingLot, 14.0ms\n",
      "image 377/1614 d:\\Downloads\\VIT Downloads\\Local Downloads\\Semester 6\\Deep Learning\\Project\\Bounding Box Detection\\Final Merge\\final\\images\\train\\06.01.25 04.50Pm_frame_034056_aug_2.jpg: 384x640 1 ParkingLot, 13.8ms\n",
      "image 378/1614 d:\\Downloads\\VIT Downloads\\Local Downloads\\Semester 6\\Deep Learning\\Project\\Bounding Box Detection\\Final Merge\\final\\images\\train\\06.01.25 04.50Pm_frame_034056_aug_3.jpg: 640x384 1 ParkingLot, 14.1ms\n",
      "image 379/1614 d:\\Downloads\\VIT Downloads\\Local Downloads\\Semester 6\\Deep Learning\\Project\\Bounding Box Detection\\Final Merge\\final\\images\\train\\06.01.25 04.50Pm_frame_034056_aug_4.jpg: 640x384 1 ParkingLot, 13.4ms\n",
      "image 380/1614 d:\\Downloads\\VIT Downloads\\Local Downloads\\Semester 6\\Deep Learning\\Project\\Bounding Box Detection\\Final Merge\\final\\images\\train\\06.01.25 04.50Pm_frame_042570_aug_0.jpg: 384x640 1 ParkingLot, 14.2ms\n",
      "image 381/1614 d:\\Downloads\\VIT Downloads\\Local Downloads\\Semester 6\\Deep Learning\\Project\\Bounding Box Detection\\Final Merge\\final\\images\\train\\06.01.25 04.50Pm_frame_042570_aug_1.jpg: 384x640 1 ParkingLot, 13.2ms\n",
      "image 382/1614 d:\\Downloads\\VIT Downloads\\Local Downloads\\Semester 6\\Deep Learning\\Project\\Bounding Box Detection\\Final Merge\\final\\images\\train\\06.01.25 04.50Pm_frame_042570_aug_2.jpg: 640x384 1 ParkingLot, 15.5ms\n",
      "image 383/1614 d:\\Downloads\\VIT Downloads\\Local Downloads\\Semester 6\\Deep Learning\\Project\\Bounding Box Detection\\Final Merge\\final\\images\\train\\06.01.25 04.50Pm_frame_042570_aug_3.jpg: 384x640 1 ParkingLot, 15.9ms\n",
      "image 384/1614 d:\\Downloads\\VIT Downloads\\Local Downloads\\Semester 6\\Deep Learning\\Project\\Bounding Box Detection\\Final Merge\\final\\images\\train\\06.01.25 04.50Pm_frame_042570_aug_4.jpg: 640x384 1 ParkingLot, 14.4ms\n",
      "image 385/1614 d:\\Downloads\\VIT Downloads\\Local Downloads\\Semester 6\\Deep Learning\\Project\\Bounding Box Detection\\Final Merge\\final\\images\\train\\06.01.25 04.50Pm_frame_051084_aug_0.jpg: 384x640 1 ParkingLot, 13.7ms\n",
      "image 386/1614 d:\\Downloads\\VIT Downloads\\Local Downloads\\Semester 6\\Deep Learning\\Project\\Bounding Box Detection\\Final Merge\\final\\images\\train\\06.01.25 04.50Pm_frame_051084_aug_1.jpg: 384x640 1 ParkingLot, 13.1ms\n",
      "image 387/1614 d:\\Downloads\\VIT Downloads\\Local Downloads\\Semester 6\\Deep Learning\\Project\\Bounding Box Detection\\Final Merge\\final\\images\\train\\06.01.25 04.50Pm_frame_051084_aug_2.jpg: 384x640 1 ParkingLot, 12.7ms\n",
      "image 388/1614 d:\\Downloads\\VIT Downloads\\Local Downloads\\Semester 6\\Deep Learning\\Project\\Bounding Box Detection\\Final Merge\\final\\images\\train\\06.01.25 04.50Pm_frame_051084_aug_3.jpg: 384x640 1 ParkingLot, 12.9ms\n",
      "image 389/1614 d:\\Downloads\\VIT Downloads\\Local Downloads\\Semester 6\\Deep Learning\\Project\\Bounding Box Detection\\Final Merge\\final\\images\\train\\06.01.25 04.50Pm_frame_051084_aug_4.jpg: 384x640 1 ParkingLot, 16.7ms\n",
      "image 390/1614 d:\\Downloads\\VIT Downloads\\Local Downloads\\Semester 6\\Deep Learning\\Project\\Bounding Box Detection\\Final Merge\\final\\images\\train\\06.01.25 04.50Pm_frame_059598_aug_0.jpg: 384x640 1 ParkingLot, 25.5ms\n",
      "image 391/1614 d:\\Downloads\\VIT Downloads\\Local Downloads\\Semester 6\\Deep Learning\\Project\\Bounding Box Detection\\Final Merge\\final\\images\\train\\06.01.25 04.50Pm_frame_059598_aug_2.jpg: 640x384 1 ParkingLot, 15.5ms\n",
      "image 392/1614 d:\\Downloads\\VIT Downloads\\Local Downloads\\Semester 6\\Deep Learning\\Project\\Bounding Box Detection\\Final Merge\\final\\images\\train\\06.01.25 04.50Pm_frame_059598_aug_3.jpg: 384x640 1 ParkingLot, 17.8ms\n",
      "image 393/1614 d:\\Downloads\\VIT Downloads\\Local Downloads\\Semester 6\\Deep Learning\\Project\\Bounding Box Detection\\Final Merge\\final\\images\\train\\06.01.25 04.50Pm_frame_059598_aug_4.jpg: 384x640 1 ParkingLot, 13.4ms\n",
      "image 394/1614 d:\\Downloads\\VIT Downloads\\Local Downloads\\Semester 6\\Deep Learning\\Project\\Bounding Box Detection\\Final Merge\\final\\images\\train\\06.01.25 04.50Pm_frame_068112_aug_0.jpg: 384x640 1 ParkingLot, 14.1ms\n",
      "image 395/1614 d:\\Downloads\\VIT Downloads\\Local Downloads\\Semester 6\\Deep Learning\\Project\\Bounding Box Detection\\Final Merge\\final\\images\\train\\06.01.25 04.50Pm_frame_068112_aug_1.jpg: 384x640 1 ParkingLot, 15.1ms\n",
      "image 396/1614 d:\\Downloads\\VIT Downloads\\Local Downloads\\Semester 6\\Deep Learning\\Project\\Bounding Box Detection\\Final Merge\\final\\images\\train\\06.01.25 04.50Pm_frame_068112_aug_2.jpg: 384x640 1 ParkingLot, 17.0ms\n",
      "image 397/1614 d:\\Downloads\\VIT Downloads\\Local Downloads\\Semester 6\\Deep Learning\\Project\\Bounding Box Detection\\Final Merge\\final\\images\\train\\06.01.25 04.50Pm_frame_068112_aug_3.jpg: 384x640 1 ParkingLot, 13.2ms\n",
      "image 398/1614 d:\\Downloads\\VIT Downloads\\Local Downloads\\Semester 6\\Deep Learning\\Project\\Bounding Box Detection\\Final Merge\\final\\images\\train\\06.01.25 04.50Pm_frame_068112_aug_4.jpg: 384x640 1 ParkingLot, 17.6ms\n",
      "image 399/1614 d:\\Downloads\\VIT Downloads\\Local Downloads\\Semester 6\\Deep Learning\\Project\\Bounding Box Detection\\Final Merge\\final\\images\\train\\06.01.25 04.50Pm_frame_076626_aug_0.jpg: 384x640 1 ParkingLot, 12.6ms\n",
      "image 400/1614 d:\\Downloads\\VIT Downloads\\Local Downloads\\Semester 6\\Deep Learning\\Project\\Bounding Box Detection\\Final Merge\\final\\images\\train\\06.01.25 04.50Pm_frame_076626_aug_1.jpg: 384x640 1 ParkingLot, 15.4ms\n",
      "image 401/1614 d:\\Downloads\\VIT Downloads\\Local Downloads\\Semester 6\\Deep Learning\\Project\\Bounding Box Detection\\Final Merge\\final\\images\\train\\06.01.25 04.50Pm_frame_076626_aug_2.jpg: 384x640 1 ParkingLot, 24.2ms\n",
      "image 402/1614 d:\\Downloads\\VIT Downloads\\Local Downloads\\Semester 6\\Deep Learning\\Project\\Bounding Box Detection\\Final Merge\\final\\images\\train\\06.01.25 04.50Pm_frame_076626_aug_3.jpg: 384x640 1 ParkingLot, 17.7ms\n",
      "image 403/1614 d:\\Downloads\\VIT Downloads\\Local Downloads\\Semester 6\\Deep Learning\\Project\\Bounding Box Detection\\Final Merge\\final\\images\\train\\06.01.25 04.50Pm_frame_076626_aug_4.jpg: 384x640 1 ParkingLot, 14.8ms\n",
      "image 404/1614 d:\\Downloads\\VIT Downloads\\Local Downloads\\Semester 6\\Deep Learning\\Project\\Bounding Box Detection\\Final Merge\\final\\images\\train\\06.01.25 04.50Pm_frame_085140_aug_0.jpg: 640x384 1 ParkingLot, 14.1ms\n",
      "image 405/1614 d:\\Downloads\\VIT Downloads\\Local Downloads\\Semester 6\\Deep Learning\\Project\\Bounding Box Detection\\Final Merge\\final\\images\\train\\06.01.25 04.50Pm_frame_085140_aug_1.jpg: 384x640 1 ParkingLot, 13.9ms\n",
      "image 406/1614 d:\\Downloads\\VIT Downloads\\Local Downloads\\Semester 6\\Deep Learning\\Project\\Bounding Box Detection\\Final Merge\\final\\images\\train\\06.01.25 04.50Pm_frame_085140_aug_2.jpg: 384x640 1 ParkingLot, 25.5ms\n",
      "image 407/1614 d:\\Downloads\\VIT Downloads\\Local Downloads\\Semester 6\\Deep Learning\\Project\\Bounding Box Detection\\Final Merge\\final\\images\\train\\06.01.25 04.50Pm_frame_085140_aug_4.jpg: 384x640 1 ParkingLot, 13.0ms\n",
      "image 408/1614 d:\\Downloads\\VIT Downloads\\Local Downloads\\Semester 6\\Deep Learning\\Project\\Bounding Box Detection\\Final Merge\\final\\images\\train\\06.01.25 04.50Pm_frame_093654_aug_0.jpg: 384x640 1 ParkingLot, 25.1ms\n",
      "image 409/1614 d:\\Downloads\\VIT Downloads\\Local Downloads\\Semester 6\\Deep Learning\\Project\\Bounding Box Detection\\Final Merge\\final\\images\\train\\06.01.25 04.50Pm_frame_093654_aug_1.jpg: 384x640 1 ParkingLot, 14.8ms\n",
      "image 410/1614 d:\\Downloads\\VIT Downloads\\Local Downloads\\Semester 6\\Deep Learning\\Project\\Bounding Box Detection\\Final Merge\\final\\images\\train\\06.01.25 04.50Pm_frame_093654_aug_2.jpg: 384x640 1 ParkingLot, 15.1ms\n",
      "image 411/1614 d:\\Downloads\\VIT Downloads\\Local Downloads\\Semester 6\\Deep Learning\\Project\\Bounding Box Detection\\Final Merge\\final\\images\\train\\06.01.25 04.50Pm_frame_093654_aug_3.jpg: 384x640 1 ParkingLot, 15.3ms\n",
      "image 412/1614 d:\\Downloads\\VIT Downloads\\Local Downloads\\Semester 6\\Deep Learning\\Project\\Bounding Box Detection\\Final Merge\\final\\images\\train\\06.01.25 04.50Pm_frame_093654_aug_4.jpg: 640x384 1 ParkingLot, 15.0ms\n",
      "image 413/1614 d:\\Downloads\\VIT Downloads\\Local Downloads\\Semester 6\\Deep Learning\\Project\\Bounding Box Detection\\Final Merge\\final\\images\\train\\06.01.25 04.50Pm_frame_102168_aug_0.jpg: 640x384 1 ParkingLot, 14.2ms\n",
      "image 414/1614 d:\\Downloads\\VIT Downloads\\Local Downloads\\Semester 6\\Deep Learning\\Project\\Bounding Box Detection\\Final Merge\\final\\images\\train\\06.01.25 04.50Pm_frame_102168_aug_1.jpg: 384x640 1 ParkingLot, 14.4ms\n",
      "image 415/1614 d:\\Downloads\\VIT Downloads\\Local Downloads\\Semester 6\\Deep Learning\\Project\\Bounding Box Detection\\Final Merge\\final\\images\\train\\06.01.25 04.50Pm_frame_102168_aug_2.jpg: 384x640 1 ParkingLot, 26.8ms\n",
      "image 416/1614 d:\\Downloads\\VIT Downloads\\Local Downloads\\Semester 6\\Deep Learning\\Project\\Bounding Box Detection\\Final Merge\\final\\images\\train\\06.01.25 04.50Pm_frame_102168_aug_4.jpg: 384x640 1 ParkingLot, 13.6ms\n",
      "image 417/1614 d:\\Downloads\\VIT Downloads\\Local Downloads\\Semester 6\\Deep Learning\\Project\\Bounding Box Detection\\Final Merge\\final\\images\\train\\06.01.25 04.50Pm_frame_110682_aug_0.jpg: 384x640 1 ParkingLot, 24.5ms\n",
      "image 418/1614 d:\\Downloads\\VIT Downloads\\Local Downloads\\Semester 6\\Deep Learning\\Project\\Bounding Box Detection\\Final Merge\\final\\images\\train\\06.01.25 04.50Pm_frame_110682_aug_1.jpg: 384x640 1 ParkingLot, 13.0ms\n",
      "image 419/1614 d:\\Downloads\\VIT Downloads\\Local Downloads\\Semester 6\\Deep Learning\\Project\\Bounding Box Detection\\Final Merge\\final\\images\\train\\06.01.25 04.50Pm_frame_110682_aug_2.jpg: 640x384 1 ParkingLot, 14.2ms\n",
      "image 420/1614 d:\\Downloads\\VIT Downloads\\Local Downloads\\Semester 6\\Deep Learning\\Project\\Bounding Box Detection\\Final Merge\\final\\images\\train\\06.01.25 04.50Pm_frame_110682_aug_3.jpg: 384x640 1 ParkingLot, 16.8ms\n",
      "image 421/1614 d:\\Downloads\\VIT Downloads\\Local Downloads\\Semester 6\\Deep Learning\\Project\\Bounding Box Detection\\Final Merge\\final\\images\\train\\06.01.25 04.50Pm_frame_110682_aug_4.jpg: 640x384 1 ParkingLot, 25.9ms\n",
      "image 422/1614 d:\\Downloads\\VIT Downloads\\Local Downloads\\Semester 6\\Deep Learning\\Project\\Bounding Box Detection\\Final Merge\\final\\images\\train\\06.01.25 04.50Pm_frame_119196_aug_0.jpg: 384x640 1 ParkingLot, 14.8ms\n",
      "image 423/1614 d:\\Downloads\\VIT Downloads\\Local Downloads\\Semester 6\\Deep Learning\\Project\\Bounding Box Detection\\Final Merge\\final\\images\\train\\06.01.25 04.50Pm_frame_119196_aug_1.jpg: 384x640 1 ParkingLot, 15.5ms\n",
      "image 424/1614 d:\\Downloads\\VIT Downloads\\Local Downloads\\Semester 6\\Deep Learning\\Project\\Bounding Box Detection\\Final Merge\\final\\images\\train\\06.01.25 04.50Pm_frame_119196_aug_2.jpg: 384x640 1 ParkingLot, 25.1ms\n",
      "image 425/1614 d:\\Downloads\\VIT Downloads\\Local Downloads\\Semester 6\\Deep Learning\\Project\\Bounding Box Detection\\Final Merge\\final\\images\\train\\06.01.25 04.50Pm_frame_119196_aug_3.jpg: 384x640 1 ParkingLot, 13.9ms\n",
      "image 426/1614 d:\\Downloads\\VIT Downloads\\Local Downloads\\Semester 6\\Deep Learning\\Project\\Bounding Box Detection\\Final Merge\\final\\images\\train\\06.01.25 04.50Pm_frame_136224_aug_0.jpg: 384x640 1 ParkingLot, 13.5ms\n",
      "image 427/1614 d:\\Downloads\\VIT Downloads\\Local Downloads\\Semester 6\\Deep Learning\\Project\\Bounding Box Detection\\Final Merge\\final\\images\\train\\06.01.25 04.50Pm_frame_136224_aug_1.jpg: 384x640 1 ParkingLot, 13.0ms\n",
      "image 428/1614 d:\\Downloads\\VIT Downloads\\Local Downloads\\Semester 6\\Deep Learning\\Project\\Bounding Box Detection\\Final Merge\\final\\images\\train\\06.01.25 04.50Pm_frame_136224_aug_2.jpg: 384x640 1 ParkingLot, 13.0ms\n",
      "image 429/1614 d:\\Downloads\\VIT Downloads\\Local Downloads\\Semester 6\\Deep Learning\\Project\\Bounding Box Detection\\Final Merge\\final\\images\\train\\06.01.25 04.50Pm_frame_136224_aug_3.jpg: 384x640 1 ParkingLot, 20.7ms\n",
      "image 430/1614 d:\\Downloads\\VIT Downloads\\Local Downloads\\Semester 6\\Deep Learning\\Project\\Bounding Box Detection\\Final Merge\\final\\images\\train\\06.01.25 04.50Pm_frame_136224_aug_4.jpg: 384x640 1 ParkingLot, 12.6ms\n",
      "image 431/1614 d:\\Downloads\\VIT Downloads\\Local Downloads\\Semester 6\\Deep Learning\\Project\\Bounding Box Detection\\Final Merge\\final\\images\\train\\06.01.25 04.50Pm_frame_153252_aug_0.jpg: 384x640 1 ParkingLot, 13.9ms\n",
      "image 432/1614 d:\\Downloads\\VIT Downloads\\Local Downloads\\Semester 6\\Deep Learning\\Project\\Bounding Box Detection\\Final Merge\\final\\images\\train\\06.01.25 04.50Pm_frame_153252_aug_1.jpg: 384x640 1 ParkingLot, 13.3ms\n",
      "image 433/1614 d:\\Downloads\\VIT Downloads\\Local Downloads\\Semester 6\\Deep Learning\\Project\\Bounding Box Detection\\Final Merge\\final\\images\\train\\06.01.25 04.50Pm_frame_153252_aug_2.jpg: 384x640 1 ParkingLot, 13.6ms\n",
      "image 434/1614 d:\\Downloads\\VIT Downloads\\Local Downloads\\Semester 6\\Deep Learning\\Project\\Bounding Box Detection\\Final Merge\\final\\images\\train\\06.01.25 04.50Pm_frame_153252_aug_3.jpg: 640x384 1 ParkingLot, 14.5ms\n",
      "image 435/1614 d:\\Downloads\\VIT Downloads\\Local Downloads\\Semester 6\\Deep Learning\\Project\\Bounding Box Detection\\Final Merge\\final\\images\\train\\06.01.25 04.50Pm_frame_153252_aug_4.jpg: 384x640 1 ParkingLot, 14.3ms\n",
      "image 436/1614 d:\\Downloads\\VIT Downloads\\Local Downloads\\Semester 6\\Deep Learning\\Project\\Bounding Box Detection\\Final Merge\\final\\images\\train\\06.01.25 04.50Pm_frame_161766_aug_0.jpg: 640x384 1 ParkingLot, 15.8ms\n",
      "image 437/1614 d:\\Downloads\\VIT Downloads\\Local Downloads\\Semester 6\\Deep Learning\\Project\\Bounding Box Detection\\Final Merge\\final\\images\\train\\06.01.25 04.50Pm_frame_161766_aug_1.jpg: 640x384 1 ParkingLot, 13.7ms\n",
      "image 438/1614 d:\\Downloads\\VIT Downloads\\Local Downloads\\Semester 6\\Deep Learning\\Project\\Bounding Box Detection\\Final Merge\\final\\images\\train\\06.01.25 04.50Pm_frame_161766_aug_2.jpg: 384x640 1 ParkingLot, 14.3ms\n",
      "image 439/1614 d:\\Downloads\\VIT Downloads\\Local Downloads\\Semester 6\\Deep Learning\\Project\\Bounding Box Detection\\Final Merge\\final\\images\\train\\06.01.25 04.50Pm_frame_161766_aug_3.jpg: 640x384 1 ParkingLot, 14.7ms\n",
      "image 440/1614 d:\\Downloads\\VIT Downloads\\Local Downloads\\Semester 6\\Deep Learning\\Project\\Bounding Box Detection\\Final Merge\\final\\images\\train\\06.01.25 04.50Pm_frame_161766_aug_4.jpg: 384x640 1 ParkingLot, 21.3ms\n",
      "image 441/1614 d:\\Downloads\\VIT Downloads\\Local Downloads\\Semester 6\\Deep Learning\\Project\\Bounding Box Detection\\Final Merge\\final\\images\\train\\06.01.25 04.50Pm_frame_195822_aug_0.jpg: 384x640 1 ParkingLot, 22.5ms\n",
      "image 442/1614 d:\\Downloads\\VIT Downloads\\Local Downloads\\Semester 6\\Deep Learning\\Project\\Bounding Box Detection\\Final Merge\\final\\images\\train\\06.01.25 04.50Pm_frame_195822_aug_1.jpg: 384x640 1 ParkingLot, 16.6ms\n",
      "image 443/1614 d:\\Downloads\\VIT Downloads\\Local Downloads\\Semester 6\\Deep Learning\\Project\\Bounding Box Detection\\Final Merge\\final\\images\\train\\06.01.25 04.50Pm_frame_195822_aug_2.jpg: 384x640 1 ParkingLot, 14.5ms\n",
      "image 444/1614 d:\\Downloads\\VIT Downloads\\Local Downloads\\Semester 6\\Deep Learning\\Project\\Bounding Box Detection\\Final Merge\\final\\images\\train\\06.01.25 04.50Pm_frame_195822_aug_3.jpg: 384x640 1 ParkingLot, 13.0ms\n",
      "image 445/1614 d:\\Downloads\\VIT Downloads\\Local Downloads\\Semester 6\\Deep Learning\\Project\\Bounding Box Detection\\Final Merge\\final\\images\\train\\06.01.25 04.50Pm_frame_195822_aug_4.jpg: 384x640 1 ParkingLot, 12.6ms\n",
      "image 446/1614 d:\\Downloads\\VIT Downloads\\Local Downloads\\Semester 6\\Deep Learning\\Project\\Bounding Box Detection\\Final Merge\\final\\images\\train\\06.01.25 04.50Pm_frame_238392_aug_0.jpg: 384x640 1 ParkingLot, 12.6ms\n",
      "image 447/1614 d:\\Downloads\\VIT Downloads\\Local Downloads\\Semester 6\\Deep Learning\\Project\\Bounding Box Detection\\Final Merge\\final\\images\\train\\06.01.25 04.50Pm_frame_238392_aug_1.jpg: 384x640 1 ParkingLot, 13.0ms\n",
      "image 448/1614 d:\\Downloads\\VIT Downloads\\Local Downloads\\Semester 6\\Deep Learning\\Project\\Bounding Box Detection\\Final Merge\\final\\images\\train\\06.01.25 04.50Pm_frame_238392_aug_2.jpg: 384x640 1 ParkingLot, 12.9ms\n",
      "image 449/1614 d:\\Downloads\\VIT Downloads\\Local Downloads\\Semester 6\\Deep Learning\\Project\\Bounding Box Detection\\Final Merge\\final\\images\\train\\06.01.25 04.50Pm_frame_238392_aug_3.jpg: 384x640 1 ParkingLot, 12.7ms\n",
      "image 450/1614 d:\\Downloads\\VIT Downloads\\Local Downloads\\Semester 6\\Deep Learning\\Project\\Bounding Box Detection\\Final Merge\\final\\images\\train\\06.01.25 04.50Pm_frame_238392_aug_4.jpg: 384x640 1 ParkingLot, 12.9ms\n",
      "image 451/1614 d:\\Downloads\\VIT Downloads\\Local Downloads\\Semester 6\\Deep Learning\\Project\\Bounding Box Detection\\Final Merge\\final\\images\\train\\06.01.25 04.50Pm_frame_246906_aug_0.jpg: 384x640 1 ParkingLot, 12.3ms\n",
      "image 452/1614 d:\\Downloads\\VIT Downloads\\Local Downloads\\Semester 6\\Deep Learning\\Project\\Bounding Box Detection\\Final Merge\\final\\images\\train\\06.01.25 04.50Pm_frame_246906_aug_1.jpg: 640x384 1 ParkingLot, 13.7ms\n",
      "image 453/1614 d:\\Downloads\\VIT Downloads\\Local Downloads\\Semester 6\\Deep Learning\\Project\\Bounding Box Detection\\Final Merge\\final\\images\\train\\06.01.25 04.50Pm_frame_246906_aug_2.jpg: 640x384 1 ParkingLot, 15.5ms\n",
      "image 454/1614 d:\\Downloads\\VIT Downloads\\Local Downloads\\Semester 6\\Deep Learning\\Project\\Bounding Box Detection\\Final Merge\\final\\images\\train\\06.01.25 04.50Pm_frame_246906_aug_3.jpg: 384x640 1 ParkingLot, 15.2ms\n",
      "image 455/1614 d:\\Downloads\\VIT Downloads\\Local Downloads\\Semester 6\\Deep Learning\\Project\\Bounding Box Detection\\Final Merge\\final\\images\\train\\06.01.25 04.50Pm_frame_246906_aug_4.jpg: 384x640 1 ParkingLot, 12.8ms\n",
      "image 456/1614 d:\\Downloads\\VIT Downloads\\Local Downloads\\Semester 6\\Deep Learning\\Project\\Bounding Box Detection\\Final Merge\\final\\images\\train\\06.01.25 04.50Pm_frame_255420_aug_0.jpg: 384x640 1 ParkingLot, 14.2ms\n",
      "image 457/1614 d:\\Downloads\\VIT Downloads\\Local Downloads\\Semester 6\\Deep Learning\\Project\\Bounding Box Detection\\Final Merge\\final\\images\\train\\06.01.25 04.50Pm_frame_255420_aug_1.jpg: 384x640 1 ParkingLot, 16.5ms\n",
      "image 458/1614 d:\\Downloads\\VIT Downloads\\Local Downloads\\Semester 6\\Deep Learning\\Project\\Bounding Box Detection\\Final Merge\\final\\images\\train\\06.01.25 04.50Pm_frame_255420_aug_2.jpg: 640x384 1 ParkingLot, 14.6ms\n",
      "image 459/1614 d:\\Downloads\\VIT Downloads\\Local Downloads\\Semester 6\\Deep Learning\\Project\\Bounding Box Detection\\Final Merge\\final\\images\\train\\06.01.25 04.50Pm_frame_255420_aug_3.jpg: 384x640 1 ParkingLot, 19.0ms\n",
      "image 460/1614 d:\\Downloads\\VIT Downloads\\Local Downloads\\Semester 6\\Deep Learning\\Project\\Bounding Box Detection\\Final Merge\\final\\images\\train\\06.01.25 04.50Pm_frame_255420_aug_4.jpg: 384x640 1 ParkingLot, 13.4ms\n",
      "image 461/1614 d:\\Downloads\\VIT Downloads\\Local Downloads\\Semester 6\\Deep Learning\\Project\\Bounding Box Detection\\Final Merge\\final\\images\\train\\06.01.25 04.50Pm_frame_263934_aug_0.jpg: 640x384 1 ParkingLot, 13.9ms\n",
      "image 462/1614 d:\\Downloads\\VIT Downloads\\Local Downloads\\Semester 6\\Deep Learning\\Project\\Bounding Box Detection\\Final Merge\\final\\images\\train\\06.01.25 04.50Pm_frame_263934_aug_1.jpg: 384x640 1 ParkingLot, 14.1ms\n",
      "image 463/1614 d:\\Downloads\\VIT Downloads\\Local Downloads\\Semester 6\\Deep Learning\\Project\\Bounding Box Detection\\Final Merge\\final\\images\\train\\06.01.25 04.50Pm_frame_263934_aug_2.jpg: 384x640 1 ParkingLot, 13.4ms\n",
      "image 464/1614 d:\\Downloads\\VIT Downloads\\Local Downloads\\Semester 6\\Deep Learning\\Project\\Bounding Box Detection\\Final Merge\\final\\images\\train\\06.01.25 04.50Pm_frame_263934_aug_3.jpg: 384x640 1 ParkingLot, 14.0ms\n",
      "image 465/1614 d:\\Downloads\\VIT Downloads\\Local Downloads\\Semester 6\\Deep Learning\\Project\\Bounding Box Detection\\Final Merge\\final\\images\\train\\06.01.25 04.50Pm_frame_263934_aug_4.jpg: 384x640 1 ParkingLot, 12.5ms\n",
      "image 466/1614 d:\\Downloads\\VIT Downloads\\Local Downloads\\Semester 6\\Deep Learning\\Project\\Bounding Box Detection\\Final Merge\\final\\images\\train\\06.01.25 04.50Pm_frame_272448_aug_0.jpg: 384x640 1 ParkingLot, 12.5ms\n",
      "image 467/1614 d:\\Downloads\\VIT Downloads\\Local Downloads\\Semester 6\\Deep Learning\\Project\\Bounding Box Detection\\Final Merge\\final\\images\\train\\06.01.25 04.50Pm_frame_272448_aug_1.jpg: 384x640 1 ParkingLot, 24.2ms\n",
      "image 468/1614 d:\\Downloads\\VIT Downloads\\Local Downloads\\Semester 6\\Deep Learning\\Project\\Bounding Box Detection\\Final Merge\\final\\images\\train\\06.01.25 04.50Pm_frame_272448_aug_2.jpg: 384x640 1 ParkingLot, 12.7ms\n",
      "image 469/1614 d:\\Downloads\\VIT Downloads\\Local Downloads\\Semester 6\\Deep Learning\\Project\\Bounding Box Detection\\Final Merge\\final\\images\\train\\06.01.25 04.50Pm_frame_272448_aug_3.jpg: 384x640 1 ParkingLot, 12.5ms\n",
      "image 470/1614 d:\\Downloads\\VIT Downloads\\Local Downloads\\Semester 6\\Deep Learning\\Project\\Bounding Box Detection\\Final Merge\\final\\images\\train\\06.01.25 04.50Pm_frame_272448_aug_4.jpg: 384x640 1 ParkingLot, 13.3ms\n",
      "image 471/1614 d:\\Downloads\\VIT Downloads\\Local Downloads\\Semester 6\\Deep Learning\\Project\\Bounding Box Detection\\Final Merge\\final\\images\\train\\06.01.25 04.50Pm_frame_280962_aug_0.jpg: 384x640 1 ParkingLot, 13.4ms\n",
      "image 472/1614 d:\\Downloads\\VIT Downloads\\Local Downloads\\Semester 6\\Deep Learning\\Project\\Bounding Box Detection\\Final Merge\\final\\images\\train\\06.01.25 04.50Pm_frame_280962_aug_2.jpg: 384x640 1 ParkingLot, 13.5ms\n",
      "image 473/1614 d:\\Downloads\\VIT Downloads\\Local Downloads\\Semester 6\\Deep Learning\\Project\\Bounding Box Detection\\Final Merge\\final\\images\\train\\06.01.25 04.50Pm_frame_280962_aug_3.jpg: 640x384 1 ParkingLot, 13.6ms\n",
      "image 474/1614 d:\\Downloads\\VIT Downloads\\Local Downloads\\Semester 6\\Deep Learning\\Project\\Bounding Box Detection\\Final Merge\\final\\images\\train\\06.01.25 04.50Pm_frame_280962_aug_4.jpg: 384x640 1 ParkingLot, 24.6ms\n",
      "image 475/1614 d:\\Downloads\\VIT Downloads\\Local Downloads\\Semester 6\\Deep Learning\\Project\\Bounding Box Detection\\Final Merge\\final\\images\\train\\06.01.25 06.40Pm_frame_000000_aug_0.jpg: 384x640 1 ParkingLot, 19.5ms\n",
      "image 476/1614 d:\\Downloads\\VIT Downloads\\Local Downloads\\Semester 6\\Deep Learning\\Project\\Bounding Box Detection\\Final Merge\\final\\images\\train\\06.01.25 06.40Pm_frame_000000_aug_2.jpg: 384x640 1 ParkingLot, 14.8ms\n",
      "image 477/1614 d:\\Downloads\\VIT Downloads\\Local Downloads\\Semester 6\\Deep Learning\\Project\\Bounding Box Detection\\Final Merge\\final\\images\\train\\06.01.25 06.40Pm_frame_000000_aug_3.jpg: 384x640 1 ParkingLot, 12.9ms\n",
      "image 478/1614 d:\\Downloads\\VIT Downloads\\Local Downloads\\Semester 6\\Deep Learning\\Project\\Bounding Box Detection\\Final Merge\\final\\images\\train\\06.01.25 06.40Pm_frame_000000_aug_4.jpg: 384x640 1 ParkingLot, 15.7ms\n",
      "image 479/1614 d:\\Downloads\\VIT Downloads\\Local Downloads\\Semester 6\\Deep Learning\\Project\\Bounding Box Detection\\Final Merge\\final\\images\\train\\06.01.25 06.40Pm_frame_083655_aug_0.jpg: 384x640 1 ParkingLot, 13.9ms\n",
      "image 480/1614 d:\\Downloads\\VIT Downloads\\Local Downloads\\Semester 6\\Deep Learning\\Project\\Bounding Box Detection\\Final Merge\\final\\images\\train\\06.01.25 06.40Pm_frame_083655_aug_2.jpg: 384x640 1 ParkingLot, 12.9ms\n",
      "image 481/1614 d:\\Downloads\\VIT Downloads\\Local Downloads\\Semester 6\\Deep Learning\\Project\\Bounding Box Detection\\Final Merge\\final\\images\\train\\06.01.25 06.40Pm_frame_083655_aug_3.jpg: 384x640 1 ParkingLot, 12.4ms\n",
      "image 482/1614 d:\\Downloads\\VIT Downloads\\Local Downloads\\Semester 6\\Deep Learning\\Project\\Bounding Box Detection\\Final Merge\\final\\images\\train\\06.01.25 06.40Pm_frame_148720_aug_0.jpg: 384x640 1 ParkingLot, 17.4ms\n",
      "image 483/1614 d:\\Downloads\\VIT Downloads\\Local Downloads\\Semester 6\\Deep Learning\\Project\\Bounding Box Detection\\Final Merge\\final\\images\\train\\06.01.25 06.40Pm_frame_148720_aug_1.jpg: 384x640 1 ParkingLot, 12.7ms\n",
      "image 484/1614 d:\\Downloads\\VIT Downloads\\Local Downloads\\Semester 6\\Deep Learning\\Project\\Bounding Box Detection\\Final Merge\\final\\images\\train\\06.01.25 06.40Pm_frame_148720_aug_2.jpg: 384x640 1 ParkingLot, 14.5ms\n",
      "image 485/1614 d:\\Downloads\\VIT Downloads\\Local Downloads\\Semester 6\\Deep Learning\\Project\\Bounding Box Detection\\Final Merge\\final\\images\\train\\06.01.25 06.40Pm_frame_148720_aug_3.jpg: 384x640 1 ParkingLot, 13.2ms\n",
      "image 486/1614 d:\\Downloads\\VIT Downloads\\Local Downloads\\Semester 6\\Deep Learning\\Project\\Bounding Box Detection\\Final Merge\\final\\images\\train\\06.01.25 06.40Pm_frame_148720_aug_4.jpg: 384x640 1 ParkingLot, 13.8ms\n",
      "image 487/1614 d:\\Downloads\\VIT Downloads\\Local Downloads\\Semester 6\\Deep Learning\\Project\\Bounding Box Detection\\Final Merge\\final\\images\\train\\06.01.25 06.40Pm_frame_176605_aug_0.jpg: 384x640 1 ParkingLot, 13.2ms\n",
      "image 488/1614 d:\\Downloads\\VIT Downloads\\Local Downloads\\Semester 6\\Deep Learning\\Project\\Bounding Box Detection\\Final Merge\\final\\images\\train\\06.01.25 06.40Pm_frame_176605_aug_1.jpg: 384x640 1 ParkingLot, 13.6ms\n",
      "image 489/1614 d:\\Downloads\\VIT Downloads\\Local Downloads\\Semester 6\\Deep Learning\\Project\\Bounding Box Detection\\Final Merge\\final\\images\\train\\06.01.25 06.40Pm_frame_176605_aug_2.jpg: 384x640 1 ParkingLot, 24.9ms\n",
      "image 490/1614 d:\\Downloads\\VIT Downloads\\Local Downloads\\Semester 6\\Deep Learning\\Project\\Bounding Box Detection\\Final Merge\\final\\images\\train\\06.01.25 06.40Pm_frame_176605_aug_3.jpg: 384x640 1 ParkingLot, 14.8ms\n",
      "image 491/1614 d:\\Downloads\\VIT Downloads\\Local Downloads\\Semester 6\\Deep Learning\\Project\\Bounding Box Detection\\Final Merge\\final\\images\\train\\06.01.25 06.40Pm_frame_241670_aug_0.jpg: 384x640 1 ParkingLot, 14.6ms\n",
      "image 492/1614 d:\\Downloads\\VIT Downloads\\Local Downloads\\Semester 6\\Deep Learning\\Project\\Bounding Box Detection\\Final Merge\\final\\images\\train\\06.01.25 06.40Pm_frame_241670_aug_1.jpg: 384x640 1 ParkingLot, 14.5ms\n",
      "image 493/1614 d:\\Downloads\\VIT Downloads\\Local Downloads\\Semester 6\\Deep Learning\\Project\\Bounding Box Detection\\Final Merge\\final\\images\\train\\06.01.25 06.40Pm_frame_241670_aug_2.jpg: 640x384 1 ParkingLot, 24.6ms\n",
      "image 494/1614 d:\\Downloads\\VIT Downloads\\Local Downloads\\Semester 6\\Deep Learning\\Project\\Bounding Box Detection\\Final Merge\\final\\images\\train\\06.01.25 06.40Pm_frame_241670_aug_3.jpg: 384x640 1 ParkingLot, 26.9ms\n",
      "image 495/1614 d:\\Downloads\\VIT Downloads\\Local Downloads\\Semester 6\\Deep Learning\\Project\\Bounding Box Detection\\Final Merge\\final\\images\\train\\06.01.25 06.40Pm_frame_241670_aug_4.jpg: 384x640 1 ParkingLot, 13.2ms\n",
      "image 496/1614 d:\\Downloads\\VIT Downloads\\Local Downloads\\Semester 6\\Deep Learning\\Project\\Bounding Box Detection\\Final Merge\\final\\images\\train\\06.01.25 06.40Pm_frame_250965_aug_0.jpg: 384x640 1 ParkingLot, 14.1ms\n",
      "image 497/1614 d:\\Downloads\\VIT Downloads\\Local Downloads\\Semester 6\\Deep Learning\\Project\\Bounding Box Detection\\Final Merge\\final\\images\\train\\06.01.25 06.40Pm_frame_250965_aug_1.jpg: 384x640 1 ParkingLot, 14.4ms\n",
      "image 498/1614 d:\\Downloads\\VIT Downloads\\Local Downloads\\Semester 6\\Deep Learning\\Project\\Bounding Box Detection\\Final Merge\\final\\images\\train\\06.01.25 06.40Pm_frame_250965_aug_2.jpg: 384x640 1 ParkingLot, 27.6ms\n",
      "image 499/1614 d:\\Downloads\\VIT Downloads\\Local Downloads\\Semester 6\\Deep Learning\\Project\\Bounding Box Detection\\Final Merge\\final\\images\\train\\06.01.25 06.40Pm_frame_250965_aug_3.jpg: 640x384 1 ParkingLot, 26.0ms\n",
      "image 500/1614 d:\\Downloads\\VIT Downloads\\Local Downloads\\Semester 6\\Deep Learning\\Project\\Bounding Box Detection\\Final Merge\\final\\images\\train\\06.01.25 06.40Pm_frame_250965_aug_4.jpg: 640x384 1 ParkingLot, 20.9ms\n",
      "image 501/1614 d:\\Downloads\\VIT Downloads\\Local Downloads\\Semester 6\\Deep Learning\\Project\\Bounding Box Detection\\Final Merge\\final\\images\\train\\06.01.25 06.40Pm_frame_269555_aug_0.jpg: 384x640 1 ParkingLot, 14.9ms\n",
      "image 502/1614 d:\\Downloads\\VIT Downloads\\Local Downloads\\Semester 6\\Deep Learning\\Project\\Bounding Box Detection\\Final Merge\\final\\images\\train\\06.01.25 06.40Pm_frame_269555_aug_2.jpg: 384x640 1 ParkingLot, 13.6ms\n",
      "image 503/1614 d:\\Downloads\\VIT Downloads\\Local Downloads\\Semester 6\\Deep Learning\\Project\\Bounding Box Detection\\Final Merge\\final\\images\\train\\06.01.25 06.40Pm_frame_269555_aug_3.jpg: 384x640 1 ParkingLot, 13.9ms\n",
      "image 504/1614 d:\\Downloads\\VIT Downloads\\Local Downloads\\Semester 6\\Deep Learning\\Project\\Bounding Box Detection\\Final Merge\\final\\images\\train\\06.01.25 06.40Pm_frame_269555_aug_4.jpg: 384x640 1 ParkingLot, 12.6ms\n",
      "image 505/1614 d:\\Downloads\\VIT Downloads\\Local Downloads\\Semester 6\\Deep Learning\\Project\\Bounding Box Detection\\Final Merge\\final\\images\\train\\06.01.25 06.40Pm_frame_278850_aug_0.jpg: 384x640 1 ParkingLot, 20.4ms\n",
      "image 506/1614 d:\\Downloads\\VIT Downloads\\Local Downloads\\Semester 6\\Deep Learning\\Project\\Bounding Box Detection\\Final Merge\\final\\images\\train\\06.01.25 06.40Pm_frame_278850_aug_1.jpg: 384x640 1 ParkingLot, 25.9ms\n",
      "image 507/1614 d:\\Downloads\\VIT Downloads\\Local Downloads\\Semester 6\\Deep Learning\\Project\\Bounding Box Detection\\Final Merge\\final\\images\\train\\06.01.25 06.40Pm_frame_278850_aug_2.jpg: 384x640 1 ParkingLot, 13.9ms\n",
      "image 508/1614 d:\\Downloads\\VIT Downloads\\Local Downloads\\Semester 6\\Deep Learning\\Project\\Bounding Box Detection\\Final Merge\\final\\images\\train\\06.01.25 06.40Pm_frame_278850_aug_3.jpg: 384x640 1 ParkingLot, 20.3ms\n",
      "image 509/1614 d:\\Downloads\\VIT Downloads\\Local Downloads\\Semester 6\\Deep Learning\\Project\\Bounding Box Detection\\Final Merge\\final\\images\\train\\06.01.25 06.40Pm_frame_278850_aug_4.jpg: 384x640 1 ParkingLot, 13.2ms\n",
      "image 510/1614 d:\\Downloads\\VIT Downloads\\Local Downloads\\Semester 6\\Deep Learning\\Project\\Bounding Box Detection\\Final Merge\\final\\images\\train\\06.01.25 06.40Pm_frame_288145_aug_0.jpg: 384x640 1 ParkingLot, 13.4ms\n",
      "image 511/1614 d:\\Downloads\\VIT Downloads\\Local Downloads\\Semester 6\\Deep Learning\\Project\\Bounding Box Detection\\Final Merge\\final\\images\\train\\06.01.25 06.40Pm_frame_288145_aug_1.jpg: 640x384 1 ParkingLot, 18.5ms\n",
      "image 512/1614 d:\\Downloads\\VIT Downloads\\Local Downloads\\Semester 6\\Deep Learning\\Project\\Bounding Box Detection\\Final Merge\\final\\images\\train\\06.01.25 06.40Pm_frame_288145_aug_2.jpg: 384x640 1 ParkingLot, 14.3ms\n",
      "image 513/1614 d:\\Downloads\\VIT Downloads\\Local Downloads\\Semester 6\\Deep Learning\\Project\\Bounding Box Detection\\Final Merge\\final\\images\\train\\06.01.25 06.40Pm_frame_288145_aug_3.jpg: 640x384 1 ParkingLot, 14.3ms\n",
      "image 514/1614 d:\\Downloads\\VIT Downloads\\Local Downloads\\Semester 6\\Deep Learning\\Project\\Bounding Box Detection\\Final Merge\\final\\images\\train\\06.01.25 06.40Pm_frame_288145_aug_4.jpg: 384x640 1 ParkingLot, 14.7ms\n",
      "image 515/1614 d:\\Downloads\\VIT Downloads\\Local Downloads\\Semester 6\\Deep Learning\\Project\\Bounding Box Detection\\Final Merge\\final\\images\\train\\06.01.25 06.40Pm_frame_306735_aug_0.jpg: 640x384 1 ParkingLot, 14.2ms\n",
      "image 516/1614 d:\\Downloads\\VIT Downloads\\Local Downloads\\Semester 6\\Deep Learning\\Project\\Bounding Box Detection\\Final Merge\\final\\images\\train\\06.01.25 06.40Pm_frame_306735_aug_1.jpg: 640x384 1 ParkingLot, 14.3ms\n",
      "image 517/1614 d:\\Downloads\\VIT Downloads\\Local Downloads\\Semester 6\\Deep Learning\\Project\\Bounding Box Detection\\Final Merge\\final\\images\\train\\06.01.25 06.40Pm_frame_306735_aug_2.jpg: 384x640 1 ParkingLot, 14.3ms\n",
      "image 518/1614 d:\\Downloads\\VIT Downloads\\Local Downloads\\Semester 6\\Deep Learning\\Project\\Bounding Box Detection\\Final Merge\\final\\images\\train\\06.01.25 06.40Pm_frame_306735_aug_3.jpg: 640x384 1 ParkingLot, 14.3ms\n",
      "image 519/1614 d:\\Downloads\\VIT Downloads\\Local Downloads\\Semester 6\\Deep Learning\\Project\\Bounding Box Detection\\Final Merge\\final\\images\\train\\06.01.25 06.40Pm_frame_306735_aug_4.jpg: 384x640 1 ParkingLot, 13.8ms\n",
      "image 520/1614 d:\\Downloads\\VIT Downloads\\Local Downloads\\Semester 6\\Deep Learning\\Project\\Bounding Box Detection\\Final Merge\\final\\images\\train\\06.01.25 06.40Pm_frame_316030_aug_0.jpg: 384x640 1 ParkingLot, 14.8ms\n",
      "image 521/1614 d:\\Downloads\\VIT Downloads\\Local Downloads\\Semester 6\\Deep Learning\\Project\\Bounding Box Detection\\Final Merge\\final\\images\\train\\06.01.25 06.40Pm_frame_316030_aug_1.jpg: 384x640 1 ParkingLot, 13.6ms\n",
      "image 522/1614 d:\\Downloads\\VIT Downloads\\Local Downloads\\Semester 6\\Deep Learning\\Project\\Bounding Box Detection\\Final Merge\\final\\images\\train\\06.01.25 06.40Pm_frame_316030_aug_2.jpg: 384x640 1 ParkingLot, 24.1ms\n",
      "image 523/1614 d:\\Downloads\\VIT Downloads\\Local Downloads\\Semester 6\\Deep Learning\\Project\\Bounding Box Detection\\Final Merge\\final\\images\\train\\06.01.25 06.40Pm_frame_316030_aug_3.jpg: 384x640 1 ParkingLot, 12.9ms\n",
      "image 524/1614 d:\\Downloads\\VIT Downloads\\Local Downloads\\Semester 6\\Deep Learning\\Project\\Bounding Box Detection\\Final Merge\\final\\images\\train\\06.01.25 06.40Pm_frame_316030_aug_4.jpg: 640x384 1 ParkingLot, 22.3ms\n",
      "image 525/1614 d:\\Downloads\\VIT Downloads\\Local Downloads\\Semester 6\\Deep Learning\\Project\\Bounding Box Detection\\Final Merge\\final\\images\\train\\06.01.25 06.40Pm_frame_325325_aug_0.jpg: 384x640 1 ParkingLot, 15.2ms\n",
      "image 526/1614 d:\\Downloads\\VIT Downloads\\Local Downloads\\Semester 6\\Deep Learning\\Project\\Bounding Box Detection\\Final Merge\\final\\images\\train\\06.01.25 06.40Pm_frame_325325_aug_1.jpg: 384x640 1 ParkingLot, 24.6ms\n",
      "image 527/1614 d:\\Downloads\\VIT Downloads\\Local Downloads\\Semester 6\\Deep Learning\\Project\\Bounding Box Detection\\Final Merge\\final\\images\\train\\06.01.25 06.40Pm_frame_325325_aug_2.jpg: 384x640 1 ParkingLot, 13.1ms\n",
      "image 528/1614 d:\\Downloads\\VIT Downloads\\Local Downloads\\Semester 6\\Deep Learning\\Project\\Bounding Box Detection\\Final Merge\\final\\images\\train\\06.01.25 06.40Pm_frame_325325_aug_3.jpg: 384x640 1 ParkingLot, 13.0ms\n",
      "image 529/1614 d:\\Downloads\\VIT Downloads\\Local Downloads\\Semester 6\\Deep Learning\\Project\\Bounding Box Detection\\Final Merge\\final\\images\\train\\06.01.25 06.40Pm_frame_325325_aug_4.jpg: 384x640 1 ParkingLot, 14.2ms\n",
      "image 530/1614 d:\\Downloads\\VIT Downloads\\Local Downloads\\Semester 6\\Deep Learning\\Project\\Bounding Box Detection\\Final Merge\\final\\images\\train\\06.01.25 06.40Pm_frame_334620_aug_0.jpg: 640x384 1 ParkingLot, 16.1ms\n",
      "image 531/1614 d:\\Downloads\\VIT Downloads\\Local Downloads\\Semester 6\\Deep Learning\\Project\\Bounding Box Detection\\Final Merge\\final\\images\\train\\06.01.25 06.40Pm_frame_334620_aug_1.jpg: 384x640 1 ParkingLot, 14.5ms\n",
      "image 532/1614 d:\\Downloads\\VIT Downloads\\Local Downloads\\Semester 6\\Deep Learning\\Project\\Bounding Box Detection\\Final Merge\\final\\images\\train\\06.01.25 06.40Pm_frame_334620_aug_3.jpg: 384x640 1 ParkingLot, 14.1ms\n",
      "image 533/1614 d:\\Downloads\\VIT Downloads\\Local Downloads\\Semester 6\\Deep Learning\\Project\\Bounding Box Detection\\Final Merge\\final\\images\\train\\06.01.25 06.40Pm_frame_334620_aug_4.jpg: 384x640 1 ParkingLot, 13.4ms\n",
      "image 534/1614 d:\\Downloads\\VIT Downloads\\Local Downloads\\Semester 6\\Deep Learning\\Project\\Bounding Box Detection\\Final Merge\\final\\images\\train\\06.01.25 06.40Pm_frame_343915_aug_0.jpg: 384x640 1 ParkingLot, 25.2ms\n",
      "image 535/1614 d:\\Downloads\\VIT Downloads\\Local Downloads\\Semester 6\\Deep Learning\\Project\\Bounding Box Detection\\Final Merge\\final\\images\\train\\06.01.25 06.40Pm_frame_343915_aug_1.jpg: 384x640 1 ParkingLot, 14.0ms\n",
      "image 536/1614 d:\\Downloads\\VIT Downloads\\Local Downloads\\Semester 6\\Deep Learning\\Project\\Bounding Box Detection\\Final Merge\\final\\images\\train\\06.01.25 06.40Pm_frame_343915_aug_2.jpg: 640x384 1 ParkingLot, 14.1ms\n",
      "image 537/1614 d:\\Downloads\\VIT Downloads\\Local Downloads\\Semester 6\\Deep Learning\\Project\\Bounding Box Detection\\Final Merge\\final\\images\\train\\06.01.25 06.40Pm_frame_343915_aug_3.jpg: 640x384 1 ParkingLot, 13.6ms\n",
      "image 538/1614 d:\\Downloads\\VIT Downloads\\Local Downloads\\Semester 6\\Deep Learning\\Project\\Bounding Box Detection\\Final Merge\\final\\images\\train\\06.01.25 06.40Pm_frame_343915_aug_4.jpg: 384x640 1 ParkingLot, 14.1ms\n",
      "image 539/1614 d:\\Downloads\\VIT Downloads\\Local Downloads\\Semester 6\\Deep Learning\\Project\\Bounding Box Detection\\Final Merge\\final\\images\\train\\06.01.25 06.40Pm_frame_353210_aug_0.jpg: 384x640 1 ParkingLot, 17.1ms\n",
      "image 540/1614 d:\\Downloads\\VIT Downloads\\Local Downloads\\Semester 6\\Deep Learning\\Project\\Bounding Box Detection\\Final Merge\\final\\images\\train\\06.01.25 06.40Pm_frame_353210_aug_1.jpg: 384x640 1 ParkingLot, 13.8ms\n",
      "image 541/1614 d:\\Downloads\\VIT Downloads\\Local Downloads\\Semester 6\\Deep Learning\\Project\\Bounding Box Detection\\Final Merge\\final\\images\\train\\06.01.25 06.40Pm_frame_353210_aug_2.jpg: 384x640 1 ParkingLot, 18.4ms\n",
      "image 542/1614 d:\\Downloads\\VIT Downloads\\Local Downloads\\Semester 6\\Deep Learning\\Project\\Bounding Box Detection\\Final Merge\\final\\images\\train\\06.01.25 06.40Pm_frame_353210_aug_3.jpg: 384x640 1 ParkingLot, 13.2ms\n",
      "image 543/1614 d:\\Downloads\\VIT Downloads\\Local Downloads\\Semester 6\\Deep Learning\\Project\\Bounding Box Detection\\Final Merge\\final\\images\\train\\06.01.25 06.40Pm_frame_353210_aug_4.jpg: 384x640 1 ParkingLot, 14.1ms\n",
      "image 544/1614 d:\\Downloads\\VIT Downloads\\Local Downloads\\Semester 6\\Deep Learning\\Project\\Bounding Box Detection\\Final Merge\\final\\images\\train\\06.01.25 06.40Pm_frame_362505_aug_0.jpg: 384x640 1 ParkingLot, 18.6ms\n",
      "image 545/1614 d:\\Downloads\\VIT Downloads\\Local Downloads\\Semester 6\\Deep Learning\\Project\\Bounding Box Detection\\Final Merge\\final\\images\\train\\06.01.25 06.40Pm_frame_362505_aug_1.jpg: 384x640 1 ParkingLot, 13.3ms\n",
      "image 546/1614 d:\\Downloads\\VIT Downloads\\Local Downloads\\Semester 6\\Deep Learning\\Project\\Bounding Box Detection\\Final Merge\\final\\images\\train\\06.01.25 06.40Pm_frame_362505_aug_2.jpg: 384x640 1 ParkingLot, 26.5ms\n",
      "image 547/1614 d:\\Downloads\\VIT Downloads\\Local Downloads\\Semester 6\\Deep Learning\\Project\\Bounding Box Detection\\Final Merge\\final\\images\\train\\06.01.25 06.40Pm_frame_362505_aug_4.jpg: 384x640 1 ParkingLot, 13.0ms\n",
      "image 548/1614 d:\\Downloads\\VIT Downloads\\Local Downloads\\Semester 6\\Deep Learning\\Project\\Bounding Box Detection\\Final Merge\\final\\images\\train\\06.01.25 06.40Pm_frame_371800_aug_0.jpg: 384x640 1 ParkingLot, 25.6ms\n",
      "image 549/1614 d:\\Downloads\\VIT Downloads\\Local Downloads\\Semester 6\\Deep Learning\\Project\\Bounding Box Detection\\Final Merge\\final\\images\\train\\06.01.25 06.40Pm_frame_371800_aug_1.jpg: 640x384 1 ParkingLot, 15.6ms\n",
      "image 550/1614 d:\\Downloads\\VIT Downloads\\Local Downloads\\Semester 6\\Deep Learning\\Project\\Bounding Box Detection\\Final Merge\\final\\images\\train\\06.01.25 06.40Pm_frame_371800_aug_2.jpg: 384x640 1 ParkingLot, 15.3ms\n",
      "image 551/1614 d:\\Downloads\\VIT Downloads\\Local Downloads\\Semester 6\\Deep Learning\\Project\\Bounding Box Detection\\Final Merge\\final\\images\\train\\06.01.25 06.40Pm_frame_371800_aug_3.jpg: 640x384 1 ParkingLot, 13.5ms\n",
      "image 552/1614 d:\\Downloads\\VIT Downloads\\Local Downloads\\Semester 6\\Deep Learning\\Project\\Bounding Box Detection\\Final Merge\\final\\images\\train\\06.01.25 06.40Pm_frame_371800_aug_4.jpg: 640x384 1 ParkingLot, 12.4ms\n",
      "image 553/1614 d:\\Downloads\\VIT Downloads\\Local Downloads\\Semester 6\\Deep Learning\\Project\\Bounding Box Detection\\Final Merge\\final\\images\\train\\06.01.25 06.40Pm_frame_381095_aug_0.jpg: 384x640 1 ParkingLot, 13.9ms\n",
      "image 554/1614 d:\\Downloads\\VIT Downloads\\Local Downloads\\Semester 6\\Deep Learning\\Project\\Bounding Box Detection\\Final Merge\\final\\images\\train\\06.01.25 06.40Pm_frame_381095_aug_1.jpg: 384x640 1 ParkingLot, 23.4ms\n",
      "image 555/1614 d:\\Downloads\\VIT Downloads\\Local Downloads\\Semester 6\\Deep Learning\\Project\\Bounding Box Detection\\Final Merge\\final\\images\\train\\06.01.25 06.40Pm_frame_381095_aug_2.jpg: 640x384 1 ParkingLot, 18.0ms\n",
      "image 556/1614 d:\\Downloads\\VIT Downloads\\Local Downloads\\Semester 6\\Deep Learning\\Project\\Bounding Box Detection\\Final Merge\\final\\images\\train\\06.01.25 06.40Pm_frame_381095_aug_3.jpg: 384x640 1 ParkingLot, 29.9ms\n",
      "image 557/1614 d:\\Downloads\\VIT Downloads\\Local Downloads\\Semester 6\\Deep Learning\\Project\\Bounding Box Detection\\Final Merge\\final\\images\\train\\06.01.25 06.40Pm_frame_381095_aug_4.jpg: 384x640 1 ParkingLot, 15.5ms\n",
      "image 558/1614 d:\\Downloads\\VIT Downloads\\Local Downloads\\Semester 6\\Deep Learning\\Project\\Bounding Box Detection\\Final Merge\\final\\images\\train\\06.01.25 06.40Pm_frame_390390_aug_0.jpg: 384x640 1 ParkingLot, 13.4ms\n",
      "image 559/1614 d:\\Downloads\\VIT Downloads\\Local Downloads\\Semester 6\\Deep Learning\\Project\\Bounding Box Detection\\Final Merge\\final\\images\\train\\06.01.25 06.40Pm_frame_390390_aug_1.jpg: 384x640 1 ParkingLot, 14.1ms\n",
      "image 560/1614 d:\\Downloads\\VIT Downloads\\Local Downloads\\Semester 6\\Deep Learning\\Project\\Bounding Box Detection\\Final Merge\\final\\images\\train\\06.01.25 06.40Pm_frame_390390_aug_2.jpg: 640x384 1 ParkingLot, 28.3ms\n",
      "image 561/1614 d:\\Downloads\\VIT Downloads\\Local Downloads\\Semester 6\\Deep Learning\\Project\\Bounding Box Detection\\Final Merge\\final\\images\\train\\06.01.25 06.40Pm_frame_390390_aug_3.jpg: 384x640 1 ParkingLot, 15.5ms\n",
      "image 562/1614 d:\\Downloads\\VIT Downloads\\Local Downloads\\Semester 6\\Deep Learning\\Project\\Bounding Box Detection\\Final Merge\\final\\images\\train\\06.01.25 06.40Pm_frame_390390_aug_4.jpg: 640x384 1 ParkingLot, 14.4ms\n",
      "image 563/1614 d:\\Downloads\\VIT Downloads\\Local Downloads\\Semester 6\\Deep Learning\\Project\\Bounding Box Detection\\Final Merge\\final\\images\\train\\06.01.25 06.40Pm_frame_399685_aug_0.jpg: 384x640 1 ParkingLot, 14.2ms\n",
      "image 564/1614 d:\\Downloads\\VIT Downloads\\Local Downloads\\Semester 6\\Deep Learning\\Project\\Bounding Box Detection\\Final Merge\\final\\images\\train\\06.01.25 06.40Pm_frame_399685_aug_1.jpg: 640x384 1 ParkingLot, 26.7ms\n",
      "image 565/1614 d:\\Downloads\\VIT Downloads\\Local Downloads\\Semester 6\\Deep Learning\\Project\\Bounding Box Detection\\Final Merge\\final\\images\\train\\06.01.25 06.40Pm_frame_399685_aug_2.jpg: 640x384 1 ParkingLot, 12.8ms\n",
      "image 566/1614 d:\\Downloads\\VIT Downloads\\Local Downloads\\Semester 6\\Deep Learning\\Project\\Bounding Box Detection\\Final Merge\\final\\images\\train\\06.01.25 06.40Pm_frame_399685_aug_3.jpg: 384x640 1 ParkingLot, 14.8ms\n",
      "image 567/1614 d:\\Downloads\\VIT Downloads\\Local Downloads\\Semester 6\\Deep Learning\\Project\\Bounding Box Detection\\Final Merge\\final\\images\\train\\06.01.25 06.40Pm_frame_408980_aug_0.jpg: 384x640 1 ParkingLot, 13.4ms\n",
      "image 568/1614 d:\\Downloads\\VIT Downloads\\Local Downloads\\Semester 6\\Deep Learning\\Project\\Bounding Box Detection\\Final Merge\\final\\images\\train\\06.01.25 06.40Pm_frame_408980_aug_1.jpg: 384x640 1 ParkingLot, 12.9ms\n",
      "image 569/1614 d:\\Downloads\\VIT Downloads\\Local Downloads\\Semester 6\\Deep Learning\\Project\\Bounding Box Detection\\Final Merge\\final\\images\\train\\06.01.25 06.40Pm_frame_408980_aug_2.jpg: 384x640 1 ParkingLot, 15.2ms\n",
      "image 570/1614 d:\\Downloads\\VIT Downloads\\Local Downloads\\Semester 6\\Deep Learning\\Project\\Bounding Box Detection\\Final Merge\\final\\images\\train\\06.01.25 06.40Pm_frame_408980_aug_3.jpg: 640x384 1 ParkingLot, 13.7ms\n",
      "image 571/1614 d:\\Downloads\\VIT Downloads\\Local Downloads\\Semester 6\\Deep Learning\\Project\\Bounding Box Detection\\Final Merge\\final\\images\\train\\06.01.25 06.40Pm_frame_408980_aug_4.jpg: 384x640 1 ParkingLot, 14.0ms\n",
      "image 572/1614 d:\\Downloads\\VIT Downloads\\Local Downloads\\Semester 6\\Deep Learning\\Project\\Bounding Box Detection\\Final Merge\\final\\images\\train\\06.01.25 06.40Pm_frame_418275_aug_0.jpg: 384x640 1 ParkingLot, 17.9ms\n",
      "image 573/1614 d:\\Downloads\\VIT Downloads\\Local Downloads\\Semester 6\\Deep Learning\\Project\\Bounding Box Detection\\Final Merge\\final\\images\\train\\06.01.25 06.40Pm_frame_418275_aug_1.jpg: 384x640 1 ParkingLot, 13.1ms\n",
      "image 574/1614 d:\\Downloads\\VIT Downloads\\Local Downloads\\Semester 6\\Deep Learning\\Project\\Bounding Box Detection\\Final Merge\\final\\images\\train\\06.01.25 06.40Pm_frame_418275_aug_2.jpg: 384x640 1 ParkingLot, 13.2ms\n",
      "image 575/1614 d:\\Downloads\\VIT Downloads\\Local Downloads\\Semester 6\\Deep Learning\\Project\\Bounding Box Detection\\Final Merge\\final\\images\\train\\06.01.25 06.40Pm_frame_418275_aug_3.jpg: 384x640 1 ParkingLot, 13.5ms\n",
      "image 576/1614 d:\\Downloads\\VIT Downloads\\Local Downloads\\Semester 6\\Deep Learning\\Project\\Bounding Box Detection\\Final Merge\\final\\images\\train\\06.01.25 06.40Pm_frame_418275_aug_4.jpg: 384x640 1 ParkingLot, 13.5ms\n",
      "image 577/1614 d:\\Downloads\\VIT Downloads\\Local Downloads\\Semester 6\\Deep Learning\\Project\\Bounding Box Detection\\Final Merge\\final\\images\\train\\06.01.25 06.40Pm_frame_427570_aug_0.jpg: 640x384 1 ParkingLot, 14.1ms\n",
      "image 578/1614 d:\\Downloads\\VIT Downloads\\Local Downloads\\Semester 6\\Deep Learning\\Project\\Bounding Box Detection\\Final Merge\\final\\images\\train\\06.01.25 06.40Pm_frame_427570_aug_1.jpg: 384x640 1 ParkingLot, 14.5ms\n",
      "image 579/1614 d:\\Downloads\\VIT Downloads\\Local Downloads\\Semester 6\\Deep Learning\\Project\\Bounding Box Detection\\Final Merge\\final\\images\\train\\06.01.25 06.40Pm_frame_427570_aug_2.jpg: 384x640 1 ParkingLot, 14.3ms\n",
      "image 580/1614 d:\\Downloads\\VIT Downloads\\Local Downloads\\Semester 6\\Deep Learning\\Project\\Bounding Box Detection\\Final Merge\\final\\images\\train\\06.01.25 06.40Pm_frame_427570_aug_3.jpg: 640x384 1 ParkingLot, 14.3ms\n",
      "image 581/1614 d:\\Downloads\\VIT Downloads\\Local Downloads\\Semester 6\\Deep Learning\\Project\\Bounding Box Detection\\Final Merge\\final\\images\\train\\06.01.25 06.40Pm_frame_427570_aug_4.jpg: 384x640 1 ParkingLot, 13.8ms\n",
      "image 582/1614 d:\\Downloads\\VIT Downloads\\Local Downloads\\Semester 6\\Deep Learning\\Project\\Bounding Box Detection\\Final Merge\\final\\images\\train\\06.01.25 06.40Pm_frame_436865_aug_0.jpg: 640x384 1 ParkingLot, 17.7ms\n",
      "image 583/1614 d:\\Downloads\\VIT Downloads\\Local Downloads\\Semester 6\\Deep Learning\\Project\\Bounding Box Detection\\Final Merge\\final\\images\\train\\06.01.25 06.40Pm_frame_436865_aug_2.jpg: 384x640 1 ParkingLot, 15.7ms\n",
      "image 584/1614 d:\\Downloads\\VIT Downloads\\Local Downloads\\Semester 6\\Deep Learning\\Project\\Bounding Box Detection\\Final Merge\\final\\images\\train\\06.01.25 06.40Pm_frame_436865_aug_3.jpg: 384x640 1 ParkingLot, 14.0ms\n",
      "image 585/1614 d:\\Downloads\\VIT Downloads\\Local Downloads\\Semester 6\\Deep Learning\\Project\\Bounding Box Detection\\Final Merge\\final\\images\\train\\06.01.25 06.40Pm_frame_436865_aug_4.jpg: 384x640 1 ParkingLot, 13.1ms\n",
      "image 586/1614 d:\\Downloads\\VIT Downloads\\Local Downloads\\Semester 6\\Deep Learning\\Project\\Bounding Box Detection\\Final Merge\\final\\images\\train\\06.01.25 06.40Pm_frame_446160_aug_0.jpg: 384x640 1 ParkingLot, 13.0ms\n",
      "image 587/1614 d:\\Downloads\\VIT Downloads\\Local Downloads\\Semester 6\\Deep Learning\\Project\\Bounding Box Detection\\Final Merge\\final\\images\\train\\06.01.25 06.40Pm_frame_446160_aug_1.jpg: 384x640 1 ParkingLot, 12.6ms\n",
      "image 588/1614 d:\\Downloads\\VIT Downloads\\Local Downloads\\Semester 6\\Deep Learning\\Project\\Bounding Box Detection\\Final Merge\\final\\images\\train\\06.01.25 06.40Pm_frame_446160_aug_2.jpg: 384x640 1 ParkingLot, 12.6ms\n",
      "image 589/1614 d:\\Downloads\\VIT Downloads\\Local Downloads\\Semester 6\\Deep Learning\\Project\\Bounding Box Detection\\Final Merge\\final\\images\\train\\06.01.25 06.40Pm_frame_446160_aug_3.jpg: 384x640 1 ParkingLot, 13.6ms\n",
      "image 590/1614 d:\\Downloads\\VIT Downloads\\Local Downloads\\Semester 6\\Deep Learning\\Project\\Bounding Box Detection\\Final Merge\\final\\images\\train\\06.01.25 06.40Pm_frame_446160_aug_4.jpg: 384x640 1 ParkingLot, 12.9ms\n",
      "image 591/1614 d:\\Downloads\\VIT Downloads\\Local Downloads\\Semester 6\\Deep Learning\\Project\\Bounding Box Detection\\Final Merge\\final\\images\\train\\06.01.25 09.00Am_frame_000000_aug_0.jpg: 384x640 1 ParkingLot, 12.5ms\n",
      "image 592/1614 d:\\Downloads\\VIT Downloads\\Local Downloads\\Semester 6\\Deep Learning\\Project\\Bounding Box Detection\\Final Merge\\final\\images\\train\\06.01.25 09.00Am_frame_000000_aug_1.jpg: 640x384 1 ParkingLot, 12.9ms\n",
      "image 593/1614 d:\\Downloads\\VIT Downloads\\Local Downloads\\Semester 6\\Deep Learning\\Project\\Bounding Box Detection\\Final Merge\\final\\images\\train\\06.01.25 09.00Am_frame_000000_aug_2.jpg: 384x640 1 ParkingLot, 13.3ms\n",
      "image 594/1614 d:\\Downloads\\VIT Downloads\\Local Downloads\\Semester 6\\Deep Learning\\Project\\Bounding Box Detection\\Final Merge\\final\\images\\train\\06.01.25 09.00Am_frame_000000_aug_3.jpg: 384x640 1 ParkingLot, 25.2ms\n",
      "image 595/1614 d:\\Downloads\\VIT Downloads\\Local Downloads\\Semester 6\\Deep Learning\\Project\\Bounding Box Detection\\Final Merge\\final\\images\\train\\06.01.25 09.00Am_frame_000000_aug_4.jpg: 640x384 1 ParkingLot, 24.8ms\n",
      "image 596/1614 d:\\Downloads\\VIT Downloads\\Local Downloads\\Semester 6\\Deep Learning\\Project\\Bounding Box Detection\\Final Merge\\final\\images\\train\\06.01.25 09.00Am_frame_009178_aug_0.jpg: 384x640 1 ParkingLot, 16.2ms\n",
      "image 597/1614 d:\\Downloads\\VIT Downloads\\Local Downloads\\Semester 6\\Deep Learning\\Project\\Bounding Box Detection\\Final Merge\\final\\images\\train\\06.01.25 09.00Am_frame_009178_aug_1.jpg: 384x640 1 ParkingLot, 12.2ms\n",
      "image 598/1614 d:\\Downloads\\VIT Downloads\\Local Downloads\\Semester 6\\Deep Learning\\Project\\Bounding Box Detection\\Final Merge\\final\\images\\train\\06.01.25 09.00Am_frame_009178_aug_3.jpg: 384x640 1 ParkingLot, 13.1ms\n",
      "image 599/1614 d:\\Downloads\\VIT Downloads\\Local Downloads\\Semester 6\\Deep Learning\\Project\\Bounding Box Detection\\Final Merge\\final\\images\\train\\06.01.25 09.00Am_frame_009178_aug_4.jpg: 384x640 1 ParkingLot, 15.0ms\n",
      "image 600/1614 d:\\Downloads\\VIT Downloads\\Local Downloads\\Semester 6\\Deep Learning\\Project\\Bounding Box Detection\\Final Merge\\final\\images\\train\\06.01.25 09.00Am_frame_045890_aug_0.jpg: 384x640 1 ParkingLot, 14.4ms\n",
      "image 601/1614 d:\\Downloads\\VIT Downloads\\Local Downloads\\Semester 6\\Deep Learning\\Project\\Bounding Box Detection\\Final Merge\\final\\images\\train\\06.01.25 09.00Am_frame_045890_aug_1.jpg: 640x384 1 ParkingLot, 14.5ms\n",
      "image 602/1614 d:\\Downloads\\VIT Downloads\\Local Downloads\\Semester 6\\Deep Learning\\Project\\Bounding Box Detection\\Final Merge\\final\\images\\train\\06.01.25 09.00Am_frame_045890_aug_2.jpg: 384x640 1 ParkingLot, 14.9ms\n",
      "image 603/1614 d:\\Downloads\\VIT Downloads\\Local Downloads\\Semester 6\\Deep Learning\\Project\\Bounding Box Detection\\Final Merge\\final\\images\\train\\06.01.25 09.00Am_frame_045890_aug_3.jpg: 640x384 1 ParkingLot, 15.0ms\n",
      "image 604/1614 d:\\Downloads\\VIT Downloads\\Local Downloads\\Semester 6\\Deep Learning\\Project\\Bounding Box Detection\\Final Merge\\final\\images\\train\\06.01.25 09.00Am_frame_045890_aug_4.jpg: 384x640 1 ParkingLot, 17.3ms\n",
      "image 605/1614 d:\\Downloads\\VIT Downloads\\Local Downloads\\Semester 6\\Deep Learning\\Project\\Bounding Box Detection\\Final Merge\\final\\images\\train\\06.01.25 09.00Am_frame_128492_aug_0.jpg: 384x640 1 ParkingLot, 12.8ms\n",
      "image 606/1614 d:\\Downloads\\VIT Downloads\\Local Downloads\\Semester 6\\Deep Learning\\Project\\Bounding Box Detection\\Final Merge\\final\\images\\train\\06.01.25 09.00Am_frame_128492_aug_1.jpg: 384x640 1 ParkingLot, 14.4ms\n",
      "image 607/1614 d:\\Downloads\\VIT Downloads\\Local Downloads\\Semester 6\\Deep Learning\\Project\\Bounding Box Detection\\Final Merge\\final\\images\\train\\06.01.25 09.00Am_frame_128492_aug_2.jpg: 384x640 1 ParkingLot, 13.8ms\n",
      "image 608/1614 d:\\Downloads\\VIT Downloads\\Local Downloads\\Semester 6\\Deep Learning\\Project\\Bounding Box Detection\\Final Merge\\final\\images\\train\\06.01.25 09.00Am_frame_128492_aug_3.jpg: 640x384 1 ParkingLot, 13.3ms\n",
      "image 609/1614 d:\\Downloads\\VIT Downloads\\Local Downloads\\Semester 6\\Deep Learning\\Project\\Bounding Box Detection\\Final Merge\\final\\images\\train\\06.01.25 09.00Am_frame_128492_aug_4.jpg: 384x640 1 ParkingLot, 13.8ms\n",
      "image 610/1614 d:\\Downloads\\VIT Downloads\\Local Downloads\\Semester 6\\Deep Learning\\Project\\Bounding Box Detection\\Final Merge\\final\\images\\train\\06.01.25 09.00Am_frame_192738_aug_0.jpg: 640x384 1 ParkingLot, 17.5ms\n",
      "image 611/1614 d:\\Downloads\\VIT Downloads\\Local Downloads\\Semester 6\\Deep Learning\\Project\\Bounding Box Detection\\Final Merge\\final\\images\\train\\06.01.25 09.00Am_frame_192738_aug_1.jpg: 384x640 1 ParkingLot, 14.0ms\n",
      "image 612/1614 d:\\Downloads\\VIT Downloads\\Local Downloads\\Semester 6\\Deep Learning\\Project\\Bounding Box Detection\\Final Merge\\final\\images\\train\\06.01.25 09.00Am_frame_192738_aug_2.jpg: 384x640 1 ParkingLot, 12.5ms\n",
      "image 613/1614 d:\\Downloads\\VIT Downloads\\Local Downloads\\Semester 6\\Deep Learning\\Project\\Bounding Box Detection\\Final Merge\\final\\images\\train\\06.01.25 09.00Am_frame_192738_aug_3.jpg: 384x640 1 ParkingLot, 12.3ms\n",
      "image 614/1614 d:\\Downloads\\VIT Downloads\\Local Downloads\\Semester 6\\Deep Learning\\Project\\Bounding Box Detection\\Final Merge\\final\\images\\train\\06.01.25 09.00Am_frame_192738_aug_4.jpg: 384x640 1 ParkingLot, 13.0ms\n",
      "image 615/1614 d:\\Downloads\\VIT Downloads\\Local Downloads\\Semester 6\\Deep Learning\\Project\\Bounding Box Detection\\Final Merge\\final\\images\\train\\06.01.25 09.00Am_frame_201916_aug_0.jpg: 384x640 1 ParkingLot, 14.0ms\n",
      "image 616/1614 d:\\Downloads\\VIT Downloads\\Local Downloads\\Semester 6\\Deep Learning\\Project\\Bounding Box Detection\\Final Merge\\final\\images\\train\\06.01.25 09.00Am_frame_201916_aug_1.jpg: 384x640 1 ParkingLot, 13.1ms\n",
      "image 617/1614 d:\\Downloads\\VIT Downloads\\Local Downloads\\Semester 6\\Deep Learning\\Project\\Bounding Box Detection\\Final Merge\\final\\images\\train\\06.01.25 09.00Am_frame_201916_aug_2.jpg: 384x640 1 ParkingLot, 13.2ms\n",
      "image 618/1614 d:\\Downloads\\VIT Downloads\\Local Downloads\\Semester 6\\Deep Learning\\Project\\Bounding Box Detection\\Final Merge\\final\\images\\train\\06.01.25 09.00Am_frame_201916_aug_3.jpg: 384x640 1 ParkingLot, 12.8ms\n",
      "image 619/1614 d:\\Downloads\\VIT Downloads\\Local Downloads\\Semester 6\\Deep Learning\\Project\\Bounding Box Detection\\Final Merge\\final\\images\\train\\06.01.25 09.00Am_frame_201916_aug_4.jpg: 384x640 1 ParkingLot, 12.6ms\n",
      "image 620/1614 d:\\Downloads\\VIT Downloads\\Local Downloads\\Semester 6\\Deep Learning\\Project\\Bounding Box Detection\\Final Merge\\final\\images\\train\\06.01.25 09.00Am_frame_211094_aug_0.jpg: 384x640 1 ParkingLot, 13.0ms\n",
      "image 621/1614 d:\\Downloads\\VIT Downloads\\Local Downloads\\Semester 6\\Deep Learning\\Project\\Bounding Box Detection\\Final Merge\\final\\images\\train\\06.01.25 09.00Am_frame_211094_aug_1.jpg: 384x640 1 ParkingLot, 17.4ms\n",
      "image 622/1614 d:\\Downloads\\VIT Downloads\\Local Downloads\\Semester 6\\Deep Learning\\Project\\Bounding Box Detection\\Final Merge\\final\\images\\train\\06.01.25 09.00Am_frame_211094_aug_2.jpg: 384x640 1 ParkingLot, 19.4ms\n",
      "image 623/1614 d:\\Downloads\\VIT Downloads\\Local Downloads\\Semester 6\\Deep Learning\\Project\\Bounding Box Detection\\Final Merge\\final\\images\\train\\06.01.25 09.00Am_frame_211094_aug_3.jpg: 640x384 1 ParkingLot, 21.3ms\n",
      "image 624/1614 d:\\Downloads\\VIT Downloads\\Local Downloads\\Semester 6\\Deep Learning\\Project\\Bounding Box Detection\\Final Merge\\final\\images\\train\\06.01.25 09.00Am_frame_211094_aug_4.jpg: 384x640 1 ParkingLot, 14.5ms\n",
      "image 625/1614 d:\\Downloads\\VIT Downloads\\Local Downloads\\Semester 6\\Deep Learning\\Project\\Bounding Box Detection\\Final Merge\\final\\images\\train\\06.01.25 09.00Am_frame_247806_aug_0.jpg: 384x640 1 ParkingLot, 12.8ms\n",
      "image 626/1614 d:\\Downloads\\VIT Downloads\\Local Downloads\\Semester 6\\Deep Learning\\Project\\Bounding Box Detection\\Final Merge\\final\\images\\train\\06.01.25 09.00Am_frame_247806_aug_1.jpg: 384x640 1 ParkingLot, 15.9ms\n",
      "image 627/1614 d:\\Downloads\\VIT Downloads\\Local Downloads\\Semester 6\\Deep Learning\\Project\\Bounding Box Detection\\Final Merge\\final\\images\\train\\06.01.25 09.00Am_frame_247806_aug_2.jpg: 640x384 1 ParkingLot, 14.4ms\n",
      "image 628/1614 d:\\Downloads\\VIT Downloads\\Local Downloads\\Semester 6\\Deep Learning\\Project\\Bounding Box Detection\\Final Merge\\final\\images\\train\\06.01.25 09.00Am_frame_247806_aug_3.jpg: 640x384 1 ParkingLot, 12.4ms\n",
      "image 629/1614 d:\\Downloads\\VIT Downloads\\Local Downloads\\Semester 6\\Deep Learning\\Project\\Bounding Box Detection\\Final Merge\\final\\images\\train\\06.01.25 09.00Am_frame_247806_aug_4.jpg: 384x640 1 ParkingLot, 27.1ms\n",
      "image 630/1614 d:\\Downloads\\VIT Downloads\\Local Downloads\\Semester 6\\Deep Learning\\Project\\Bounding Box Detection\\Final Merge\\final\\images\\train\\06.01.25 09.00Am_frame_256984_aug_0.jpg: 384x640 1 ParkingLot, 13.1ms\n",
      "image 631/1614 d:\\Downloads\\VIT Downloads\\Local Downloads\\Semester 6\\Deep Learning\\Project\\Bounding Box Detection\\Final Merge\\final\\images\\train\\06.01.25 09.00Am_frame_256984_aug_1.jpg: 384x640 1 ParkingLot, 14.0ms\n",
      "image 632/1614 d:\\Downloads\\VIT Downloads\\Local Downloads\\Semester 6\\Deep Learning\\Project\\Bounding Box Detection\\Final Merge\\final\\images\\train\\06.01.25 09.00Am_frame_256984_aug_2.jpg: 384x640 1 ParkingLot, 12.6ms\n",
      "image 633/1614 d:\\Downloads\\VIT Downloads\\Local Downloads\\Semester 6\\Deep Learning\\Project\\Bounding Box Detection\\Final Merge\\final\\images\\train\\06.01.25 09.00Am_frame_256984_aug_3.jpg: 384x640 1 ParkingLot, 14.2ms\n",
      "image 634/1614 d:\\Downloads\\VIT Downloads\\Local Downloads\\Semester 6\\Deep Learning\\Project\\Bounding Box Detection\\Final Merge\\final\\images\\train\\06.01.25 09.00Am_frame_256984_aug_4.jpg: 384x640 1 ParkingLot, 13.4ms\n",
      "image 635/1614 d:\\Downloads\\VIT Downloads\\Local Downloads\\Semester 6\\Deep Learning\\Project\\Bounding Box Detection\\Final Merge\\final\\images\\train\\06.01.25 09.00Am_frame_266162_aug_0.jpg: 384x640 1 ParkingLot, 12.5ms\n",
      "image 636/1614 d:\\Downloads\\VIT Downloads\\Local Downloads\\Semester 6\\Deep Learning\\Project\\Bounding Box Detection\\Final Merge\\final\\images\\train\\06.01.25 09.00Am_frame_266162_aug_1.jpg: 384x640 1 ParkingLot, 16.2ms\n",
      "image 637/1614 d:\\Downloads\\VIT Downloads\\Local Downloads\\Semester 6\\Deep Learning\\Project\\Bounding Box Detection\\Final Merge\\final\\images\\train\\06.01.25 09.00Am_frame_266162_aug_2.jpg: 640x384 1 ParkingLot, 13.1ms\n",
      "image 638/1614 d:\\Downloads\\VIT Downloads\\Local Downloads\\Semester 6\\Deep Learning\\Project\\Bounding Box Detection\\Final Merge\\final\\images\\train\\06.01.25 09.00Am_frame_266162_aug_3.jpg: 384x640 1 ParkingLot, 26.5ms\n",
      "image 639/1614 d:\\Downloads\\VIT Downloads\\Local Downloads\\Semester 6\\Deep Learning\\Project\\Bounding Box Detection\\Final Merge\\final\\images\\train\\06.01.25 09.00Am_frame_266162_aug_4.jpg: 384x640 1 ParkingLot, 24.6ms\n",
      "image 640/1614 d:\\Downloads\\VIT Downloads\\Local Downloads\\Semester 6\\Deep Learning\\Project\\Bounding Box Detection\\Final Merge\\final\\images\\train\\06.01.25 09.00Am_frame_275340_aug_0.jpg: 384x640 1 ParkingLot, 26.4ms\n",
      "image 641/1614 d:\\Downloads\\VIT Downloads\\Local Downloads\\Semester 6\\Deep Learning\\Project\\Bounding Box Detection\\Final Merge\\final\\images\\train\\06.01.25 09.00Am_frame_275340_aug_1.jpg: 384x640 1 ParkingLot, 22.2ms\n",
      "image 642/1614 d:\\Downloads\\VIT Downloads\\Local Downloads\\Semester 6\\Deep Learning\\Project\\Bounding Box Detection\\Final Merge\\final\\images\\train\\06.01.25 09.00Am_frame_275340_aug_2.jpg: 384x640 1 ParkingLot, 13.6ms\n",
      "image 643/1614 d:\\Downloads\\VIT Downloads\\Local Downloads\\Semester 6\\Deep Learning\\Project\\Bounding Box Detection\\Final Merge\\final\\images\\train\\06.01.25 09.00Am_frame_275340_aug_3.jpg: 384x640 1 ParkingLot, 13.2ms\n",
      "image 644/1614 d:\\Downloads\\VIT Downloads\\Local Downloads\\Semester 6\\Deep Learning\\Project\\Bounding Box Detection\\Final Merge\\final\\images\\train\\06.01.25 09.00Am_frame_275340_aug_4.jpg: 640x384 1 ParkingLot, 13.7ms\n",
      "image 645/1614 d:\\Downloads\\VIT Downloads\\Local Downloads\\Semester 6\\Deep Learning\\Project\\Bounding Box Detection\\Final Merge\\final\\images\\train\\06.01.25 09.00Am_frame_284518_aug_0.jpg: 384x640 1 ParkingLot, 14.4ms\n",
      "image 646/1614 d:\\Downloads\\VIT Downloads\\Local Downloads\\Semester 6\\Deep Learning\\Project\\Bounding Box Detection\\Final Merge\\final\\images\\train\\06.01.25 09.00Am_frame_284518_aug_1.jpg: 384x640 1 ParkingLot, 13.3ms\n",
      "image 647/1614 d:\\Downloads\\VIT Downloads\\Local Downloads\\Semester 6\\Deep Learning\\Project\\Bounding Box Detection\\Final Merge\\final\\images\\train\\06.01.25 09.00Am_frame_284518_aug_2.jpg: 384x640 1 ParkingLot, 21.8ms\n",
      "image 648/1614 d:\\Downloads\\VIT Downloads\\Local Downloads\\Semester 6\\Deep Learning\\Project\\Bounding Box Detection\\Final Merge\\final\\images\\train\\06.01.25 09.00Am_frame_284518_aug_3.jpg: 384x640 1 ParkingLot, 14.1ms\n",
      "image 649/1614 d:\\Downloads\\VIT Downloads\\Local Downloads\\Semester 6\\Deep Learning\\Project\\Bounding Box Detection\\Final Merge\\final\\images\\train\\06.01.25 09.00Am_frame_284518_aug_4.jpg: 384x640 1 ParkingLot, 22.5ms\n",
      "image 650/1614 d:\\Downloads\\VIT Downloads\\Local Downloads\\Semester 6\\Deep Learning\\Project\\Bounding Box Detection\\Final Merge\\final\\images\\train\\06.01.25 09.00Am_frame_293696_aug_0.jpg: 384x640 1 ParkingLot, 17.6ms\n",
      "image 651/1614 d:\\Downloads\\VIT Downloads\\Local Downloads\\Semester 6\\Deep Learning\\Project\\Bounding Box Detection\\Final Merge\\final\\images\\train\\06.01.25 09.00Am_frame_293696_aug_1.jpg: 384x640 1 ParkingLot, 17.1ms\n",
      "image 652/1614 d:\\Downloads\\VIT Downloads\\Local Downloads\\Semester 6\\Deep Learning\\Project\\Bounding Box Detection\\Final Merge\\final\\images\\train\\06.01.25 09.00Am_frame_293696_aug_2.jpg: 384x640 1 ParkingLot, 17.2ms\n",
      "image 653/1614 d:\\Downloads\\VIT Downloads\\Local Downloads\\Semester 6\\Deep Learning\\Project\\Bounding Box Detection\\Final Merge\\final\\images\\train\\06.01.25 09.00Am_frame_293696_aug_3.jpg: 384x640 1 ParkingLot, 15.6ms\n",
      "image 654/1614 d:\\Downloads\\VIT Downloads\\Local Downloads\\Semester 6\\Deep Learning\\Project\\Bounding Box Detection\\Final Merge\\final\\images\\train\\06.01.25 09.00Am_frame_293696_aug_4.jpg: 384x640 1 ParkingLot, 13.1ms\n",
      "image 655/1614 d:\\Downloads\\VIT Downloads\\Local Downloads\\Semester 6\\Deep Learning\\Project\\Bounding Box Detection\\Final Merge\\final\\images\\train\\06.01.25 09.00Am_frame_302874_aug_0.jpg: 384x640 1 ParkingLot, 13.0ms\n",
      "image 656/1614 d:\\Downloads\\VIT Downloads\\Local Downloads\\Semester 6\\Deep Learning\\Project\\Bounding Box Detection\\Final Merge\\final\\images\\train\\06.01.25 09.00Am_frame_302874_aug_1.jpg: 384x640 1 ParkingLot, 14.1ms\n",
      "image 657/1614 d:\\Downloads\\VIT Downloads\\Local Downloads\\Semester 6\\Deep Learning\\Project\\Bounding Box Detection\\Final Merge\\final\\images\\train\\06.01.25 09.00Am_frame_302874_aug_3.jpg: 640x384 1 ParkingLot, 13.5ms\n",
      "image 658/1614 d:\\Downloads\\VIT Downloads\\Local Downloads\\Semester 6\\Deep Learning\\Project\\Bounding Box Detection\\Final Merge\\final\\images\\train\\06.01.25 09.00Am_frame_302874_aug_4.jpg: 384x640 1 ParkingLot, 26.7ms\n",
      "image 659/1614 d:\\Downloads\\VIT Downloads\\Local Downloads\\Semester 6\\Deep Learning\\Project\\Bounding Box Detection\\Final Merge\\final\\images\\train\\06.01.25 09.00Am_frame_312052_aug_0.jpg: 640x384 1 ParkingLot, 14.7ms\n",
      "image 660/1614 d:\\Downloads\\VIT Downloads\\Local Downloads\\Semester 6\\Deep Learning\\Project\\Bounding Box Detection\\Final Merge\\final\\images\\train\\06.01.25 09.00Am_frame_312052_aug_1.jpg: 384x640 1 ParkingLot, 28.0ms\n",
      "image 661/1614 d:\\Downloads\\VIT Downloads\\Local Downloads\\Semester 6\\Deep Learning\\Project\\Bounding Box Detection\\Final Merge\\final\\images\\train\\06.01.25 09.00Am_frame_312052_aug_2.jpg: 640x384 1 ParkingLot, 29.6ms\n",
      "image 662/1614 d:\\Downloads\\VIT Downloads\\Local Downloads\\Semester 6\\Deep Learning\\Project\\Bounding Box Detection\\Final Merge\\final\\images\\train\\06.01.25 09.00Am_frame_312052_aug_3.jpg: 384x640 1 ParkingLot, 28.4ms\n",
      "image 663/1614 d:\\Downloads\\VIT Downloads\\Local Downloads\\Semester 6\\Deep Learning\\Project\\Bounding Box Detection\\Final Merge\\final\\images\\train\\06.01.25 09.00Am_frame_321230_aug_0.jpg: 384x640 1 ParkingLot, 13.9ms\n",
      "image 664/1614 d:\\Downloads\\VIT Downloads\\Local Downloads\\Semester 6\\Deep Learning\\Project\\Bounding Box Detection\\Final Merge\\final\\images\\train\\06.01.25 09.00Am_frame_321230_aug_1.jpg: 384x640 1 ParkingLot, 13.6ms\n",
      "image 665/1614 d:\\Downloads\\VIT Downloads\\Local Downloads\\Semester 6\\Deep Learning\\Project\\Bounding Box Detection\\Final Merge\\final\\images\\train\\06.01.25 09.00Am_frame_321230_aug_2.jpg: 640x384 1 ParkingLot, 14.1ms\n",
      "image 666/1614 d:\\Downloads\\VIT Downloads\\Local Downloads\\Semester 6\\Deep Learning\\Project\\Bounding Box Detection\\Final Merge\\final\\images\\train\\06.01.25 09.00Am_frame_321230_aug_3.jpg: 640x384 1 ParkingLot, 12.3ms\n",
      "image 667/1614 d:\\Downloads\\VIT Downloads\\Local Downloads\\Semester 6\\Deep Learning\\Project\\Bounding Box Detection\\Final Merge\\final\\images\\train\\06.01.25 09.00Am_frame_321230_aug_4.jpg: 384x640 1 ParkingLot, 14.0ms\n",
      "image 668/1614 d:\\Downloads\\VIT Downloads\\Local Downloads\\Semester 6\\Deep Learning\\Project\\Bounding Box Detection\\Final Merge\\final\\images\\train\\06.01.25 09.00Am_frame_330408_aug_0.jpg: 384x640 1 ParkingLot, 17.4ms\n",
      "image 669/1614 d:\\Downloads\\VIT Downloads\\Local Downloads\\Semester 6\\Deep Learning\\Project\\Bounding Box Detection\\Final Merge\\final\\images\\train\\06.01.25 09.00Am_frame_330408_aug_1.jpg: 384x640 1 ParkingLot, 13.8ms\n",
      "image 670/1614 d:\\Downloads\\VIT Downloads\\Local Downloads\\Semester 6\\Deep Learning\\Project\\Bounding Box Detection\\Final Merge\\final\\images\\train\\06.01.25 09.00Am_frame_330408_aug_2.jpg: 384x640 1 ParkingLot, 12.7ms\n",
      "image 671/1614 d:\\Downloads\\VIT Downloads\\Local Downloads\\Semester 6\\Deep Learning\\Project\\Bounding Box Detection\\Final Merge\\final\\images\\train\\06.01.25 09.00Am_frame_330408_aug_3.jpg: 640x384 1 ParkingLot, 17.8ms\n",
      "image 672/1614 d:\\Downloads\\VIT Downloads\\Local Downloads\\Semester 6\\Deep Learning\\Project\\Bounding Box Detection\\Final Merge\\final\\images\\train\\06.01.25 09.00Am_frame_330408_aug_4.jpg: 640x384 1 ParkingLot, 12.8ms\n",
      "image 673/1614 d:\\Downloads\\VIT Downloads\\Local Downloads\\Semester 6\\Deep Learning\\Project\\Bounding Box Detection\\Final Merge\\final\\images\\train\\06.01.25 09.00Am_frame_339586_aug_1.jpg: 384x640 1 ParkingLot, 14.4ms\n",
      "image 674/1614 d:\\Downloads\\VIT Downloads\\Local Downloads\\Semester 6\\Deep Learning\\Project\\Bounding Box Detection\\Final Merge\\final\\images\\train\\06.01.25 09.00Am_frame_339586_aug_2.jpg: 640x384 1 ParkingLot, 16.3ms\n",
      "image 675/1614 d:\\Downloads\\VIT Downloads\\Local Downloads\\Semester 6\\Deep Learning\\Project\\Bounding Box Detection\\Final Merge\\final\\images\\train\\06.01.25 09.00Am_frame_339586_aug_3.jpg: 384x640 1 ParkingLot, 22.0ms\n",
      "image 676/1614 d:\\Downloads\\VIT Downloads\\Local Downloads\\Semester 6\\Deep Learning\\Project\\Bounding Box Detection\\Final Merge\\final\\images\\train\\06.01.25 09.00Am_frame_339586_aug_4.jpg: 640x384 1 ParkingLot, 13.5ms\n",
      "image 677/1614 d:\\Downloads\\VIT Downloads\\Local Downloads\\Semester 6\\Deep Learning\\Project\\Bounding Box Detection\\Final Merge\\final\\images\\train\\06.01.25 09.00Am_frame_394654_aug_0.jpg: 384x640 1 ParkingLot, 16.2ms\n",
      "image 678/1614 d:\\Downloads\\VIT Downloads\\Local Downloads\\Semester 6\\Deep Learning\\Project\\Bounding Box Detection\\Final Merge\\final\\images\\train\\06.01.25 09.00Am_frame_394654_aug_1.jpg: 384x640 1 ParkingLot, 17.3ms\n",
      "image 679/1614 d:\\Downloads\\VIT Downloads\\Local Downloads\\Semester 6\\Deep Learning\\Project\\Bounding Box Detection\\Final Merge\\final\\images\\train\\06.01.25 09.00Am_frame_394654_aug_2.jpg: 384x640 1 ParkingLot, 15.1ms\n",
      "image 680/1614 d:\\Downloads\\VIT Downloads\\Local Downloads\\Semester 6\\Deep Learning\\Project\\Bounding Box Detection\\Final Merge\\final\\images\\train\\06.01.25 09.00Am_frame_394654_aug_3.jpg: 384x640 1 ParkingLot, 19.6ms\n",
      "image 681/1614 d:\\Downloads\\VIT Downloads\\Local Downloads\\Semester 6\\Deep Learning\\Project\\Bounding Box Detection\\Final Merge\\final\\images\\train\\06.01.25 09.00Am_frame_394654_aug_4.jpg: 384x640 1 ParkingLot, 13.8ms\n",
      "image 682/1614 d:\\Downloads\\VIT Downloads\\Local Downloads\\Semester 6\\Deep Learning\\Project\\Bounding Box Detection\\Final Merge\\final\\images\\train\\06.01.25 09.00Am_frame_403832_aug_0.jpg: 384x640 1 ParkingLot, 17.2ms\n",
      "image 683/1614 d:\\Downloads\\VIT Downloads\\Local Downloads\\Semester 6\\Deep Learning\\Project\\Bounding Box Detection\\Final Merge\\final\\images\\train\\06.01.25 09.00Am_frame_403832_aug_1.jpg: 384x640 1 ParkingLot, 13.2ms\n",
      "image 684/1614 d:\\Downloads\\VIT Downloads\\Local Downloads\\Semester 6\\Deep Learning\\Project\\Bounding Box Detection\\Final Merge\\final\\images\\train\\06.01.25 09.00Am_frame_403832_aug_2.jpg: 384x640 1 ParkingLot, 18.6ms\n",
      "image 685/1614 d:\\Downloads\\VIT Downloads\\Local Downloads\\Semester 6\\Deep Learning\\Project\\Bounding Box Detection\\Final Merge\\final\\images\\train\\06.01.25 09.00Am_frame_403832_aug_3.jpg: 384x640 1 ParkingLot, 13.5ms\n",
      "image 686/1614 d:\\Downloads\\VIT Downloads\\Local Downloads\\Semester 6\\Deep Learning\\Project\\Bounding Box Detection\\Final Merge\\final\\images\\train\\06.01.25 09.00Am_frame_403832_aug_4.jpg: 384x640 1 ParkingLot, 14.2ms\n",
      "image 687/1614 d:\\Downloads\\VIT Downloads\\Local Downloads\\Semester 6\\Deep Learning\\Project\\Bounding Box Detection\\Final Merge\\final\\images\\train\\06.01.25 09.00Am_frame_413010_aug_0.jpg: 640x384 1 ParkingLot, 14.1ms\n",
      "image 688/1614 d:\\Downloads\\VIT Downloads\\Local Downloads\\Semester 6\\Deep Learning\\Project\\Bounding Box Detection\\Final Merge\\final\\images\\train\\06.01.25 09.00Am_frame_413010_aug_1.jpg: 384x640 1 ParkingLot, 26.0ms\n",
      "image 689/1614 d:\\Downloads\\VIT Downloads\\Local Downloads\\Semester 6\\Deep Learning\\Project\\Bounding Box Detection\\Final Merge\\final\\images\\train\\06.01.25 09.00Am_frame_413010_aug_2.jpg: 640x384 1 ParkingLot, 14.3ms\n",
      "image 690/1614 d:\\Downloads\\VIT Downloads\\Local Downloads\\Semester 6\\Deep Learning\\Project\\Bounding Box Detection\\Final Merge\\final\\images\\train\\06.01.25 09.00Am_frame_413010_aug_3.jpg: 384x640 1 ParkingLot, 14.3ms\n",
      "image 691/1614 d:\\Downloads\\VIT Downloads\\Local Downloads\\Semester 6\\Deep Learning\\Project\\Bounding Box Detection\\Final Merge\\final\\images\\train\\06.01.25 09.00Am_frame_413010_aug_4.jpg: 640x384 1 ParkingLot, 14.6ms\n",
      "image 692/1614 d:\\Downloads\\VIT Downloads\\Local Downloads\\Semester 6\\Deep Learning\\Project\\Bounding Box Detection\\Final Merge\\final\\images\\train\\06.01.25 09.00Am_frame_422188_aug_0.jpg: 384x640 1 ParkingLot, 19.0ms\n",
      "image 693/1614 d:\\Downloads\\VIT Downloads\\Local Downloads\\Semester 6\\Deep Learning\\Project\\Bounding Box Detection\\Final Merge\\final\\images\\train\\06.01.25 09.00Am_frame_422188_aug_1.jpg: 384x640 1 ParkingLot, 13.7ms\n",
      "image 694/1614 d:\\Downloads\\VIT Downloads\\Local Downloads\\Semester 6\\Deep Learning\\Project\\Bounding Box Detection\\Final Merge\\final\\images\\train\\06.01.25 09.00Am_frame_422188_aug_2.jpg: 384x640 1 ParkingLot, 12.8ms\n",
      "image 695/1614 d:\\Downloads\\VIT Downloads\\Local Downloads\\Semester 6\\Deep Learning\\Project\\Bounding Box Detection\\Final Merge\\final\\images\\train\\06.01.25 09.00Am_frame_422188_aug_3.jpg: 384x640 1 ParkingLot, 12.7ms\n",
      "image 696/1614 d:\\Downloads\\VIT Downloads\\Local Downloads\\Semester 6\\Deep Learning\\Project\\Bounding Box Detection\\Final Merge\\final\\images\\train\\06.01.25 09.00Am_frame_422188_aug_4.jpg: 384x640 1 ParkingLot, 12.9ms\n",
      "image 697/1614 d:\\Downloads\\VIT Downloads\\Local Downloads\\Semester 6\\Deep Learning\\Project\\Bounding Box Detection\\Final Merge\\final\\images\\train\\06.01.25 09.00Am_frame_431366_aug_0.jpg: 384x640 1 ParkingLot, 14.1ms\n",
      "image 698/1614 d:\\Downloads\\VIT Downloads\\Local Downloads\\Semester 6\\Deep Learning\\Project\\Bounding Box Detection\\Final Merge\\final\\images\\train\\06.01.25 09.00Am_frame_431366_aug_1.jpg: 640x384 1 ParkingLot, 16.6ms\n",
      "image 699/1614 d:\\Downloads\\VIT Downloads\\Local Downloads\\Semester 6\\Deep Learning\\Project\\Bounding Box Detection\\Final Merge\\final\\images\\train\\06.01.25 09.00Am_frame_431366_aug_2.jpg: 384x640 1 ParkingLot, 13.9ms\n",
      "image 700/1614 d:\\Downloads\\VIT Downloads\\Local Downloads\\Semester 6\\Deep Learning\\Project\\Bounding Box Detection\\Final Merge\\final\\images\\train\\06.01.25 09.00Am_frame_431366_aug_3.jpg: 384x640 1 ParkingLot, 12.5ms\n",
      "image 701/1614 d:\\Downloads\\VIT Downloads\\Local Downloads\\Semester 6\\Deep Learning\\Project\\Bounding Box Detection\\Final Merge\\final\\images\\train\\06.01.25 09.00Am_frame_431366_aug_4.jpg: 640x384 1 ParkingLot, 14.2ms\n",
      "image 702/1614 d:\\Downloads\\VIT Downloads\\Local Downloads\\Semester 6\\Deep Learning\\Project\\Bounding Box Detection\\Final Merge\\final\\images\\train\\06.01.25 09.00Am_frame_440544_aug_0.jpg: 384x640 1 ParkingLot, 14.0ms\n",
      "image 703/1614 d:\\Downloads\\VIT Downloads\\Local Downloads\\Semester 6\\Deep Learning\\Project\\Bounding Box Detection\\Final Merge\\final\\images\\train\\06.01.25 09.00Am_frame_440544_aug_1.jpg: 384x640 1 ParkingLot, 12.7ms\n",
      "image 704/1614 d:\\Downloads\\VIT Downloads\\Local Downloads\\Semester 6\\Deep Learning\\Project\\Bounding Box Detection\\Final Merge\\final\\images\\train\\06.01.25 09.00Am_frame_440544_aug_2.jpg: 640x384 1 ParkingLot, 14.3ms\n",
      "image 705/1614 d:\\Downloads\\VIT Downloads\\Local Downloads\\Semester 6\\Deep Learning\\Project\\Bounding Box Detection\\Final Merge\\final\\images\\train\\06.01.25 09.00Am_frame_440544_aug_3.jpg: 384x640 1 ParkingLot, 17.6ms\n",
      "image 706/1614 d:\\Downloads\\VIT Downloads\\Local Downloads\\Semester 6\\Deep Learning\\Project\\Bounding Box Detection\\Final Merge\\final\\images\\train\\06.01.25 09.00Am_frame_440544_aug_4.jpg: 384x640 1 ParkingLot, 13.1ms\n",
      "image 707/1614 d:\\Downloads\\VIT Downloads\\Local Downloads\\Semester 6\\Deep Learning\\Project\\Bounding Box Detection\\Final Merge\\final\\images\\train\\06.01.25 09.00Am_frame_458900_aug_0.jpg: 384x640 1 ParkingLot, 25.9ms\n",
      "image 708/1614 d:\\Downloads\\VIT Downloads\\Local Downloads\\Semester 6\\Deep Learning\\Project\\Bounding Box Detection\\Final Merge\\final\\images\\train\\06.01.25 09.00Am_frame_458900_aug_1.jpg: 384x640 1 ParkingLot, 15.3ms\n",
      "image 709/1614 d:\\Downloads\\VIT Downloads\\Local Downloads\\Semester 6\\Deep Learning\\Project\\Bounding Box Detection\\Final Merge\\final\\images\\train\\06.01.25 09.00Am_frame_458900_aug_2.jpg: 640x384 1 ParkingLot, 13.4ms\n",
      "image 710/1614 d:\\Downloads\\VIT Downloads\\Local Downloads\\Semester 6\\Deep Learning\\Project\\Bounding Box Detection\\Final Merge\\final\\images\\train\\06.01.25 09.00Am_frame_458900_aug_3.jpg: 640x384 1 ParkingLot, 15.3ms\n",
      "image 711/1614 d:\\Downloads\\VIT Downloads\\Local Downloads\\Semester 6\\Deep Learning\\Project\\Bounding Box Detection\\Final Merge\\final\\images\\train\\06.01.25 09.00Am_frame_458900_aug_4.jpg: 384x640 1 ParkingLot, 15.1ms\n",
      "image 712/1614 d:\\Downloads\\VIT Downloads\\Local Downloads\\Semester 6\\Deep Learning\\Project\\Bounding Box Detection\\Final Merge\\final\\images\\train\\07.01.25 02.50Pm_frame_000000_aug_0.jpg: 384x640 1 ParkingLot, 12.9ms\n",
      "image 713/1614 d:\\Downloads\\VIT Downloads\\Local Downloads\\Semester 6\\Deep Learning\\Project\\Bounding Box Detection\\Final Merge\\final\\images\\train\\07.01.25 02.50Pm_frame_000000_aug_1.jpg: 384x640 1 ParkingLot, 12.9ms\n",
      "image 714/1614 d:\\Downloads\\VIT Downloads\\Local Downloads\\Semester 6\\Deep Learning\\Project\\Bounding Box Detection\\Final Merge\\final\\images\\train\\07.01.25 02.50Pm_frame_000000_aug_2.jpg: 384x640 1 ParkingLot, 12.9ms\n",
      "image 715/1614 d:\\Downloads\\VIT Downloads\\Local Downloads\\Semester 6\\Deep Learning\\Project\\Bounding Box Detection\\Final Merge\\final\\images\\train\\07.01.25 02.50Pm_frame_000000_aug_3.jpg: 640x384 1 ParkingLot, 14.4ms\n",
      "image 716/1614 d:\\Downloads\\VIT Downloads\\Local Downloads\\Semester 6\\Deep Learning\\Project\\Bounding Box Detection\\Final Merge\\final\\images\\train\\07.01.25 02.50Pm_frame_000000_aug_4.jpg: 384x640 1 ParkingLot, 26.5ms\n",
      "image 717/1614 d:\\Downloads\\VIT Downloads\\Local Downloads\\Semester 6\\Deep Learning\\Project\\Bounding Box Detection\\Final Merge\\final\\images\\train\\07.01.25 02.50Pm_frame_008466_aug_0.jpg: 384x640 1 ParkingLot, 24.5ms\n",
      "image 718/1614 d:\\Downloads\\VIT Downloads\\Local Downloads\\Semester 6\\Deep Learning\\Project\\Bounding Box Detection\\Final Merge\\final\\images\\train\\07.01.25 02.50Pm_frame_008466_aug_1.jpg: 384x640 1 ParkingLot, 13.1ms\n",
      "image 719/1614 d:\\Downloads\\VIT Downloads\\Local Downloads\\Semester 6\\Deep Learning\\Project\\Bounding Box Detection\\Final Merge\\final\\images\\train\\07.01.25 02.50Pm_frame_008466_aug_2.jpg: 384x640 1 ParkingLot, 13.2ms\n",
      "image 720/1614 d:\\Downloads\\VIT Downloads\\Local Downloads\\Semester 6\\Deep Learning\\Project\\Bounding Box Detection\\Final Merge\\final\\images\\train\\07.01.25 02.50Pm_frame_008466_aug_3.jpg: 384x640 1 ParkingLot, 13.2ms\n",
      "image 721/1614 d:\\Downloads\\VIT Downloads\\Local Downloads\\Semester 6\\Deep Learning\\Project\\Bounding Box Detection\\Final Merge\\final\\images\\train\\07.01.25 02.50Pm_frame_008466_aug_4.jpg: 384x640 1 ParkingLot, 14.4ms\n",
      "image 722/1614 d:\\Downloads\\VIT Downloads\\Local Downloads\\Semester 6\\Deep Learning\\Project\\Bounding Box Detection\\Final Merge\\final\\images\\train\\07.01.25 02.50Pm_frame_016932_aug_0.jpg: 640x384 1 ParkingLot, 13.2ms\n",
      "image 723/1614 d:\\Downloads\\VIT Downloads\\Local Downloads\\Semester 6\\Deep Learning\\Project\\Bounding Box Detection\\Final Merge\\final\\images\\train\\07.01.25 02.50Pm_frame_016932_aug_1.jpg: 640x384 1 ParkingLot, 12.7ms\n",
      "image 724/1614 d:\\Downloads\\VIT Downloads\\Local Downloads\\Semester 6\\Deep Learning\\Project\\Bounding Box Detection\\Final Merge\\final\\images\\train\\07.01.25 02.50Pm_frame_016932_aug_2.jpg: 384x640 1 ParkingLot, 19.5ms\n",
      "image 725/1614 d:\\Downloads\\VIT Downloads\\Local Downloads\\Semester 6\\Deep Learning\\Project\\Bounding Box Detection\\Final Merge\\final\\images\\train\\07.01.25 02.50Pm_frame_016932_aug_3.jpg: 384x640 1 ParkingLot, 18.0ms\n",
      "image 726/1614 d:\\Downloads\\VIT Downloads\\Local Downloads\\Semester 6\\Deep Learning\\Project\\Bounding Box Detection\\Final Merge\\final\\images\\train\\07.01.25 02.50Pm_frame_016932_aug_4.jpg: 640x384 1 ParkingLot, 13.5ms\n",
      "image 727/1614 d:\\Downloads\\VIT Downloads\\Local Downloads\\Semester 6\\Deep Learning\\Project\\Bounding Box Detection\\Final Merge\\final\\images\\train\\07.01.25 02.50Pm_frame_033864_aug_0.jpg: 640x384 1 ParkingLot, 13.0ms\n",
      "image 728/1614 d:\\Downloads\\VIT Downloads\\Local Downloads\\Semester 6\\Deep Learning\\Project\\Bounding Box Detection\\Final Merge\\final\\images\\train\\07.01.25 02.50Pm_frame_033864_aug_1.jpg: 640x384 1 ParkingLot, 13.9ms\n",
      "image 729/1614 d:\\Downloads\\VIT Downloads\\Local Downloads\\Semester 6\\Deep Learning\\Project\\Bounding Box Detection\\Final Merge\\final\\images\\train\\07.01.25 02.50Pm_frame_033864_aug_2.jpg: 640x384 1 ParkingLot, 13.3ms\n",
      "image 730/1614 d:\\Downloads\\VIT Downloads\\Local Downloads\\Semester 6\\Deep Learning\\Project\\Bounding Box Detection\\Final Merge\\final\\images\\train\\07.01.25 02.50Pm_frame_033864_aug_3.jpg: 384x640 1 ParkingLot, 16.7ms\n",
      "image 731/1614 d:\\Downloads\\VIT Downloads\\Local Downloads\\Semester 6\\Deep Learning\\Project\\Bounding Box Detection\\Final Merge\\final\\images\\train\\07.01.25 02.50Pm_frame_033864_aug_4.jpg: 384x640 1 ParkingLot, 13.1ms\n",
      "image 732/1614 d:\\Downloads\\VIT Downloads\\Local Downloads\\Semester 6\\Deep Learning\\Project\\Bounding Box Detection\\Final Merge\\final\\images\\train\\07.01.25 02.50Pm_frame_042330_aug_0.jpg: 384x640 1 ParkingLot, 12.8ms\n",
      "image 733/1614 d:\\Downloads\\VIT Downloads\\Local Downloads\\Semester 6\\Deep Learning\\Project\\Bounding Box Detection\\Final Merge\\final\\images\\train\\07.01.25 02.50Pm_frame_042330_aug_1.jpg: 384x640 1 ParkingLot, 12.4ms\n",
      "image 734/1614 d:\\Downloads\\VIT Downloads\\Local Downloads\\Semester 6\\Deep Learning\\Project\\Bounding Box Detection\\Final Merge\\final\\images\\train\\07.01.25 02.50Pm_frame_042330_aug_2.jpg: 384x640 1 ParkingLot, 15.1ms\n",
      "image 735/1614 d:\\Downloads\\VIT Downloads\\Local Downloads\\Semester 6\\Deep Learning\\Project\\Bounding Box Detection\\Final Merge\\final\\images\\train\\07.01.25 02.50Pm_frame_042330_aug_3.jpg: 384x640 1 ParkingLot, 24.7ms\n",
      "image 736/1614 d:\\Downloads\\VIT Downloads\\Local Downloads\\Semester 6\\Deep Learning\\Project\\Bounding Box Detection\\Final Merge\\final\\images\\train\\07.01.25 02.50Pm_frame_042330_aug_4.jpg: 384x640 1 ParkingLot, 14.2ms\n",
      "image 737/1614 d:\\Downloads\\VIT Downloads\\Local Downloads\\Semester 6\\Deep Learning\\Project\\Bounding Box Detection\\Final Merge\\final\\images\\train\\07.01.25 02.50Pm_frame_076194_aug_0.jpg: 384x640 1 ParkingLot, 24.9ms\n",
      "image 738/1614 d:\\Downloads\\VIT Downloads\\Local Downloads\\Semester 6\\Deep Learning\\Project\\Bounding Box Detection\\Final Merge\\final\\images\\train\\07.01.25 02.50Pm_frame_076194_aug_1.jpg: 384x640 1 ParkingLot, 12.8ms\n",
      "image 739/1614 d:\\Downloads\\VIT Downloads\\Local Downloads\\Semester 6\\Deep Learning\\Project\\Bounding Box Detection\\Final Merge\\final\\images\\train\\07.01.25 02.50Pm_frame_076194_aug_2.jpg: 384x640 1 ParkingLot, 13.6ms\n",
      "image 740/1614 d:\\Downloads\\VIT Downloads\\Local Downloads\\Semester 6\\Deep Learning\\Project\\Bounding Box Detection\\Final Merge\\final\\images\\train\\07.01.25 02.50Pm_frame_076194_aug_3.jpg: 384x640 1 ParkingLot, 14.6ms\n",
      "image 741/1614 d:\\Downloads\\VIT Downloads\\Local Downloads\\Semester 6\\Deep Learning\\Project\\Bounding Box Detection\\Final Merge\\final\\images\\train\\07.01.25 02.50Pm_frame_076194_aug_4.jpg: 640x384 1 ParkingLot, 23.1ms\n",
      "image 742/1614 d:\\Downloads\\VIT Downloads\\Local Downloads\\Semester 6\\Deep Learning\\Project\\Bounding Box Detection\\Final Merge\\final\\images\\train\\07.01.25 02.50Pm_frame_084660_aug_0.jpg: 384x640 1 ParkingLot, 19.1ms\n",
      "image 743/1614 d:\\Downloads\\VIT Downloads\\Local Downloads\\Semester 6\\Deep Learning\\Project\\Bounding Box Detection\\Final Merge\\final\\images\\train\\07.01.25 02.50Pm_frame_084660_aug_1.jpg: 640x384 1 ParkingLot, 13.4ms\n",
      "image 744/1614 d:\\Downloads\\VIT Downloads\\Local Downloads\\Semester 6\\Deep Learning\\Project\\Bounding Box Detection\\Final Merge\\final\\images\\train\\07.01.25 02.50Pm_frame_084660_aug_2.jpg: 384x640 1 ParkingLot, 14.4ms\n",
      "image 745/1614 d:\\Downloads\\VIT Downloads\\Local Downloads\\Semester 6\\Deep Learning\\Project\\Bounding Box Detection\\Final Merge\\final\\images\\train\\07.01.25 02.50Pm_frame_084660_aug_3.jpg: 640x384 1 ParkingLot, 14.3ms\n",
      "image 746/1614 d:\\Downloads\\VIT Downloads\\Local Downloads\\Semester 6\\Deep Learning\\Project\\Bounding Box Detection\\Final Merge\\final\\images\\train\\07.01.25 02.50Pm_frame_084660_aug_4.jpg: 384x640 1 ParkingLot, 14.7ms\n",
      "image 747/1614 d:\\Downloads\\VIT Downloads\\Local Downloads\\Semester 6\\Deep Learning\\Project\\Bounding Box Detection\\Final Merge\\final\\images\\train\\07.01.25 02.50Pm_frame_093126_aug_0.jpg: 384x640 1 ParkingLot, 13.5ms\n",
      "image 748/1614 d:\\Downloads\\VIT Downloads\\Local Downloads\\Semester 6\\Deep Learning\\Project\\Bounding Box Detection\\Final Merge\\final\\images\\train\\07.01.25 02.50Pm_frame_093126_aug_1.jpg: 384x640 1 ParkingLot, 13.8ms\n",
      "image 749/1614 d:\\Downloads\\VIT Downloads\\Local Downloads\\Semester 6\\Deep Learning\\Project\\Bounding Box Detection\\Final Merge\\final\\images\\train\\07.01.25 02.50Pm_frame_093126_aug_2.jpg: 384x640 1 ParkingLot, 16.4ms\n",
      "image 750/1614 d:\\Downloads\\VIT Downloads\\Local Downloads\\Semester 6\\Deep Learning\\Project\\Bounding Box Detection\\Final Merge\\final\\images\\train\\07.01.25 02.50Pm_frame_093126_aug_3.jpg: 640x384 1 ParkingLot, 13.9ms\n",
      "image 751/1614 d:\\Downloads\\VIT Downloads\\Local Downloads\\Semester 6\\Deep Learning\\Project\\Bounding Box Detection\\Final Merge\\final\\images\\train\\07.01.25 02.50Pm_frame_093126_aug_4.jpg: 384x640 1 ParkingLot, 15.0ms\n",
      "image 752/1614 d:\\Downloads\\VIT Downloads\\Local Downloads\\Semester 6\\Deep Learning\\Project\\Bounding Box Detection\\Final Merge\\final\\images\\train\\07.01.25 02.50Pm_frame_152388_aug_0.jpg: 384x640 1 ParkingLot, 16.4ms\n",
      "image 753/1614 d:\\Downloads\\VIT Downloads\\Local Downloads\\Semester 6\\Deep Learning\\Project\\Bounding Box Detection\\Final Merge\\final\\images\\train\\07.01.25 02.50Pm_frame_152388_aug_1.jpg: 384x640 1 ParkingLot, 14.2ms\n",
      "image 754/1614 d:\\Downloads\\VIT Downloads\\Local Downloads\\Semester 6\\Deep Learning\\Project\\Bounding Box Detection\\Final Merge\\final\\images\\train\\07.01.25 02.50Pm_frame_152388_aug_2.jpg: 384x640 1 ParkingLot, 17.0ms\n",
      "image 755/1614 d:\\Downloads\\VIT Downloads\\Local Downloads\\Semester 6\\Deep Learning\\Project\\Bounding Box Detection\\Final Merge\\final\\images\\train\\07.01.25 02.50Pm_frame_152388_aug_3.jpg: 384x640 1 ParkingLot, 15.3ms\n",
      "image 756/1614 d:\\Downloads\\VIT Downloads\\Local Downloads\\Semester 6\\Deep Learning\\Project\\Bounding Box Detection\\Final Merge\\final\\images\\train\\07.01.25 02.50Pm_frame_152388_aug_4.jpg: 384x640 1 ParkingLot, 21.7ms\n",
      "image 757/1614 d:\\Downloads\\VIT Downloads\\Local Downloads\\Semester 6\\Deep Learning\\Project\\Bounding Box Detection\\Final Merge\\final\\images\\train\\07.01.25 02.50Pm_frame_160854_aug_0.jpg: 384x640 1 ParkingLot, 30.7ms\n",
      "image 758/1614 d:\\Downloads\\VIT Downloads\\Local Downloads\\Semester 6\\Deep Learning\\Project\\Bounding Box Detection\\Final Merge\\final\\images\\train\\07.01.25 02.50Pm_frame_160854_aug_1.jpg: 384x640 1 ParkingLot, 27.8ms\n",
      "image 759/1614 d:\\Downloads\\VIT Downloads\\Local Downloads\\Semester 6\\Deep Learning\\Project\\Bounding Box Detection\\Final Merge\\final\\images\\train\\07.01.25 02.50Pm_frame_160854_aug_2.jpg: 384x640 1 ParkingLot, 15.0ms\n",
      "image 760/1614 d:\\Downloads\\VIT Downloads\\Local Downloads\\Semester 6\\Deep Learning\\Project\\Bounding Box Detection\\Final Merge\\final\\images\\train\\07.01.25 02.50Pm_frame_160854_aug_3.jpg: 384x640 1 ParkingLot, 18.6ms\n",
      "image 761/1614 d:\\Downloads\\VIT Downloads\\Local Downloads\\Semester 6\\Deep Learning\\Project\\Bounding Box Detection\\Final Merge\\final\\images\\train\\07.01.25 02.50Pm_frame_160854_aug_4.jpg: 640x384 1 ParkingLot, 14.9ms\n",
      "image 762/1614 d:\\Downloads\\VIT Downloads\\Local Downloads\\Semester 6\\Deep Learning\\Project\\Bounding Box Detection\\Final Merge\\final\\images\\train\\07.01.25 02.50Pm_frame_194718_aug_0.jpg: 640x384 1 ParkingLot, 14.5ms\n",
      "image 763/1614 d:\\Downloads\\VIT Downloads\\Local Downloads\\Semester 6\\Deep Learning\\Project\\Bounding Box Detection\\Final Merge\\final\\images\\train\\07.01.25 02.50Pm_frame_194718_aug_1.jpg: 384x640 1 ParkingLot, 14.8ms\n",
      "image 764/1614 d:\\Downloads\\VIT Downloads\\Local Downloads\\Semester 6\\Deep Learning\\Project\\Bounding Box Detection\\Final Merge\\final\\images\\train\\07.01.25 02.50Pm_frame_194718_aug_2.jpg: 384x640 1 ParkingLot, 16.0ms\n",
      "image 765/1614 d:\\Downloads\\VIT Downloads\\Local Downloads\\Semester 6\\Deep Learning\\Project\\Bounding Box Detection\\Final Merge\\final\\images\\train\\07.01.25 02.50Pm_frame_194718_aug_3.jpg: 384x640 1 ParkingLot, 15.3ms\n",
      "image 766/1614 d:\\Downloads\\VIT Downloads\\Local Downloads\\Semester 6\\Deep Learning\\Project\\Bounding Box Detection\\Final Merge\\final\\images\\train\\07.01.25 02.50Pm_frame_194718_aug_4.jpg: 384x640 1 ParkingLot, 15.8ms\n",
      "image 767/1614 d:\\Downloads\\VIT Downloads\\Local Downloads\\Semester 6\\Deep Learning\\Project\\Bounding Box Detection\\Final Merge\\final\\images\\train\\07.01.25 02.50Pm_frame_203184_aug_0.jpg: 384x640 1 ParkingLot, 16.3ms\n",
      "image 768/1614 d:\\Downloads\\VIT Downloads\\Local Downloads\\Semester 6\\Deep Learning\\Project\\Bounding Box Detection\\Final Merge\\final\\images\\train\\07.01.25 02.50Pm_frame_203184_aug_1.jpg: 384x640 1 ParkingLot, 14.7ms\n",
      "image 769/1614 d:\\Downloads\\VIT Downloads\\Local Downloads\\Semester 6\\Deep Learning\\Project\\Bounding Box Detection\\Final Merge\\final\\images\\train\\07.01.25 02.50Pm_frame_203184_aug_2.jpg: 384x640 1 ParkingLot, 16.1ms\n",
      "image 770/1614 d:\\Downloads\\VIT Downloads\\Local Downloads\\Semester 6\\Deep Learning\\Project\\Bounding Box Detection\\Final Merge\\final\\images\\train\\07.01.25 02.50Pm_frame_203184_aug_3.jpg: 640x384 1 ParkingLot, 15.3ms\n",
      "image 771/1614 d:\\Downloads\\VIT Downloads\\Local Downloads\\Semester 6\\Deep Learning\\Project\\Bounding Box Detection\\Final Merge\\final\\images\\train\\07.01.25 02.50Pm_frame_203184_aug_4.jpg: 384x640 1 ParkingLot, 16.8ms\n",
      "image 772/1614 d:\\Downloads\\VIT Downloads\\Local Downloads\\Semester 6\\Deep Learning\\Project\\Bounding Box Detection\\Final Merge\\final\\images\\train\\07.01.25 02.50Pm_frame_211650_aug_0.jpg: 384x640 1 ParkingLot, 15.3ms\n",
      "image 773/1614 d:\\Downloads\\VIT Downloads\\Local Downloads\\Semester 6\\Deep Learning\\Project\\Bounding Box Detection\\Final Merge\\final\\images\\train\\07.01.25 02.50Pm_frame_211650_aug_1.jpg: 384x640 1 ParkingLot, 14.6ms\n",
      "image 774/1614 d:\\Downloads\\VIT Downloads\\Local Downloads\\Semester 6\\Deep Learning\\Project\\Bounding Box Detection\\Final Merge\\final\\images\\train\\07.01.25 02.50Pm_frame_211650_aug_2.jpg: 384x640 1 ParkingLot, 15.1ms\n",
      "image 775/1614 d:\\Downloads\\VIT Downloads\\Local Downloads\\Semester 6\\Deep Learning\\Project\\Bounding Box Detection\\Final Merge\\final\\images\\train\\07.01.25 02.50Pm_frame_211650_aug_3.jpg: 640x384 1 ParkingLot, 16.9ms\n",
      "image 776/1614 d:\\Downloads\\VIT Downloads\\Local Downloads\\Semester 6\\Deep Learning\\Project\\Bounding Box Detection\\Final Merge\\final\\images\\train\\07.01.25 02.50Pm_frame_211650_aug_4.jpg: 384x640 1 ParkingLot, 15.6ms\n",
      "image 777/1614 d:\\Downloads\\VIT Downloads\\Local Downloads\\Semester 6\\Deep Learning\\Project\\Bounding Box Detection\\Final Merge\\final\\images\\train\\07.01.25 02.50Pm_frame_220116_aug_0.jpg: 640x384 1 ParkingLot, 15.3ms\n",
      "image 778/1614 d:\\Downloads\\VIT Downloads\\Local Downloads\\Semester 6\\Deep Learning\\Project\\Bounding Box Detection\\Final Merge\\final\\images\\train\\07.01.25 02.50Pm_frame_220116_aug_1.jpg: 640x384 1 ParkingLot, 14.6ms\n",
      "image 779/1614 d:\\Downloads\\VIT Downloads\\Local Downloads\\Semester 6\\Deep Learning\\Project\\Bounding Box Detection\\Final Merge\\final\\images\\train\\07.01.25 02.50Pm_frame_220116_aug_2.jpg: 384x640 1 ParkingLot, 20.7ms\n",
      "image 780/1614 d:\\Downloads\\VIT Downloads\\Local Downloads\\Semester 6\\Deep Learning\\Project\\Bounding Box Detection\\Final Merge\\final\\images\\train\\07.01.25 02.50Pm_frame_220116_aug_3.jpg: 384x640 1 ParkingLot, 18.0ms\n",
      "image 781/1614 d:\\Downloads\\VIT Downloads\\Local Downloads\\Semester 6\\Deep Learning\\Project\\Bounding Box Detection\\Final Merge\\final\\images\\train\\07.01.25 02.50Pm_frame_220116_aug_4.jpg: 384x640 1 ParkingLot, 14.0ms\n",
      "image 782/1614 d:\\Downloads\\VIT Downloads\\Local Downloads\\Semester 6\\Deep Learning\\Project\\Bounding Box Detection\\Final Merge\\final\\images\\train\\07.01.25 02.50Pm_frame_237048_aug_0.jpg: 640x384 1 ParkingLot, 16.0ms\n",
      "image 783/1614 d:\\Downloads\\VIT Downloads\\Local Downloads\\Semester 6\\Deep Learning\\Project\\Bounding Box Detection\\Final Merge\\final\\images\\train\\07.01.25 02.50Pm_frame_237048_aug_1.jpg: 384x640 1 ParkingLot, 16.0ms\n",
      "image 784/1614 d:\\Downloads\\VIT Downloads\\Local Downloads\\Semester 6\\Deep Learning\\Project\\Bounding Box Detection\\Final Merge\\final\\images\\train\\07.01.25 02.50Pm_frame_237048_aug_2.jpg: 384x640 1 ParkingLot, 17.3ms\n",
      "image 785/1614 d:\\Downloads\\VIT Downloads\\Local Downloads\\Semester 6\\Deep Learning\\Project\\Bounding Box Detection\\Final Merge\\final\\images\\train\\07.01.25 02.50Pm_frame_237048_aug_3.jpg: 640x384 1 ParkingLot, 30.6ms\n",
      "image 786/1614 d:\\Downloads\\VIT Downloads\\Local Downloads\\Semester 6\\Deep Learning\\Project\\Bounding Box Detection\\Final Merge\\final\\images\\train\\07.01.25 02.50Pm_frame_237048_aug_4.jpg: 384x640 1 ParkingLot, 30.5ms\n",
      "image 787/1614 d:\\Downloads\\VIT Downloads\\Local Downloads\\Semester 6\\Deep Learning\\Project\\Bounding Box Detection\\Final Merge\\final\\images\\train\\07.01.25 02.50Pm_frame_245514_aug_0.jpg: 384x640 1 ParkingLot, 30.5ms\n",
      "image 788/1614 d:\\Downloads\\VIT Downloads\\Local Downloads\\Semester 6\\Deep Learning\\Project\\Bounding Box Detection\\Final Merge\\final\\images\\train\\07.01.25 02.50Pm_frame_245514_aug_1.jpg: 384x640 1 ParkingLot, 14.0ms\n",
      "image 789/1614 d:\\Downloads\\VIT Downloads\\Local Downloads\\Semester 6\\Deep Learning\\Project\\Bounding Box Detection\\Final Merge\\final\\images\\train\\07.01.25 02.50Pm_frame_245514_aug_2.jpg: 640x384 1 ParkingLot, 18.5ms\n",
      "image 790/1614 d:\\Downloads\\VIT Downloads\\Local Downloads\\Semester 6\\Deep Learning\\Project\\Bounding Box Detection\\Final Merge\\final\\images\\train\\07.01.25 02.50Pm_frame_245514_aug_3.jpg: 640x384 1 ParkingLot, 19.0ms\n",
      "image 791/1614 d:\\Downloads\\VIT Downloads\\Local Downloads\\Semester 6\\Deep Learning\\Project\\Bounding Box Detection\\Final Merge\\final\\images\\train\\07.01.25 02.50Pm_frame_245514_aug_4.jpg: 384x640 1 ParkingLot, 14.1ms\n",
      "image 792/1614 d:\\Downloads\\VIT Downloads\\Local Downloads\\Semester 6\\Deep Learning\\Project\\Bounding Box Detection\\Final Merge\\final\\images\\train\\07.01.25 02.50Pm_frame_262446_aug_0.jpg: 384x640 1 ParkingLot, 14.5ms\n",
      "image 793/1614 d:\\Downloads\\VIT Downloads\\Local Downloads\\Semester 6\\Deep Learning\\Project\\Bounding Box Detection\\Final Merge\\final\\images\\train\\07.01.25 02.50Pm_frame_262446_aug_1.jpg: 384x640 1 ParkingLot, 14.8ms\n",
      "image 794/1614 d:\\Downloads\\VIT Downloads\\Local Downloads\\Semester 6\\Deep Learning\\Project\\Bounding Box Detection\\Final Merge\\final\\images\\train\\07.01.25 02.50Pm_frame_262446_aug_2.jpg: 384x640 1 ParkingLot, 13.9ms\n",
      "image 795/1614 d:\\Downloads\\VIT Downloads\\Local Downloads\\Semester 6\\Deep Learning\\Project\\Bounding Box Detection\\Final Merge\\final\\images\\train\\07.01.25 02.50Pm_frame_262446_aug_3.jpg: 384x640 1 ParkingLot, 13.8ms\n",
      "image 796/1614 d:\\Downloads\\VIT Downloads\\Local Downloads\\Semester 6\\Deep Learning\\Project\\Bounding Box Detection\\Final Merge\\final\\images\\train\\07.01.25 02.50Pm_frame_262446_aug_4.jpg: 384x640 1 ParkingLot, 25.1ms\n",
      "image 797/1614 d:\\Downloads\\VIT Downloads\\Local Downloads\\Semester 6\\Deep Learning\\Project\\Bounding Box Detection\\Final Merge\\final\\images\\train\\07.01.25 02.50Pm_frame_270912_aug_0.jpg: 384x640 1 ParkingLot, 14.3ms\n",
      "image 798/1614 d:\\Downloads\\VIT Downloads\\Local Downloads\\Semester 6\\Deep Learning\\Project\\Bounding Box Detection\\Final Merge\\final\\images\\train\\07.01.25 02.50Pm_frame_270912_aug_2.jpg: 640x384 1 ParkingLot, 15.0ms\n",
      "image 799/1614 d:\\Downloads\\VIT Downloads\\Local Downloads\\Semester 6\\Deep Learning\\Project\\Bounding Box Detection\\Final Merge\\final\\images\\train\\07.01.25 02.50Pm_frame_270912_aug_3.jpg: 640x384 1 ParkingLot, 20.8ms\n",
      "image 800/1614 d:\\Downloads\\VIT Downloads\\Local Downloads\\Semester 6\\Deep Learning\\Project\\Bounding Box Detection\\Final Merge\\final\\images\\train\\07.01.25 02.50Pm_frame_270912_aug_4.jpg: 384x640 1 ParkingLot, 23.1ms\n",
      "image 801/1614 d:\\Downloads\\VIT Downloads\\Local Downloads\\Semester 6\\Deep Learning\\Project\\Bounding Box Detection\\Final Merge\\final\\images\\train\\07.01.25 02.50Pm_frame_296310_aug_1.jpg: 640x384 1 ParkingLot, 15.3ms\n",
      "image 802/1614 d:\\Downloads\\VIT Downloads\\Local Downloads\\Semester 6\\Deep Learning\\Project\\Bounding Box Detection\\Final Merge\\final\\images\\train\\07.01.25 02.50Pm_frame_296310_aug_2.jpg: 384x640 1 ParkingLot, 15.3ms\n",
      "image 803/1614 d:\\Downloads\\VIT Downloads\\Local Downloads\\Semester 6\\Deep Learning\\Project\\Bounding Box Detection\\Final Merge\\final\\images\\train\\07.01.25 02.50Pm_frame_296310_aug_3.jpg: 384x640 1 ParkingLot, 23.9ms\n",
      "image 804/1614 d:\\Downloads\\VIT Downloads\\Local Downloads\\Semester 6\\Deep Learning\\Project\\Bounding Box Detection\\Final Merge\\final\\images\\train\\07.01.25 02.50Pm_frame_304776_aug_0.jpg: 384x640 1 ParkingLot, 14.0ms\n",
      "image 805/1614 d:\\Downloads\\VIT Downloads\\Local Downloads\\Semester 6\\Deep Learning\\Project\\Bounding Box Detection\\Final Merge\\final\\images\\train\\07.01.25 02.50Pm_frame_304776_aug_2.jpg: 384x640 1 ParkingLot, 19.5ms\n",
      "image 806/1614 d:\\Downloads\\VIT Downloads\\Local Downloads\\Semester 6\\Deep Learning\\Project\\Bounding Box Detection\\Final Merge\\final\\images\\train\\07.01.25 02.50Pm_frame_304776_aug_3.jpg: 384x640 1 ParkingLot, 13.3ms\n",
      "image 807/1614 d:\\Downloads\\VIT Downloads\\Local Downloads\\Semester 6\\Deep Learning\\Project\\Bounding Box Detection\\Final Merge\\final\\images\\train\\07.01.25 02.50Pm_frame_304776_aug_4.jpg: 640x384 1 ParkingLot, 15.4ms\n",
      "image 808/1614 d:\\Downloads\\VIT Downloads\\Local Downloads\\Semester 6\\Deep Learning\\Project\\Bounding Box Detection\\Final Merge\\final\\images\\train\\07.01.25 02.50Pm_frame_313242_aug_0.jpg: 384x640 1 ParkingLot, 14.1ms\n",
      "image 809/1614 d:\\Downloads\\VIT Downloads\\Local Downloads\\Semester 6\\Deep Learning\\Project\\Bounding Box Detection\\Final Merge\\final\\images\\train\\07.01.25 02.50Pm_frame_313242_aug_1.jpg: 384x640 1 ParkingLot, 13.3ms\n",
      "image 810/1614 d:\\Downloads\\VIT Downloads\\Local Downloads\\Semester 6\\Deep Learning\\Project\\Bounding Box Detection\\Final Merge\\final\\images\\train\\07.01.25 02.50Pm_frame_313242_aug_3.jpg: 384x640 1 ParkingLot, 14.3ms\n",
      "image 811/1614 d:\\Downloads\\VIT Downloads\\Local Downloads\\Semester 6\\Deep Learning\\Project\\Bounding Box Detection\\Final Merge\\final\\images\\train\\07.01.25 02.50Pm_frame_313242_aug_4.jpg: 384x640 1 ParkingLot, 13.3ms\n",
      "image 812/1614 d:\\Downloads\\VIT Downloads\\Local Downloads\\Semester 6\\Deep Learning\\Project\\Bounding Box Detection\\Final Merge\\final\\images\\train\\07.01.25 02.50Pm_frame_389436_aug_0.jpg: 384x640 1 ParkingLot, 15.6ms\n",
      "image 813/1614 d:\\Downloads\\VIT Downloads\\Local Downloads\\Semester 6\\Deep Learning\\Project\\Bounding Box Detection\\Final Merge\\final\\images\\train\\07.01.25 02.50Pm_frame_389436_aug_1.jpg: 384x640 1 ParkingLot, 24.5ms\n",
      "image 814/1614 d:\\Downloads\\VIT Downloads\\Local Downloads\\Semester 6\\Deep Learning\\Project\\Bounding Box Detection\\Final Merge\\final\\images\\train\\07.01.25 02.50Pm_frame_389436_aug_3.jpg: 640x384 1 ParkingLot, 27.4ms\n",
      "image 815/1614 d:\\Downloads\\VIT Downloads\\Local Downloads\\Semester 6\\Deep Learning\\Project\\Bounding Box Detection\\Final Merge\\final\\images\\train\\07.01.25 02.50Pm_frame_389436_aug_4.jpg: 384x640 1 ParkingLot, 14.1ms\n",
      "image 816/1614 d:\\Downloads\\VIT Downloads\\Local Downloads\\Semester 6\\Deep Learning\\Project\\Bounding Box Detection\\Final Merge\\final\\images\\train\\07.01.25 02.50Pm_frame_397902_aug_0.jpg: 640x384 1 ParkingLot, 13.9ms\n",
      "image 817/1614 d:\\Downloads\\VIT Downloads\\Local Downloads\\Semester 6\\Deep Learning\\Project\\Bounding Box Detection\\Final Merge\\final\\images\\train\\07.01.25 02.50Pm_frame_397902_aug_3.jpg: 384x640 1 ParkingLot, 14.0ms\n",
      "image 818/1614 d:\\Downloads\\VIT Downloads\\Local Downloads\\Semester 6\\Deep Learning\\Project\\Bounding Box Detection\\Final Merge\\final\\images\\train\\07.01.25 02.50Pm_frame_406368_aug_0.jpg: 384x640 1 ParkingLot, 12.5ms\n",
      "image 819/1614 d:\\Downloads\\VIT Downloads\\Local Downloads\\Semester 6\\Deep Learning\\Project\\Bounding Box Detection\\Final Merge\\final\\images\\train\\07.01.25 02.50Pm_frame_406368_aug_1.jpg: 384x640 1 ParkingLot, 13.2ms\n",
      "image 820/1614 d:\\Downloads\\VIT Downloads\\Local Downloads\\Semester 6\\Deep Learning\\Project\\Bounding Box Detection\\Final Merge\\final\\images\\train\\07.01.25 02.50Pm_frame_406368_aug_2.jpg: 640x384 1 ParkingLot, 15.8ms\n",
      "image 821/1614 d:\\Downloads\\VIT Downloads\\Local Downloads\\Semester 6\\Deep Learning\\Project\\Bounding Box Detection\\Final Merge\\final\\images\\train\\07.01.25 02.50Pm_frame_406368_aug_4.jpg: 384x640 1 ParkingLot, 14.3ms\n",
      "image 822/1614 d:\\Downloads\\VIT Downloads\\Local Downloads\\Semester 6\\Deep Learning\\Project\\Bounding Box Detection\\Final Merge\\final\\images\\train\\07.01.25 02.50Pm_frame_414834_aug_0.jpg: 384x640 1 ParkingLot, 12.7ms\n",
      "image 823/1614 d:\\Downloads\\VIT Downloads\\Local Downloads\\Semester 6\\Deep Learning\\Project\\Bounding Box Detection\\Final Merge\\final\\images\\train\\07.01.25 02.50Pm_frame_414834_aug_1.jpg: 384x640 1 ParkingLot, 22.3ms\n",
      "image 824/1614 d:\\Downloads\\VIT Downloads\\Local Downloads\\Semester 6\\Deep Learning\\Project\\Bounding Box Detection\\Final Merge\\final\\images\\train\\07.01.25 02.50Pm_frame_414834_aug_3.jpg: 384x640 1 ParkingLot, 14.9ms\n",
      "image 825/1614 d:\\Downloads\\VIT Downloads\\Local Downloads\\Semester 6\\Deep Learning\\Project\\Bounding Box Detection\\Final Merge\\final\\images\\train\\07.01.25 02.50Pm_frame_414834_aug_4.jpg: 640x384 1 ParkingLot, 18.5ms\n",
      "image 826/1614 d:\\Downloads\\VIT Downloads\\Local Downloads\\Semester 6\\Deep Learning\\Project\\Bounding Box Detection\\Final Merge\\final\\images\\train\\07.01.25 05.10Pm_frame_000000_aug_2.jpg: 384x640 1 ParkingLot, 14.0ms\n",
      "image 827/1614 d:\\Downloads\\VIT Downloads\\Local Downloads\\Semester 6\\Deep Learning\\Project\\Bounding Box Detection\\Final Merge\\final\\images\\train\\07.01.25 05.10Pm_frame_000000_aug_3.jpg: 384x640 1 ParkingLot, 26.4ms\n",
      "image 828/1614 d:\\Downloads\\VIT Downloads\\Local Downloads\\Semester 6\\Deep Learning\\Project\\Bounding Box Detection\\Final Merge\\final\\images\\train\\07.01.25 05.10Pm_frame_008660_aug_0.jpg: 384x640 1 ParkingLot, 13.4ms\n",
      "image 829/1614 d:\\Downloads\\VIT Downloads\\Local Downloads\\Semester 6\\Deep Learning\\Project\\Bounding Box Detection\\Final Merge\\final\\images\\train\\07.01.25 05.10Pm_frame_008660_aug_1.jpg: 384x640 1 ParkingLot, 13.7ms\n",
      "image 830/1614 d:\\Downloads\\VIT Downloads\\Local Downloads\\Semester 6\\Deep Learning\\Project\\Bounding Box Detection\\Final Merge\\final\\images\\train\\07.01.25 05.10Pm_frame_008660_aug_2.jpg: 384x640 1 ParkingLot, 23.3ms\n",
      "image 831/1614 d:\\Downloads\\VIT Downloads\\Local Downloads\\Semester 6\\Deep Learning\\Project\\Bounding Box Detection\\Final Merge\\final\\images\\train\\07.01.25 05.10Pm_frame_008660_aug_3.jpg: 384x640 1 ParkingLot, 12.5ms\n",
      "image 832/1614 d:\\Downloads\\VIT Downloads\\Local Downloads\\Semester 6\\Deep Learning\\Project\\Bounding Box Detection\\Final Merge\\final\\images\\train\\07.01.25 05.10Pm_frame_008660_aug_4.jpg: 640x384 1 ParkingLot, 13.8ms\n",
      "image 833/1614 d:\\Downloads\\VIT Downloads\\Local Downloads\\Semester 6\\Deep Learning\\Project\\Bounding Box Detection\\Final Merge\\final\\images\\train\\07.01.25 05.10Pm_frame_017320_aug_0.jpg: 384x640 1 ParkingLot, 18.8ms\n",
      "image 834/1614 d:\\Downloads\\VIT Downloads\\Local Downloads\\Semester 6\\Deep Learning\\Project\\Bounding Box Detection\\Final Merge\\final\\images\\train\\07.01.25 05.10Pm_frame_017320_aug_2.jpg: 640x384 1 ParkingLot, 13.3ms\n",
      "image 835/1614 d:\\Downloads\\VIT Downloads\\Local Downloads\\Semester 6\\Deep Learning\\Project\\Bounding Box Detection\\Final Merge\\final\\images\\train\\07.01.25 05.10Pm_frame_017320_aug_3.jpg: 384x640 1 ParkingLot, 13.5ms\n",
      "image 836/1614 d:\\Downloads\\VIT Downloads\\Local Downloads\\Semester 6\\Deep Learning\\Project\\Bounding Box Detection\\Final Merge\\final\\images\\train\\07.01.25 05.10Pm_frame_025980_aug_0.jpg: 384x640 1 ParkingLot, 26.6ms\n",
      "image 837/1614 d:\\Downloads\\VIT Downloads\\Local Downloads\\Semester 6\\Deep Learning\\Project\\Bounding Box Detection\\Final Merge\\final\\images\\train\\07.01.25 05.10Pm_frame_025980_aug_1.jpg: 384x640 1 ParkingLot, 13.2ms\n",
      "image 838/1614 d:\\Downloads\\VIT Downloads\\Local Downloads\\Semester 6\\Deep Learning\\Project\\Bounding Box Detection\\Final Merge\\final\\images\\train\\07.01.25 05.10Pm_frame_025980_aug_2.jpg: 384x640 1 ParkingLot, 23.7ms\n",
      "image 839/1614 d:\\Downloads\\VIT Downloads\\Local Downloads\\Semester 6\\Deep Learning\\Project\\Bounding Box Detection\\Final Merge\\final\\images\\train\\07.01.25 05.10Pm_frame_025980_aug_4.jpg: 384x640 1 ParkingLot, 25.3ms\n",
      "image 840/1614 d:\\Downloads\\VIT Downloads\\Local Downloads\\Semester 6\\Deep Learning\\Project\\Bounding Box Detection\\Final Merge\\final\\images\\train\\07.01.25 05.10Pm_frame_034640_aug_0.jpg: 384x640 1 ParkingLot, 13.3ms\n",
      "image 841/1614 d:\\Downloads\\VIT Downloads\\Local Downloads\\Semester 6\\Deep Learning\\Project\\Bounding Box Detection\\Final Merge\\final\\images\\train\\07.01.25 05.10Pm_frame_034640_aug_1.jpg: 384x640 1 ParkingLot, 16.9ms\n",
      "image 842/1614 d:\\Downloads\\VIT Downloads\\Local Downloads\\Semester 6\\Deep Learning\\Project\\Bounding Box Detection\\Final Merge\\final\\images\\train\\07.01.25 05.10Pm_frame_034640_aug_2.jpg: 384x640 1 ParkingLot, 25.8ms\n",
      "image 843/1614 d:\\Downloads\\VIT Downloads\\Local Downloads\\Semester 6\\Deep Learning\\Project\\Bounding Box Detection\\Final Merge\\final\\images\\train\\07.01.25 05.10Pm_frame_034640_aug_3.jpg: 384x640 1 ParkingLot, 18.6ms\n",
      "image 844/1614 d:\\Downloads\\VIT Downloads\\Local Downloads\\Semester 6\\Deep Learning\\Project\\Bounding Box Detection\\Final Merge\\final\\images\\train\\07.01.25 05.10Pm_frame_034640_aug_4.jpg: 384x640 1 ParkingLot, 13.0ms\n",
      "image 845/1614 d:\\Downloads\\VIT Downloads\\Local Downloads\\Semester 6\\Deep Learning\\Project\\Bounding Box Detection\\Final Merge\\final\\images\\train\\07.01.25 05.10Pm_frame_043300_aug_0.jpg: 384x640 1 ParkingLot, 13.1ms\n",
      "image 846/1614 d:\\Downloads\\VIT Downloads\\Local Downloads\\Semester 6\\Deep Learning\\Project\\Bounding Box Detection\\Final Merge\\final\\images\\train\\07.01.25 05.10Pm_frame_043300_aug_4.jpg: 384x640 1 ParkingLot, 13.7ms\n",
      "image 847/1614 d:\\Downloads\\VIT Downloads\\Local Downloads\\Semester 6\\Deep Learning\\Project\\Bounding Box Detection\\Final Merge\\final\\images\\train\\07.01.25 05.10Pm_frame_051960_aug_0.jpg: 384x640 1 ParkingLot, 13.0ms\n",
      "image 848/1614 d:\\Downloads\\VIT Downloads\\Local Downloads\\Semester 6\\Deep Learning\\Project\\Bounding Box Detection\\Final Merge\\final\\images\\train\\07.01.25 05.10Pm_frame_051960_aug_1.jpg: 640x384 1 ParkingLot, 13.1ms\n",
      "image 849/1614 d:\\Downloads\\VIT Downloads\\Local Downloads\\Semester 6\\Deep Learning\\Project\\Bounding Box Detection\\Final Merge\\final\\images\\train\\07.01.25 05.10Pm_frame_051960_aug_2.jpg: 640x384 1 ParkingLot, 12.1ms\n",
      "image 850/1614 d:\\Downloads\\VIT Downloads\\Local Downloads\\Semester 6\\Deep Learning\\Project\\Bounding Box Detection\\Final Merge\\final\\images\\train\\07.01.25 05.10Pm_frame_051960_aug_3.jpg: 384x640 1 ParkingLot, 16.0ms\n",
      "image 851/1614 d:\\Downloads\\VIT Downloads\\Local Downloads\\Semester 6\\Deep Learning\\Project\\Bounding Box Detection\\Final Merge\\final\\images\\train\\07.01.25 05.10Pm_frame_051960_aug_4.jpg: 384x640 1 ParkingLot, 17.8ms\n",
      "image 852/1614 d:\\Downloads\\VIT Downloads\\Local Downloads\\Semester 6\\Deep Learning\\Project\\Bounding Box Detection\\Final Merge\\final\\images\\train\\07.01.25 05.10Pm_frame_060620_aug_0.jpg: 640x384 1 ParkingLot, 14.4ms\n",
      "image 853/1614 d:\\Downloads\\VIT Downloads\\Local Downloads\\Semester 6\\Deep Learning\\Project\\Bounding Box Detection\\Final Merge\\final\\images\\train\\07.01.25 05.10Pm_frame_060620_aug_1.jpg: 384x640 1 ParkingLot, 13.4ms\n",
      "image 854/1614 d:\\Downloads\\VIT Downloads\\Local Downloads\\Semester 6\\Deep Learning\\Project\\Bounding Box Detection\\Final Merge\\final\\images\\train\\07.01.25 05.10Pm_frame_060620_aug_3.jpg: 384x640 1 ParkingLot, 12.8ms\n",
      "image 855/1614 d:\\Downloads\\VIT Downloads\\Local Downloads\\Semester 6\\Deep Learning\\Project\\Bounding Box Detection\\Final Merge\\final\\images\\train\\07.01.25 05.10Pm_frame_060620_aug_4.jpg: 384x640 1 ParkingLot, 13.2ms\n",
      "image 856/1614 d:\\Downloads\\VIT Downloads\\Local Downloads\\Semester 6\\Deep Learning\\Project\\Bounding Box Detection\\Final Merge\\final\\images\\train\\07.01.25 05.10Pm_frame_069280_aug_0.jpg: 384x640 1 ParkingLot, 27.7ms\n",
      "image 857/1614 d:\\Downloads\\VIT Downloads\\Local Downloads\\Semester 6\\Deep Learning\\Project\\Bounding Box Detection\\Final Merge\\final\\images\\train\\07.01.25 05.10Pm_frame_069280_aug_1.jpg: 384x640 1 ParkingLot, 12.7ms\n",
      "image 858/1614 d:\\Downloads\\VIT Downloads\\Local Downloads\\Semester 6\\Deep Learning\\Project\\Bounding Box Detection\\Final Merge\\final\\images\\train\\07.01.25 05.10Pm_frame_069280_aug_3.jpg: 640x384 1 ParkingLot, 14.5ms\n",
      "image 859/1614 d:\\Downloads\\VIT Downloads\\Local Downloads\\Semester 6\\Deep Learning\\Project\\Bounding Box Detection\\Final Merge\\final\\images\\train\\07.01.25 05.10Pm_frame_069280_aug_4.jpg: 384x640 1 ParkingLot, 14.2ms\n",
      "image 860/1614 d:\\Downloads\\VIT Downloads\\Local Downloads\\Semester 6\\Deep Learning\\Project\\Bounding Box Detection\\Final Merge\\final\\images\\train\\07.01.25 05.10Pm_frame_077940_aug_0.jpg: 384x640 1 ParkingLot, 16.2ms\n",
      "image 861/1614 d:\\Downloads\\VIT Downloads\\Local Downloads\\Semester 6\\Deep Learning\\Project\\Bounding Box Detection\\Final Merge\\final\\images\\train\\07.01.25 05.10Pm_frame_077940_aug_1.jpg: 384x640 1 ParkingLot, 13.0ms\n",
      "image 862/1614 d:\\Downloads\\VIT Downloads\\Local Downloads\\Semester 6\\Deep Learning\\Project\\Bounding Box Detection\\Final Merge\\final\\images\\train\\07.01.25 05.10Pm_frame_077940_aug_4.jpg: 640x384 1 ParkingLot, 14.3ms\n",
      "image 863/1614 d:\\Downloads\\VIT Downloads\\Local Downloads\\Semester 6\\Deep Learning\\Project\\Bounding Box Detection\\Final Merge\\final\\images\\train\\07.01.25 05.10Pm_frame_086600_aug_0.jpg: 384x640 1 ParkingLot, 14.2ms\n",
      "image 864/1614 d:\\Downloads\\VIT Downloads\\Local Downloads\\Semester 6\\Deep Learning\\Project\\Bounding Box Detection\\Final Merge\\final\\images\\train\\07.01.25 05.10Pm_frame_086600_aug_1.jpg: 640x384 1 ParkingLot, 13.6ms\n",
      "image 865/1614 d:\\Downloads\\VIT Downloads\\Local Downloads\\Semester 6\\Deep Learning\\Project\\Bounding Box Detection\\Final Merge\\final\\images\\train\\07.01.25 05.10Pm_frame_086600_aug_2.jpg: 384x640 1 ParkingLot, 22.8ms\n",
      "image 866/1614 d:\\Downloads\\VIT Downloads\\Local Downloads\\Semester 6\\Deep Learning\\Project\\Bounding Box Detection\\Final Merge\\final\\images\\train\\07.01.25 05.10Pm_frame_086600_aug_3.jpg: 384x640 1 ParkingLot, 13.3ms\n",
      "image 867/1614 d:\\Downloads\\VIT Downloads\\Local Downloads\\Semester 6\\Deep Learning\\Project\\Bounding Box Detection\\Final Merge\\final\\images\\train\\07.01.25 05.10Pm_frame_086600_aug_4.jpg: 384x640 1 ParkingLot, 13.4ms\n",
      "image 868/1614 d:\\Downloads\\VIT Downloads\\Local Downloads\\Semester 6\\Deep Learning\\Project\\Bounding Box Detection\\Final Merge\\final\\images\\train\\07.01.25 05.10Pm_frame_095260_aug_0.jpg: 640x384 1 ParkingLot, 14.9ms\n",
      "image 869/1614 d:\\Downloads\\VIT Downloads\\Local Downloads\\Semester 6\\Deep Learning\\Project\\Bounding Box Detection\\Final Merge\\final\\images\\train\\07.01.25 05.10Pm_frame_095260_aug_1.jpg: 384x640 1 ParkingLot, 13.3ms\n",
      "image 870/1614 d:\\Downloads\\VIT Downloads\\Local Downloads\\Semester 6\\Deep Learning\\Project\\Bounding Box Detection\\Final Merge\\final\\images\\train\\07.01.25 05.10Pm_frame_095260_aug_2.jpg: 384x640 1 ParkingLot, 14.8ms\n",
      "image 871/1614 d:\\Downloads\\VIT Downloads\\Local Downloads\\Semester 6\\Deep Learning\\Project\\Bounding Box Detection\\Final Merge\\final\\images\\train\\07.01.25 05.10Pm_frame_095260_aug_3.jpg: 384x640 1 ParkingLot, 18.9ms\n",
      "image 872/1614 d:\\Downloads\\VIT Downloads\\Local Downloads\\Semester 6\\Deep Learning\\Project\\Bounding Box Detection\\Final Merge\\final\\images\\train\\07.01.25 05.10Pm_frame_095260_aug_4.jpg: 384x640 1 ParkingLot, 22.1ms\n",
      "image 873/1614 d:\\Downloads\\VIT Downloads\\Local Downloads\\Semester 6\\Deep Learning\\Project\\Bounding Box Detection\\Final Merge\\final\\images\\train\\07.01.25 05.10Pm_frame_103920_aug_0.jpg: 384x640 1 ParkingLot, 16.7ms\n",
      "image 874/1614 d:\\Downloads\\VIT Downloads\\Local Downloads\\Semester 6\\Deep Learning\\Project\\Bounding Box Detection\\Final Merge\\final\\images\\train\\07.01.25 05.10Pm_frame_103920_aug_1.jpg: 384x640 1 ParkingLot, 18.2ms\n",
      "image 875/1614 d:\\Downloads\\VIT Downloads\\Local Downloads\\Semester 6\\Deep Learning\\Project\\Bounding Box Detection\\Final Merge\\final\\images\\train\\07.01.25 05.10Pm_frame_103920_aug_2.jpg: 384x640 1 ParkingLot, 12.9ms\n",
      "image 876/1614 d:\\Downloads\\VIT Downloads\\Local Downloads\\Semester 6\\Deep Learning\\Project\\Bounding Box Detection\\Final Merge\\final\\images\\train\\07.01.25 05.10Pm_frame_103920_aug_3.jpg: 384x640 1 ParkingLot, 12.8ms\n",
      "image 877/1614 d:\\Downloads\\VIT Downloads\\Local Downloads\\Semester 6\\Deep Learning\\Project\\Bounding Box Detection\\Final Merge\\final\\images\\train\\07.01.25 05.10Pm_frame_103920_aug_4.jpg: 384x640 1 ParkingLot, 12.9ms\n",
      "image 878/1614 d:\\Downloads\\VIT Downloads\\Local Downloads\\Semester 6\\Deep Learning\\Project\\Bounding Box Detection\\Final Merge\\final\\images\\train\\07.01.25 05.10Pm_frame_129900_aug_0.jpg: 384x640 1 ParkingLot, 12.6ms\n",
      "image 879/1614 d:\\Downloads\\VIT Downloads\\Local Downloads\\Semester 6\\Deep Learning\\Project\\Bounding Box Detection\\Final Merge\\final\\images\\train\\07.01.25 05.10Pm_frame_129900_aug_1.jpg: 384x640 1 ParkingLot, 12.5ms\n",
      "image 880/1614 d:\\Downloads\\VIT Downloads\\Local Downloads\\Semester 6\\Deep Learning\\Project\\Bounding Box Detection\\Final Merge\\final\\images\\train\\07.01.25 05.10Pm_frame_129900_aug_2.jpg: 384x640 1 ParkingLot, 12.7ms\n",
      "image 881/1614 d:\\Downloads\\VIT Downloads\\Local Downloads\\Semester 6\\Deep Learning\\Project\\Bounding Box Detection\\Final Merge\\final\\images\\train\\07.01.25 05.10Pm_frame_129900_aug_3.jpg: 384x640 1 ParkingLot, 19.6ms\n",
      "image 882/1614 d:\\Downloads\\VIT Downloads\\Local Downloads\\Semester 6\\Deep Learning\\Project\\Bounding Box Detection\\Final Merge\\final\\images\\train\\07.01.25 05.10Pm_frame_129900_aug_4.jpg: 640x384 1 ParkingLot, 14.3ms\n",
      "image 883/1614 d:\\Downloads\\VIT Downloads\\Local Downloads\\Semester 6\\Deep Learning\\Project\\Bounding Box Detection\\Final Merge\\final\\images\\train\\07.01.25 05.10Pm_frame_147220_aug_0.jpg: 640x384 1 ParkingLot, 21.2ms\n",
      "image 884/1614 d:\\Downloads\\VIT Downloads\\Local Downloads\\Semester 6\\Deep Learning\\Project\\Bounding Box Detection\\Final Merge\\final\\images\\train\\07.01.25 05.10Pm_frame_147220_aug_1.jpg: 384x640 1 ParkingLot, 25.5ms\n",
      "image 885/1614 d:\\Downloads\\VIT Downloads\\Local Downloads\\Semester 6\\Deep Learning\\Project\\Bounding Box Detection\\Final Merge\\final\\images\\train\\07.01.25 05.10Pm_frame_147220_aug_2.jpg: 384x640 1 ParkingLot, 13.3ms\n",
      "image 886/1614 d:\\Downloads\\VIT Downloads\\Local Downloads\\Semester 6\\Deep Learning\\Project\\Bounding Box Detection\\Final Merge\\final\\images\\train\\07.01.25 05.10Pm_frame_147220_aug_3.jpg: 640x384 1 ParkingLot, 25.3ms\n",
      "image 887/1614 d:\\Downloads\\VIT Downloads\\Local Downloads\\Semester 6\\Deep Learning\\Project\\Bounding Box Detection\\Final Merge\\final\\images\\train\\07.01.25 05.10Pm_frame_147220_aug_4.jpg: 384x640 1 ParkingLot, 27.1ms\n",
      "image 888/1614 d:\\Downloads\\VIT Downloads\\Local Downloads\\Semester 6\\Deep Learning\\Project\\Bounding Box Detection\\Final Merge\\final\\images\\train\\07.01.25 05.10Pm_frame_173200_aug_0.jpg: 384x640 1 ParkingLot, 14.5ms\n",
      "image 889/1614 d:\\Downloads\\VIT Downloads\\Local Downloads\\Semester 6\\Deep Learning\\Project\\Bounding Box Detection\\Final Merge\\final\\images\\train\\07.01.25 05.10Pm_frame_173200_aug_1.jpg: 384x640 1 ParkingLot, 15.8ms\n",
      "image 890/1614 d:\\Downloads\\VIT Downloads\\Local Downloads\\Semester 6\\Deep Learning\\Project\\Bounding Box Detection\\Final Merge\\final\\images\\train\\07.01.25 05.10Pm_frame_173200_aug_2.jpg: 384x640 1 ParkingLot, 13.6ms\n",
      "image 891/1614 d:\\Downloads\\VIT Downloads\\Local Downloads\\Semester 6\\Deep Learning\\Project\\Bounding Box Detection\\Final Merge\\final\\images\\train\\07.01.25 05.10Pm_frame_173200_aug_3.jpg: 384x640 1 ParkingLot, 13.0ms\n",
      "image 892/1614 d:\\Downloads\\VIT Downloads\\Local Downloads\\Semester 6\\Deep Learning\\Project\\Bounding Box Detection\\Final Merge\\final\\images\\train\\07.01.25 05.10Pm_frame_173200_aug_4.jpg: 384x640 1 ParkingLot, 12.6ms\n",
      "image 893/1614 d:\\Downloads\\VIT Downloads\\Local Downloads\\Semester 6\\Deep Learning\\Project\\Bounding Box Detection\\Final Merge\\final\\images\\train\\07.01.25 05.10Pm_frame_181860_aug_0.jpg: 384x640 1 ParkingLot, 13.2ms\n",
      "image 894/1614 d:\\Downloads\\VIT Downloads\\Local Downloads\\Semester 6\\Deep Learning\\Project\\Bounding Box Detection\\Final Merge\\final\\images\\train\\07.01.25 05.10Pm_frame_181860_aug_1.jpg: 384x640 1 ParkingLot, 13.1ms\n",
      "image 895/1614 d:\\Downloads\\VIT Downloads\\Local Downloads\\Semester 6\\Deep Learning\\Project\\Bounding Box Detection\\Final Merge\\final\\images\\train\\07.01.25 05.10Pm_frame_181860_aug_2.jpg: 384x640 1 ParkingLot, 19.0ms\n",
      "image 896/1614 d:\\Downloads\\VIT Downloads\\Local Downloads\\Semester 6\\Deep Learning\\Project\\Bounding Box Detection\\Final Merge\\final\\images\\train\\07.01.25 05.10Pm_frame_181860_aug_3.jpg: 384x640 1 ParkingLot, 12.9ms\n",
      "image 897/1614 d:\\Downloads\\VIT Downloads\\Local Downloads\\Semester 6\\Deep Learning\\Project\\Bounding Box Detection\\Final Merge\\final\\images\\train\\07.01.25 05.10Pm_frame_181860_aug_4.jpg: 384x640 1 ParkingLot, 12.8ms\n",
      "image 898/1614 d:\\Downloads\\VIT Downloads\\Local Downloads\\Semester 6\\Deep Learning\\Project\\Bounding Box Detection\\Final Merge\\final\\images\\train\\07.01.25 05.10Pm_frame_190520_aug_0.jpg: 384x640 1 ParkingLot, 13.2ms\n",
      "image 899/1614 d:\\Downloads\\VIT Downloads\\Local Downloads\\Semester 6\\Deep Learning\\Project\\Bounding Box Detection\\Final Merge\\final\\images\\train\\07.01.25 05.10Pm_frame_190520_aug_3.jpg: 640x384 1 ParkingLot, 23.6ms\n",
      "image 900/1614 d:\\Downloads\\VIT Downloads\\Local Downloads\\Semester 6\\Deep Learning\\Project\\Bounding Box Detection\\Final Merge\\final\\images\\train\\07.01.25 05.10Pm_frame_190520_aug_4.jpg: 384x640 1 ParkingLot, 15.3ms\n",
      "image 901/1614 d:\\Downloads\\VIT Downloads\\Local Downloads\\Semester 6\\Deep Learning\\Project\\Bounding Box Detection\\Final Merge\\final\\images\\train\\07.01.25 05.10Pm_frame_199180_aug_0.jpg: 384x640 1 ParkingLot, 13.0ms\n",
      "image 902/1614 d:\\Downloads\\VIT Downloads\\Local Downloads\\Semester 6\\Deep Learning\\Project\\Bounding Box Detection\\Final Merge\\final\\images\\train\\07.01.25 05.10Pm_frame_199180_aug_1.jpg: 640x384 1 ParkingLot, 17.4ms\n",
      "image 903/1614 d:\\Downloads\\VIT Downloads\\Local Downloads\\Semester 6\\Deep Learning\\Project\\Bounding Box Detection\\Final Merge\\final\\images\\train\\07.01.25 05.10Pm_frame_199180_aug_2.jpg: 384x640 1 ParkingLot, 21.0ms\n",
      "image 904/1614 d:\\Downloads\\VIT Downloads\\Local Downloads\\Semester 6\\Deep Learning\\Project\\Bounding Box Detection\\Final Merge\\final\\images\\train\\07.01.25 05.10Pm_frame_199180_aug_3.jpg: 640x384 1 ParkingLot, 14.3ms\n",
      "image 905/1614 d:\\Downloads\\VIT Downloads\\Local Downloads\\Semester 6\\Deep Learning\\Project\\Bounding Box Detection\\Final Merge\\final\\images\\train\\07.01.25 05.10Pm_frame_199180_aug_4.jpg: 640x384 1 ParkingLot, 14.4ms\n",
      "image 906/1614 d:\\Downloads\\VIT Downloads\\Local Downloads\\Semester 6\\Deep Learning\\Project\\Bounding Box Detection\\Final Merge\\final\\images\\train\\07.01.25 05.10Pm_frame_207840_aug_0.jpg: 384x640 1 ParkingLot, 14.2ms\n",
      "image 907/1614 d:\\Downloads\\VIT Downloads\\Local Downloads\\Semester 6\\Deep Learning\\Project\\Bounding Box Detection\\Final Merge\\final\\images\\train\\07.01.25 05.10Pm_frame_207840_aug_1.jpg: 384x640 1 ParkingLot, 13.2ms\n",
      "image 908/1614 d:\\Downloads\\VIT Downloads\\Local Downloads\\Semester 6\\Deep Learning\\Project\\Bounding Box Detection\\Final Merge\\final\\images\\train\\07.01.25 05.10Pm_frame_207840_aug_2.jpg: 384x640 1 ParkingLot, 15.7ms\n",
      "image 909/1614 d:\\Downloads\\VIT Downloads\\Local Downloads\\Semester 6\\Deep Learning\\Project\\Bounding Box Detection\\Final Merge\\final\\images\\train\\07.01.25 05.10Pm_frame_207840_aug_3.jpg: 640x384 1 ParkingLot, 13.5ms\n",
      "image 910/1614 d:\\Downloads\\VIT Downloads\\Local Downloads\\Semester 6\\Deep Learning\\Project\\Bounding Box Detection\\Final Merge\\final\\images\\train\\07.01.25 05.10Pm_frame_207840_aug_4.jpg: 384x640 1 ParkingLot, 14.7ms\n",
      "image 911/1614 d:\\Downloads\\VIT Downloads\\Local Downloads\\Semester 6\\Deep Learning\\Project\\Bounding Box Detection\\Final Merge\\final\\images\\train\\07.01.25 05.10Pm_frame_216500_aug_0.jpg: 384x640 1 ParkingLot, 13.3ms\n",
      "image 912/1614 d:\\Downloads\\VIT Downloads\\Local Downloads\\Semester 6\\Deep Learning\\Project\\Bounding Box Detection\\Final Merge\\final\\images\\train\\07.01.25 05.10Pm_frame_216500_aug_1.jpg: 384x640 1 ParkingLot, 12.6ms\n",
      "image 913/1614 d:\\Downloads\\VIT Downloads\\Local Downloads\\Semester 6\\Deep Learning\\Project\\Bounding Box Detection\\Final Merge\\final\\images\\train\\07.01.25 05.10Pm_frame_216500_aug_2.jpg: 384x640 1 ParkingLot, 12.4ms\n",
      "image 914/1614 d:\\Downloads\\VIT Downloads\\Local Downloads\\Semester 6\\Deep Learning\\Project\\Bounding Box Detection\\Final Merge\\final\\images\\train\\07.01.25 05.10Pm_frame_216500_aug_3.jpg: 384x640 1 ParkingLot, 12.8ms\n",
      "image 915/1614 d:\\Downloads\\VIT Downloads\\Local Downloads\\Semester 6\\Deep Learning\\Project\\Bounding Box Detection\\Final Merge\\final\\images\\train\\07.01.25 05.10Pm_frame_216500_aug_4.jpg: 384x640 1 ParkingLot, 12.8ms\n",
      "image 916/1614 d:\\Downloads\\VIT Downloads\\Local Downloads\\Semester 6\\Deep Learning\\Project\\Bounding Box Detection\\Final Merge\\final\\images\\train\\07.01.25 05.10Pm_frame_259800_aug_0.jpg: 640x384 1 ParkingLot, 25.0ms\n",
      "image 917/1614 d:\\Downloads\\VIT Downloads\\Local Downloads\\Semester 6\\Deep Learning\\Project\\Bounding Box Detection\\Final Merge\\final\\images\\train\\07.01.25 05.10Pm_frame_259800_aug_1.jpg: 384x640 1 ParkingLot, 15.2ms\n",
      "image 918/1614 d:\\Downloads\\VIT Downloads\\Local Downloads\\Semester 6\\Deep Learning\\Project\\Bounding Box Detection\\Final Merge\\final\\images\\train\\07.01.25 05.10Pm_frame_259800_aug_2.jpg: 384x640 1 ParkingLot, 13.2ms\n",
      "image 919/1614 d:\\Downloads\\VIT Downloads\\Local Downloads\\Semester 6\\Deep Learning\\Project\\Bounding Box Detection\\Final Merge\\final\\images\\train\\07.01.25 05.10Pm_frame_259800_aug_3.jpg: 384x640 1 ParkingLot, 20.6ms\n",
      "image 920/1614 d:\\Downloads\\VIT Downloads\\Local Downloads\\Semester 6\\Deep Learning\\Project\\Bounding Box Detection\\Final Merge\\final\\images\\train\\07.01.25 05.10Pm_frame_259800_aug_4.jpg: 384x640 1 ParkingLot, 14.2ms\n",
      "image 921/1614 d:\\Downloads\\VIT Downloads\\Local Downloads\\Semester 6\\Deep Learning\\Project\\Bounding Box Detection\\Final Merge\\final\\images\\train\\07.01.25 05.10Pm_frame_268460_aug_2.jpg: 384x640 1 ParkingLot, 25.1ms\n",
      "image 922/1614 d:\\Downloads\\VIT Downloads\\Local Downloads\\Semester 6\\Deep Learning\\Project\\Bounding Box Detection\\Final Merge\\final\\images\\train\\07.01.25 05.10Pm_frame_268460_aug_3.jpg: 384x640 1 ParkingLot, 14.2ms\n",
      "image 923/1614 d:\\Downloads\\VIT Downloads\\Local Downloads\\Semester 6\\Deep Learning\\Project\\Bounding Box Detection\\Final Merge\\final\\images\\train\\07.01.25 05.10Pm_frame_268460_aug_4.jpg: 384x640 1 ParkingLot, 17.7ms\n",
      "image 924/1614 d:\\Downloads\\VIT Downloads\\Local Downloads\\Semester 6\\Deep Learning\\Project\\Bounding Box Detection\\Final Merge\\final\\images\\train\\07.01.25 05.10Pm_frame_303100_aug_1.jpg: 384x640 1 ParkingLot, 13.3ms\n",
      "image 925/1614 d:\\Downloads\\VIT Downloads\\Local Downloads\\Semester 6\\Deep Learning\\Project\\Bounding Box Detection\\Final Merge\\final\\images\\train\\07.01.25 05.10Pm_frame_303100_aug_2.jpg: 384x640 1 ParkingLot, 12.7ms\n",
      "image 926/1614 d:\\Downloads\\VIT Downloads\\Local Downloads\\Semester 6\\Deep Learning\\Project\\Bounding Box Detection\\Final Merge\\final\\images\\train\\07.01.25 05.10Pm_frame_303100_aug_3.jpg: 640x384 1 ParkingLot, 21.7ms\n",
      "image 927/1614 d:\\Downloads\\VIT Downloads\\Local Downloads\\Semester 6\\Deep Learning\\Project\\Bounding Box Detection\\Final Merge\\final\\images\\train\\07.01.25 05.10Pm_frame_303100_aug_4.jpg: 384x640 1 ParkingLot, 29.0ms\n",
      "image 928/1614 d:\\Downloads\\VIT Downloads\\Local Downloads\\Semester 6\\Deep Learning\\Project\\Bounding Box Detection\\Final Merge\\final\\images\\train\\07.01.25 05.10Pm_frame_311760_aug_0.jpg: 384x640 1 ParkingLot, 25.7ms\n",
      "image 929/1614 d:\\Downloads\\VIT Downloads\\Local Downloads\\Semester 6\\Deep Learning\\Project\\Bounding Box Detection\\Final Merge\\final\\images\\train\\07.01.25 05.10Pm_frame_311760_aug_1.jpg: 384x640 1 ParkingLot, 13.0ms\n",
      "image 930/1614 d:\\Downloads\\VIT Downloads\\Local Downloads\\Semester 6\\Deep Learning\\Project\\Bounding Box Detection\\Final Merge\\final\\images\\train\\07.01.25 05.10Pm_frame_311760_aug_3.jpg: 640x384 1 ParkingLot, 17.2ms\n",
      "image 931/1614 d:\\Downloads\\VIT Downloads\\Local Downloads\\Semester 6\\Deep Learning\\Project\\Bounding Box Detection\\Final Merge\\final\\images\\train\\07.01.25 05.10Pm_frame_311760_aug_4.jpg: 640x384 1 ParkingLot, 14.8ms\n",
      "image 932/1614 d:\\Downloads\\VIT Downloads\\Local Downloads\\Semester 6\\Deep Learning\\Project\\Bounding Box Detection\\Final Merge\\final\\images\\train\\07.01.25 07.30Am_frame_000000_aug_0.jpg: 640x384 1 ParkingLot, 25.1ms\n",
      "image 933/1614 d:\\Downloads\\VIT Downloads\\Local Downloads\\Semester 6\\Deep Learning\\Project\\Bounding Box Detection\\Final Merge\\final\\images\\train\\07.01.25 07.30Am_frame_000000_aug_1.jpg: 640x384 1 ParkingLot, 25.5ms\n",
      "image 934/1614 d:\\Downloads\\VIT Downloads\\Local Downloads\\Semester 6\\Deep Learning\\Project\\Bounding Box Detection\\Final Merge\\final\\images\\train\\07.01.25 07.30Am_frame_000000_aug_2.jpg: 384x640 1 ParkingLot, 13.6ms\n",
      "image 935/1614 d:\\Downloads\\VIT Downloads\\Local Downloads\\Semester 6\\Deep Learning\\Project\\Bounding Box Detection\\Final Merge\\final\\images\\train\\07.01.25 07.30Am_frame_000000_aug_4.jpg: 384x640 1 ParkingLot, 17.0ms\n",
      "image 936/1614 d:\\Downloads\\VIT Downloads\\Local Downloads\\Semester 6\\Deep Learning\\Project\\Bounding Box Detection\\Final Merge\\final\\images\\train\\07.01.25 07.30Am_frame_055086_aug_0.jpg: 384x640 1 ParkingLot, 13.7ms\n",
      "image 937/1614 d:\\Downloads\\VIT Downloads\\Local Downloads\\Semester 6\\Deep Learning\\Project\\Bounding Box Detection\\Final Merge\\final\\images\\train\\07.01.25 07.30Am_frame_055086_aug_1.jpg: 384x640 1 ParkingLot, 12.8ms\n",
      "image 938/1614 d:\\Downloads\\VIT Downloads\\Local Downloads\\Semester 6\\Deep Learning\\Project\\Bounding Box Detection\\Final Merge\\final\\images\\train\\07.01.25 07.30Am_frame_055086_aug_2.jpg: 640x384 1 ParkingLot, 13.0ms\n",
      "image 939/1614 d:\\Downloads\\VIT Downloads\\Local Downloads\\Semester 6\\Deep Learning\\Project\\Bounding Box Detection\\Final Merge\\final\\images\\train\\07.01.25 07.30Am_frame_055086_aug_3.jpg: 384x640 1 ParkingLot, 13.4ms\n",
      "image 940/1614 d:\\Downloads\\VIT Downloads\\Local Downloads\\Semester 6\\Deep Learning\\Project\\Bounding Box Detection\\Final Merge\\final\\images\\train\\07.01.25 07.30Am_frame_055086_aug_4.jpg: 384x640 1 ParkingLot, 13.5ms\n",
      "image 941/1614 d:\\Downloads\\VIT Downloads\\Local Downloads\\Semester 6\\Deep Learning\\Project\\Bounding Box Detection\\Final Merge\\final\\images\\train\\07.01.25 07.30Am_frame_100991_aug_0.jpg: 384x640 1 ParkingLot, 17.0ms\n",
      "image 942/1614 d:\\Downloads\\VIT Downloads\\Local Downloads\\Semester 6\\Deep Learning\\Project\\Bounding Box Detection\\Final Merge\\final\\images\\train\\07.01.25 07.30Am_frame_100991_aug_1.jpg: 384x640 1 ParkingLot, 13.3ms\n",
      "image 943/1614 d:\\Downloads\\VIT Downloads\\Local Downloads\\Semester 6\\Deep Learning\\Project\\Bounding Box Detection\\Final Merge\\final\\images\\train\\07.01.25 07.30Am_frame_100991_aug_3.jpg: 384x640 1 ParkingLot, 22.8ms\n",
      "image 944/1614 d:\\Downloads\\VIT Downloads\\Local Downloads\\Semester 6\\Deep Learning\\Project\\Bounding Box Detection\\Final Merge\\final\\images\\train\\07.01.25 07.30Am_frame_100991_aug_4.jpg: 384x640 1 ParkingLot, 20.0ms\n",
      "image 945/1614 d:\\Downloads\\VIT Downloads\\Local Downloads\\Semester 6\\Deep Learning\\Project\\Bounding Box Detection\\Final Merge\\final\\images\\train\\07.01.25 07.30Am_frame_146896_aug_0.jpg: 384x640 1 ParkingLot, 25.0ms\n",
      "image 946/1614 d:\\Downloads\\VIT Downloads\\Local Downloads\\Semester 6\\Deep Learning\\Project\\Bounding Box Detection\\Final Merge\\final\\images\\train\\07.01.25 07.30Am_frame_146896_aug_1.jpg: 384x640 1 ParkingLot, 13.4ms\n",
      "image 947/1614 d:\\Downloads\\VIT Downloads\\Local Downloads\\Semester 6\\Deep Learning\\Project\\Bounding Box Detection\\Final Merge\\final\\images\\train\\07.01.25 07.30Am_frame_146896_aug_2.jpg: 384x640 1 ParkingLot, 22.7ms\n",
      "image 948/1614 d:\\Downloads\\VIT Downloads\\Local Downloads\\Semester 6\\Deep Learning\\Project\\Bounding Box Detection\\Final Merge\\final\\images\\train\\07.01.25 07.30Am_frame_146896_aug_3.jpg: 384x640 1 ParkingLot, 16.0ms\n",
      "image 949/1614 d:\\Downloads\\VIT Downloads\\Local Downloads\\Semester 6\\Deep Learning\\Project\\Bounding Box Detection\\Final Merge\\final\\images\\train\\07.01.25 07.30Am_frame_146896_aug_4.jpg: 384x640 1 ParkingLot, 14.3ms\n",
      "image 950/1614 d:\\Downloads\\VIT Downloads\\Local Downloads\\Semester 6\\Deep Learning\\Project\\Bounding Box Detection\\Final Merge\\final\\images\\train\\07.01.25 07.30Am_frame_165258_aug_0.jpg: 384x640 1 ParkingLot, 13.5ms\n",
      "image 951/1614 d:\\Downloads\\VIT Downloads\\Local Downloads\\Semester 6\\Deep Learning\\Project\\Bounding Box Detection\\Final Merge\\final\\images\\train\\07.01.25 07.30Am_frame_165258_aug_1.jpg: 640x384 1 ParkingLot, 18.1ms\n",
      "image 952/1614 d:\\Downloads\\VIT Downloads\\Local Downloads\\Semester 6\\Deep Learning\\Project\\Bounding Box Detection\\Final Merge\\final\\images\\train\\07.01.25 07.30Am_frame_165258_aug_2.jpg: 384x640 1 ParkingLot, 14.5ms\n",
      "image 953/1614 d:\\Downloads\\VIT Downloads\\Local Downloads\\Semester 6\\Deep Learning\\Project\\Bounding Box Detection\\Final Merge\\final\\images\\train\\07.01.25 07.30Am_frame_165258_aug_3.jpg: 384x640 1 ParkingLot, 16.2ms\n",
      "image 954/1614 d:\\Downloads\\VIT Downloads\\Local Downloads\\Semester 6\\Deep Learning\\Project\\Bounding Box Detection\\Final Merge\\final\\images\\train\\07.01.25 07.30Am_frame_165258_aug_4.jpg: 384x640 1 ParkingLot, 19.4ms\n",
      "image 955/1614 d:\\Downloads\\VIT Downloads\\Local Downloads\\Semester 6\\Deep Learning\\Project\\Bounding Box Detection\\Final Merge\\final\\images\\train\\07.01.25 07.30Am_frame_174439_aug_0.jpg: 640x384 1 ParkingLot, 14.4ms\n",
      "image 956/1614 d:\\Downloads\\VIT Downloads\\Local Downloads\\Semester 6\\Deep Learning\\Project\\Bounding Box Detection\\Final Merge\\final\\images\\train\\07.01.25 07.30Am_frame_174439_aug_1.jpg: 640x384 1 ParkingLot, 25.3ms\n",
      "image 957/1614 d:\\Downloads\\VIT Downloads\\Local Downloads\\Semester 6\\Deep Learning\\Project\\Bounding Box Detection\\Final Merge\\final\\images\\train\\07.01.25 07.30Am_frame_174439_aug_2.jpg: 640x384 1 ParkingLot, 12.8ms\n",
      "image 958/1614 d:\\Downloads\\VIT Downloads\\Local Downloads\\Semester 6\\Deep Learning\\Project\\Bounding Box Detection\\Final Merge\\final\\images\\train\\07.01.25 07.30Am_frame_174439_aug_3.jpg: 384x640 1 ParkingLot, 28.3ms\n",
      "image 959/1614 d:\\Downloads\\VIT Downloads\\Local Downloads\\Semester 6\\Deep Learning\\Project\\Bounding Box Detection\\Final Merge\\final\\images\\train\\07.01.25 07.30Am_frame_174439_aug_4.jpg: 384x640 1 ParkingLot, 24.8ms\n",
      "image 960/1614 d:\\Downloads\\VIT Downloads\\Local Downloads\\Semester 6\\Deep Learning\\Project\\Bounding Box Detection\\Final Merge\\final\\images\\train\\07.01.25 07.30Am_frame_201982_aug_0.jpg: 384x640 1 ParkingLot, 17.6ms\n",
      "image 961/1614 d:\\Downloads\\VIT Downloads\\Local Downloads\\Semester 6\\Deep Learning\\Project\\Bounding Box Detection\\Final Merge\\final\\images\\train\\07.01.25 07.30Am_frame_201982_aug_1.jpg: 384x640 1 ParkingLot, 25.4ms\n",
      "image 962/1614 d:\\Downloads\\VIT Downloads\\Local Downloads\\Semester 6\\Deep Learning\\Project\\Bounding Box Detection\\Final Merge\\final\\images\\train\\07.01.25 07.30Am_frame_201982_aug_2.jpg: 384x640 1 ParkingLot, 14.8ms\n",
      "image 963/1614 d:\\Downloads\\VIT Downloads\\Local Downloads\\Semester 6\\Deep Learning\\Project\\Bounding Box Detection\\Final Merge\\final\\images\\train\\07.01.25 07.30Am_frame_201982_aug_3.jpg: 384x640 1 ParkingLot, 13.7ms\n",
      "image 964/1614 d:\\Downloads\\VIT Downloads\\Local Downloads\\Semester 6\\Deep Learning\\Project\\Bounding Box Detection\\Final Merge\\final\\images\\train\\07.01.25 07.30Am_frame_211163_aug_0.jpg: 640x384 1 ParkingLot, 13.9ms\n",
      "image 965/1614 d:\\Downloads\\VIT Downloads\\Local Downloads\\Semester 6\\Deep Learning\\Project\\Bounding Box Detection\\Final Merge\\final\\images\\train\\07.01.25 07.30Am_frame_211163_aug_1.jpg: 384x640 1 ParkingLot, 14.5ms\n",
      "image 966/1614 d:\\Downloads\\VIT Downloads\\Local Downloads\\Semester 6\\Deep Learning\\Project\\Bounding Box Detection\\Final Merge\\final\\images\\train\\07.01.25 07.30Am_frame_211163_aug_2.jpg: 384x640 1 ParkingLot, 12.8ms\n",
      "image 967/1614 d:\\Downloads\\VIT Downloads\\Local Downloads\\Semester 6\\Deep Learning\\Project\\Bounding Box Detection\\Final Merge\\final\\images\\train\\07.01.25 07.30Am_frame_211163_aug_3.jpg: 384x640 1 ParkingLot, 12.9ms\n",
      "image 968/1614 d:\\Downloads\\VIT Downloads\\Local Downloads\\Semester 6\\Deep Learning\\Project\\Bounding Box Detection\\Final Merge\\final\\images\\train\\07.01.25 07.30Am_frame_220344_aug_0.jpg: 384x640 1 ParkingLot, 14.6ms\n",
      "image 969/1614 d:\\Downloads\\VIT Downloads\\Local Downloads\\Semester 6\\Deep Learning\\Project\\Bounding Box Detection\\Final Merge\\final\\images\\train\\07.01.25 07.30Am_frame_220344_aug_1.jpg: 640x384 1 ParkingLot, 15.5ms\n",
      "image 970/1614 d:\\Downloads\\VIT Downloads\\Local Downloads\\Semester 6\\Deep Learning\\Project\\Bounding Box Detection\\Final Merge\\final\\images\\train\\07.01.25 07.30Am_frame_220344_aug_2.jpg: 384x640 1 ParkingLot, 14.6ms\n",
      "image 971/1614 d:\\Downloads\\VIT Downloads\\Local Downloads\\Semester 6\\Deep Learning\\Project\\Bounding Box Detection\\Final Merge\\final\\images\\train\\07.01.25 07.30Am_frame_220344_aug_3.jpg: 384x640 1 ParkingLot, 14.4ms\n",
      "image 972/1614 d:\\Downloads\\VIT Downloads\\Local Downloads\\Semester 6\\Deep Learning\\Project\\Bounding Box Detection\\Final Merge\\final\\images\\train\\07.01.25 07.30Am_frame_220344_aug_4.jpg: 384x640 1 ParkingLot, 24.8ms\n",
      "image 973/1614 d:\\Downloads\\VIT Downloads\\Local Downloads\\Semester 6\\Deep Learning\\Project\\Bounding Box Detection\\Final Merge\\final\\images\\train\\07.01.25 07.30Am_frame_229525_aug_0.jpg: 384x640 1 ParkingLot, 23.3ms\n",
      "image 974/1614 d:\\Downloads\\VIT Downloads\\Local Downloads\\Semester 6\\Deep Learning\\Project\\Bounding Box Detection\\Final Merge\\final\\images\\train\\07.01.25 07.30Am_frame_229525_aug_2.jpg: 384x640 1 ParkingLot, 24.2ms\n",
      "image 975/1614 d:\\Downloads\\VIT Downloads\\Local Downloads\\Semester 6\\Deep Learning\\Project\\Bounding Box Detection\\Final Merge\\final\\images\\train\\07.01.25 07.30Am_frame_229525_aug_3.jpg: 384x640 1 ParkingLot, 14.2ms\n",
      "image 976/1614 d:\\Downloads\\VIT Downloads\\Local Downloads\\Semester 6\\Deep Learning\\Project\\Bounding Box Detection\\Final Merge\\final\\images\\train\\07.01.25 07.30Am_frame_229525_aug_4.jpg: 640x384 1 ParkingLot, 15.9ms\n",
      "image 977/1614 d:\\Downloads\\VIT Downloads\\Local Downloads\\Semester 6\\Deep Learning\\Project\\Bounding Box Detection\\Final Merge\\final\\images\\train\\07.01.25 07.30Am_frame_238706_aug_0.jpg: 384x640 1 ParkingLot, 27.7ms\n",
      "image 978/1614 d:\\Downloads\\VIT Downloads\\Local Downloads\\Semester 6\\Deep Learning\\Project\\Bounding Box Detection\\Final Merge\\final\\images\\train\\07.01.25 07.30Am_frame_238706_aug_1.jpg: 384x640 1 ParkingLot, 13.0ms\n",
      "image 979/1614 d:\\Downloads\\VIT Downloads\\Local Downloads\\Semester 6\\Deep Learning\\Project\\Bounding Box Detection\\Final Merge\\final\\images\\train\\07.01.25 07.30Am_frame_238706_aug_2.jpg: 384x640 1 ParkingLot, 25.5ms\n",
      "image 980/1614 d:\\Downloads\\VIT Downloads\\Local Downloads\\Semester 6\\Deep Learning\\Project\\Bounding Box Detection\\Final Merge\\final\\images\\train\\07.01.25 07.30Am_frame_238706_aug_3.jpg: 384x640 1 ParkingLot, 16.0ms\n",
      "image 981/1614 d:\\Downloads\\VIT Downloads\\Local Downloads\\Semester 6\\Deep Learning\\Project\\Bounding Box Detection\\Final Merge\\final\\images\\train\\07.01.25 07.30Am_frame_238706_aug_4.jpg: 384x640 1 ParkingLot, 12.7ms\n",
      "image 982/1614 d:\\Downloads\\VIT Downloads\\Local Downloads\\Semester 6\\Deep Learning\\Project\\Bounding Box Detection\\Final Merge\\final\\images\\train\\07.01.25 07.30Am_frame_247887_aug_0.jpg: 640x384 1 ParkingLot, 27.3ms\n",
      "image 983/1614 d:\\Downloads\\VIT Downloads\\Local Downloads\\Semester 6\\Deep Learning\\Project\\Bounding Box Detection\\Final Merge\\final\\images\\train\\07.01.25 07.30Am_frame_247887_aug_1.jpg: 640x384 1 ParkingLot, 12.9ms\n",
      "image 984/1614 d:\\Downloads\\VIT Downloads\\Local Downloads\\Semester 6\\Deep Learning\\Project\\Bounding Box Detection\\Final Merge\\final\\images\\train\\07.01.25 07.30Am_frame_247887_aug_2.jpg: 384x640 1 ParkingLot, 13.7ms\n",
      "image 985/1614 d:\\Downloads\\VIT Downloads\\Local Downloads\\Semester 6\\Deep Learning\\Project\\Bounding Box Detection\\Final Merge\\final\\images\\train\\07.01.25 07.30Am_frame_247887_aug_3.jpg: 384x640 1 ParkingLot, 16.5ms\n",
      "image 986/1614 d:\\Downloads\\VIT Downloads\\Local Downloads\\Semester 6\\Deep Learning\\Project\\Bounding Box Detection\\Final Merge\\final\\images\\train\\07.01.25 07.30Am_frame_266249_aug_0.jpg: 384x640 1 ParkingLot, 13.4ms\n",
      "image 987/1614 d:\\Downloads\\VIT Downloads\\Local Downloads\\Semester 6\\Deep Learning\\Project\\Bounding Box Detection\\Final Merge\\final\\images\\train\\07.01.25 07.30Am_frame_266249_aug_1.jpg: 384x640 1 ParkingLot, 13.5ms\n",
      "image 988/1614 d:\\Downloads\\VIT Downloads\\Local Downloads\\Semester 6\\Deep Learning\\Project\\Bounding Box Detection\\Final Merge\\final\\images\\train\\07.01.25 07.30Am_frame_266249_aug_2.jpg: 384x640 1 ParkingLot, 13.0ms\n",
      "image 989/1614 d:\\Downloads\\VIT Downloads\\Local Downloads\\Semester 6\\Deep Learning\\Project\\Bounding Box Detection\\Final Merge\\final\\images\\train\\07.01.25 07.30Am_frame_275430_aug_0.jpg: 384x640 1 ParkingLot, 15.8ms\n",
      "image 990/1614 d:\\Downloads\\VIT Downloads\\Local Downloads\\Semester 6\\Deep Learning\\Project\\Bounding Box Detection\\Final Merge\\final\\images\\train\\07.01.25 07.30Am_frame_275430_aug_1.jpg: 384x640 1 ParkingLot, 14.0ms\n",
      "image 991/1614 d:\\Downloads\\VIT Downloads\\Local Downloads\\Semester 6\\Deep Learning\\Project\\Bounding Box Detection\\Final Merge\\final\\images\\train\\07.01.25 07.30Am_frame_275430_aug_3.jpg: 384x640 1 ParkingLot, 14.4ms\n",
      "image 992/1614 d:\\Downloads\\VIT Downloads\\Local Downloads\\Semester 6\\Deep Learning\\Project\\Bounding Box Detection\\Final Merge\\final\\images\\train\\07.01.25 07.30Am_frame_275430_aug_4.jpg: 384x640 1 ParkingLot, 19.2ms\n",
      "image 993/1614 d:\\Downloads\\VIT Downloads\\Local Downloads\\Semester 6\\Deep Learning\\Project\\Bounding Box Detection\\Final Merge\\final\\images\\train\\07.01.25 07.30Am_frame_302973_aug_0.jpg: 640x384 1 ParkingLot, 18.5ms\n",
      "image 994/1614 d:\\Downloads\\VIT Downloads\\Local Downloads\\Semester 6\\Deep Learning\\Project\\Bounding Box Detection\\Final Merge\\final\\images\\train\\07.01.25 07.30Am_frame_302973_aug_1.jpg: 384x640 1 ParkingLot, 13.9ms\n",
      "image 995/1614 d:\\Downloads\\VIT Downloads\\Local Downloads\\Semester 6\\Deep Learning\\Project\\Bounding Box Detection\\Final Merge\\final\\images\\train\\07.01.25 07.30Am_frame_302973_aug_2.jpg: 384x640 1 ParkingLot, 13.3ms\n",
      "image 996/1614 d:\\Downloads\\VIT Downloads\\Local Downloads\\Semester 6\\Deep Learning\\Project\\Bounding Box Detection\\Final Merge\\final\\images\\train\\07.01.25 07.30Am_frame_302973_aug_4.jpg: 384x640 1 ParkingLot, 13.1ms\n",
      "image 997/1614 d:\\Downloads\\VIT Downloads\\Local Downloads\\Semester 6\\Deep Learning\\Project\\Bounding Box Detection\\Final Merge\\final\\images\\train\\07.01.25 07.30Am_frame_312154_aug_2.jpg: 384x640 1 ParkingLot, 16.7ms\n",
      "image 998/1614 d:\\Downloads\\VIT Downloads\\Local Downloads\\Semester 6\\Deep Learning\\Project\\Bounding Box Detection\\Final Merge\\final\\images\\train\\07.01.25 07.30Am_frame_312154_aug_4.jpg: 384x640 1 ParkingLot, 21.3ms\n",
      "image 999/1614 d:\\Downloads\\VIT Downloads\\Local Downloads\\Semester 6\\Deep Learning\\Project\\Bounding Box Detection\\Final Merge\\final\\images\\train\\07.01.25 07.30Am_frame_339697_aug_0.jpg: 384x640 1 ParkingLot, 22.4ms\n",
      "image 1000/1614 d:\\Downloads\\VIT Downloads\\Local Downloads\\Semester 6\\Deep Learning\\Project\\Bounding Box Detection\\Final Merge\\final\\images\\train\\07.01.25 07.30Am_frame_339697_aug_1.jpg: 640x384 1 ParkingLot, 13.6ms\n",
      "image 1001/1614 d:\\Downloads\\VIT Downloads\\Local Downloads\\Semester 6\\Deep Learning\\Project\\Bounding Box Detection\\Final Merge\\final\\images\\train\\07.01.25 07.30Am_frame_339697_aug_2.jpg: 384x640 1 ParkingLot, 14.1ms\n",
      "image 1002/1614 d:\\Downloads\\VIT Downloads\\Local Downloads\\Semester 6\\Deep Learning\\Project\\Bounding Box Detection\\Final Merge\\final\\images\\train\\07.01.25 07.30Am_frame_339697_aug_3.jpg: 640x384 1 ParkingLot, 14.4ms\n",
      "image 1003/1614 d:\\Downloads\\VIT Downloads\\Local Downloads\\Semester 6\\Deep Learning\\Project\\Bounding Box Detection\\Final Merge\\final\\images\\train\\07.01.25 07.30Am_frame_339697_aug_4.jpg: 384x640 1 ParkingLot, 16.3ms\n",
      "image 1004/1614 d:\\Downloads\\VIT Downloads\\Local Downloads\\Semester 6\\Deep Learning\\Project\\Bounding Box Detection\\Final Merge\\final\\images\\train\\07.01.25 07.30Am_frame_348878_aug_0.jpg: 384x640 1 ParkingLot, 13.7ms\n",
      "image 1005/1614 d:\\Downloads\\VIT Downloads\\Local Downloads\\Semester 6\\Deep Learning\\Project\\Bounding Box Detection\\Final Merge\\final\\images\\train\\07.01.25 07.30Am_frame_348878_aug_1.jpg: 384x640 1 ParkingLot, 19.3ms\n",
      "image 1006/1614 d:\\Downloads\\VIT Downloads\\Local Downloads\\Semester 6\\Deep Learning\\Project\\Bounding Box Detection\\Final Merge\\final\\images\\train\\07.01.25 07.30Am_frame_348878_aug_3.jpg: 640x384 1 ParkingLot, 27.2ms\n",
      "image 1007/1614 d:\\Downloads\\VIT Downloads\\Local Downloads\\Semester 6\\Deep Learning\\Project\\Bounding Box Detection\\Final Merge\\final\\images\\train\\07.01.25 07.30Am_frame_348878_aug_4.jpg: 384x640 1 ParkingLot, 15.2ms\n",
      "image 1008/1614 d:\\Downloads\\VIT Downloads\\Local Downloads\\Semester 6\\Deep Learning\\Project\\Bounding Box Detection\\Final Merge\\final\\images\\train\\07.01.25 07.30Am_frame_385602_aug_0.jpg: 384x640 1 ParkingLot, 12.8ms\n",
      "image 1009/1614 d:\\Downloads\\VIT Downloads\\Local Downloads\\Semester 6\\Deep Learning\\Project\\Bounding Box Detection\\Final Merge\\final\\images\\train\\07.01.25 07.30Am_frame_385602_aug_1.jpg: 384x640 1 ParkingLot, 13.0ms\n",
      "image 1010/1614 d:\\Downloads\\VIT Downloads\\Local Downloads\\Semester 6\\Deep Learning\\Project\\Bounding Box Detection\\Final Merge\\final\\images\\train\\07.01.25 07.30Am_frame_385602_aug_2.jpg: 384x640 1 ParkingLot, 13.5ms\n",
      "image 1011/1614 d:\\Downloads\\VIT Downloads\\Local Downloads\\Semester 6\\Deep Learning\\Project\\Bounding Box Detection\\Final Merge\\final\\images\\train\\07.01.25 07.30Am_frame_394783_aug_0.jpg: 384x640 1 ParkingLot, 13.2ms\n",
      "image 1012/1614 d:\\Downloads\\VIT Downloads\\Local Downloads\\Semester 6\\Deep Learning\\Project\\Bounding Box Detection\\Final Merge\\final\\images\\train\\07.01.25 07.30Am_frame_394783_aug_1.jpg: 640x384 1 ParkingLot, 13.9ms\n",
      "image 1013/1614 d:\\Downloads\\VIT Downloads\\Local Downloads\\Semester 6\\Deep Learning\\Project\\Bounding Box Detection\\Final Merge\\final\\images\\train\\07.01.25 07.30Am_frame_394783_aug_2.jpg: 384x640 1 ParkingLot, 17.1ms\n",
      "image 1014/1614 d:\\Downloads\\VIT Downloads\\Local Downloads\\Semester 6\\Deep Learning\\Project\\Bounding Box Detection\\Final Merge\\final\\images\\train\\07.01.25 07.30Am_frame_394783_aug_3.jpg: 384x640 1 ParkingLot, 13.7ms\n",
      "image 1015/1614 d:\\Downloads\\VIT Downloads\\Local Downloads\\Semester 6\\Deep Learning\\Project\\Bounding Box Detection\\Final Merge\\final\\images\\train\\07.01.25 07.30Am_frame_394783_aug_4.jpg: 384x640 1 ParkingLot, 21.2ms\n",
      "image 1016/1614 d:\\Downloads\\VIT Downloads\\Local Downloads\\Semester 6\\Deep Learning\\Project\\Bounding Box Detection\\Final Merge\\final\\images\\train\\07.01.25 07.30Am_frame_403964_aug_0.jpg: 640x384 1 ParkingLot, 25.8ms\n",
      "image 1017/1614 d:\\Downloads\\VIT Downloads\\Local Downloads\\Semester 6\\Deep Learning\\Project\\Bounding Box Detection\\Final Merge\\final\\images\\train\\07.01.25 07.30Am_frame_403964_aug_1.jpg: 384x640 1 ParkingLot, 17.1ms\n",
      "image 1018/1614 d:\\Downloads\\VIT Downloads\\Local Downloads\\Semester 6\\Deep Learning\\Project\\Bounding Box Detection\\Final Merge\\final\\images\\train\\07.01.25 07.30Am_frame_403964_aug_2.jpg: 384x640 1 ParkingLot, 13.9ms\n",
      "image 1019/1614 d:\\Downloads\\VIT Downloads\\Local Downloads\\Semester 6\\Deep Learning\\Project\\Bounding Box Detection\\Final Merge\\final\\images\\train\\07.01.25 07.30Am_frame_403964_aug_3.jpg: 384x640 1 ParkingLot, 15.1ms\n",
      "image 1020/1614 d:\\Downloads\\VIT Downloads\\Local Downloads\\Semester 6\\Deep Learning\\Project\\Bounding Box Detection\\Final Merge\\final\\images\\train\\07.01.25 07.30Am_frame_413145_aug_0.jpg: 384x640 1 ParkingLot, 14.3ms\n",
      "image 1021/1614 d:\\Downloads\\VIT Downloads\\Local Downloads\\Semester 6\\Deep Learning\\Project\\Bounding Box Detection\\Final Merge\\final\\images\\train\\07.01.25 07.30Am_frame_413145_aug_1.jpg: 384x640 1 ParkingLot, 18.0ms\n",
      "image 1022/1614 d:\\Downloads\\VIT Downloads\\Local Downloads\\Semester 6\\Deep Learning\\Project\\Bounding Box Detection\\Final Merge\\final\\images\\train\\07.01.25 07.30Am_frame_413145_aug_2.jpg: 384x640 1 ParkingLot, 13.4ms\n",
      "image 1023/1614 d:\\Downloads\\VIT Downloads\\Local Downloads\\Semester 6\\Deep Learning\\Project\\Bounding Box Detection\\Final Merge\\final\\images\\train\\07.01.25 07.30Am_frame_413145_aug_3.jpg: 384x640 1 ParkingLot, 16.7ms\n",
      "image 1024/1614 d:\\Downloads\\VIT Downloads\\Local Downloads\\Semester 6\\Deep Learning\\Project\\Bounding Box Detection\\Final Merge\\final\\images\\train\\07.01.25 07.30Am_frame_413145_aug_4.jpg: 384x640 1 ParkingLot, 13.7ms\n",
      "image 1025/1614 d:\\Downloads\\VIT Downloads\\Local Downloads\\Semester 6\\Deep Learning\\Project\\Bounding Box Detection\\Final Merge\\final\\images\\train\\07.01.25 07.30Am_frame_431507_aug_0.jpg: 384x640 1 ParkingLot, 13.9ms\n",
      "image 1026/1614 d:\\Downloads\\VIT Downloads\\Local Downloads\\Semester 6\\Deep Learning\\Project\\Bounding Box Detection\\Final Merge\\final\\images\\train\\07.01.25 07.30Am_frame_431507_aug_2.jpg: 384x640 1 ParkingLot, 13.8ms\n",
      "image 1027/1614 d:\\Downloads\\VIT Downloads\\Local Downloads\\Semester 6\\Deep Learning\\Project\\Bounding Box Detection\\Final Merge\\final\\images\\train\\07.01.25 07.30Am_frame_431507_aug_3.jpg: 640x384 1 ParkingLot, 15.2ms\n",
      "image 1028/1614 d:\\Downloads\\VIT Downloads\\Local Downloads\\Semester 6\\Deep Learning\\Project\\Bounding Box Detection\\Final Merge\\final\\images\\train\\07.01.25 07.30Am_frame_440688_aug_0.jpg: 384x640 1 ParkingLot, 15.0ms\n",
      "image 1029/1614 d:\\Downloads\\VIT Downloads\\Local Downloads\\Semester 6\\Deep Learning\\Project\\Bounding Box Detection\\Final Merge\\final\\images\\train\\07.01.25 07.30Am_frame_440688_aug_1.jpg: 384x640 1 ParkingLot, 17.1ms\n",
      "image 1030/1614 d:\\Downloads\\VIT Downloads\\Local Downloads\\Semester 6\\Deep Learning\\Project\\Bounding Box Detection\\Final Merge\\final\\images\\train\\07.01.25 10.00Am_frame_000000_aug_1.jpg: 640x384 1 ParkingLot, 14.8ms\n",
      "image 1031/1614 d:\\Downloads\\VIT Downloads\\Local Downloads\\Semester 6\\Deep Learning\\Project\\Bounding Box Detection\\Final Merge\\final\\images\\train\\07.01.25 10.00Am_frame_000000_aug_3.jpg: 384x640 1 ParkingLot, 15.8ms\n",
      "image 1032/1614 d:\\Downloads\\VIT Downloads\\Local Downloads\\Semester 6\\Deep Learning\\Project\\Bounding Box Detection\\Final Merge\\final\\images\\train\\07.01.25 10.00Am_frame_000000_aug_4.jpg: 384x640 1 ParkingLot, 14.3ms\n",
      "image 1033/1614 d:\\Downloads\\VIT Downloads\\Local Downloads\\Semester 6\\Deep Learning\\Project\\Bounding Box Detection\\Final Merge\\final\\images\\train\\07.01.25 10.00Am_frame_067920_aug_0.jpg: 384x640 1 ParkingLot, 13.7ms\n",
      "image 1034/1614 d:\\Downloads\\VIT Downloads\\Local Downloads\\Semester 6\\Deep Learning\\Project\\Bounding Box Detection\\Final Merge\\final\\images\\train\\07.01.25 10.00Am_frame_067920_aug_1.jpg: 640x384 1 ParkingLot, 15.2ms\n",
      "image 1035/1614 d:\\Downloads\\VIT Downloads\\Local Downloads\\Semester 6\\Deep Learning\\Project\\Bounding Box Detection\\Final Merge\\final\\images\\train\\07.01.25 10.00Am_frame_067920_aug_2.jpg: 384x640 1 ParkingLot, 14.8ms\n",
      "image 1036/1614 d:\\Downloads\\VIT Downloads\\Local Downloads\\Semester 6\\Deep Learning\\Project\\Bounding Box Detection\\Final Merge\\final\\images\\train\\07.01.25 10.00Am_frame_067920_aug_3.jpg: 384x640 1 ParkingLot, 13.9ms\n",
      "image 1037/1614 d:\\Downloads\\VIT Downloads\\Local Downloads\\Semester 6\\Deep Learning\\Project\\Bounding Box Detection\\Final Merge\\final\\images\\train\\07.01.25 10.00Am_frame_076410_aug_0.jpg: 384x640 1 ParkingLot, 15.1ms\n",
      "image 1038/1614 d:\\Downloads\\VIT Downloads\\Local Downloads\\Semester 6\\Deep Learning\\Project\\Bounding Box Detection\\Final Merge\\final\\images\\train\\07.01.25 10.00Am_frame_076410_aug_2.jpg: 384x640 1 ParkingLot, 22.7ms\n",
      "image 1039/1614 d:\\Downloads\\VIT Downloads\\Local Downloads\\Semester 6\\Deep Learning\\Project\\Bounding Box Detection\\Final Merge\\final\\images\\train\\07.01.25 10.00Am_frame_076410_aug_3.jpg: 384x640 1 ParkingLot, 23.8ms\n",
      "image 1040/1614 d:\\Downloads\\VIT Downloads\\Local Downloads\\Semester 6\\Deep Learning\\Project\\Bounding Box Detection\\Final Merge\\final\\images\\train\\07.01.25 10.00Am_frame_084900_aug_0.jpg: 384x640 1 ParkingLot, 19.0ms\n",
      "image 1041/1614 d:\\Downloads\\VIT Downloads\\Local Downloads\\Semester 6\\Deep Learning\\Project\\Bounding Box Detection\\Final Merge\\final\\images\\train\\07.01.25 10.00Am_frame_084900_aug_2.jpg: 384x640 1 ParkingLot, 24.1ms\n",
      "image 1042/1614 d:\\Downloads\\VIT Downloads\\Local Downloads\\Semester 6\\Deep Learning\\Project\\Bounding Box Detection\\Final Merge\\final\\images\\train\\07.01.25 10.00Am_frame_084900_aug_3.jpg: 384x640 1 ParkingLot, 16.0ms\n",
      "image 1043/1614 d:\\Downloads\\VIT Downloads\\Local Downloads\\Semester 6\\Deep Learning\\Project\\Bounding Box Detection\\Final Merge\\final\\images\\train\\07.01.25 10.00Am_frame_110370_aug_0.jpg: 384x640 1 ParkingLot, 15.9ms\n",
      "image 1044/1614 d:\\Downloads\\VIT Downloads\\Local Downloads\\Semester 6\\Deep Learning\\Project\\Bounding Box Detection\\Final Merge\\final\\images\\train\\07.01.25 10.00Am_frame_110370_aug_1.jpg: 384x640 1 ParkingLot, 13.3ms\n",
      "image 1045/1614 d:\\Downloads\\VIT Downloads\\Local Downloads\\Semester 6\\Deep Learning\\Project\\Bounding Box Detection\\Final Merge\\final\\images\\train\\07.01.25 10.00Am_frame_110370_aug_2.jpg: 640x384 1 ParkingLot, 18.3ms\n",
      "image 1046/1614 d:\\Downloads\\VIT Downloads\\Local Downloads\\Semester 6\\Deep Learning\\Project\\Bounding Box Detection\\Final Merge\\final\\images\\train\\07.01.25 10.00Am_frame_110370_aug_4.jpg: 384x640 1 ParkingLot, 30.0ms\n",
      "image 1047/1614 d:\\Downloads\\VIT Downloads\\Local Downloads\\Semester 6\\Deep Learning\\Project\\Bounding Box Detection\\Final Merge\\final\\images\\train\\07.01.25 10.00Am_frame_161310_aug_0.jpg: 640x384 1 ParkingLot, 14.9ms\n",
      "image 1048/1614 d:\\Downloads\\VIT Downloads\\Local Downloads\\Semester 6\\Deep Learning\\Project\\Bounding Box Detection\\Final Merge\\final\\images\\train\\07.01.25 10.00Am_frame_161310_aug_1.jpg: 384x640 1 ParkingLot, 27.7ms\n",
      "image 1049/1614 d:\\Downloads\\VIT Downloads\\Local Downloads\\Semester 6\\Deep Learning\\Project\\Bounding Box Detection\\Final Merge\\final\\images\\train\\07.01.25 10.00Am_frame_161310_aug_3.jpg: 384x640 1 ParkingLot, 14.0ms\n",
      "image 1050/1614 d:\\Downloads\\VIT Downloads\\Local Downloads\\Semester 6\\Deep Learning\\Project\\Bounding Box Detection\\Final Merge\\final\\images\\train\\07.01.25 10.00Am_frame_169800_aug_0.jpg: 640x384 1 ParkingLot, 14.7ms\n",
      "image 1051/1614 d:\\Downloads\\VIT Downloads\\Local Downloads\\Semester 6\\Deep Learning\\Project\\Bounding Box Detection\\Final Merge\\final\\images\\train\\07.01.25 10.00Am_frame_169800_aug_2.jpg: 640x384 1 ParkingLot, 13.4ms\n",
      "image 1052/1614 d:\\Downloads\\VIT Downloads\\Local Downloads\\Semester 6\\Deep Learning\\Project\\Bounding Box Detection\\Final Merge\\final\\images\\train\\07.01.25 10.00Am_frame_169800_aug_3.jpg: 384x640 1 ParkingLot, 14.0ms\n",
      "image 1053/1614 d:\\Downloads\\VIT Downloads\\Local Downloads\\Semester 6\\Deep Learning\\Project\\Bounding Box Detection\\Final Merge\\final\\images\\train\\07.01.25 10.00Am_frame_169800_aug_4.jpg: 384x640 1 ParkingLot, 17.3ms\n",
      "image 1054/1614 d:\\Downloads\\VIT Downloads\\Local Downloads\\Semester 6\\Deep Learning\\Project\\Bounding Box Detection\\Final Merge\\final\\images\\train\\07.01.25 10.00Am_frame_178290_aug_0.jpg: 384x640 1 ParkingLot, 13.9ms\n",
      "image 1055/1614 d:\\Downloads\\VIT Downloads\\Local Downloads\\Semester 6\\Deep Learning\\Project\\Bounding Box Detection\\Final Merge\\final\\images\\train\\07.01.25 10.00Am_frame_178290_aug_1.jpg: 384x640 1 ParkingLot, 14.2ms\n",
      "image 1056/1614 d:\\Downloads\\VIT Downloads\\Local Downloads\\Semester 6\\Deep Learning\\Project\\Bounding Box Detection\\Final Merge\\final\\images\\train\\07.01.25 10.00Am_frame_178290_aug_2.jpg: 384x640 1 ParkingLot, 13.4ms\n",
      "image 1057/1614 d:\\Downloads\\VIT Downloads\\Local Downloads\\Semester 6\\Deep Learning\\Project\\Bounding Box Detection\\Final Merge\\final\\images\\train\\07.01.25 10.00Am_frame_331110_aug_1.jpg: 384x640 1 ParkingLot, 13.6ms\n",
      "image 1058/1614 d:\\Downloads\\VIT Downloads\\Local Downloads\\Semester 6\\Deep Learning\\Project\\Bounding Box Detection\\Final Merge\\final\\images\\train\\07.01.25 10.00Am_frame_331110_aug_2.jpg: 384x640 1 ParkingLot, 13.8ms\n",
      "image 1059/1614 d:\\Downloads\\VIT Downloads\\Local Downloads\\Semester 6\\Deep Learning\\Project\\Bounding Box Detection\\Final Merge\\final\\images\\train\\07.01.25 10.00Am_frame_331110_aug_3.jpg: 384x640 1 ParkingLot, 13.6ms\n",
      "image 1060/1614 d:\\Downloads\\VIT Downloads\\Local Downloads\\Semester 6\\Deep Learning\\Project\\Bounding Box Detection\\Final Merge\\final\\images\\train\\07.01.25 10.00Am_frame_331110_aug_4.jpg: 384x640 1 ParkingLot, 13.5ms\n",
      "image 1061/1614 d:\\Downloads\\VIT Downloads\\Local Downloads\\Semester 6\\Deep Learning\\Project\\Bounding Box Detection\\Final Merge\\final\\images\\train\\07.01.25 10.00Am_frame_339600_aug_0.jpg: 384x640 1 ParkingLot, 16.8ms\n",
      "image 1062/1614 d:\\Downloads\\VIT Downloads\\Local Downloads\\Semester 6\\Deep Learning\\Project\\Bounding Box Detection\\Final Merge\\final\\images\\train\\07.01.25 10.00Am_frame_339600_aug_1.jpg: 384x640 1 ParkingLot, 13.1ms\n",
      "image 1063/1614 d:\\Downloads\\VIT Downloads\\Local Downloads\\Semester 6\\Deep Learning\\Project\\Bounding Box Detection\\Final Merge\\final\\images\\train\\07.01.25 10.00Am_frame_339600_aug_2.jpg: 384x640 1 ParkingLot, 13.7ms\n",
      "image 1064/1614 d:\\Downloads\\VIT Downloads\\Local Downloads\\Semester 6\\Deep Learning\\Project\\Bounding Box Detection\\Final Merge\\final\\images\\train\\07.01.25 10.00Am_frame_339600_aug_3.jpg: 384x640 1 ParkingLot, 14.8ms\n",
      "image 1065/1614 d:\\Downloads\\VIT Downloads\\Local Downloads\\Semester 6\\Deep Learning\\Project\\Bounding Box Detection\\Final Merge\\final\\images\\train\\07.01.25 10.00Am_frame_339600_aug_4.jpg: 640x384 1 ParkingLot, 16.8ms\n",
      "image 1066/1614 d:\\Downloads\\VIT Downloads\\Local Downloads\\Semester 6\\Deep Learning\\Project\\Bounding Box Detection\\Final Merge\\final\\images\\train\\07.01.25 10.00Am_frame_348090_aug_0.jpg: 384x640 1 ParkingLot, 14.5ms\n",
      "image 1067/1614 d:\\Downloads\\VIT Downloads\\Local Downloads\\Semester 6\\Deep Learning\\Project\\Bounding Box Detection\\Final Merge\\final\\images\\train\\07.01.25 10.00Am_frame_348090_aug_1.jpg: 640x384 1 ParkingLot, 15.8ms\n",
      "image 1068/1614 d:\\Downloads\\VIT Downloads\\Local Downloads\\Semester 6\\Deep Learning\\Project\\Bounding Box Detection\\Final Merge\\final\\images\\train\\07.01.25 10.00Am_frame_348090_aug_2.jpg: 384x640 1 ParkingLot, 14.9ms\n",
      "image 1069/1614 d:\\Downloads\\VIT Downloads\\Local Downloads\\Semester 6\\Deep Learning\\Project\\Bounding Box Detection\\Final Merge\\final\\images\\train\\07.01.25 10.00Am_frame_348090_aug_3.jpg: 384x640 1 ParkingLot, 20.2ms\n",
      "image 1070/1614 d:\\Downloads\\VIT Downloads\\Local Downloads\\Semester 6\\Deep Learning\\Project\\Bounding Box Detection\\Final Merge\\final\\images\\train\\07.01.25 10.00Am_frame_348090_aug_4.jpg: 384x640 1 ParkingLot, 13.7ms\n",
      "image 1071/1614 d:\\Downloads\\VIT Downloads\\Local Downloads\\Semester 6\\Deep Learning\\Project\\Bounding Box Detection\\Final Merge\\final\\images\\train\\07.01.25 10.00Am_frame_356580_aug_0.jpg: 384x640 1 ParkingLot, 13.0ms\n",
      "image 1072/1614 d:\\Downloads\\VIT Downloads\\Local Downloads\\Semester 6\\Deep Learning\\Project\\Bounding Box Detection\\Final Merge\\final\\images\\train\\07.01.25 10.00Am_frame_356580_aug_1.jpg: 384x640 1 ParkingLot, 13.5ms\n",
      "image 1073/1614 d:\\Downloads\\VIT Downloads\\Local Downloads\\Semester 6\\Deep Learning\\Project\\Bounding Box Detection\\Final Merge\\final\\images\\train\\07.01.25 10.00Am_frame_356580_aug_2.jpg: 384x640 1 ParkingLot, 13.5ms\n",
      "image 1074/1614 d:\\Downloads\\VIT Downloads\\Local Downloads\\Semester 6\\Deep Learning\\Project\\Bounding Box Detection\\Final Merge\\final\\images\\train\\07.01.25 10.00Am_frame_356580_aug_3.jpg: 384x640 1 ParkingLot, 13.1ms\n",
      "image 1075/1614 d:\\Downloads\\VIT Downloads\\Local Downloads\\Semester 6\\Deep Learning\\Project\\Bounding Box Detection\\Final Merge\\final\\images\\train\\07.01.25 10.00Am_frame_356580_aug_4.jpg: 384x640 1 ParkingLot, 13.8ms\n",
      "image 1076/1614 d:\\Downloads\\VIT Downloads\\Local Downloads\\Semester 6\\Deep Learning\\Project\\Bounding Box Detection\\Final Merge\\final\\images\\train\\07.01.25 10.00Am_frame_382050_aug_0.jpg: 384x640 1 ParkingLot, 13.9ms\n",
      "image 1077/1614 d:\\Downloads\\VIT Downloads\\Local Downloads\\Semester 6\\Deep Learning\\Project\\Bounding Box Detection\\Final Merge\\final\\images\\train\\07.01.25 10.00Am_frame_382050_aug_1.jpg: 384x640 1 ParkingLot, 13.2ms\n",
      "image 1078/1614 d:\\Downloads\\VIT Downloads\\Local Downloads\\Semester 6\\Deep Learning\\Project\\Bounding Box Detection\\Final Merge\\final\\images\\train\\07.01.25 10.00Am_frame_382050_aug_2.jpg: 384x640 1 ParkingLot, 13.3ms\n",
      "image 1079/1614 d:\\Downloads\\VIT Downloads\\Local Downloads\\Semester 6\\Deep Learning\\Project\\Bounding Box Detection\\Final Merge\\final\\images\\train\\07.01.25 10.00Am_frame_382050_aug_3.jpg: 384x640 1 ParkingLot, 14.3ms\n",
      "image 1080/1614 d:\\Downloads\\VIT Downloads\\Local Downloads\\Semester 6\\Deep Learning\\Project\\Bounding Box Detection\\Final Merge\\final\\images\\train\\07.01.25 10.00Am_frame_390540_aug_1.jpg: 384x640 1 ParkingLot, 13.1ms\n",
      "image 1081/1614 d:\\Downloads\\VIT Downloads\\Local Downloads\\Semester 6\\Deep Learning\\Project\\Bounding Box Detection\\Final Merge\\final\\images\\train\\07.01.25 10.00Am_frame_390540_aug_2.jpg: 640x384 1 ParkingLot, 14.4ms\n",
      "image 1082/1614 d:\\Downloads\\VIT Downloads\\Local Downloads\\Semester 6\\Deep Learning\\Project\\Bounding Box Detection\\Final Merge\\final\\images\\train\\07.01.25 10.00Am_frame_390540_aug_3.jpg: 640x384 1 ParkingLot, 12.8ms\n",
      "image 1083/1614 d:\\Downloads\\VIT Downloads\\Local Downloads\\Semester 6\\Deep Learning\\Project\\Bounding Box Detection\\Final Merge\\final\\images\\train\\07.01.25 10.00Am_frame_390540_aug_4.jpg: 384x640 1 ParkingLot, 17.5ms\n",
      "image 1084/1614 d:\\Downloads\\VIT Downloads\\Local Downloads\\Semester 6\\Deep Learning\\Project\\Bounding Box Detection\\Final Merge\\final\\images\\train\\07.01.25 10.00Am_frame_407520_aug_0.jpg: 384x640 1 ParkingLot, 18.4ms\n",
      "image 1085/1614 d:\\Downloads\\VIT Downloads\\Local Downloads\\Semester 6\\Deep Learning\\Project\\Bounding Box Detection\\Final Merge\\final\\images\\train\\07.01.25 10.00Am_frame_407520_aug_1.jpg: 384x640 1 ParkingLot, 17.5ms\n",
      "image 1086/1614 d:\\Downloads\\VIT Downloads\\Local Downloads\\Semester 6\\Deep Learning\\Project\\Bounding Box Detection\\Final Merge\\final\\images\\train\\07.01.25 10.00Am_frame_407520_aug_2.jpg: 384x640 1 ParkingLot, 15.5ms\n",
      "image 1087/1614 d:\\Downloads\\VIT Downloads\\Local Downloads\\Semester 6\\Deep Learning\\Project\\Bounding Box Detection\\Final Merge\\final\\images\\train\\07.01.25 10.00Am_frame_407520_aug_3.jpg: 384x640 1 ParkingLot, 13.8ms\n",
      "image 1088/1614 d:\\Downloads\\VIT Downloads\\Local Downloads\\Semester 6\\Deep Learning\\Project\\Bounding Box Detection\\Final Merge\\final\\images\\train\\07.01.25 10.00Am_frame_407520_aug_4.jpg: 640x384 1 ParkingLot, 14.4ms\n",
      "image 1089/1614 d:\\Downloads\\VIT Downloads\\Local Downloads\\Semester 6\\Deep Learning\\Project\\Bounding Box Detection\\Final Merge\\final\\images\\train\\07.01.25 10.00Am_frame_416010_aug_0.jpg: 384x640 1 ParkingLot, 15.6ms\n",
      "image 1090/1614 d:\\Downloads\\VIT Downloads\\Local Downloads\\Semester 6\\Deep Learning\\Project\\Bounding Box Detection\\Final Merge\\final\\images\\train\\07.01.25 10.00Am_frame_416010_aug_1.jpg: 640x384 1 ParkingLot, 15.9ms\n",
      "image 1091/1614 d:\\Downloads\\VIT Downloads\\Local Downloads\\Semester 6\\Deep Learning\\Project\\Bounding Box Detection\\Final Merge\\final\\images\\train\\07.01.25 10.00Am_frame_416010_aug_2.jpg: 384x640 1 ParkingLot, 14.7ms\n",
      "image 1092/1614 d:\\Downloads\\VIT Downloads\\Local Downloads\\Semester 6\\Deep Learning\\Project\\Bounding Box Detection\\Final Merge\\final\\images\\train\\07.01.25 10.00Am_frame_416010_aug_3.jpg: 384x640 1 ParkingLot, 14.5ms\n",
      "image 1093/1614 d:\\Downloads\\VIT Downloads\\Local Downloads\\Semester 6\\Deep Learning\\Project\\Bounding Box Detection\\Final Merge\\final\\images\\train\\07.01.25 10.00Am_frame_416010_aug_4.jpg: 384x640 1 ParkingLot, 16.7ms\n",
      "image 1094/1614 d:\\Downloads\\VIT Downloads\\Local Downloads\\Semester 6\\Deep Learning\\Project\\Bounding Box Detection\\Final Merge\\final\\images\\train\\07.01.25 10.00Am_frame_424500_aug_0.jpg: 384x640 1 ParkingLot, 15.5ms\n",
      "image 1095/1614 d:\\Downloads\\VIT Downloads\\Local Downloads\\Semester 6\\Deep Learning\\Project\\Bounding Box Detection\\Final Merge\\final\\images\\train\\07.01.25 10.00Am_frame_424500_aug_1.jpg: 384x640 1 ParkingLot, 13.2ms\n",
      "image 1096/1614 d:\\Downloads\\VIT Downloads\\Local Downloads\\Semester 6\\Deep Learning\\Project\\Bounding Box Detection\\Final Merge\\final\\images\\train\\07.01.25 10.00Am_frame_424500_aug_2.jpg: 640x384 1 ParkingLot, 15.2ms\n",
      "image 1097/1614 d:\\Downloads\\VIT Downloads\\Local Downloads\\Semester 6\\Deep Learning\\Project\\Bounding Box Detection\\Final Merge\\final\\images\\train\\07.01.25 10.00Am_frame_424500_aug_3.jpg: 384x640 1 ParkingLot, 15.1ms\n",
      "image 1098/1614 d:\\Downloads\\VIT Downloads\\Local Downloads\\Semester 6\\Deep Learning\\Project\\Bounding Box Detection\\Final Merge\\final\\images\\train\\07.01.25 10.00Am_frame_424500_aug_4.jpg: 384x640 1 ParkingLot, 14.8ms\n",
      "image 1099/1614 d:\\Downloads\\VIT Downloads\\Local Downloads\\Semester 6\\Deep Learning\\Project\\Bounding Box Detection\\Final Merge\\final\\images\\train\\08.01.25 05.30Pm_frame_000000_aug_0.jpg: 384x640 1 ParkingLot, 13.3ms\n",
      "image 1100/1614 d:\\Downloads\\VIT Downloads\\Local Downloads\\Semester 6\\Deep Learning\\Project\\Bounding Box Detection\\Final Merge\\final\\images\\train\\08.01.25 05.30Pm_frame_000000_aug_1.jpg: 384x640 1 ParkingLot, 14.0ms\n",
      "image 1101/1614 d:\\Downloads\\VIT Downloads\\Local Downloads\\Semester 6\\Deep Learning\\Project\\Bounding Box Detection\\Final Merge\\final\\images\\train\\08.01.25 05.30Pm_frame_000000_aug_2.jpg: 384x640 1 ParkingLot, 15.7ms\n",
      "image 1102/1614 d:\\Downloads\\VIT Downloads\\Local Downloads\\Semester 6\\Deep Learning\\Project\\Bounding Box Detection\\Final Merge\\final\\images\\train\\08.01.25 05.30Pm_frame_000000_aug_4.jpg: 384x640 1 ParkingLot, 14.9ms\n",
      "image 1103/1614 d:\\Downloads\\VIT Downloads\\Local Downloads\\Semester 6\\Deep Learning\\Project\\Bounding Box Detection\\Final Merge\\final\\images\\train\\08.01.25 05.30Pm_frame_008872_aug_1.jpg: 384x640 1 ParkingLot, 14.1ms\n",
      "image 1104/1614 d:\\Downloads\\VIT Downloads\\Local Downloads\\Semester 6\\Deep Learning\\Project\\Bounding Box Detection\\Final Merge\\final\\images\\train\\08.01.25 05.30Pm_frame_008872_aug_2.jpg: 384x640 1 ParkingLot, 13.1ms\n",
      "image 1105/1614 d:\\Downloads\\VIT Downloads\\Local Downloads\\Semester 6\\Deep Learning\\Project\\Bounding Box Detection\\Final Merge\\final\\images\\train\\08.01.25 05.30Pm_frame_008872_aug_3.jpg: 640x384 1 ParkingLot, 14.0ms\n",
      "image 1106/1614 d:\\Downloads\\VIT Downloads\\Local Downloads\\Semester 6\\Deep Learning\\Project\\Bounding Box Detection\\Final Merge\\final\\images\\train\\08.01.25 05.30Pm_frame_017744_aug_0.jpg: 384x640 1 ParkingLot, 15.4ms\n",
      "image 1107/1614 d:\\Downloads\\VIT Downloads\\Local Downloads\\Semester 6\\Deep Learning\\Project\\Bounding Box Detection\\Final Merge\\final\\images\\train\\08.01.25 05.30Pm_frame_017744_aug_3.jpg: 384x640 1 ParkingLot, 13.9ms\n",
      "image 1108/1614 d:\\Downloads\\VIT Downloads\\Local Downloads\\Semester 6\\Deep Learning\\Project\\Bounding Box Detection\\Final Merge\\final\\images\\train\\08.01.25 05.30Pm_frame_017744_aug_4.jpg: 384x640 1 ParkingLot, 13.5ms\n",
      "image 1109/1614 d:\\Downloads\\VIT Downloads\\Local Downloads\\Semester 6\\Deep Learning\\Project\\Bounding Box Detection\\Final Merge\\final\\images\\train\\08.01.25 05.30Pm_frame_026616_aug_0.jpg: 640x384 1 ParkingLot, 20.6ms\n",
      "image 1110/1614 d:\\Downloads\\VIT Downloads\\Local Downloads\\Semester 6\\Deep Learning\\Project\\Bounding Box Detection\\Final Merge\\final\\images\\train\\08.01.25 05.30Pm_frame_026616_aug_1.jpg: 384x640 1 ParkingLot, 14.0ms\n",
      "image 1111/1614 d:\\Downloads\\VIT Downloads\\Local Downloads\\Semester 6\\Deep Learning\\Project\\Bounding Box Detection\\Final Merge\\final\\images\\train\\08.01.25 05.30Pm_frame_026616_aug_2.jpg: 384x640 1 ParkingLot, 14.0ms\n",
      "image 1112/1614 d:\\Downloads\\VIT Downloads\\Local Downloads\\Semester 6\\Deep Learning\\Project\\Bounding Box Detection\\Final Merge\\final\\images\\train\\08.01.25 05.30Pm_frame_026616_aug_3.jpg: 640x384 1 ParkingLot, 14.2ms\n",
      "image 1113/1614 d:\\Downloads\\VIT Downloads\\Local Downloads\\Semester 6\\Deep Learning\\Project\\Bounding Box Detection\\Final Merge\\final\\images\\train\\08.01.25 05.30Pm_frame_026616_aug_4.jpg: 640x384 1 ParkingLot, 12.8ms\n",
      "image 1114/1614 d:\\Downloads\\VIT Downloads\\Local Downloads\\Semester 6\\Deep Learning\\Project\\Bounding Box Detection\\Final Merge\\final\\images\\train\\08.01.25 05.30Pm_frame_035488_aug_0.jpg: 384x640 1 ParkingLot, 13.4ms\n",
      "image 1115/1614 d:\\Downloads\\VIT Downloads\\Local Downloads\\Semester 6\\Deep Learning\\Project\\Bounding Box Detection\\Final Merge\\final\\images\\train\\08.01.25 05.30Pm_frame_035488_aug_2.jpg: 384x640 1 ParkingLot, 12.9ms\n",
      "image 1116/1614 d:\\Downloads\\VIT Downloads\\Local Downloads\\Semester 6\\Deep Learning\\Project\\Bounding Box Detection\\Final Merge\\final\\images\\train\\08.01.25 05.30Pm_frame_035488_aug_3.jpg: 384x640 1 ParkingLot, 12.9ms\n",
      "image 1117/1614 d:\\Downloads\\VIT Downloads\\Local Downloads\\Semester 6\\Deep Learning\\Project\\Bounding Box Detection\\Final Merge\\final\\images\\train\\08.01.25 05.30Pm_frame_035488_aug_4.jpg: 640x384 1 ParkingLot, 14.3ms\n",
      "image 1118/1614 d:\\Downloads\\VIT Downloads\\Local Downloads\\Semester 6\\Deep Learning\\Project\\Bounding Box Detection\\Final Merge\\final\\images\\train\\08.01.25 05.30Pm_frame_044360_aug_1.jpg: 384x640 1 ParkingLot, 14.0ms\n",
      "image 1119/1614 d:\\Downloads\\VIT Downloads\\Local Downloads\\Semester 6\\Deep Learning\\Project\\Bounding Box Detection\\Final Merge\\final\\images\\train\\08.01.25 05.30Pm_frame_044360_aug_3.jpg: 640x384 1 ParkingLot, 14.4ms\n",
      "image 1120/1614 d:\\Downloads\\VIT Downloads\\Local Downloads\\Semester 6\\Deep Learning\\Project\\Bounding Box Detection\\Final Merge\\final\\images\\train\\08.01.25 05.30Pm_frame_044360_aug_4.jpg: 384x640 1 ParkingLot, 15.0ms\n",
      "image 1121/1614 d:\\Downloads\\VIT Downloads\\Local Downloads\\Semester 6\\Deep Learning\\Project\\Bounding Box Detection\\Final Merge\\final\\images\\train\\08.01.25 05.30Pm_frame_053232_aug_1.jpg: 384x640 1 ParkingLot, 13.1ms\n",
      "image 1122/1614 d:\\Downloads\\VIT Downloads\\Local Downloads\\Semester 6\\Deep Learning\\Project\\Bounding Box Detection\\Final Merge\\final\\images\\train\\08.01.25 05.30Pm_frame_053232_aug_2.jpg: 384x640 1 ParkingLot, 13.0ms\n",
      "image 1123/1614 d:\\Downloads\\VIT Downloads\\Local Downloads\\Semester 6\\Deep Learning\\Project\\Bounding Box Detection\\Final Merge\\final\\images\\train\\08.01.25 05.30Pm_frame_053232_aug_3.jpg: 384x640 1 ParkingLot, 21.7ms\n",
      "image 1124/1614 d:\\Downloads\\VIT Downloads\\Local Downloads\\Semester 6\\Deep Learning\\Project\\Bounding Box Detection\\Final Merge\\final\\images\\train\\08.01.25 05.30Pm_frame_053232_aug_4.jpg: 384x640 1 ParkingLot, 18.6ms\n",
      "image 1125/1614 d:\\Downloads\\VIT Downloads\\Local Downloads\\Semester 6\\Deep Learning\\Project\\Bounding Box Detection\\Final Merge\\final\\images\\train\\08.01.25 05.30Pm_frame_062104_aug_0.jpg: 384x640 1 ParkingLot, 20.4ms\n",
      "image 1126/1614 d:\\Downloads\\VIT Downloads\\Local Downloads\\Semester 6\\Deep Learning\\Project\\Bounding Box Detection\\Final Merge\\final\\images\\train\\08.01.25 05.30Pm_frame_062104_aug_1.jpg: 384x640 1 ParkingLot, 14.2ms\n",
      "image 1127/1614 d:\\Downloads\\VIT Downloads\\Local Downloads\\Semester 6\\Deep Learning\\Project\\Bounding Box Detection\\Final Merge\\final\\images\\train\\08.01.25 05.30Pm_frame_062104_aug_3.jpg: 384x640 1 ParkingLot, 13.3ms\n",
      "image 1128/1614 d:\\Downloads\\VIT Downloads\\Local Downloads\\Semester 6\\Deep Learning\\Project\\Bounding Box Detection\\Final Merge\\final\\images\\train\\08.01.25 05.30Pm_frame_062104_aug_4.jpg: 384x640 1 ParkingLot, 19.0ms\n",
      "image 1129/1614 d:\\Downloads\\VIT Downloads\\Local Downloads\\Semester 6\\Deep Learning\\Project\\Bounding Box Detection\\Final Merge\\final\\images\\train\\08.01.25 05.30Pm_frame_070976_aug_0.jpg: 384x640 1 ParkingLot, 13.0ms\n",
      "image 1130/1614 d:\\Downloads\\VIT Downloads\\Local Downloads\\Semester 6\\Deep Learning\\Project\\Bounding Box Detection\\Final Merge\\final\\images\\train\\08.01.25 05.30Pm_frame_070976_aug_1.jpg: 384x640 1 ParkingLot, 13.1ms\n",
      "image 1131/1614 d:\\Downloads\\VIT Downloads\\Local Downloads\\Semester 6\\Deep Learning\\Project\\Bounding Box Detection\\Final Merge\\final\\images\\train\\08.01.25 05.30Pm_frame_070976_aug_2.jpg: 640x384 1 ParkingLot, 13.8ms\n",
      "image 1132/1614 d:\\Downloads\\VIT Downloads\\Local Downloads\\Semester 6\\Deep Learning\\Project\\Bounding Box Detection\\Final Merge\\final\\images\\train\\08.01.25 05.30Pm_frame_070976_aug_3.jpg: 384x640 1 ParkingLot, 14.1ms\n",
      "image 1133/1614 d:\\Downloads\\VIT Downloads\\Local Downloads\\Semester 6\\Deep Learning\\Project\\Bounding Box Detection\\Final Merge\\final\\images\\train\\08.01.25 05.30Pm_frame_070976_aug_4.jpg: 384x640 1 ParkingLot, 20.9ms\n",
      "image 1134/1614 d:\\Downloads\\VIT Downloads\\Local Downloads\\Semester 6\\Deep Learning\\Project\\Bounding Box Detection\\Final Merge\\final\\images\\train\\08.01.25 05.30Pm_frame_079848_aug_0.jpg: 384x640 1 ParkingLot, 12.6ms\n",
      "image 1135/1614 d:\\Downloads\\VIT Downloads\\Local Downloads\\Semester 6\\Deep Learning\\Project\\Bounding Box Detection\\Final Merge\\final\\images\\train\\08.01.25 05.30Pm_frame_079848_aug_1.jpg: 384x640 1 ParkingLot, 24.4ms\n",
      "image 1136/1614 d:\\Downloads\\VIT Downloads\\Local Downloads\\Semester 6\\Deep Learning\\Project\\Bounding Box Detection\\Final Merge\\final\\images\\train\\08.01.25 05.30Pm_frame_079848_aug_2.jpg: 384x640 1 ParkingLot, 13.0ms\n",
      "image 1137/1614 d:\\Downloads\\VIT Downloads\\Local Downloads\\Semester 6\\Deep Learning\\Project\\Bounding Box Detection\\Final Merge\\final\\images\\train\\08.01.25 05.30Pm_frame_079848_aug_3.jpg: 384x640 1 ParkingLot, 12.6ms\n",
      "image 1138/1614 d:\\Downloads\\VIT Downloads\\Local Downloads\\Semester 6\\Deep Learning\\Project\\Bounding Box Detection\\Final Merge\\final\\images\\train\\08.01.25 05.30Pm_frame_079848_aug_4.jpg: 384x640 1 ParkingLot, 12.7ms\n",
      "image 1139/1614 d:\\Downloads\\VIT Downloads\\Local Downloads\\Semester 6\\Deep Learning\\Project\\Bounding Box Detection\\Final Merge\\final\\images\\train\\08.01.25 05.30Pm_frame_088720_aug_0.jpg: 384x640 1 ParkingLot, 14.8ms\n",
      "image 1140/1614 d:\\Downloads\\VIT Downloads\\Local Downloads\\Semester 6\\Deep Learning\\Project\\Bounding Box Detection\\Final Merge\\final\\images\\train\\08.01.25 05.30Pm_frame_088720_aug_1.jpg: 384x640 1 ParkingLot, 17.2ms\n",
      "image 1141/1614 d:\\Downloads\\VIT Downloads\\Local Downloads\\Semester 6\\Deep Learning\\Project\\Bounding Box Detection\\Final Merge\\final\\images\\train\\08.01.25 05.30Pm_frame_088720_aug_2.jpg: 384x640 1 ParkingLot, 15.8ms\n",
      "image 1142/1614 d:\\Downloads\\VIT Downloads\\Local Downloads\\Semester 6\\Deep Learning\\Project\\Bounding Box Detection\\Final Merge\\final\\images\\train\\08.01.25 05.30Pm_frame_088720_aug_3.jpg: 384x640 1 ParkingLot, 25.2ms\n",
      "image 1143/1614 d:\\Downloads\\VIT Downloads\\Local Downloads\\Semester 6\\Deep Learning\\Project\\Bounding Box Detection\\Final Merge\\final\\images\\train\\08.01.25 05.30Pm_frame_088720_aug_4.jpg: 384x640 1 ParkingLot, 12.5ms\n",
      "image 1144/1614 d:\\Downloads\\VIT Downloads\\Local Downloads\\Semester 6\\Deep Learning\\Project\\Bounding Box Detection\\Final Merge\\final\\images\\train\\08.01.25 05.30Pm_frame_097592_aug_1.jpg: 384x640 1 ParkingLot, 26.6ms\n",
      "image 1145/1614 d:\\Downloads\\VIT Downloads\\Local Downloads\\Semester 6\\Deep Learning\\Project\\Bounding Box Detection\\Final Merge\\final\\images\\train\\08.01.25 05.30Pm_frame_097592_aug_2.jpg: 384x640 1 ParkingLot, 12.9ms\n",
      "image 1146/1614 d:\\Downloads\\VIT Downloads\\Local Downloads\\Semester 6\\Deep Learning\\Project\\Bounding Box Detection\\Final Merge\\final\\images\\train\\08.01.25 05.30Pm_frame_097592_aug_3.jpg: 384x640 1 ParkingLot, 13.1ms\n",
      "image 1147/1614 d:\\Downloads\\VIT Downloads\\Local Downloads\\Semester 6\\Deep Learning\\Project\\Bounding Box Detection\\Final Merge\\final\\images\\train\\08.01.25 05.30Pm_frame_097592_aug_4.jpg: 384x640 1 ParkingLot, 13.8ms\n",
      "image 1148/1614 d:\\Downloads\\VIT Downloads\\Local Downloads\\Semester 6\\Deep Learning\\Project\\Bounding Box Detection\\Final Merge\\final\\images\\train\\08.01.25 05.30Pm_frame_106464_aug_0.jpg: 384x640 1 ParkingLot, 16.0ms\n",
      "image 1149/1614 d:\\Downloads\\VIT Downloads\\Local Downloads\\Semester 6\\Deep Learning\\Project\\Bounding Box Detection\\Final Merge\\final\\images\\train\\08.01.25 05.30Pm_frame_106464_aug_1.jpg: 384x640 1 ParkingLot, 14.3ms\n",
      "image 1150/1614 d:\\Downloads\\VIT Downloads\\Local Downloads\\Semester 6\\Deep Learning\\Project\\Bounding Box Detection\\Final Merge\\final\\images\\train\\08.01.25 05.30Pm_frame_106464_aug_2.jpg: 384x640 1 ParkingLot, 15.6ms\n",
      "image 1151/1614 d:\\Downloads\\VIT Downloads\\Local Downloads\\Semester 6\\Deep Learning\\Project\\Bounding Box Detection\\Final Merge\\final\\images\\train\\08.01.25 05.30Pm_frame_106464_aug_3.jpg: 384x640 1 ParkingLot, 14.4ms\n",
      "image 1152/1614 d:\\Downloads\\VIT Downloads\\Local Downloads\\Semester 6\\Deep Learning\\Project\\Bounding Box Detection\\Final Merge\\final\\images\\train\\08.01.25 05.30Pm_frame_106464_aug_4.jpg: 384x640 1 ParkingLot, 13.1ms\n",
      "image 1153/1614 d:\\Downloads\\VIT Downloads\\Local Downloads\\Semester 6\\Deep Learning\\Project\\Bounding Box Detection\\Final Merge\\final\\images\\train\\08.01.25 05.30Pm_frame_115336_aug_0.jpg: 384x640 1 ParkingLot, 12.0ms\n",
      "image 1154/1614 d:\\Downloads\\VIT Downloads\\Local Downloads\\Semester 6\\Deep Learning\\Project\\Bounding Box Detection\\Final Merge\\final\\images\\train\\08.01.25 05.30Pm_frame_115336_aug_2.jpg: 384x640 1 ParkingLot, 13.2ms\n",
      "image 1155/1614 d:\\Downloads\\VIT Downloads\\Local Downloads\\Semester 6\\Deep Learning\\Project\\Bounding Box Detection\\Final Merge\\final\\images\\train\\08.01.25 05.30Pm_frame_124208_aug_0.jpg: 384x640 1 ParkingLot, 14.4ms\n",
      "image 1156/1614 d:\\Downloads\\VIT Downloads\\Local Downloads\\Semester 6\\Deep Learning\\Project\\Bounding Box Detection\\Final Merge\\final\\images\\train\\08.01.25 05.30Pm_frame_124208_aug_1.jpg: 384x640 1 ParkingLot, 14.3ms\n",
      "image 1157/1614 d:\\Downloads\\VIT Downloads\\Local Downloads\\Semester 6\\Deep Learning\\Project\\Bounding Box Detection\\Final Merge\\final\\images\\train\\08.01.25 05.30Pm_frame_124208_aug_2.jpg: 384x640 1 ParkingLot, 12.9ms\n",
      "image 1158/1614 d:\\Downloads\\VIT Downloads\\Local Downloads\\Semester 6\\Deep Learning\\Project\\Bounding Box Detection\\Final Merge\\final\\images\\train\\08.01.25 05.30Pm_frame_124208_aug_3.jpg: 384x640 1 ParkingLot, 27.1ms\n",
      "image 1159/1614 d:\\Downloads\\VIT Downloads\\Local Downloads\\Semester 6\\Deep Learning\\Project\\Bounding Box Detection\\Final Merge\\final\\images\\train\\08.01.25 05.30Pm_frame_133080_aug_0.jpg: 384x640 1 ParkingLot, 13.2ms\n",
      "image 1160/1614 d:\\Downloads\\VIT Downloads\\Local Downloads\\Semester 6\\Deep Learning\\Project\\Bounding Box Detection\\Final Merge\\final\\images\\train\\08.01.25 05.30Pm_frame_133080_aug_1.jpg: 384x640 1 ParkingLot, 13.8ms\n",
      "image 1161/1614 d:\\Downloads\\VIT Downloads\\Local Downloads\\Semester 6\\Deep Learning\\Project\\Bounding Box Detection\\Final Merge\\final\\images\\train\\08.01.25 05.30Pm_frame_133080_aug_2.jpg: 384x640 1 ParkingLot, 12.6ms\n",
      "image 1162/1614 d:\\Downloads\\VIT Downloads\\Local Downloads\\Semester 6\\Deep Learning\\Project\\Bounding Box Detection\\Final Merge\\final\\images\\train\\08.01.25 05.30Pm_frame_133080_aug_3.jpg: 384x640 1 ParkingLot, 14.9ms\n",
      "image 1163/1614 d:\\Downloads\\VIT Downloads\\Local Downloads\\Semester 6\\Deep Learning\\Project\\Bounding Box Detection\\Final Merge\\final\\images\\train\\08.01.25 05.30Pm_frame_133080_aug_4.jpg: 384x640 1 ParkingLot, 16.6ms\n",
      "image 1164/1614 d:\\Downloads\\VIT Downloads\\Local Downloads\\Semester 6\\Deep Learning\\Project\\Bounding Box Detection\\Final Merge\\final\\images\\train\\08.01.25 05.30Pm_frame_141952_aug_0.jpg: 384x640 1 ParkingLot, 18.7ms\n",
      "image 1165/1614 d:\\Downloads\\VIT Downloads\\Local Downloads\\Semester 6\\Deep Learning\\Project\\Bounding Box Detection\\Final Merge\\final\\images\\train\\08.01.25 05.30Pm_frame_141952_aug_1.jpg: 384x640 1 ParkingLot, 13.8ms\n",
      "image 1166/1614 d:\\Downloads\\VIT Downloads\\Local Downloads\\Semester 6\\Deep Learning\\Project\\Bounding Box Detection\\Final Merge\\final\\images\\train\\08.01.25 05.30Pm_frame_141952_aug_2.jpg: 384x640 1 ParkingLot, 13.4ms\n",
      "image 1167/1614 d:\\Downloads\\VIT Downloads\\Local Downloads\\Semester 6\\Deep Learning\\Project\\Bounding Box Detection\\Final Merge\\final\\images\\train\\08.01.25 05.30Pm_frame_141952_aug_4.jpg: 384x640 1 ParkingLot, 13.9ms\n",
      "image 1168/1614 d:\\Downloads\\VIT Downloads\\Local Downloads\\Semester 6\\Deep Learning\\Project\\Bounding Box Detection\\Final Merge\\final\\images\\train\\08.01.25 05.30Pm_frame_150824_aug_1.jpg: 384x640 1 ParkingLot, 13.7ms\n",
      "image 1169/1614 d:\\Downloads\\VIT Downloads\\Local Downloads\\Semester 6\\Deep Learning\\Project\\Bounding Box Detection\\Final Merge\\final\\images\\train\\08.01.25 05.30Pm_frame_150824_aug_2.jpg: 384x640 1 ParkingLot, 16.1ms\n",
      "image 1170/1614 d:\\Downloads\\VIT Downloads\\Local Downloads\\Semester 6\\Deep Learning\\Project\\Bounding Box Detection\\Final Merge\\final\\images\\train\\08.01.25 05.30Pm_frame_150824_aug_3.jpg: 384x640 1 ParkingLot, 12.7ms\n",
      "image 1171/1614 d:\\Downloads\\VIT Downloads\\Local Downloads\\Semester 6\\Deep Learning\\Project\\Bounding Box Detection\\Final Merge\\final\\images\\train\\08.01.25 05.30Pm_frame_159696_aug_0.jpg: 384x640 1 ParkingLot, 14.5ms\n",
      "image 1172/1614 d:\\Downloads\\VIT Downloads\\Local Downloads\\Semester 6\\Deep Learning\\Project\\Bounding Box Detection\\Final Merge\\final\\images\\train\\08.01.25 05.30Pm_frame_159696_aug_2.jpg: 384x640 1 ParkingLot, 14.0ms\n",
      "image 1173/1614 d:\\Downloads\\VIT Downloads\\Local Downloads\\Semester 6\\Deep Learning\\Project\\Bounding Box Detection\\Final Merge\\final\\images\\train\\08.01.25 05.30Pm_frame_159696_aug_3.jpg: 384x640 1 ParkingLot, 13.9ms\n",
      "image 1174/1614 d:\\Downloads\\VIT Downloads\\Local Downloads\\Semester 6\\Deep Learning\\Project\\Bounding Box Detection\\Final Merge\\final\\images\\train\\08.01.25 05.30Pm_frame_159696_aug_4.jpg: 384x640 1 ParkingLot, 13.8ms\n",
      "image 1175/1614 d:\\Downloads\\VIT Downloads\\Local Downloads\\Semester 6\\Deep Learning\\Project\\Bounding Box Detection\\Final Merge\\final\\images\\train\\08.01.25 05.30Pm_frame_177440_aug_0.jpg: 384x640 1 ParkingLot, 13.0ms\n",
      "image 1176/1614 d:\\Downloads\\VIT Downloads\\Local Downloads\\Semester 6\\Deep Learning\\Project\\Bounding Box Detection\\Final Merge\\final\\images\\train\\08.01.25 05.30Pm_frame_177440_aug_2.jpg: 384x640 1 ParkingLot, 14.6ms\n",
      "image 1177/1614 d:\\Downloads\\VIT Downloads\\Local Downloads\\Semester 6\\Deep Learning\\Project\\Bounding Box Detection\\Final Merge\\final\\images\\train\\08.01.25 05.30Pm_frame_177440_aug_3.jpg: 384x640 1 ParkingLot, 12.6ms\n",
      "image 1178/1614 d:\\Downloads\\VIT Downloads\\Local Downloads\\Semester 6\\Deep Learning\\Project\\Bounding Box Detection\\Final Merge\\final\\images\\train\\08.01.25 05.30Pm_frame_177440_aug_4.jpg: 384x640 1 ParkingLot, 14.8ms\n",
      "image 1179/1614 d:\\Downloads\\VIT Downloads\\Local Downloads\\Semester 6\\Deep Learning\\Project\\Bounding Box Detection\\Final Merge\\final\\images\\train\\08.01.25 05.30Pm_frame_257288_aug_1.jpg: 384x640 1 ParkingLot, 12.7ms\n",
      "image 1180/1614 d:\\Downloads\\VIT Downloads\\Local Downloads\\Semester 6\\Deep Learning\\Project\\Bounding Box Detection\\Final Merge\\final\\images\\train\\08.01.25 05.30Pm_frame_257288_aug_2.jpg: 384x640 1 ParkingLot, 12.7ms\n",
      "image 1181/1614 d:\\Downloads\\VIT Downloads\\Local Downloads\\Semester 6\\Deep Learning\\Project\\Bounding Box Detection\\Final Merge\\final\\images\\train\\08.01.25 05.30Pm_frame_257288_aug_3.jpg: 384x640 1 ParkingLot, 14.1ms\n",
      "image 1182/1614 d:\\Downloads\\VIT Downloads\\Local Downloads\\Semester 6\\Deep Learning\\Project\\Bounding Box Detection\\Final Merge\\final\\images\\train\\08.01.25 05.30Pm_frame_257288_aug_4.jpg: 384x640 1 ParkingLot, 14.0ms\n",
      "image 1183/1614 d:\\Downloads\\VIT Downloads\\Local Downloads\\Semester 6\\Deep Learning\\Project\\Bounding Box Detection\\Final Merge\\final\\images\\train\\08.01.25 05.30Pm_frame_337136_aug_0.jpg: 384x640 1 ParkingLot, 16.4ms\n",
      "image 1184/1614 d:\\Downloads\\VIT Downloads\\Local Downloads\\Semester 6\\Deep Learning\\Project\\Bounding Box Detection\\Final Merge\\final\\images\\train\\08.01.25 05.30Pm_frame_337136_aug_1.jpg: 384x640 1 ParkingLot, 12.6ms\n",
      "image 1185/1614 d:\\Downloads\\VIT Downloads\\Local Downloads\\Semester 6\\Deep Learning\\Project\\Bounding Box Detection\\Final Merge\\final\\images\\train\\08.01.25 05.30Pm_frame_337136_aug_2.jpg: 384x640 1 ParkingLot, 12.8ms\n",
      "image 1186/1614 d:\\Downloads\\VIT Downloads\\Local Downloads\\Semester 6\\Deep Learning\\Project\\Bounding Box Detection\\Final Merge\\final\\images\\train\\08.01.25 05.30Pm_frame_337136_aug_4.jpg: 384x640 1 ParkingLot, 14.7ms\n",
      "image 1187/1614 d:\\Downloads\\VIT Downloads\\Local Downloads\\Semester 6\\Deep Learning\\Project\\Bounding Box Detection\\Final Merge\\final\\images\\train\\08.01.25 05.30Pm_frame_346008_aug_0.jpg: 384x640 1 ParkingLot, 14.2ms\n",
      "image 1188/1614 d:\\Downloads\\VIT Downloads\\Local Downloads\\Semester 6\\Deep Learning\\Project\\Bounding Box Detection\\Final Merge\\final\\images\\train\\08.01.25 05.30Pm_frame_346008_aug_1.jpg: 384x640 1 ParkingLot, 15.5ms\n",
      "image 1189/1614 d:\\Downloads\\VIT Downloads\\Local Downloads\\Semester 6\\Deep Learning\\Project\\Bounding Box Detection\\Final Merge\\final\\images\\train\\08.01.25 05.30Pm_frame_346008_aug_3.jpg: 384x640 1 ParkingLot, 12.9ms\n",
      "image 1190/1614 d:\\Downloads\\VIT Downloads\\Local Downloads\\Semester 6\\Deep Learning\\Project\\Bounding Box Detection\\Final Merge\\final\\images\\train\\08.01.25 05.30Pm_frame_346008_aug_4.jpg: 384x640 1 ParkingLot, 16.7ms\n",
      "image 1191/1614 d:\\Downloads\\VIT Downloads\\Local Downloads\\Semester 6\\Deep Learning\\Project\\Bounding Box Detection\\Final Merge\\final\\images\\train\\08.01.25 05.30Pm_frame_434728_aug_0.jpg: 384x640 1 ParkingLot, 13.0ms\n",
      "image 1192/1614 d:\\Downloads\\VIT Downloads\\Local Downloads\\Semester 6\\Deep Learning\\Project\\Bounding Box Detection\\Final Merge\\final\\images\\train\\08.01.25 05.30Pm_frame_434728_aug_3.jpg: 384x640 1 ParkingLot, 14.0ms\n",
      "image 1193/1614 d:\\Downloads\\VIT Downloads\\Local Downloads\\Semester 6\\Deep Learning\\Project\\Bounding Box Detection\\Final Merge\\final\\images\\train\\08.01.25 05.30Pm_frame_443600_aug_0.jpg: 384x640 1 ParkingLot, 13.2ms\n",
      "image 1194/1614 d:\\Downloads\\VIT Downloads\\Local Downloads\\Semester 6\\Deep Learning\\Project\\Bounding Box Detection\\Final Merge\\final\\images\\train\\08.01.25 05.30Pm_frame_443600_aug_1.jpg: 384x640 1 ParkingLot, 13.8ms\n",
      "image 1195/1614 d:\\Downloads\\VIT Downloads\\Local Downloads\\Semester 6\\Deep Learning\\Project\\Bounding Box Detection\\Final Merge\\final\\images\\train\\08.01.25 05.30Pm_frame_443600_aug_2.jpg: 384x640 1 ParkingLot, 13.6ms\n",
      "image 1196/1614 d:\\Downloads\\VIT Downloads\\Local Downloads\\Semester 6\\Deep Learning\\Project\\Bounding Box Detection\\Final Merge\\final\\images\\train\\08.01.25 05.30Pm_frame_443600_aug_3.jpg: 384x640 1 ParkingLot, 17.7ms\n",
      "image 1197/1614 d:\\Downloads\\VIT Downloads\\Local Downloads\\Semester 6\\Deep Learning\\Project\\Bounding Box Detection\\Final Merge\\final\\images\\train\\08.01.25 05.30Pm_frame_443600_aug_4.jpg: 384x640 1 ParkingLot, 14.9ms\n",
      "image 1198/1614 d:\\Downloads\\VIT Downloads\\Local Downloads\\Semester 6\\Deep Learning\\Project\\Bounding Box Detection\\Final Merge\\final\\images\\train\\08.01.25 07.40Am_frame_000000_aug_0.jpg: 640x384 1 ParkingLot, 14.7ms\n",
      "image 1199/1614 d:\\Downloads\\VIT Downloads\\Local Downloads\\Semester 6\\Deep Learning\\Project\\Bounding Box Detection\\Final Merge\\final\\images\\train\\08.01.25 07.40Am_frame_000000_aug_1.jpg: 384x640 1 ParkingLot, 14.3ms\n",
      "image 1200/1614 d:\\Downloads\\VIT Downloads\\Local Downloads\\Semester 6\\Deep Learning\\Project\\Bounding Box Detection\\Final Merge\\final\\images\\train\\08.01.25 07.40Am_frame_000000_aug_2.jpg: 640x384 1 ParkingLot, 14.4ms\n",
      "image 1201/1614 d:\\Downloads\\VIT Downloads\\Local Downloads\\Semester 6\\Deep Learning\\Project\\Bounding Box Detection\\Final Merge\\final\\images\\train\\08.01.25 07.40Am_frame_000000_aug_3.jpg: 384x640 1 ParkingLot, 13.7ms\n",
      "image 1202/1614 d:\\Downloads\\VIT Downloads\\Local Downloads\\Semester 6\\Deep Learning\\Project\\Bounding Box Detection\\Final Merge\\final\\images\\train\\08.01.25 07.40Am_frame_000000_aug_4.jpg: 384x640 1 ParkingLot, 15.3ms\n",
      "image 1203/1614 d:\\Downloads\\VIT Downloads\\Local Downloads\\Semester 6\\Deep Learning\\Project\\Bounding Box Detection\\Final Merge\\final\\images\\train\\08.01.25 07.40Am_frame_003313_aug_0.jpg: 640x384 1 ParkingLot, 14.2ms\n",
      "image 1204/1614 d:\\Downloads\\VIT Downloads\\Local Downloads\\Semester 6\\Deep Learning\\Project\\Bounding Box Detection\\Final Merge\\final\\images\\train\\08.01.25 07.40Am_frame_003313_aug_1.jpg: 640x384 1 ParkingLot, 13.4ms\n",
      "image 1205/1614 d:\\Downloads\\VIT Downloads\\Local Downloads\\Semester 6\\Deep Learning\\Project\\Bounding Box Detection\\Final Merge\\final\\images\\train\\08.01.25 07.40Am_frame_003313_aug_2.jpg: 384x640 1 ParkingLot, 15.8ms\n",
      "image 1206/1614 d:\\Downloads\\VIT Downloads\\Local Downloads\\Semester 6\\Deep Learning\\Project\\Bounding Box Detection\\Final Merge\\final\\images\\train\\08.01.25 07.40Am_frame_003313_aug_3.jpg: 384x640 1 ParkingLot, 13.5ms\n",
      "image 1207/1614 d:\\Downloads\\VIT Downloads\\Local Downloads\\Semester 6\\Deep Learning\\Project\\Bounding Box Detection\\Final Merge\\final\\images\\train\\08.01.25 07.40Am_frame_003313_aug_4.jpg: 384x640 1 ParkingLot, 19.8ms\n",
      "image 1208/1614 d:\\Downloads\\VIT Downloads\\Local Downloads\\Semester 6\\Deep Learning\\Project\\Bounding Box Detection\\Final Merge\\final\\images\\train\\08.01.25 07.40Am_frame_006626_aug_0.jpg: 384x640 1 ParkingLot, 13.0ms\n",
      "image 1209/1614 d:\\Downloads\\VIT Downloads\\Local Downloads\\Semester 6\\Deep Learning\\Project\\Bounding Box Detection\\Final Merge\\final\\images\\train\\08.01.25 07.40Am_frame_006626_aug_2.jpg: 384x640 1 ParkingLot, 13.8ms\n",
      "image 1210/1614 d:\\Downloads\\VIT Downloads\\Local Downloads\\Semester 6\\Deep Learning\\Project\\Bounding Box Detection\\Final Merge\\final\\images\\train\\08.01.25 07.40Am_frame_006626_aug_3.jpg: 384x640 1 ParkingLot, 13.4ms\n",
      "image 1211/1614 d:\\Downloads\\VIT Downloads\\Local Downloads\\Semester 6\\Deep Learning\\Project\\Bounding Box Detection\\Final Merge\\final\\images\\train\\08.01.25 07.40Am_frame_006626_aug_4.jpg: 384x640 1 ParkingLot, 15.6ms\n",
      "image 1212/1614 d:\\Downloads\\VIT Downloads\\Local Downloads\\Semester 6\\Deep Learning\\Project\\Bounding Box Detection\\Final Merge\\final\\images\\train\\08.01.25 07.40Am_frame_029817_aug_0.jpg: 384x640 1 ParkingLot, 12.6ms\n",
      "image 1213/1614 d:\\Downloads\\VIT Downloads\\Local Downloads\\Semester 6\\Deep Learning\\Project\\Bounding Box Detection\\Final Merge\\final\\images\\train\\08.01.25 07.40Am_frame_029817_aug_1.jpg: 640x384 1 ParkingLot, 14.3ms\n",
      "image 1214/1614 d:\\Downloads\\VIT Downloads\\Local Downloads\\Semester 6\\Deep Learning\\Project\\Bounding Box Detection\\Final Merge\\final\\images\\train\\08.01.25 07.40Am_frame_029817_aug_2.jpg: 384x640 1 ParkingLot, 23.0ms\n",
      "image 1215/1614 d:\\Downloads\\VIT Downloads\\Local Downloads\\Semester 6\\Deep Learning\\Project\\Bounding Box Detection\\Final Merge\\final\\images\\train\\08.01.25 07.40Am_frame_029817_aug_3.jpg: 384x640 1 ParkingLot, 16.6ms\n",
      "image 1216/1614 d:\\Downloads\\VIT Downloads\\Local Downloads\\Semester 6\\Deep Learning\\Project\\Bounding Box Detection\\Final Merge\\final\\images\\train\\08.01.25 07.40Am_frame_029817_aug_4.jpg: 384x640 1 ParkingLot, 14.7ms\n",
      "image 1217/1614 d:\\Downloads\\VIT Downloads\\Local Downloads\\Semester 6\\Deep Learning\\Project\\Bounding Box Detection\\Final Merge\\final\\images\\train\\08.01.25 07.40Am_frame_036443_aug_0.jpg: 384x640 1 ParkingLot, 13.0ms\n",
      "image 1218/1614 d:\\Downloads\\VIT Downloads\\Local Downloads\\Semester 6\\Deep Learning\\Project\\Bounding Box Detection\\Final Merge\\final\\images\\train\\08.01.25 07.40Am_frame_036443_aug_2.jpg: 384x640 1 ParkingLot, 14.8ms\n",
      "image 1219/1614 d:\\Downloads\\VIT Downloads\\Local Downloads\\Semester 6\\Deep Learning\\Project\\Bounding Box Detection\\Final Merge\\final\\images\\train\\08.01.25 07.40Am_frame_036443_aug_3.jpg: 384x640 1 ParkingLot, 13.4ms\n",
      "image 1220/1614 d:\\Downloads\\VIT Downloads\\Local Downloads\\Semester 6\\Deep Learning\\Project\\Bounding Box Detection\\Final Merge\\final\\images\\train\\08.01.25 07.40Am_frame_036443_aug_4.jpg: 384x640 1 ParkingLot, 13.7ms\n",
      "image 1221/1614 d:\\Downloads\\VIT Downloads\\Local Downloads\\Semester 6\\Deep Learning\\Project\\Bounding Box Detection\\Final Merge\\final\\images\\train\\08.01.25 07.40Am_frame_056321_aug_1.jpg: 384x640 1 ParkingLot, 13.0ms\n",
      "image 1222/1614 d:\\Downloads\\VIT Downloads\\Local Downloads\\Semester 6\\Deep Learning\\Project\\Bounding Box Detection\\Final Merge\\final\\images\\train\\08.01.25 07.40Am_frame_056321_aug_2.jpg: 384x640 1 ParkingLot, 13.8ms\n",
      "image 1223/1614 d:\\Downloads\\VIT Downloads\\Local Downloads\\Semester 6\\Deep Learning\\Project\\Bounding Box Detection\\Final Merge\\final\\images\\train\\08.01.25 07.40Am_frame_056321_aug_3.jpg: 384x640 1 ParkingLot, 13.1ms\n",
      "image 1224/1614 d:\\Downloads\\VIT Downloads\\Local Downloads\\Semester 6\\Deep Learning\\Project\\Bounding Box Detection\\Final Merge\\final\\images\\train\\08.01.25 07.40Am_frame_056321_aug_4.jpg: 384x640 1 ParkingLot, 12.7ms\n",
      "image 1225/1614 d:\\Downloads\\VIT Downloads\\Local Downloads\\Semester 6\\Deep Learning\\Project\\Bounding Box Detection\\Final Merge\\final\\images\\train\\08.01.25 07.40Am_frame_059634_aug_0.jpg: 384x640 1 ParkingLot, 13.0ms\n",
      "image 1226/1614 d:\\Downloads\\VIT Downloads\\Local Downloads\\Semester 6\\Deep Learning\\Project\\Bounding Box Detection\\Final Merge\\final\\images\\train\\08.01.25 07.40Am_frame_059634_aug_1.jpg: 384x640 1 ParkingLot, 13.2ms\n",
      "image 1227/1614 d:\\Downloads\\VIT Downloads\\Local Downloads\\Semester 6\\Deep Learning\\Project\\Bounding Box Detection\\Final Merge\\final\\images\\train\\08.01.25 07.40Am_frame_059634_aug_2.jpg: 640x384 1 ParkingLot, 13.7ms\n",
      "image 1228/1614 d:\\Downloads\\VIT Downloads\\Local Downloads\\Semester 6\\Deep Learning\\Project\\Bounding Box Detection\\Final Merge\\final\\images\\train\\08.01.25 07.40Am_frame_059634_aug_3.jpg: 384x640 1 ParkingLot, 13.9ms\n",
      "image 1229/1614 d:\\Downloads\\VIT Downloads\\Local Downloads\\Semester 6\\Deep Learning\\Project\\Bounding Box Detection\\Final Merge\\final\\images\\train\\08.01.25 07.40Am_frame_059634_aug_4.jpg: 384x640 1 ParkingLot, 13.6ms\n",
      "image 1230/1614 d:\\Downloads\\VIT Downloads\\Local Downloads\\Semester 6\\Deep Learning\\Project\\Bounding Box Detection\\Final Merge\\final\\images\\train\\08.01.25 07.40Am_frame_062947_aug_0.jpg: 384x640 1 ParkingLot, 16.4ms\n",
      "image 1231/1614 d:\\Downloads\\VIT Downloads\\Local Downloads\\Semester 6\\Deep Learning\\Project\\Bounding Box Detection\\Final Merge\\final\\images\\train\\08.01.25 07.40Am_frame_062947_aug_1.jpg: 640x384 1 ParkingLot, 14.9ms\n",
      "image 1232/1614 d:\\Downloads\\VIT Downloads\\Local Downloads\\Semester 6\\Deep Learning\\Project\\Bounding Box Detection\\Final Merge\\final\\images\\train\\08.01.25 07.40Am_frame_062947_aug_3.jpg: 384x640 1 ParkingLot, 17.7ms\n",
      "image 1233/1614 d:\\Downloads\\VIT Downloads\\Local Downloads\\Semester 6\\Deep Learning\\Project\\Bounding Box Detection\\Final Merge\\final\\images\\train\\08.01.25 07.40Am_frame_062947_aug_4.jpg: 384x640 1 ParkingLot, 13.6ms\n",
      "image 1234/1614 d:\\Downloads\\VIT Downloads\\Local Downloads\\Semester 6\\Deep Learning\\Project\\Bounding Box Detection\\Final Merge\\final\\images\\train\\08.01.25 07.40Am_frame_072886_aug_0.jpg: 384x640 1 ParkingLot, 13.9ms\n",
      "image 1235/1614 d:\\Downloads\\VIT Downloads\\Local Downloads\\Semester 6\\Deep Learning\\Project\\Bounding Box Detection\\Final Merge\\final\\images\\train\\08.01.25 07.40Am_frame_072886_aug_1.jpg: 384x640 1 ParkingLot, 13.4ms\n",
      "image 1236/1614 d:\\Downloads\\VIT Downloads\\Local Downloads\\Semester 6\\Deep Learning\\Project\\Bounding Box Detection\\Final Merge\\final\\images\\train\\08.01.25 07.40Am_frame_072886_aug_2.jpg: 384x640 1 ParkingLot, 13.4ms\n",
      "image 1237/1614 d:\\Downloads\\VIT Downloads\\Local Downloads\\Semester 6\\Deep Learning\\Project\\Bounding Box Detection\\Final Merge\\final\\images\\train\\08.01.25 07.40Am_frame_072886_aug_3.jpg: 640x384 1 ParkingLot, 13.7ms\n",
      "image 1238/1614 d:\\Downloads\\VIT Downloads\\Local Downloads\\Semester 6\\Deep Learning\\Project\\Bounding Box Detection\\Final Merge\\final\\images\\train\\08.01.25 07.40Am_frame_072886_aug_4.jpg: 384x640 1 ParkingLot, 14.0ms\n",
      "image 1239/1614 d:\\Downloads\\VIT Downloads\\Local Downloads\\Semester 6\\Deep Learning\\Project\\Bounding Box Detection\\Final Merge\\final\\images\\train\\08.01.25 07.40Am_frame_082825_aug_0.jpg: 640x384 1 ParkingLot, 15.8ms\n",
      "image 1240/1614 d:\\Downloads\\VIT Downloads\\Local Downloads\\Semester 6\\Deep Learning\\Project\\Bounding Box Detection\\Final Merge\\final\\images\\train\\08.01.25 07.40Am_frame_082825_aug_1.jpg: 384x640 1 ParkingLot, 14.1ms\n",
      "image 1241/1614 d:\\Downloads\\VIT Downloads\\Local Downloads\\Semester 6\\Deep Learning\\Project\\Bounding Box Detection\\Final Merge\\final\\images\\train\\08.01.25 07.40Am_frame_082825_aug_2.jpg: 640x384 1 ParkingLot, 14.1ms\n",
      "image 1242/1614 d:\\Downloads\\VIT Downloads\\Local Downloads\\Semester 6\\Deep Learning\\Project\\Bounding Box Detection\\Final Merge\\final\\images\\train\\08.01.25 07.40Am_frame_082825_aug_3.jpg: 640x384 1 ParkingLot, 13.2ms\n",
      "image 1243/1614 d:\\Downloads\\VIT Downloads\\Local Downloads\\Semester 6\\Deep Learning\\Project\\Bounding Box Detection\\Final Merge\\final\\images\\train\\08.01.25 07.40Am_frame_086138_aug_0.jpg: 384x640 1 ParkingLot, 13.7ms\n",
      "image 1244/1614 d:\\Downloads\\VIT Downloads\\Local Downloads\\Semester 6\\Deep Learning\\Project\\Bounding Box Detection\\Final Merge\\final\\images\\train\\08.01.25 07.40Am_frame_086138_aug_1.jpg: 384x640 1 ParkingLot, 14.7ms\n",
      "image 1245/1614 d:\\Downloads\\VIT Downloads\\Local Downloads\\Semester 6\\Deep Learning\\Project\\Bounding Box Detection\\Final Merge\\final\\images\\train\\08.01.25 07.40Am_frame_086138_aug_3.jpg: 384x640 1 ParkingLot, 16.5ms\n",
      "image 1246/1614 d:\\Downloads\\VIT Downloads\\Local Downloads\\Semester 6\\Deep Learning\\Project\\Bounding Box Detection\\Final Merge\\final\\images\\train\\08.01.25 07.40Am_frame_086138_aug_4.jpg: 640x384 1 ParkingLot, 18.3ms\n",
      "image 1247/1614 d:\\Downloads\\VIT Downloads\\Local Downloads\\Semester 6\\Deep Learning\\Project\\Bounding Box Detection\\Final Merge\\final\\images\\train\\08.01.25 07.40Am_frame_089451_aug_0.jpg: 640x384 1 ParkingLot, 12.8ms\n",
      "image 1248/1614 d:\\Downloads\\VIT Downloads\\Local Downloads\\Semester 6\\Deep Learning\\Project\\Bounding Box Detection\\Final Merge\\final\\images\\train\\08.01.25 07.40Am_frame_089451_aug_1.jpg: 384x640 1 ParkingLot, 20.8ms\n",
      "image 1249/1614 d:\\Downloads\\VIT Downloads\\Local Downloads\\Semester 6\\Deep Learning\\Project\\Bounding Box Detection\\Final Merge\\final\\images\\train\\08.01.25 07.40Am_frame_089451_aug_2.jpg: 384x640 1 ParkingLot, 17.7ms\n",
      "image 1250/1614 d:\\Downloads\\VIT Downloads\\Local Downloads\\Semester 6\\Deep Learning\\Project\\Bounding Box Detection\\Final Merge\\final\\images\\train\\08.01.25 07.40Am_frame_089451_aug_3.jpg: 384x640 1 ParkingLot, 12.7ms\n",
      "image 1251/1614 d:\\Downloads\\VIT Downloads\\Local Downloads\\Semester 6\\Deep Learning\\Project\\Bounding Box Detection\\Final Merge\\final\\images\\train\\08.01.25 07.40Am_frame_089451_aug_4.jpg: 384x640 1 ParkingLot, 13.2ms\n",
      "image 1252/1614 d:\\Downloads\\VIT Downloads\\Local Downloads\\Semester 6\\Deep Learning\\Project\\Bounding Box Detection\\Final Merge\\final\\images\\train\\08.01.25 07.40Am_frame_099390_aug_0.jpg: 384x640 1 ParkingLot, 13.4ms\n",
      "image 1253/1614 d:\\Downloads\\VIT Downloads\\Local Downloads\\Semester 6\\Deep Learning\\Project\\Bounding Box Detection\\Final Merge\\final\\images\\train\\08.01.25 07.40Am_frame_099390_aug_1.jpg: 384x640 1 ParkingLot, 15.5ms\n",
      "image 1254/1614 d:\\Downloads\\VIT Downloads\\Local Downloads\\Semester 6\\Deep Learning\\Project\\Bounding Box Detection\\Final Merge\\final\\images\\train\\08.01.25 07.40Am_frame_099390_aug_2.jpg: 384x640 1 ParkingLot, 14.1ms\n",
      "image 1255/1614 d:\\Downloads\\VIT Downloads\\Local Downloads\\Semester 6\\Deep Learning\\Project\\Bounding Box Detection\\Final Merge\\final\\images\\train\\08.01.25 07.40Am_frame_099390_aug_3.jpg: 384x640 1 ParkingLot, 13.0ms\n",
      "image 1256/1614 d:\\Downloads\\VIT Downloads\\Local Downloads\\Semester 6\\Deep Learning\\Project\\Bounding Box Detection\\Final Merge\\final\\images\\train\\08.01.25 07.40Am_frame_099390_aug_4.jpg: 384x640 1 ParkingLot, 15.9ms\n",
      "image 1257/1614 d:\\Downloads\\VIT Downloads\\Local Downloads\\Semester 6\\Deep Learning\\Project\\Bounding Box Detection\\Final Merge\\final\\images\\train\\08.01.25 07.40Am_frame_106016_aug_0.jpg: 384x640 1 ParkingLot, 13.3ms\n",
      "image 1258/1614 d:\\Downloads\\VIT Downloads\\Local Downloads\\Semester 6\\Deep Learning\\Project\\Bounding Box Detection\\Final Merge\\final\\images\\train\\08.01.25 07.40Am_frame_106016_aug_1.jpg: 640x384 1 ParkingLot, 13.9ms\n",
      "image 1259/1614 d:\\Downloads\\VIT Downloads\\Local Downloads\\Semester 6\\Deep Learning\\Project\\Bounding Box Detection\\Final Merge\\final\\images\\train\\08.01.25 07.40Am_frame_106016_aug_2.jpg: 640x384 1 ParkingLot, 13.4ms\n",
      "image 1260/1614 d:\\Downloads\\VIT Downloads\\Local Downloads\\Semester 6\\Deep Learning\\Project\\Bounding Box Detection\\Final Merge\\final\\images\\train\\08.01.25 07.40Am_frame_106016_aug_3.jpg: 384x640 1 ParkingLot, 17.3ms\n",
      "image 1261/1614 d:\\Downloads\\VIT Downloads\\Local Downloads\\Semester 6\\Deep Learning\\Project\\Bounding Box Detection\\Final Merge\\final\\images\\train\\08.01.25 07.40Am_frame_106016_aug_4.jpg: 384x640 1 ParkingLot, 13.2ms\n",
      "image 1262/1614 d:\\Downloads\\VIT Downloads\\Local Downloads\\Semester 6\\Deep Learning\\Project\\Bounding Box Detection\\Final Merge\\final\\images\\train\\08.01.25 07.40Am_frame_109329_aug_1.jpg: 384x640 1 ParkingLot, 13.9ms\n",
      "image 1263/1614 d:\\Downloads\\VIT Downloads\\Local Downloads\\Semester 6\\Deep Learning\\Project\\Bounding Box Detection\\Final Merge\\final\\images\\train\\08.01.25 07.40Am_frame_109329_aug_2.jpg: 384x640 1 ParkingLot, 13.1ms\n",
      "image 1264/1614 d:\\Downloads\\VIT Downloads\\Local Downloads\\Semester 6\\Deep Learning\\Project\\Bounding Box Detection\\Final Merge\\final\\images\\train\\08.01.25 07.40Am_frame_109329_aug_4.jpg: 384x640 1 ParkingLot, 14.3ms\n",
      "image 1265/1614 d:\\Downloads\\VIT Downloads\\Local Downloads\\Semester 6\\Deep Learning\\Project\\Bounding Box Detection\\Final Merge\\final\\images\\train\\08.01.25 07.40Am_frame_122581_aug_0.jpg: 384x640 1 ParkingLot, 13.2ms\n",
      "image 1266/1614 d:\\Downloads\\VIT Downloads\\Local Downloads\\Semester 6\\Deep Learning\\Project\\Bounding Box Detection\\Final Merge\\final\\images\\train\\08.01.25 07.40Am_frame_122581_aug_1.jpg: 384x640 1 ParkingLot, 12.8ms\n",
      "image 1267/1614 d:\\Downloads\\VIT Downloads\\Local Downloads\\Semester 6\\Deep Learning\\Project\\Bounding Box Detection\\Final Merge\\final\\images\\train\\08.01.25 07.40Am_frame_122581_aug_2.jpg: 640x384 1 ParkingLot, 16.8ms\n",
      "image 1268/1614 d:\\Downloads\\VIT Downloads\\Local Downloads\\Semester 6\\Deep Learning\\Project\\Bounding Box Detection\\Final Merge\\final\\images\\train\\08.01.25 07.40Am_frame_122581_aug_3.jpg: 384x640 1 ParkingLot, 14.6ms\n",
      "image 1269/1614 d:\\Downloads\\VIT Downloads\\Local Downloads\\Semester 6\\Deep Learning\\Project\\Bounding Box Detection\\Final Merge\\final\\images\\train\\08.01.25 07.40Am_frame_122581_aug_4.jpg: 384x640 1 ParkingLot, 13.8ms\n",
      "image 1270/1614 d:\\Downloads\\VIT Downloads\\Local Downloads\\Semester 6\\Deep Learning\\Project\\Bounding Box Detection\\Final Merge\\final\\images\\train\\08.01.25 07.40Am_frame_125894_aug_0.jpg: 384x640 1 ParkingLot, 12.8ms\n",
      "image 1271/1614 d:\\Downloads\\VIT Downloads\\Local Downloads\\Semester 6\\Deep Learning\\Project\\Bounding Box Detection\\Final Merge\\final\\images\\train\\08.01.25 07.40Am_frame_125894_aug_2.jpg: 384x640 1 ParkingLot, 13.1ms\n",
      "image 1272/1614 d:\\Downloads\\VIT Downloads\\Local Downloads\\Semester 6\\Deep Learning\\Project\\Bounding Box Detection\\Final Merge\\final\\images\\train\\08.01.25 07.40Am_frame_125894_aug_3.jpg: 384x640 1 ParkingLot, 13.3ms\n",
      "image 1273/1614 d:\\Downloads\\VIT Downloads\\Local Downloads\\Semester 6\\Deep Learning\\Project\\Bounding Box Detection\\Final Merge\\final\\images\\train\\08.01.25 07.40Am_frame_125894_aug_4.jpg: 384x640 1 ParkingLot, 24.5ms\n",
      "image 1274/1614 d:\\Downloads\\VIT Downloads\\Local Downloads\\Semester 6\\Deep Learning\\Project\\Bounding Box Detection\\Final Merge\\final\\images\\train\\08.01.25 07.40Am_frame_132520_aug_0.jpg: 384x640 1 ParkingLot, 20.3ms\n",
      "image 1275/1614 d:\\Downloads\\VIT Downloads\\Local Downloads\\Semester 6\\Deep Learning\\Project\\Bounding Box Detection\\Final Merge\\final\\images\\train\\08.01.25 07.40Am_frame_132520_aug_3.jpg: 384x640 1 ParkingLot, 16.0ms\n",
      "image 1276/1614 d:\\Downloads\\VIT Downloads\\Local Downloads\\Semester 6\\Deep Learning\\Project\\Bounding Box Detection\\Final Merge\\final\\images\\train\\08.01.25 07.40Am_frame_132520_aug_4.jpg: 640x384 1 ParkingLot, 16.7ms\n",
      "image 1277/1614 d:\\Downloads\\VIT Downloads\\Local Downloads\\Semester 6\\Deep Learning\\Project\\Bounding Box Detection\\Final Merge\\final\\images\\train\\08.01.25 07.40Am_frame_135833_aug_0.jpg: 384x640 1 ParkingLot, 16.2ms\n",
      "image 1278/1614 d:\\Downloads\\VIT Downloads\\Local Downloads\\Semester 6\\Deep Learning\\Project\\Bounding Box Detection\\Final Merge\\final\\images\\train\\08.01.25 07.40Am_frame_135833_aug_3.jpg: 384x640 1 ParkingLot, 14.8ms\n",
      "image 1279/1614 d:\\Downloads\\VIT Downloads\\Local Downloads\\Semester 6\\Deep Learning\\Project\\Bounding Box Detection\\Final Merge\\final\\images\\train\\08.01.25 07.40Am_frame_135833_aug_4.jpg: 640x384 1 ParkingLot, 13.7ms\n",
      "image 1280/1614 d:\\Downloads\\VIT Downloads\\Local Downloads\\Semester 6\\Deep Learning\\Project\\Bounding Box Detection\\Final Merge\\final\\images\\train\\08.01.25 07.40Am_frame_142459_aug_0.jpg: 384x640 1 ParkingLot, 14.4ms\n",
      "image 1281/1614 d:\\Downloads\\VIT Downloads\\Local Downloads\\Semester 6\\Deep Learning\\Project\\Bounding Box Detection\\Final Merge\\final\\images\\train\\08.01.25 07.40Am_frame_142459_aug_1.jpg: 384x640 1 ParkingLot, 15.1ms\n",
      "image 1282/1614 d:\\Downloads\\VIT Downloads\\Local Downloads\\Semester 6\\Deep Learning\\Project\\Bounding Box Detection\\Final Merge\\final\\images\\train\\08.01.25 07.40Am_frame_142459_aug_2.jpg: 384x640 1 ParkingLot, 13.0ms\n",
      "image 1283/1614 d:\\Downloads\\VIT Downloads\\Local Downloads\\Semester 6\\Deep Learning\\Project\\Bounding Box Detection\\Final Merge\\final\\images\\train\\08.01.25 07.40Am_frame_142459_aug_3.jpg: 384x640 1 ParkingLot, 23.8ms\n",
      "image 1284/1614 d:\\Downloads\\VIT Downloads\\Local Downloads\\Semester 6\\Deep Learning\\Project\\Bounding Box Detection\\Final Merge\\final\\images\\train\\08.01.25 07.40Am_frame_142459_aug_4.jpg: 384x640 1 ParkingLot, 12.7ms\n",
      "image 1285/1614 d:\\Downloads\\VIT Downloads\\Local Downloads\\Semester 6\\Deep Learning\\Project\\Bounding Box Detection\\Final Merge\\final\\images\\train\\08.01.25 07.40Am_frame_145772_aug_0.jpg: 384x640 1 ParkingLot, 13.4ms\n",
      "image 1286/1614 d:\\Downloads\\VIT Downloads\\Local Downloads\\Semester 6\\Deep Learning\\Project\\Bounding Box Detection\\Final Merge\\final\\images\\train\\08.01.25 07.40Am_frame_145772_aug_1.jpg: 384x640 1 ParkingLot, 13.3ms\n",
      "image 1287/1614 d:\\Downloads\\VIT Downloads\\Local Downloads\\Semester 6\\Deep Learning\\Project\\Bounding Box Detection\\Final Merge\\final\\images\\train\\08.01.25 07.40Am_frame_145772_aug_2.jpg: 384x640 1 ParkingLot, 15.6ms\n",
      "image 1288/1614 d:\\Downloads\\VIT Downloads\\Local Downloads\\Semester 6\\Deep Learning\\Project\\Bounding Box Detection\\Final Merge\\final\\images\\train\\08.01.25 07.40Am_frame_145772_aug_3.jpg: 640x384 1 ParkingLot, 24.8ms\n",
      "image 1289/1614 d:\\Downloads\\VIT Downloads\\Local Downloads\\Semester 6\\Deep Learning\\Project\\Bounding Box Detection\\Final Merge\\final\\images\\train\\08.01.25 07.40Am_frame_145772_aug_4.jpg: 384x640 1 ParkingLot, 14.5ms\n",
      "image 1290/1614 d:\\Downloads\\VIT Downloads\\Local Downloads\\Semester 6\\Deep Learning\\Project\\Bounding Box Detection\\Final Merge\\final\\images\\train\\08.01.25 07.40Am_frame_149085_aug_1.jpg: 384x640 1 ParkingLot, 27.3ms\n",
      "image 1291/1614 d:\\Downloads\\VIT Downloads\\Local Downloads\\Semester 6\\Deep Learning\\Project\\Bounding Box Detection\\Final Merge\\final\\images\\train\\08.01.25 07.40Am_frame_149085_aug_2.jpg: 384x640 1 ParkingLot, 14.3ms\n",
      "image 1292/1614 d:\\Downloads\\VIT Downloads\\Local Downloads\\Semester 6\\Deep Learning\\Project\\Bounding Box Detection\\Final Merge\\final\\images\\train\\08.01.25 07.40Am_frame_149085_aug_3.jpg: 384x640 1 ParkingLot, 19.1ms\n",
      "image 1293/1614 d:\\Downloads\\VIT Downloads\\Local Downloads\\Semester 6\\Deep Learning\\Project\\Bounding Box Detection\\Final Merge\\final\\images\\train\\08.01.25 07.40Am_frame_149085_aug_4.jpg: 384x640 1 ParkingLot, 13.1ms\n",
      "image 1294/1614 d:\\Downloads\\VIT Downloads\\Local Downloads\\Semester 6\\Deep Learning\\Project\\Bounding Box Detection\\Final Merge\\final\\images\\train\\08.01.25 07.40Am_frame_159024_aug_0.jpg: 384x640 1 ParkingLot, 18.0ms\n",
      "image 1295/1614 d:\\Downloads\\VIT Downloads\\Local Downloads\\Semester 6\\Deep Learning\\Project\\Bounding Box Detection\\Final Merge\\final\\images\\train\\08.01.25 07.40Am_frame_159024_aug_1.jpg: 384x640 1 ParkingLot, 15.3ms\n",
      "image 1296/1614 d:\\Downloads\\VIT Downloads\\Local Downloads\\Semester 6\\Deep Learning\\Project\\Bounding Box Detection\\Final Merge\\final\\images\\train\\08.01.25 07.40Am_frame_159024_aug_2.jpg: 384x640 1 ParkingLot, 13.6ms\n",
      "image 1297/1614 d:\\Downloads\\VIT Downloads\\Local Downloads\\Semester 6\\Deep Learning\\Project\\Bounding Box Detection\\Final Merge\\final\\images\\train\\08.01.25 07.40Am_frame_159024_aug_3.jpg: 384x640 1 ParkingLot, 13.3ms\n",
      "image 1298/1614 d:\\Downloads\\VIT Downloads\\Local Downloads\\Semester 6\\Deep Learning\\Project\\Bounding Box Detection\\Final Merge\\final\\images\\train\\08.01.25 07.40Am_frame_159024_aug_4.jpg: 384x640 1 ParkingLot, 13.2ms\n",
      "image 1299/1614 d:\\Downloads\\VIT Downloads\\Local Downloads\\Semester 6\\Deep Learning\\Project\\Bounding Box Detection\\Final Merge\\final\\images\\train\\08.01.25 07.40Am_frame_162337_aug_1.jpg: 384x640 1 ParkingLot, 21.5ms\n",
      "image 1300/1614 d:\\Downloads\\VIT Downloads\\Local Downloads\\Semester 6\\Deep Learning\\Project\\Bounding Box Detection\\Final Merge\\final\\images\\train\\08.01.25 07.40Am_frame_162337_aug_3.jpg: 384x640 1 ParkingLot, 24.4ms\n",
      "image 1301/1614 d:\\Downloads\\VIT Downloads\\Local Downloads\\Semester 6\\Deep Learning\\Project\\Bounding Box Detection\\Final Merge\\final\\images\\train\\08.01.25 07.40Am_frame_165650_aug_0.jpg: 384x640 1 ParkingLot, 13.9ms\n",
      "image 1302/1614 d:\\Downloads\\VIT Downloads\\Local Downloads\\Semester 6\\Deep Learning\\Project\\Bounding Box Detection\\Final Merge\\final\\images\\train\\08.01.25 07.40Am_frame_165650_aug_1.jpg: 384x640 1 ParkingLot, 16.0ms\n",
      "image 1303/1614 d:\\Downloads\\VIT Downloads\\Local Downloads\\Semester 6\\Deep Learning\\Project\\Bounding Box Detection\\Final Merge\\final\\images\\train\\08.01.25 07.40Am_frame_165650_aug_2.jpg: 384x640 1 ParkingLot, 12.7ms\n",
      "image 1304/1614 d:\\Downloads\\VIT Downloads\\Local Downloads\\Semester 6\\Deep Learning\\Project\\Bounding Box Detection\\Final Merge\\final\\images\\train\\08.01.25 07.40Am_frame_165650_aug_3.jpg: 384x640 1 ParkingLot, 14.9ms\n",
      "image 1305/1614 d:\\Downloads\\VIT Downloads\\Local Downloads\\Semester 6\\Deep Learning\\Project\\Bounding Box Detection\\Final Merge\\final\\images\\train\\08.01.25 07.40Am_frame_165650_aug_4.jpg: 384x640 1 ParkingLot, 15.2ms\n",
      "image 1306/1614 d:\\Downloads\\VIT Downloads\\Local Downloads\\Semester 6\\Deep Learning\\Project\\Bounding Box Detection\\Final Merge\\final\\images\\train\\09.01.25 06.00Pm_frame_000000_aug_0.jpg: 640x384 1 ParkingLot, 14.9ms\n",
      "image 1307/1614 d:\\Downloads\\VIT Downloads\\Local Downloads\\Semester 6\\Deep Learning\\Project\\Bounding Box Detection\\Final Merge\\final\\images\\train\\09.01.25 06.00Pm_frame_000000_aug_1.jpg: 384x640 1 ParkingLot, 27.5ms\n",
      "image 1308/1614 d:\\Downloads\\VIT Downloads\\Local Downloads\\Semester 6\\Deep Learning\\Project\\Bounding Box Detection\\Final Merge\\final\\images\\train\\09.01.25 06.00Pm_frame_000000_aug_2.jpg: 384x640 1 ParkingLot, 24.2ms\n",
      "image 1309/1614 d:\\Downloads\\VIT Downloads\\Local Downloads\\Semester 6\\Deep Learning\\Project\\Bounding Box Detection\\Final Merge\\final\\images\\train\\09.01.25 06.00Pm_frame_000000_aug_3.jpg: 384x640 1 ParkingLot, 20.3ms\n",
      "image 1310/1614 d:\\Downloads\\VIT Downloads\\Local Downloads\\Semester 6\\Deep Learning\\Project\\Bounding Box Detection\\Final Merge\\final\\images\\train\\09.01.25 06.00Pm_frame_000000_aug_4.jpg: 384x640 1 ParkingLot, 25.2ms\n",
      "image 1311/1614 d:\\Downloads\\VIT Downloads\\Local Downloads\\Semester 6\\Deep Learning\\Project\\Bounding Box Detection\\Final Merge\\final\\images\\train\\09.01.25 06.00Pm_frame_008870_aug_0.jpg: 384x640 1 ParkingLot, 13.0ms\n",
      "image 1312/1614 d:\\Downloads\\VIT Downloads\\Local Downloads\\Semester 6\\Deep Learning\\Project\\Bounding Box Detection\\Final Merge\\final\\images\\train\\09.01.25 06.00Pm_frame_008870_aug_1.jpg: 384x640 1 ParkingLot, 13.9ms\n",
      "image 1313/1614 d:\\Downloads\\VIT Downloads\\Local Downloads\\Semester 6\\Deep Learning\\Project\\Bounding Box Detection\\Final Merge\\final\\images\\train\\09.01.25 06.00Pm_frame_008870_aug_2.jpg: 640x384 1 ParkingLot, 14.5ms\n",
      "image 1314/1614 d:\\Downloads\\VIT Downloads\\Local Downloads\\Semester 6\\Deep Learning\\Project\\Bounding Box Detection\\Final Merge\\final\\images\\train\\09.01.25 06.00Pm_frame_008870_aug_3.jpg: 640x384 1 ParkingLot, 13.4ms\n",
      "image 1315/1614 d:\\Downloads\\VIT Downloads\\Local Downloads\\Semester 6\\Deep Learning\\Project\\Bounding Box Detection\\Final Merge\\final\\images\\train\\09.01.25 06.00Pm_frame_017740_aug_0.jpg: 640x384 1 ParkingLot, 13.4ms\n",
      "image 1316/1614 d:\\Downloads\\VIT Downloads\\Local Downloads\\Semester 6\\Deep Learning\\Project\\Bounding Box Detection\\Final Merge\\final\\images\\train\\09.01.25 06.00Pm_frame_017740_aug_1.jpg: 384x640 1 ParkingLot, 14.2ms\n",
      "image 1317/1614 d:\\Downloads\\VIT Downloads\\Local Downloads\\Semester 6\\Deep Learning\\Project\\Bounding Box Detection\\Final Merge\\final\\images\\train\\09.01.25 06.00Pm_frame_017740_aug_2.jpg: 384x640 1 ParkingLot, 14.8ms\n",
      "image 1318/1614 d:\\Downloads\\VIT Downloads\\Local Downloads\\Semester 6\\Deep Learning\\Project\\Bounding Box Detection\\Final Merge\\final\\images\\train\\09.01.25 06.00Pm_frame_017740_aug_3.jpg: 384x640 1 ParkingLot, 13.9ms\n",
      "image 1319/1614 d:\\Downloads\\VIT Downloads\\Local Downloads\\Semester 6\\Deep Learning\\Project\\Bounding Box Detection\\Final Merge\\final\\images\\train\\09.01.25 06.00Pm_frame_017740_aug_4.jpg: 384x640 1 ParkingLot, 24.4ms\n",
      "image 1320/1614 d:\\Downloads\\VIT Downloads\\Local Downloads\\Semester 6\\Deep Learning\\Project\\Bounding Box Detection\\Final Merge\\final\\images\\train\\09.01.25 06.00Pm_frame_026610_aug_0.jpg: 384x640 1 ParkingLot, 14.4ms\n",
      "image 1321/1614 d:\\Downloads\\VIT Downloads\\Local Downloads\\Semester 6\\Deep Learning\\Project\\Bounding Box Detection\\Final Merge\\final\\images\\train\\09.01.25 06.00Pm_frame_026610_aug_1.jpg: 384x640 1 ParkingLot, 13.6ms\n",
      "image 1322/1614 d:\\Downloads\\VIT Downloads\\Local Downloads\\Semester 6\\Deep Learning\\Project\\Bounding Box Detection\\Final Merge\\final\\images\\train\\09.01.25 06.00Pm_frame_026610_aug_3.jpg: 384x640 1 ParkingLot, 13.0ms\n",
      "image 1323/1614 d:\\Downloads\\VIT Downloads\\Local Downloads\\Semester 6\\Deep Learning\\Project\\Bounding Box Detection\\Final Merge\\final\\images\\train\\09.01.25 06.00Pm_frame_026610_aug_4.jpg: 640x384 1 ParkingLot, 15.1ms\n",
      "image 1324/1614 d:\\Downloads\\VIT Downloads\\Local Downloads\\Semester 6\\Deep Learning\\Project\\Bounding Box Detection\\Final Merge\\final\\images\\train\\09.01.25 06.00Pm_frame_035480_aug_0.jpg: 640x384 1 ParkingLot, 17.9ms\n",
      "image 1325/1614 d:\\Downloads\\VIT Downloads\\Local Downloads\\Semester 6\\Deep Learning\\Project\\Bounding Box Detection\\Final Merge\\final\\images\\train\\09.01.25 06.00Pm_frame_035480_aug_1.jpg: 384x640 1 ParkingLot, 18.1ms\n",
      "image 1326/1614 d:\\Downloads\\VIT Downloads\\Local Downloads\\Semester 6\\Deep Learning\\Project\\Bounding Box Detection\\Final Merge\\final\\images\\train\\09.01.25 06.00Pm_frame_035480_aug_2.jpg: 384x640 1 ParkingLot, 18.4ms\n",
      "image 1327/1614 d:\\Downloads\\VIT Downloads\\Local Downloads\\Semester 6\\Deep Learning\\Project\\Bounding Box Detection\\Final Merge\\final\\images\\train\\09.01.25 06.00Pm_frame_035480_aug_3.jpg: 384x640 1 ParkingLot, 23.9ms\n",
      "image 1328/1614 d:\\Downloads\\VIT Downloads\\Local Downloads\\Semester 6\\Deep Learning\\Project\\Bounding Box Detection\\Final Merge\\final\\images\\train\\09.01.25 06.00Pm_frame_035480_aug_4.jpg: 384x640 1 ParkingLot, 26.5ms\n",
      "image 1329/1614 d:\\Downloads\\VIT Downloads\\Local Downloads\\Semester 6\\Deep Learning\\Project\\Bounding Box Detection\\Final Merge\\final\\images\\train\\09.01.25 06.00Pm_frame_044350_aug_0.jpg: 640x384 1 ParkingLot, 15.3ms\n",
      "image 1330/1614 d:\\Downloads\\VIT Downloads\\Local Downloads\\Semester 6\\Deep Learning\\Project\\Bounding Box Detection\\Final Merge\\final\\images\\train\\09.01.25 06.00Pm_frame_044350_aug_1.jpg: 384x640 1 ParkingLot, 17.3ms\n",
      "image 1331/1614 d:\\Downloads\\VIT Downloads\\Local Downloads\\Semester 6\\Deep Learning\\Project\\Bounding Box Detection\\Final Merge\\final\\images\\train\\09.01.25 06.00Pm_frame_044350_aug_2.jpg: 384x640 1 ParkingLot, 23.4ms\n",
      "image 1332/1614 d:\\Downloads\\VIT Downloads\\Local Downloads\\Semester 6\\Deep Learning\\Project\\Bounding Box Detection\\Final Merge\\final\\images\\train\\09.01.25 06.00Pm_frame_044350_aug_3.jpg: 384x640 1 ParkingLot, 15.6ms\n",
      "image 1333/1614 d:\\Downloads\\VIT Downloads\\Local Downloads\\Semester 6\\Deep Learning\\Project\\Bounding Box Detection\\Final Merge\\final\\images\\train\\09.01.25 06.00Pm_frame_044350_aug_4.jpg: 640x384 1 ParkingLot, 17.2ms\n",
      "image 1334/1614 d:\\Downloads\\VIT Downloads\\Local Downloads\\Semester 6\\Deep Learning\\Project\\Bounding Box Detection\\Final Merge\\final\\images\\train\\09.01.25 06.00Pm_frame_053220_aug_0.jpg: 384x640 1 ParkingLot, 19.3ms\n",
      "image 1335/1614 d:\\Downloads\\VIT Downloads\\Local Downloads\\Semester 6\\Deep Learning\\Project\\Bounding Box Detection\\Final Merge\\final\\images\\train\\09.01.25 06.00Pm_frame_053220_aug_1.jpg: 384x640 1 ParkingLot, 12.8ms\n",
      "image 1336/1614 d:\\Downloads\\VIT Downloads\\Local Downloads\\Semester 6\\Deep Learning\\Project\\Bounding Box Detection\\Final Merge\\final\\images\\train\\09.01.25 06.00Pm_frame_053220_aug_2.jpg: 384x640 1 ParkingLot, 13.7ms\n",
      "image 1337/1614 d:\\Downloads\\VIT Downloads\\Local Downloads\\Semester 6\\Deep Learning\\Project\\Bounding Box Detection\\Final Merge\\final\\images\\train\\09.01.25 06.00Pm_frame_053220_aug_3.jpg: 384x640 1 ParkingLot, 14.6ms\n",
      "image 1338/1614 d:\\Downloads\\VIT Downloads\\Local Downloads\\Semester 6\\Deep Learning\\Project\\Bounding Box Detection\\Final Merge\\final\\images\\train\\09.01.25 06.00Pm_frame_053220_aug_4.jpg: 384x640 1 ParkingLot, 13.3ms\n",
      "image 1339/1614 d:\\Downloads\\VIT Downloads\\Local Downloads\\Semester 6\\Deep Learning\\Project\\Bounding Box Detection\\Final Merge\\final\\images\\train\\09.01.25 06.00Pm_frame_062090_aug_0.jpg: 384x640 1 ParkingLot, 13.3ms\n",
      "image 1340/1614 d:\\Downloads\\VIT Downloads\\Local Downloads\\Semester 6\\Deep Learning\\Project\\Bounding Box Detection\\Final Merge\\final\\images\\train\\09.01.25 06.00Pm_frame_062090_aug_1.jpg: 384x640 1 ParkingLot, 24.8ms\n",
      "image 1341/1614 d:\\Downloads\\VIT Downloads\\Local Downloads\\Semester 6\\Deep Learning\\Project\\Bounding Box Detection\\Final Merge\\final\\images\\train\\09.01.25 06.00Pm_frame_062090_aug_2.jpg: 640x384 1 ParkingLot, 21.9ms\n",
      "image 1342/1614 d:\\Downloads\\VIT Downloads\\Local Downloads\\Semester 6\\Deep Learning\\Project\\Bounding Box Detection\\Final Merge\\final\\images\\train\\09.01.25 06.00Pm_frame_062090_aug_3.jpg: 384x640 1 ParkingLot, 14.6ms\n",
      "image 1343/1614 d:\\Downloads\\VIT Downloads\\Local Downloads\\Semester 6\\Deep Learning\\Project\\Bounding Box Detection\\Final Merge\\final\\images\\train\\09.01.25 06.00Pm_frame_062090_aug_4.jpg: 384x640 1 ParkingLot, 15.0ms\n",
      "image 1344/1614 d:\\Downloads\\VIT Downloads\\Local Downloads\\Semester 6\\Deep Learning\\Project\\Bounding Box Detection\\Final Merge\\final\\images\\train\\09.01.25 06.00Pm_frame_070960_aug_0.jpg: 384x640 1 ParkingLot, 19.4ms\n",
      "image 1345/1614 d:\\Downloads\\VIT Downloads\\Local Downloads\\Semester 6\\Deep Learning\\Project\\Bounding Box Detection\\Final Merge\\final\\images\\train\\09.01.25 06.00Pm_frame_070960_aug_1.jpg: 384x640 1 ParkingLot, 24.3ms\n",
      "image 1346/1614 d:\\Downloads\\VIT Downloads\\Local Downloads\\Semester 6\\Deep Learning\\Project\\Bounding Box Detection\\Final Merge\\final\\images\\train\\09.01.25 06.00Pm_frame_070960_aug_2.jpg: 640x384 1 ParkingLot, 15.2ms\n",
      "image 1347/1614 d:\\Downloads\\VIT Downloads\\Local Downloads\\Semester 6\\Deep Learning\\Project\\Bounding Box Detection\\Final Merge\\final\\images\\train\\09.01.25 06.00Pm_frame_070960_aug_3.jpg: 384x640 1 ParkingLot, 14.9ms\n",
      "image 1348/1614 d:\\Downloads\\VIT Downloads\\Local Downloads\\Semester 6\\Deep Learning\\Project\\Bounding Box Detection\\Final Merge\\final\\images\\train\\09.01.25 06.00Pm_frame_070960_aug_4.jpg: 384x640 1 ParkingLot, 14.4ms\n",
      "image 1349/1614 d:\\Downloads\\VIT Downloads\\Local Downloads\\Semester 6\\Deep Learning\\Project\\Bounding Box Detection\\Final Merge\\final\\images\\train\\09.01.25 06.00Pm_frame_079830_aug_0.jpg: 640x384 1 ParkingLot, 14.9ms\n",
      "image 1350/1614 d:\\Downloads\\VIT Downloads\\Local Downloads\\Semester 6\\Deep Learning\\Project\\Bounding Box Detection\\Final Merge\\final\\images\\train\\09.01.25 06.00Pm_frame_079830_aug_2.jpg: 384x640 1 ParkingLot, 16.3ms\n",
      "image 1351/1614 d:\\Downloads\\VIT Downloads\\Local Downloads\\Semester 6\\Deep Learning\\Project\\Bounding Box Detection\\Final Merge\\final\\images\\train\\09.01.25 06.00Pm_frame_079830_aug_3.jpg: 384x640 1 ParkingLot, 13.0ms\n",
      "image 1352/1614 d:\\Downloads\\VIT Downloads\\Local Downloads\\Semester 6\\Deep Learning\\Project\\Bounding Box Detection\\Final Merge\\final\\images\\train\\09.01.25 06.00Pm_frame_079830_aug_4.jpg: 384x640 1 ParkingLot, 13.5ms\n",
      "image 1353/1614 d:\\Downloads\\VIT Downloads\\Local Downloads\\Semester 6\\Deep Learning\\Project\\Bounding Box Detection\\Final Merge\\final\\images\\train\\09.01.25 06.00Pm_frame_088700_aug_0.jpg: 384x640 1 ParkingLot, 14.6ms\n",
      "image 1354/1614 d:\\Downloads\\VIT Downloads\\Local Downloads\\Semester 6\\Deep Learning\\Project\\Bounding Box Detection\\Final Merge\\final\\images\\train\\09.01.25 06.00Pm_frame_088700_aug_1.jpg: 384x640 1 ParkingLot, 13.3ms\n",
      "image 1355/1614 d:\\Downloads\\VIT Downloads\\Local Downloads\\Semester 6\\Deep Learning\\Project\\Bounding Box Detection\\Final Merge\\final\\images\\train\\09.01.25 06.00Pm_frame_088700_aug_2.jpg: 384x640 1 ParkingLot, 13.5ms\n",
      "image 1356/1614 d:\\Downloads\\VIT Downloads\\Local Downloads\\Semester 6\\Deep Learning\\Project\\Bounding Box Detection\\Final Merge\\final\\images\\train\\09.01.25 06.00Pm_frame_088700_aug_3.jpg: 384x640 1 ParkingLot, 22.0ms\n",
      "image 1357/1614 d:\\Downloads\\VIT Downloads\\Local Downloads\\Semester 6\\Deep Learning\\Project\\Bounding Box Detection\\Final Merge\\final\\images\\train\\09.01.25 06.00Pm_frame_088700_aug_4.jpg: 384x640 1 ParkingLot, 16.0ms\n",
      "image 1358/1614 d:\\Downloads\\VIT Downloads\\Local Downloads\\Semester 6\\Deep Learning\\Project\\Bounding Box Detection\\Final Merge\\final\\images\\train\\09.01.25 06.00Pm_frame_097570_aug_0.jpg: 384x640 1 ParkingLot, 13.7ms\n",
      "image 1359/1614 d:\\Downloads\\VIT Downloads\\Local Downloads\\Semester 6\\Deep Learning\\Project\\Bounding Box Detection\\Final Merge\\final\\images\\train\\09.01.25 06.00Pm_frame_097570_aug_2.jpg: 384x640 1 ParkingLot, 13.3ms\n",
      "image 1360/1614 d:\\Downloads\\VIT Downloads\\Local Downloads\\Semester 6\\Deep Learning\\Project\\Bounding Box Detection\\Final Merge\\final\\images\\train\\09.01.25 06.00Pm_frame_097570_aug_3.jpg: 384x640 1 ParkingLot, 13.9ms\n",
      "image 1361/1614 d:\\Downloads\\VIT Downloads\\Local Downloads\\Semester 6\\Deep Learning\\Project\\Bounding Box Detection\\Final Merge\\final\\images\\train\\09.01.25 06.00Pm_frame_106440_aug_1.jpg: 384x640 1 ParkingLot, 18.0ms\n",
      "image 1362/1614 d:\\Downloads\\VIT Downloads\\Local Downloads\\Semester 6\\Deep Learning\\Project\\Bounding Box Detection\\Final Merge\\final\\images\\train\\09.01.25 06.00Pm_frame_106440_aug_2.jpg: 384x640 1 ParkingLot, 20.8ms\n",
      "image 1363/1614 d:\\Downloads\\VIT Downloads\\Local Downloads\\Semester 6\\Deep Learning\\Project\\Bounding Box Detection\\Final Merge\\final\\images\\train\\09.01.25 06.00Pm_frame_106440_aug_3.jpg: 384x640 1 ParkingLot, 15.1ms\n",
      "image 1364/1614 d:\\Downloads\\VIT Downloads\\Local Downloads\\Semester 6\\Deep Learning\\Project\\Bounding Box Detection\\Final Merge\\final\\images\\train\\09.01.25 06.00Pm_frame_106440_aug_4.jpg: 640x384 1 ParkingLot, 14.5ms\n",
      "image 1365/1614 d:\\Downloads\\VIT Downloads\\Local Downloads\\Semester 6\\Deep Learning\\Project\\Bounding Box Detection\\Final Merge\\final\\images\\train\\09.01.25 06.00Pm_frame_115310_aug_0.jpg: 384x640 1 ParkingLot, 15.0ms\n",
      "image 1366/1614 d:\\Downloads\\VIT Downloads\\Local Downloads\\Semester 6\\Deep Learning\\Project\\Bounding Box Detection\\Final Merge\\final\\images\\train\\09.01.25 06.00Pm_frame_115310_aug_1.jpg: 384x640 1 ParkingLot, 22.9ms\n",
      "image 1367/1614 d:\\Downloads\\VIT Downloads\\Local Downloads\\Semester 6\\Deep Learning\\Project\\Bounding Box Detection\\Final Merge\\final\\images\\train\\09.01.25 06.00Pm_frame_115310_aug_4.jpg: 384x640 1 ParkingLot, 14.9ms\n",
      "image 1368/1614 d:\\Downloads\\VIT Downloads\\Local Downloads\\Semester 6\\Deep Learning\\Project\\Bounding Box Detection\\Final Merge\\final\\images\\train\\09.01.25 06.00Pm_frame_124180_aug_0.jpg: 384x640 1 ParkingLot, 16.9ms\n",
      "image 1369/1614 d:\\Downloads\\VIT Downloads\\Local Downloads\\Semester 6\\Deep Learning\\Project\\Bounding Box Detection\\Final Merge\\final\\images\\train\\09.01.25 06.00Pm_frame_124180_aug_1.jpg: 384x640 1 ParkingLot, 21.4ms\n",
      "image 1370/1614 d:\\Downloads\\VIT Downloads\\Local Downloads\\Semester 6\\Deep Learning\\Project\\Bounding Box Detection\\Final Merge\\final\\images\\train\\09.01.25 06.00Pm_frame_124180_aug_2.jpg: 384x640 1 ParkingLot, 13.1ms\n",
      "image 1371/1614 d:\\Downloads\\VIT Downloads\\Local Downloads\\Semester 6\\Deep Learning\\Project\\Bounding Box Detection\\Final Merge\\final\\images\\train\\09.01.25 06.00Pm_frame_124180_aug_3.jpg: 384x640 1 ParkingLot, 15.1ms\n",
      "image 1372/1614 d:\\Downloads\\VIT Downloads\\Local Downloads\\Semester 6\\Deep Learning\\Project\\Bounding Box Detection\\Final Merge\\final\\images\\train\\09.01.25 06.00Pm_frame_150790_aug_0.jpg: 384x640 1 ParkingLot, 25.1ms\n",
      "image 1373/1614 d:\\Downloads\\VIT Downloads\\Local Downloads\\Semester 6\\Deep Learning\\Project\\Bounding Box Detection\\Final Merge\\final\\images\\train\\09.01.25 06.00Pm_frame_150790_aug_2.jpg: 384x640 1 ParkingLot, 13.9ms\n",
      "image 1374/1614 d:\\Downloads\\VIT Downloads\\Local Downloads\\Semester 6\\Deep Learning\\Project\\Bounding Box Detection\\Final Merge\\final\\images\\train\\09.01.25 06.00Pm_frame_150790_aug_3.jpg: 384x640 1 ParkingLot, 14.9ms\n",
      "image 1375/1614 d:\\Downloads\\VIT Downloads\\Local Downloads\\Semester 6\\Deep Learning\\Project\\Bounding Box Detection\\Final Merge\\final\\images\\train\\09.01.25 06.00Pm_frame_150790_aug_4.jpg: 384x640 1 ParkingLot, 13.4ms\n",
      "image 1376/1614 d:\\Downloads\\VIT Downloads\\Local Downloads\\Semester 6\\Deep Learning\\Project\\Bounding Box Detection\\Final Merge\\final\\images\\train\\09.01.25 06.00Pm_frame_186270_aug_2.jpg: 384x640 1 ParkingLot, 22.8ms\n",
      "image 1377/1614 d:\\Downloads\\VIT Downloads\\Local Downloads\\Semester 6\\Deep Learning\\Project\\Bounding Box Detection\\Final Merge\\final\\images\\train\\09.01.25 06.00Pm_frame_186270_aug_4.jpg: 384x640 1 ParkingLot, 25.9ms\n",
      "image 1378/1614 d:\\Downloads\\VIT Downloads\\Local Downloads\\Semester 6\\Deep Learning\\Project\\Bounding Box Detection\\Final Merge\\final\\images\\train\\09.01.25 06.00Pm_frame_195140_aug_0.jpg: 384x640 1 ParkingLot, 13.6ms\n",
      "image 1379/1614 d:\\Downloads\\VIT Downloads\\Local Downloads\\Semester 6\\Deep Learning\\Project\\Bounding Box Detection\\Final Merge\\final\\images\\train\\09.01.25 06.00Pm_frame_195140_aug_2.jpg: 384x640 1 ParkingLot, 13.3ms\n",
      "image 1380/1614 d:\\Downloads\\VIT Downloads\\Local Downloads\\Semester 6\\Deep Learning\\Project\\Bounding Box Detection\\Final Merge\\final\\images\\train\\09.01.25 06.00Pm_frame_195140_aug_3.jpg: 384x640 1 ParkingLot, 13.2ms\n",
      "image 1381/1614 d:\\Downloads\\VIT Downloads\\Local Downloads\\Semester 6\\Deep Learning\\Project\\Bounding Box Detection\\Final Merge\\final\\images\\train\\09.01.25 06.00Pm_frame_195140_aug_4.jpg: 384x640 1 ParkingLot, 17.5ms\n",
      "image 1382/1614 d:\\Downloads\\VIT Downloads\\Local Downloads\\Semester 6\\Deep Learning\\Project\\Bounding Box Detection\\Final Merge\\final\\images\\train\\09.01.25 06.00Pm_frame_266100_aug_0.jpg: 384x640 1 ParkingLot, 14.0ms\n",
      "image 1383/1614 d:\\Downloads\\VIT Downloads\\Local Downloads\\Semester 6\\Deep Learning\\Project\\Bounding Box Detection\\Final Merge\\final\\images\\train\\09.01.25 06.00Pm_frame_266100_aug_1.jpg: 384x640 1 ParkingLot, 13.4ms\n",
      "image 1384/1614 d:\\Downloads\\VIT Downloads\\Local Downloads\\Semester 6\\Deep Learning\\Project\\Bounding Box Detection\\Final Merge\\final\\images\\train\\09.01.25 06.00Pm_frame_266100_aug_2.jpg: 384x640 1 ParkingLot, 13.3ms\n",
      "image 1385/1614 d:\\Downloads\\VIT Downloads\\Local Downloads\\Semester 6\\Deep Learning\\Project\\Bounding Box Detection\\Final Merge\\final\\images\\train\\09.01.25 06.00Pm_frame_266100_aug_4.jpg: 384x640 1 ParkingLot, 14.0ms\n",
      "image 1386/1614 d:\\Downloads\\VIT Downloads\\Local Downloads\\Semester 6\\Deep Learning\\Project\\Bounding Box Detection\\Final Merge\\final\\images\\train\\09.01.25 06.00Pm_frame_319320_aug_0.jpg: 384x640 1 ParkingLot, 13.8ms\n",
      "image 1387/1614 d:\\Downloads\\VIT Downloads\\Local Downloads\\Semester 6\\Deep Learning\\Project\\Bounding Box Detection\\Final Merge\\final\\images\\train\\09.01.25 06.00Pm_frame_319320_aug_1.jpg: 384x640 1 ParkingLot, 15.5ms\n",
      "image 1388/1614 d:\\Downloads\\VIT Downloads\\Local Downloads\\Semester 6\\Deep Learning\\Project\\Bounding Box Detection\\Final Merge\\final\\images\\train\\09.01.25 06.00Pm_frame_319320_aug_2.jpg: 384x640 1 ParkingLot, 13.1ms\n",
      "image 1389/1614 d:\\Downloads\\VIT Downloads\\Local Downloads\\Semester 6\\Deep Learning\\Project\\Bounding Box Detection\\Final Merge\\final\\images\\train\\09.01.25 06.00Pm_frame_328190_aug_0.jpg: 384x640 1 ParkingLot, 17.4ms\n",
      "image 1390/1614 d:\\Downloads\\VIT Downloads\\Local Downloads\\Semester 6\\Deep Learning\\Project\\Bounding Box Detection\\Final Merge\\final\\images\\train\\09.01.25 06.00Pm_frame_328190_aug_3.jpg: 384x640 1 ParkingLot, 13.6ms\n",
      "image 1391/1614 d:\\Downloads\\VIT Downloads\\Local Downloads\\Semester 6\\Deep Learning\\Project\\Bounding Box Detection\\Final Merge\\final\\images\\train\\09.01.25 06.00Pm_frame_328190_aug_4.jpg: 384x640 1 ParkingLot, 15.3ms\n",
      "image 1392/1614 d:\\Downloads\\VIT Downloads\\Local Downloads\\Semester 6\\Deep Learning\\Project\\Bounding Box Detection\\Final Merge\\final\\images\\train\\09.01.25 06.00Pm_frame_337060_aug_0.jpg: 384x640 1 ParkingLot, 18.0ms\n",
      "image 1393/1614 d:\\Downloads\\VIT Downloads\\Local Downloads\\Semester 6\\Deep Learning\\Project\\Bounding Box Detection\\Final Merge\\final\\images\\train\\09.01.25 06.00Pm_frame_337060_aug_2.jpg: 640x384 1 ParkingLot, 18.6ms\n",
      "image 1394/1614 d:\\Downloads\\VIT Downloads\\Local Downloads\\Semester 6\\Deep Learning\\Project\\Bounding Box Detection\\Final Merge\\final\\images\\train\\09.01.25 06.00Pm_frame_337060_aug_4.jpg: 384x640 1 ParkingLot, 14.0ms\n",
      "image 1395/1614 d:\\Downloads\\VIT Downloads\\Local Downloads\\Semester 6\\Deep Learning\\Project\\Bounding Box Detection\\Final Merge\\final\\images\\train\\09.01.25 06.00Pm_frame_363670_aug_0.jpg: 384x640 1 ParkingLot, 13.2ms\n",
      "image 1396/1614 d:\\Downloads\\VIT Downloads\\Local Downloads\\Semester 6\\Deep Learning\\Project\\Bounding Box Detection\\Final Merge\\final\\images\\train\\09.01.25 06.00Pm_frame_363670_aug_1.jpg: 384x640 1 ParkingLot, 13.0ms\n",
      "image 1397/1614 d:\\Downloads\\VIT Downloads\\Local Downloads\\Semester 6\\Deep Learning\\Project\\Bounding Box Detection\\Final Merge\\final\\images\\train\\09.01.25 06.00Pm_frame_363670_aug_2.jpg: 384x640 1 ParkingLot, 23.1ms\n",
      "image 1398/1614 d:\\Downloads\\VIT Downloads\\Local Downloads\\Semester 6\\Deep Learning\\Project\\Bounding Box Detection\\Final Merge\\final\\images\\train\\09.01.25 06.00Pm_frame_363670_aug_3.jpg: 384x640 1 ParkingLot, 20.8ms\n",
      "image 1399/1614 d:\\Downloads\\VIT Downloads\\Local Downloads\\Semester 6\\Deep Learning\\Project\\Bounding Box Detection\\Final Merge\\final\\images\\train\\09.01.25 06.00Pm_frame_363670_aug_4.jpg: 384x640 1 ParkingLot, 21.9ms\n",
      "image 1400/1614 d:\\Downloads\\VIT Downloads\\Local Downloads\\Semester 6\\Deep Learning\\Project\\Bounding Box Detection\\Final Merge\\final\\images\\train\\09.01.25 06.00Pm_frame_434630_aug_0.jpg: 384x640 1 ParkingLot, 17.6ms\n",
      "image 1401/1614 d:\\Downloads\\VIT Downloads\\Local Downloads\\Semester 6\\Deep Learning\\Project\\Bounding Box Detection\\Final Merge\\final\\images\\train\\09.01.25 06.00Pm_frame_434630_aug_2.jpg: 384x640 1 ParkingLot, 18.5ms\n",
      "image 1402/1614 d:\\Downloads\\VIT Downloads\\Local Downloads\\Semester 6\\Deep Learning\\Project\\Bounding Box Detection\\Final Merge\\final\\images\\train\\09.01.25 06.00Pm_frame_434630_aug_3.jpg: 384x640 1 ParkingLot, 14.7ms\n",
      "image 1403/1614 d:\\Downloads\\VIT Downloads\\Local Downloads\\Semester 6\\Deep Learning\\Project\\Bounding Box Detection\\Final Merge\\final\\images\\train\\09.01.25 06.00Pm_frame_443500_aug_0.jpg: 384x640 1 ParkingLot, 17.1ms\n",
      "image 1404/1614 d:\\Downloads\\VIT Downloads\\Local Downloads\\Semester 6\\Deep Learning\\Project\\Bounding Box Detection\\Final Merge\\final\\images\\train\\09.01.25 06.00Pm_frame_443500_aug_1.jpg: 384x640 1 ParkingLot, 17.2ms\n",
      "image 1405/1614 d:\\Downloads\\VIT Downloads\\Local Downloads\\Semester 6\\Deep Learning\\Project\\Bounding Box Detection\\Final Merge\\final\\images\\train\\09.01.25 06.00Pm_frame_443500_aug_4.jpg: 384x640 1 ParkingLot, 13.6ms\n",
      "image 1406/1614 d:\\Downloads\\VIT Downloads\\Local Downloads\\Semester 6\\Deep Learning\\Project\\Bounding Box Detection\\Final Merge\\final\\images\\train\\09.01.25 08.00Am_frame_000000_aug_0.jpg: 640x384 1 ParkingLot, 20.0ms\n",
      "image 1407/1614 d:\\Downloads\\VIT Downloads\\Local Downloads\\Semester 6\\Deep Learning\\Project\\Bounding Box Detection\\Final Merge\\final\\images\\train\\09.01.25 08.00Am_frame_000000_aug_1.jpg: 640x384 1 ParkingLot, 13.1ms\n",
      "image 1408/1614 d:\\Downloads\\VIT Downloads\\Local Downloads\\Semester 6\\Deep Learning\\Project\\Bounding Box Detection\\Final Merge\\final\\images\\train\\09.01.25 08.00Am_frame_000000_aug_2.jpg: 640x384 1 ParkingLot, 23.7ms\n",
      "image 1409/1614 d:\\Downloads\\VIT Downloads\\Local Downloads\\Semester 6\\Deep Learning\\Project\\Bounding Box Detection\\Final Merge\\final\\images\\train\\09.01.25 08.00Am_frame_000000_aug_3.jpg: 384x640 1 ParkingLot, 14.1ms\n",
      "image 1410/1614 d:\\Downloads\\VIT Downloads\\Local Downloads\\Semester 6\\Deep Learning\\Project\\Bounding Box Detection\\Final Merge\\final\\images\\train\\09.01.25 08.00Am_frame_000000_aug_4.jpg: 384x640 1 ParkingLot, 13.7ms\n",
      "image 1411/1614 d:\\Downloads\\VIT Downloads\\Local Downloads\\Semester 6\\Deep Learning\\Project\\Bounding Box Detection\\Final Merge\\final\\images\\train\\09.01.25 08.00Am_frame_001559_aug_0.jpg: 384x640 1 ParkingLot, 12.7ms\n",
      "image 1412/1614 d:\\Downloads\\VIT Downloads\\Local Downloads\\Semester 6\\Deep Learning\\Project\\Bounding Box Detection\\Final Merge\\final\\images\\train\\09.01.25 08.00Am_frame_001559_aug_1.jpg: 384x640 1 ParkingLot, 15.0ms\n",
      "image 1413/1614 d:\\Downloads\\VIT Downloads\\Local Downloads\\Semester 6\\Deep Learning\\Project\\Bounding Box Detection\\Final Merge\\final\\images\\train\\09.01.25 08.00Am_frame_001559_aug_2.jpg: 384x640 1 ParkingLot, 14.5ms\n",
      "image 1414/1614 d:\\Downloads\\VIT Downloads\\Local Downloads\\Semester 6\\Deep Learning\\Project\\Bounding Box Detection\\Final Merge\\final\\images\\train\\09.01.25 08.00Am_frame_001559_aug_3.jpg: 640x384 1 ParkingLot, 28.5ms\n",
      "image 1415/1614 d:\\Downloads\\VIT Downloads\\Local Downloads\\Semester 6\\Deep Learning\\Project\\Bounding Box Detection\\Final Merge\\final\\images\\train\\09.01.25 08.00Am_frame_001559_aug_4.jpg: 384x640 1 ParkingLot, 26.8ms\n",
      "image 1416/1614 d:\\Downloads\\VIT Downloads\\Local Downloads\\Semester 6\\Deep Learning\\Project\\Bounding Box Detection\\Final Merge\\final\\images\\train\\09.01.25 08.00Am_frame_003118_aug_0.jpg: 640x384 1 ParkingLot, 15.7ms\n",
      "image 1417/1614 d:\\Downloads\\VIT Downloads\\Local Downloads\\Semester 6\\Deep Learning\\Project\\Bounding Box Detection\\Final Merge\\final\\images\\train\\09.01.25 08.00Am_frame_003118_aug_1.jpg: 384x640 1 ParkingLot, 15.0ms\n",
      "image 1418/1614 d:\\Downloads\\VIT Downloads\\Local Downloads\\Semester 6\\Deep Learning\\Project\\Bounding Box Detection\\Final Merge\\final\\images\\train\\09.01.25 08.00Am_frame_003118_aug_2.jpg: 640x384 1 ParkingLot, 20.3ms\n",
      "image 1419/1614 d:\\Downloads\\VIT Downloads\\Local Downloads\\Semester 6\\Deep Learning\\Project\\Bounding Box Detection\\Final Merge\\final\\images\\train\\09.01.25 08.00Am_frame_003118_aug_3.jpg: 640x384 1 ParkingLot, 25.1ms\n",
      "image 1420/1614 d:\\Downloads\\VIT Downloads\\Local Downloads\\Semester 6\\Deep Learning\\Project\\Bounding Box Detection\\Final Merge\\final\\images\\train\\09.01.25 08.00Am_frame_003118_aug_4.jpg: 384x640 1 ParkingLot, 15.2ms\n",
      "image 1421/1614 d:\\Downloads\\VIT Downloads\\Local Downloads\\Semester 6\\Deep Learning\\Project\\Bounding Box Detection\\Final Merge\\final\\images\\train\\09.01.25 08.00Am_frame_006236_aug_0.jpg: 384x640 1 ParkingLot, 13.2ms\n",
      "image 1422/1614 d:\\Downloads\\VIT Downloads\\Local Downloads\\Semester 6\\Deep Learning\\Project\\Bounding Box Detection\\Final Merge\\final\\images\\train\\09.01.25 08.00Am_frame_006236_aug_1.jpg: 384x640 1 ParkingLot, 13.2ms\n",
      "image 1423/1614 d:\\Downloads\\VIT Downloads\\Local Downloads\\Semester 6\\Deep Learning\\Project\\Bounding Box Detection\\Final Merge\\final\\images\\train\\09.01.25 08.00Am_frame_006236_aug_2.jpg: 384x640 1 ParkingLot, 12.8ms\n",
      "image 1424/1614 d:\\Downloads\\VIT Downloads\\Local Downloads\\Semester 6\\Deep Learning\\Project\\Bounding Box Detection\\Final Merge\\final\\images\\train\\09.01.25 08.00Am_frame_006236_aug_3.jpg: 384x640 1 ParkingLot, 14.8ms\n",
      "image 1425/1614 d:\\Downloads\\VIT Downloads\\Local Downloads\\Semester 6\\Deep Learning\\Project\\Bounding Box Detection\\Final Merge\\final\\images\\train\\09.01.25 08.00Am_frame_006236_aug_4.jpg: 384x640 1 ParkingLot, 13.1ms\n",
      "image 1426/1614 d:\\Downloads\\VIT Downloads\\Local Downloads\\Semester 6\\Deep Learning\\Project\\Bounding Box Detection\\Final Merge\\final\\images\\train\\09.01.25 08.00Am_frame_012472_aug_0.jpg: 384x640 1 ParkingLot, 12.8ms\n",
      "image 1427/1614 d:\\Downloads\\VIT Downloads\\Local Downloads\\Semester 6\\Deep Learning\\Project\\Bounding Box Detection\\Final Merge\\final\\images\\train\\09.01.25 08.00Am_frame_012472_aug_1.jpg: 384x640 1 ParkingLot, 13.4ms\n",
      "image 1428/1614 d:\\Downloads\\VIT Downloads\\Local Downloads\\Semester 6\\Deep Learning\\Project\\Bounding Box Detection\\Final Merge\\final\\images\\train\\09.01.25 08.00Am_frame_012472_aug_2.jpg: 384x640 1 ParkingLot, 13.2ms\n",
      "image 1429/1614 d:\\Downloads\\VIT Downloads\\Local Downloads\\Semester 6\\Deep Learning\\Project\\Bounding Box Detection\\Final Merge\\final\\images\\train\\09.01.25 08.00Am_frame_012472_aug_3.jpg: 384x640 1 ParkingLot, 13.4ms\n",
      "image 1430/1614 d:\\Downloads\\VIT Downloads\\Local Downloads\\Semester 6\\Deep Learning\\Project\\Bounding Box Detection\\Final Merge\\final\\images\\train\\09.01.25 08.00Am_frame_012472_aug_4.jpg: 384x640 1 ParkingLot, 45.2ms\n",
      "image 1431/1614 d:\\Downloads\\VIT Downloads\\Local Downloads\\Semester 6\\Deep Learning\\Project\\Bounding Box Detection\\Final Merge\\final\\images\\train\\09.01.25 08.00Am_frame_017149_aug_0.jpg: 384x640 1 ParkingLot, 15.2ms\n",
      "image 1432/1614 d:\\Downloads\\VIT Downloads\\Local Downloads\\Semester 6\\Deep Learning\\Project\\Bounding Box Detection\\Final Merge\\final\\images\\train\\09.01.25 08.00Am_frame_017149_aug_1.jpg: 384x640 1 ParkingLot, 15.8ms\n",
      "image 1433/1614 d:\\Downloads\\VIT Downloads\\Local Downloads\\Semester 6\\Deep Learning\\Project\\Bounding Box Detection\\Final Merge\\final\\images\\train\\09.01.25 08.00Am_frame_017149_aug_2.jpg: 640x384 1 ParkingLot, 18.3ms\n",
      "image 1434/1614 d:\\Downloads\\VIT Downloads\\Local Downloads\\Semester 6\\Deep Learning\\Project\\Bounding Box Detection\\Final Merge\\final\\images\\train\\09.01.25 08.00Am_frame_017149_aug_3.jpg: 384x640 1 ParkingLot, 16.3ms\n",
      "image 1435/1614 d:\\Downloads\\VIT Downloads\\Local Downloads\\Semester 6\\Deep Learning\\Project\\Bounding Box Detection\\Final Merge\\final\\images\\train\\09.01.25 08.00Am_frame_017149_aug_4.jpg: 640x384 1 ParkingLot, 17.8ms\n",
      "image 1436/1614 d:\\Downloads\\VIT Downloads\\Local Downloads\\Semester 6\\Deep Learning\\Project\\Bounding Box Detection\\Final Merge\\final\\images\\train\\09.01.25 08.00Am_frame_018708_aug_0.jpg: 384x640 1 ParkingLot, 20.8ms\n",
      "image 1437/1614 d:\\Downloads\\VIT Downloads\\Local Downloads\\Semester 6\\Deep Learning\\Project\\Bounding Box Detection\\Final Merge\\final\\images\\train\\09.01.25 08.00Am_frame_018708_aug_1.jpg: 384x640 1 ParkingLot, 14.1ms\n",
      "image 1438/1614 d:\\Downloads\\VIT Downloads\\Local Downloads\\Semester 6\\Deep Learning\\Project\\Bounding Box Detection\\Final Merge\\final\\images\\train\\09.01.25 08.00Am_frame_018708_aug_2.jpg: 640x384 1 ParkingLot, 14.0ms\n",
      "image 1439/1614 d:\\Downloads\\VIT Downloads\\Local Downloads\\Semester 6\\Deep Learning\\Project\\Bounding Box Detection\\Final Merge\\final\\images\\train\\09.01.25 08.00Am_frame_018708_aug_3.jpg: 640x384 1 ParkingLot, 12.9ms\n",
      "image 1440/1614 d:\\Downloads\\VIT Downloads\\Local Downloads\\Semester 6\\Deep Learning\\Project\\Bounding Box Detection\\Final Merge\\final\\images\\train\\09.01.25 08.00Am_frame_018708_aug_4.jpg: 640x384 1 ParkingLot, 13.3ms\n",
      "image 1441/1614 d:\\Downloads\\VIT Downloads\\Local Downloads\\Semester 6\\Deep Learning\\Project\\Bounding Box Detection\\Final Merge\\final\\images\\train\\09.01.25 08.00Am_frame_020267_aug_0.jpg: 384x640 1 ParkingLot, 14.4ms\n",
      "image 1442/1614 d:\\Downloads\\VIT Downloads\\Local Downloads\\Semester 6\\Deep Learning\\Project\\Bounding Box Detection\\Final Merge\\final\\images\\train\\09.01.25 08.00Am_frame_020267_aug_1.jpg: 384x640 1 ParkingLot, 13.3ms\n",
      "image 1443/1614 d:\\Downloads\\VIT Downloads\\Local Downloads\\Semester 6\\Deep Learning\\Project\\Bounding Box Detection\\Final Merge\\final\\images\\train\\09.01.25 08.00Am_frame_020267_aug_2.jpg: 384x640 1 ParkingLot, 13.5ms\n",
      "image 1444/1614 d:\\Downloads\\VIT Downloads\\Local Downloads\\Semester 6\\Deep Learning\\Project\\Bounding Box Detection\\Final Merge\\final\\images\\train\\09.01.25 08.00Am_frame_020267_aug_3.jpg: 384x640 1 ParkingLot, 14.3ms\n",
      "image 1445/1614 d:\\Downloads\\VIT Downloads\\Local Downloads\\Semester 6\\Deep Learning\\Project\\Bounding Box Detection\\Final Merge\\final\\images\\train\\09.01.25 08.00Am_frame_020267_aug_4.jpg: 384x640 1 ParkingLot, 13.5ms\n",
      "image 1446/1614 d:\\Downloads\\VIT Downloads\\Local Downloads\\Semester 6\\Deep Learning\\Project\\Bounding Box Detection\\Final Merge\\final\\images\\train\\09.01.25 08.00Am_frame_021826_aug_0.jpg: 640x384 1 ParkingLot, 15.4ms\n",
      "image 1447/1614 d:\\Downloads\\VIT Downloads\\Local Downloads\\Semester 6\\Deep Learning\\Project\\Bounding Box Detection\\Final Merge\\final\\images\\train\\09.01.25 08.00Am_frame_021826_aug_1.jpg: 640x384 1 ParkingLot, 13.8ms\n",
      "image 1448/1614 d:\\Downloads\\VIT Downloads\\Local Downloads\\Semester 6\\Deep Learning\\Project\\Bounding Box Detection\\Final Merge\\final\\images\\train\\09.01.25 08.00Am_frame_021826_aug_2.jpg: 384x640 1 ParkingLot, 18.7ms\n",
      "image 1449/1614 d:\\Downloads\\VIT Downloads\\Local Downloads\\Semester 6\\Deep Learning\\Project\\Bounding Box Detection\\Final Merge\\final\\images\\train\\09.01.25 08.00Am_frame_021826_aug_3.jpg: 384x640 1 ParkingLot, 13.2ms\n",
      "image 1450/1614 d:\\Downloads\\VIT Downloads\\Local Downloads\\Semester 6\\Deep Learning\\Project\\Bounding Box Detection\\Final Merge\\final\\images\\train\\09.01.25 08.00Am_frame_021826_aug_4.jpg: 384x640 1 ParkingLot, 21.2ms\n",
      "image 1451/1614 d:\\Downloads\\VIT Downloads\\Local Downloads\\Semester 6\\Deep Learning\\Project\\Bounding Box Detection\\Final Merge\\final\\images\\train\\09.01.25 08.00Am_frame_026503_aug_0.jpg: 384x640 1 ParkingLot, 14.9ms\n",
      "image 1452/1614 d:\\Downloads\\VIT Downloads\\Local Downloads\\Semester 6\\Deep Learning\\Project\\Bounding Box Detection\\Final Merge\\final\\images\\train\\09.01.25 08.00Am_frame_026503_aug_1.jpg: 384x640 1 ParkingLot, 15.6ms\n",
      "image 1453/1614 d:\\Downloads\\VIT Downloads\\Local Downloads\\Semester 6\\Deep Learning\\Project\\Bounding Box Detection\\Final Merge\\final\\images\\train\\09.01.25 08.00Am_frame_026503_aug_2.jpg: 384x640 1 ParkingLot, 13.6ms\n",
      "image 1454/1614 d:\\Downloads\\VIT Downloads\\Local Downloads\\Semester 6\\Deep Learning\\Project\\Bounding Box Detection\\Final Merge\\final\\images\\train\\09.01.25 08.00Am_frame_026503_aug_4.jpg: 384x640 1 ParkingLot, 18.5ms\n",
      "image 1455/1614 d:\\Downloads\\VIT Downloads\\Local Downloads\\Semester 6\\Deep Learning\\Project\\Bounding Box Detection\\Final Merge\\final\\images\\train\\09.01.25 08.00Am_frame_028062_aug_0.jpg: 384x640 1 ParkingLot, 16.6ms\n",
      "image 1456/1614 d:\\Downloads\\VIT Downloads\\Local Downloads\\Semester 6\\Deep Learning\\Project\\Bounding Box Detection\\Final Merge\\final\\images\\train\\09.01.25 08.00Am_frame_028062_aug_1.jpg: 384x640 1 ParkingLot, 21.2ms\n",
      "image 1457/1614 d:\\Downloads\\VIT Downloads\\Local Downloads\\Semester 6\\Deep Learning\\Project\\Bounding Box Detection\\Final Merge\\final\\images\\train\\09.01.25 08.00Am_frame_028062_aug_3.jpg: 384x640 1 ParkingLot, 18.9ms\n",
      "image 1458/1614 d:\\Downloads\\VIT Downloads\\Local Downloads\\Semester 6\\Deep Learning\\Project\\Bounding Box Detection\\Final Merge\\final\\images\\train\\09.01.25 08.00Am_frame_028062_aug_4.jpg: 640x384 1 ParkingLot, 14.9ms\n",
      "image 1459/1614 d:\\Downloads\\VIT Downloads\\Local Downloads\\Semester 6\\Deep Learning\\Project\\Bounding Box Detection\\Final Merge\\final\\images\\train\\09.01.25 08.00Am_frame_029621_aug_0.jpg: 384x640 1 ParkingLot, 14.1ms\n",
      "image 1460/1614 d:\\Downloads\\VIT Downloads\\Local Downloads\\Semester 6\\Deep Learning\\Project\\Bounding Box Detection\\Final Merge\\final\\images\\train\\09.01.25 08.00Am_frame_029621_aug_1.jpg: 384x640 1 ParkingLot, 21.4ms\n",
      "image 1461/1614 d:\\Downloads\\VIT Downloads\\Local Downloads\\Semester 6\\Deep Learning\\Project\\Bounding Box Detection\\Final Merge\\final\\images\\train\\09.01.25 08.00Am_frame_029621_aug_2.jpg: 384x640 1 ParkingLot, 16.7ms\n",
      "image 1462/1614 d:\\Downloads\\VIT Downloads\\Local Downloads\\Semester 6\\Deep Learning\\Project\\Bounding Box Detection\\Final Merge\\final\\images\\train\\09.01.25 08.00Am_frame_029621_aug_3.jpg: 384x640 1 ParkingLot, 13.2ms\n",
      "image 1463/1614 d:\\Downloads\\VIT Downloads\\Local Downloads\\Semester 6\\Deep Learning\\Project\\Bounding Box Detection\\Final Merge\\final\\images\\train\\09.01.25 08.00Am_frame_029621_aug_4.jpg: 640x384 1 ParkingLot, 21.2ms\n",
      "image 1464/1614 d:\\Downloads\\VIT Downloads\\Local Downloads\\Semester 6\\Deep Learning\\Project\\Bounding Box Detection\\Final Merge\\final\\images\\train\\09.01.25 08.00Am_frame_032739_aug_0.jpg: 384x640 1 ParkingLot, 15.7ms\n",
      "image 1465/1614 d:\\Downloads\\VIT Downloads\\Local Downloads\\Semester 6\\Deep Learning\\Project\\Bounding Box Detection\\Final Merge\\final\\images\\train\\09.01.25 08.00Am_frame_032739_aug_1.jpg: 640x384 1 ParkingLot, 22.8ms\n",
      "image 1466/1614 d:\\Downloads\\VIT Downloads\\Local Downloads\\Semester 6\\Deep Learning\\Project\\Bounding Box Detection\\Final Merge\\final\\images\\train\\09.01.25 08.00Am_frame_032739_aug_2.jpg: 384x640 1 ParkingLot, 14.9ms\n",
      "image 1467/1614 d:\\Downloads\\VIT Downloads\\Local Downloads\\Semester 6\\Deep Learning\\Project\\Bounding Box Detection\\Final Merge\\final\\images\\train\\09.01.25 08.00Am_frame_032739_aug_3.jpg: 384x640 1 ParkingLot, 16.3ms\n",
      "image 1468/1614 d:\\Downloads\\VIT Downloads\\Local Downloads\\Semester 6\\Deep Learning\\Project\\Bounding Box Detection\\Final Merge\\final\\images\\train\\09.01.25 08.00Am_frame_032739_aug_4.jpg: 384x640 1 ParkingLot, 15.8ms\n",
      "image 1469/1614 d:\\Downloads\\VIT Downloads\\Local Downloads\\Semester 6\\Deep Learning\\Project\\Bounding Box Detection\\Final Merge\\final\\images\\train\\09.01.25 08.00Am_frame_040534_aug_0.jpg: 384x640 1 ParkingLot, 14.4ms\n",
      "image 1470/1614 d:\\Downloads\\VIT Downloads\\Local Downloads\\Semester 6\\Deep Learning\\Project\\Bounding Box Detection\\Final Merge\\final\\images\\train\\09.01.25 08.00Am_frame_040534_aug_1.jpg: 384x640 1 ParkingLot, 14.2ms\n",
      "image 1471/1614 d:\\Downloads\\VIT Downloads\\Local Downloads\\Semester 6\\Deep Learning\\Project\\Bounding Box Detection\\Final Merge\\final\\images\\train\\09.01.25 08.00Am_frame_040534_aug_2.jpg: 384x640 1 ParkingLot, 14.6ms\n",
      "image 1472/1614 d:\\Downloads\\VIT Downloads\\Local Downloads\\Semester 6\\Deep Learning\\Project\\Bounding Box Detection\\Final Merge\\final\\images\\train\\09.01.25 08.00Am_frame_040534_aug_3.jpg: 384x640 1 ParkingLot, 14.8ms\n",
      "image 1473/1614 d:\\Downloads\\VIT Downloads\\Local Downloads\\Semester 6\\Deep Learning\\Project\\Bounding Box Detection\\Final Merge\\final\\images\\train\\09.01.25 08.00Am_frame_040534_aug_4.jpg: 384x640 1 ParkingLot, 17.1ms\n",
      "image 1474/1614 d:\\Downloads\\VIT Downloads\\Local Downloads\\Semester 6\\Deep Learning\\Project\\Bounding Box Detection\\Final Merge\\final\\images\\train\\09.01.25 08.00Am_frame_045211_aug_0.jpg: 384x640 1 ParkingLot, 13.9ms\n",
      "image 1475/1614 d:\\Downloads\\VIT Downloads\\Local Downloads\\Semester 6\\Deep Learning\\Project\\Bounding Box Detection\\Final Merge\\final\\images\\train\\09.01.25 08.00Am_frame_045211_aug_1.jpg: 384x640 1 ParkingLot, 13.4ms\n",
      "image 1476/1614 d:\\Downloads\\VIT Downloads\\Local Downloads\\Semester 6\\Deep Learning\\Project\\Bounding Box Detection\\Final Merge\\final\\images\\train\\09.01.25 08.00Am_frame_045211_aug_2.jpg: 640x384 1 ParkingLot, 14.9ms\n",
      "image 1477/1614 d:\\Downloads\\VIT Downloads\\Local Downloads\\Semester 6\\Deep Learning\\Project\\Bounding Box Detection\\Final Merge\\final\\images\\train\\09.01.25 08.00Am_frame_045211_aug_3.jpg: 384x640 1 ParkingLot, 15.2ms\n",
      "image 1478/1614 d:\\Downloads\\VIT Downloads\\Local Downloads\\Semester 6\\Deep Learning\\Project\\Bounding Box Detection\\Final Merge\\final\\images\\train\\09.01.25 08.00Am_frame_045211_aug_4.jpg: 640x384 1 ParkingLot, 14.9ms\n",
      "image 1479/1614 d:\\Downloads\\VIT Downloads\\Local Downloads\\Semester 6\\Deep Learning\\Project\\Bounding Box Detection\\Final Merge\\final\\images\\train\\09.01.25 08.00Am_frame_046770_aug_0.jpg: 384x640 1 ParkingLot, 15.4ms\n",
      "image 1480/1614 d:\\Downloads\\VIT Downloads\\Local Downloads\\Semester 6\\Deep Learning\\Project\\Bounding Box Detection\\Final Merge\\final\\images\\train\\09.01.25 08.00Am_frame_046770_aug_1.jpg: 384x640 1 ParkingLot, 14.1ms\n",
      "image 1481/1614 d:\\Downloads\\VIT Downloads\\Local Downloads\\Semester 6\\Deep Learning\\Project\\Bounding Box Detection\\Final Merge\\final\\images\\train\\09.01.25 08.00Am_frame_046770_aug_2.jpg: 384x640 1 ParkingLot, 15.9ms\n",
      "image 1482/1614 d:\\Downloads\\VIT Downloads\\Local Downloads\\Semester 6\\Deep Learning\\Project\\Bounding Box Detection\\Final Merge\\final\\images\\train\\09.01.25 08.00Am_frame_046770_aug_3.jpg: 384x640 1 ParkingLot, 14.3ms\n",
      "image 1483/1614 d:\\Downloads\\VIT Downloads\\Local Downloads\\Semester 6\\Deep Learning\\Project\\Bounding Box Detection\\Final Merge\\final\\images\\train\\09.01.25 08.00Am_frame_046770_aug_4.jpg: 384x640 1 ParkingLot, 13.2ms\n",
      "image 1484/1614 d:\\Downloads\\VIT Downloads\\Local Downloads\\Semester 6\\Deep Learning\\Project\\Bounding Box Detection\\Final Merge\\final\\images\\train\\09.01.25 08.00Am_frame_051447_aug_0.jpg: 384x640 1 ParkingLot, 25.2ms\n",
      "image 1485/1614 d:\\Downloads\\VIT Downloads\\Local Downloads\\Semester 6\\Deep Learning\\Project\\Bounding Box Detection\\Final Merge\\final\\images\\train\\09.01.25 08.00Am_frame_051447_aug_1.jpg: 640x384 1 ParkingLot, 20.3ms\n",
      "image 1486/1614 d:\\Downloads\\VIT Downloads\\Local Downloads\\Semester 6\\Deep Learning\\Project\\Bounding Box Detection\\Final Merge\\final\\images\\train\\09.01.25 08.00Am_frame_051447_aug_2.jpg: 384x640 1 ParkingLot, 26.9ms\n",
      "image 1487/1614 d:\\Downloads\\VIT Downloads\\Local Downloads\\Semester 6\\Deep Learning\\Project\\Bounding Box Detection\\Final Merge\\final\\images\\train\\09.01.25 08.00Am_frame_051447_aug_3.jpg: 640x384 1 ParkingLot, 14.4ms\n",
      "image 1488/1614 d:\\Downloads\\VIT Downloads\\Local Downloads\\Semester 6\\Deep Learning\\Project\\Bounding Box Detection\\Final Merge\\final\\images\\train\\09.01.25 08.00Am_frame_051447_aug_4.jpg: 384x640 1 ParkingLot, 16.6ms\n",
      "image 1489/1614 d:\\Downloads\\VIT Downloads\\Local Downloads\\Semester 6\\Deep Learning\\Project\\Bounding Box Detection\\Final Merge\\final\\images\\train\\09.01.25 08.00Am_frame_054565_aug_0.jpg: 384x640 1 ParkingLot, 18.3ms\n",
      "image 1490/1614 d:\\Downloads\\VIT Downloads\\Local Downloads\\Semester 6\\Deep Learning\\Project\\Bounding Box Detection\\Final Merge\\final\\images\\train\\09.01.25 08.00Am_frame_054565_aug_1.jpg: 384x640 1 ParkingLot, 14.6ms\n",
      "image 1491/1614 d:\\Downloads\\VIT Downloads\\Local Downloads\\Semester 6\\Deep Learning\\Project\\Bounding Box Detection\\Final Merge\\final\\images\\train\\09.01.25 08.00Am_frame_054565_aug_2.jpg: 384x640 1 ParkingLot, 27.4ms\n",
      "image 1492/1614 d:\\Downloads\\VIT Downloads\\Local Downloads\\Semester 6\\Deep Learning\\Project\\Bounding Box Detection\\Final Merge\\final\\images\\train\\09.01.25 08.00Am_frame_054565_aug_3.jpg: 384x640 1 ParkingLot, 16.1ms\n",
      "image 1493/1614 d:\\Downloads\\VIT Downloads\\Local Downloads\\Semester 6\\Deep Learning\\Project\\Bounding Box Detection\\Final Merge\\final\\images\\train\\09.01.25 08.00Am_frame_054565_aug_4.jpg: 384x640 1 ParkingLot, 14.1ms\n",
      "image 1494/1614 d:\\Downloads\\VIT Downloads\\Local Downloads\\Semester 6\\Deep Learning\\Project\\Bounding Box Detection\\Final Merge\\final\\images\\train\\09.01.25 08.00Am_frame_059242_aug_0.jpg: 384x640 1 ParkingLot, 13.9ms\n",
      "image 1495/1614 d:\\Downloads\\VIT Downloads\\Local Downloads\\Semester 6\\Deep Learning\\Project\\Bounding Box Detection\\Final Merge\\final\\images\\train\\09.01.25 08.00Am_frame_059242_aug_1.jpg: 384x640 1 ParkingLot, 12.8ms\n",
      "image 1496/1614 d:\\Downloads\\VIT Downloads\\Local Downloads\\Semester 6\\Deep Learning\\Project\\Bounding Box Detection\\Final Merge\\final\\images\\train\\09.01.25 08.00Am_frame_059242_aug_2.jpg: 384x640 1 ParkingLot, 13.6ms\n",
      "image 1497/1614 d:\\Downloads\\VIT Downloads\\Local Downloads\\Semester 6\\Deep Learning\\Project\\Bounding Box Detection\\Final Merge\\final\\images\\train\\09.01.25 08.00Am_frame_059242_aug_3.jpg: 384x640 1 ParkingLot, 22.2ms\n",
      "image 1498/1614 d:\\Downloads\\VIT Downloads\\Local Downloads\\Semester 6\\Deep Learning\\Project\\Bounding Box Detection\\Final Merge\\final\\images\\train\\09.01.25 08.00Am_frame_059242_aug_4.jpg: 384x640 1 ParkingLot, 16.7ms\n",
      "image 1499/1614 d:\\Downloads\\VIT Downloads\\Local Downloads\\Semester 6\\Deep Learning\\Project\\Bounding Box Detection\\Final Merge\\final\\images\\train\\09.01.25 08.00Am_frame_062360_aug_0.jpg: 384x640 1 ParkingLot, 13.3ms\n",
      "image 1500/1614 d:\\Downloads\\VIT Downloads\\Local Downloads\\Semester 6\\Deep Learning\\Project\\Bounding Box Detection\\Final Merge\\final\\images\\train\\09.01.25 08.00Am_frame_062360_aug_1.jpg: 384x640 1 ParkingLot, 13.4ms\n",
      "image 1501/1614 d:\\Downloads\\VIT Downloads\\Local Downloads\\Semester 6\\Deep Learning\\Project\\Bounding Box Detection\\Final Merge\\final\\images\\train\\09.01.25 08.00Am_frame_062360_aug_2.jpg: 384x640 1 ParkingLot, 13.1ms\n",
      "image 1502/1614 d:\\Downloads\\VIT Downloads\\Local Downloads\\Semester 6\\Deep Learning\\Project\\Bounding Box Detection\\Final Merge\\final\\images\\train\\09.01.25 08.00Am_frame_062360_aug_3.jpg: 384x640 1 ParkingLot, 13.2ms\n",
      "image 1503/1614 d:\\Downloads\\VIT Downloads\\Local Downloads\\Semester 6\\Deep Learning\\Project\\Bounding Box Detection\\Final Merge\\final\\images\\train\\09.01.25 08.00Am_frame_062360_aug_4.jpg: 384x640 1 ParkingLot, 18.4ms\n",
      "image 1504/1614 d:\\Downloads\\VIT Downloads\\Local Downloads\\Semester 6\\Deep Learning\\Project\\Bounding Box Detection\\Final Merge\\final\\images\\train\\09.01.25 08.00Am_frame_065478_aug_0.jpg: 640x384 1 ParkingLot, 14.3ms\n",
      "image 1505/1614 d:\\Downloads\\VIT Downloads\\Local Downloads\\Semester 6\\Deep Learning\\Project\\Bounding Box Detection\\Final Merge\\final\\images\\train\\09.01.25 08.00Am_frame_065478_aug_1.jpg: 384x640 1 ParkingLot, 14.7ms\n",
      "image 1506/1614 d:\\Downloads\\VIT Downloads\\Local Downloads\\Semester 6\\Deep Learning\\Project\\Bounding Box Detection\\Final Merge\\final\\images\\train\\09.01.25 08.00Am_frame_065478_aug_2.jpg: 384x640 1 ParkingLot, 13.3ms\n",
      "image 1507/1614 d:\\Downloads\\VIT Downloads\\Local Downloads\\Semester 6\\Deep Learning\\Project\\Bounding Box Detection\\Final Merge\\final\\images\\train\\09.01.25 08.00Am_frame_065478_aug_3.jpg: 384x640 1 ParkingLot, 13.1ms\n",
      "image 1508/1614 d:\\Downloads\\VIT Downloads\\Local Downloads\\Semester 6\\Deep Learning\\Project\\Bounding Box Detection\\Final Merge\\final\\images\\train\\09.01.25 08.00Am_frame_065478_aug_4.jpg: 640x384 1 ParkingLot, 20.2ms\n",
      "image 1509/1614 d:\\Downloads\\VIT Downloads\\Local Downloads\\Semester 6\\Deep Learning\\Project\\Bounding Box Detection\\Final Merge\\final\\images\\train\\09.01.25 08.00Am_frame_067037_aug_0.jpg: 640x384 1 ParkingLot, 16.4ms\n",
      "image 1510/1614 d:\\Downloads\\VIT Downloads\\Local Downloads\\Semester 6\\Deep Learning\\Project\\Bounding Box Detection\\Final Merge\\final\\images\\train\\09.01.25 08.00Am_frame_067037_aug_2.jpg: 384x640 1 ParkingLot, 15.4ms\n",
      "image 1511/1614 d:\\Downloads\\VIT Downloads\\Local Downloads\\Semester 6\\Deep Learning\\Project\\Bounding Box Detection\\Final Merge\\final\\images\\train\\09.01.25 08.00Am_frame_067037_aug_3.jpg: 640x384 1 ParkingLot, 16.2ms\n",
      "image 1512/1614 d:\\Downloads\\VIT Downloads\\Local Downloads\\Semester 6\\Deep Learning\\Project\\Bounding Box Detection\\Final Merge\\final\\images\\train\\09.01.25 08.00Am_frame_067037_aug_4.jpg: 384x640 1 ParkingLot, 15.4ms\n",
      "image 1513/1614 d:\\Downloads\\VIT Downloads\\Local Downloads\\Semester 6\\Deep Learning\\Project\\Bounding Box Detection\\Final Merge\\final\\images\\train\\09.01.25 08.00Am_frame_068596_aug_0.jpg: 640x384 1 ParkingLot, 14.7ms\n",
      "image 1514/1614 d:\\Downloads\\VIT Downloads\\Local Downloads\\Semester 6\\Deep Learning\\Project\\Bounding Box Detection\\Final Merge\\final\\images\\train\\09.01.25 08.00Am_frame_068596_aug_1.jpg: 384x640 1 ParkingLot, 17.8ms\n",
      "image 1515/1614 d:\\Downloads\\VIT Downloads\\Local Downloads\\Semester 6\\Deep Learning\\Project\\Bounding Box Detection\\Final Merge\\final\\images\\train\\09.01.25 08.00Am_frame_068596_aug_2.jpg: 384x640 1 ParkingLot, 13.2ms\n",
      "image 1516/1614 d:\\Downloads\\VIT Downloads\\Local Downloads\\Semester 6\\Deep Learning\\Project\\Bounding Box Detection\\Final Merge\\final\\images\\train\\09.01.25 08.00Am_frame_068596_aug_3.jpg: 384x640 1 ParkingLot, 19.7ms\n",
      "image 1517/1614 d:\\Downloads\\VIT Downloads\\Local Downloads\\Semester 6\\Deep Learning\\Project\\Bounding Box Detection\\Final Merge\\final\\images\\train\\09.01.25 08.00Am_frame_070155_aug_0.jpg: 384x640 1 ParkingLot, 13.7ms\n",
      "image 1518/1614 d:\\Downloads\\VIT Downloads\\Local Downloads\\Semester 6\\Deep Learning\\Project\\Bounding Box Detection\\Final Merge\\final\\images\\train\\09.01.25 08.00Am_frame_070155_aug_1.jpg: 384x640 1 ParkingLot, 13.8ms\n",
      "image 1519/1614 d:\\Downloads\\VIT Downloads\\Local Downloads\\Semester 6\\Deep Learning\\Project\\Bounding Box Detection\\Final Merge\\final\\images\\train\\09.01.25 08.00Am_frame_070155_aug_2.jpg: 640x384 1 ParkingLot, 13.8ms\n",
      "image 1520/1614 d:\\Downloads\\VIT Downloads\\Local Downloads\\Semester 6\\Deep Learning\\Project\\Bounding Box Detection\\Final Merge\\final\\images\\train\\09.01.25 08.00Am_frame_070155_aug_3.jpg: 384x640 1 ParkingLot, 24.6ms\n",
      "image 1521/1614 d:\\Downloads\\VIT Downloads\\Local Downloads\\Semester 6\\Deep Learning\\Project\\Bounding Box Detection\\Final Merge\\final\\images\\train\\09.01.25 08.00Am_frame_070155_aug_4.jpg: 384x640 1 ParkingLot, 23.8ms\n",
      "image 1522/1614 d:\\Downloads\\VIT Downloads\\Local Downloads\\Semester 6\\Deep Learning\\Project\\Bounding Box Detection\\Final Merge\\final\\images\\train\\09.01.25 08.00Am_frame_077950_aug_0.jpg: 384x640 1 ParkingLot, 23.9ms\n",
      "image 1523/1614 d:\\Downloads\\VIT Downloads\\Local Downloads\\Semester 6\\Deep Learning\\Project\\Bounding Box Detection\\Final Merge\\final\\images\\train\\09.01.25 08.00Am_frame_077950_aug_1.jpg: 384x640 1 ParkingLot, 16.2ms\n",
      "image 1524/1614 d:\\Downloads\\VIT Downloads\\Local Downloads\\Semester 6\\Deep Learning\\Project\\Bounding Box Detection\\Final Merge\\final\\images\\train\\09.01.25 08.00Am_frame_077950_aug_2.jpg: 640x384 1 ParkingLot, 16.1ms\n",
      "image 1525/1614 d:\\Downloads\\VIT Downloads\\Local Downloads\\Semester 6\\Deep Learning\\Project\\Bounding Box Detection\\Final Merge\\final\\images\\train\\09.01.25 08.00Am_frame_077950_aug_3.jpg: 384x640 1 ParkingLot, 15.5ms\n",
      "image 1526/1614 d:\\Downloads\\VIT Downloads\\Local Downloads\\Semester 6\\Deep Learning\\Project\\Bounding Box Detection\\Final Merge\\final\\images\\train\\09.01.25 08.00Am_frame_077950_aug_4.jpg: 384x640 1 ParkingLot, 13.2ms\n",
      "image 1527/1614 d:\\Downloads\\VIT Downloads\\Local Downloads\\Semester 6\\Deep Learning\\Project\\Bounding Box Detection\\Final Merge\\final\\images\\train\\09.01.25 08.40Am_frame_000000_aug_0.jpg: 384x640 1 ParkingLot, 12.6ms\n",
      "image 1528/1614 d:\\Downloads\\VIT Downloads\\Local Downloads\\Semester 6\\Deep Learning\\Project\\Bounding Box Detection\\Final Merge\\final\\images\\train\\09.01.25 08.40Am_frame_000000_aug_1.jpg: 384x640 1 ParkingLot, 13.6ms\n",
      "image 1529/1614 d:\\Downloads\\VIT Downloads\\Local Downloads\\Semester 6\\Deep Learning\\Project\\Bounding Box Detection\\Final Merge\\final\\images\\train\\09.01.25 08.40Am_frame_000000_aug_2.jpg: 384x640 1 ParkingLot, 15.9ms\n",
      "image 1530/1614 d:\\Downloads\\VIT Downloads\\Local Downloads\\Semester 6\\Deep Learning\\Project\\Bounding Box Detection\\Final Merge\\final\\images\\train\\09.01.25 08.40Am_frame_000000_aug_3.jpg: 384x640 1 ParkingLot, 26.2ms\n",
      "image 1531/1614 d:\\Downloads\\VIT Downloads\\Local Downloads\\Semester 6\\Deep Learning\\Project\\Bounding Box Detection\\Final Merge\\final\\images\\train\\09.01.25 08.40Am_frame_000000_aug_4.jpg: 384x640 1 ParkingLot, 18.0ms\n",
      "image 1532/1614 d:\\Downloads\\VIT Downloads\\Local Downloads\\Semester 6\\Deep Learning\\Project\\Bounding Box Detection\\Final Merge\\final\\images\\train\\09.01.25 08.40Am_frame_007694_aug_2.jpg: 384x640 1 ParkingLot, 16.5ms\n",
      "image 1533/1614 d:\\Downloads\\VIT Downloads\\Local Downloads\\Semester 6\\Deep Learning\\Project\\Bounding Box Detection\\Final Merge\\final\\images\\train\\09.01.25 08.40Am_frame_007694_aug_4.jpg: 384x640 1 ParkingLot, 16.9ms\n",
      "image 1534/1614 d:\\Downloads\\VIT Downloads\\Local Downloads\\Semester 6\\Deep Learning\\Project\\Bounding Box Detection\\Final Merge\\final\\images\\train\\09.01.25 08.40Am_frame_015388_aug_0.jpg: 384x640 1 ParkingLot, 15.3ms\n",
      "image 1535/1614 d:\\Downloads\\VIT Downloads\\Local Downloads\\Semester 6\\Deep Learning\\Project\\Bounding Box Detection\\Final Merge\\final\\images\\train\\09.01.25 08.40Am_frame_015388_aug_1.jpg: 640x384 1 ParkingLot, 22.1ms\n",
      "image 1536/1614 d:\\Downloads\\VIT Downloads\\Local Downloads\\Semester 6\\Deep Learning\\Project\\Bounding Box Detection\\Final Merge\\final\\images\\train\\09.01.25 08.40Am_frame_015388_aug_2.jpg: 640x384 1 ParkingLot, 13.6ms\n",
      "image 1537/1614 d:\\Downloads\\VIT Downloads\\Local Downloads\\Semester 6\\Deep Learning\\Project\\Bounding Box Detection\\Final Merge\\final\\images\\train\\09.01.25 08.40Am_frame_015388_aug_3.jpg: 384x640 1 ParkingLot, 14.1ms\n",
      "image 1538/1614 d:\\Downloads\\VIT Downloads\\Local Downloads\\Semester 6\\Deep Learning\\Project\\Bounding Box Detection\\Final Merge\\final\\images\\train\\09.01.25 08.40Am_frame_015388_aug_4.jpg: 384x640 1 ParkingLot, 13.2ms\n",
      "image 1539/1614 d:\\Downloads\\VIT Downloads\\Local Downloads\\Semester 6\\Deep Learning\\Project\\Bounding Box Detection\\Final Merge\\final\\images\\train\\09.01.25 08.40Am_frame_023082_aug_0.jpg: 384x640 1 ParkingLot, 13.3ms\n",
      "image 1540/1614 d:\\Downloads\\VIT Downloads\\Local Downloads\\Semester 6\\Deep Learning\\Project\\Bounding Box Detection\\Final Merge\\final\\images\\train\\09.01.25 08.40Am_frame_023082_aug_1.jpg: 384x640 1 ParkingLot, 14.3ms\n",
      "image 1541/1614 d:\\Downloads\\VIT Downloads\\Local Downloads\\Semester 6\\Deep Learning\\Project\\Bounding Box Detection\\Final Merge\\final\\images\\train\\09.01.25 08.40Am_frame_023082_aug_2.jpg: 384x640 1 ParkingLot, 15.8ms\n",
      "image 1542/1614 d:\\Downloads\\VIT Downloads\\Local Downloads\\Semester 6\\Deep Learning\\Project\\Bounding Box Detection\\Final Merge\\final\\images\\train\\09.01.25 08.40Am_frame_023082_aug_3.jpg: 384x640 1 ParkingLot, 13.7ms\n",
      "image 1543/1614 d:\\Downloads\\VIT Downloads\\Local Downloads\\Semester 6\\Deep Learning\\Project\\Bounding Box Detection\\Final Merge\\final\\images\\train\\09.01.25 08.40Am_frame_023082_aug_4.jpg: 384x640 1 ParkingLot, 13.6ms\n",
      "image 1544/1614 d:\\Downloads\\VIT Downloads\\Local Downloads\\Semester 6\\Deep Learning\\Project\\Bounding Box Detection\\Final Merge\\final\\images\\train\\09.01.25 08.40Am_frame_030776_aug_0.jpg: 384x640 1 ParkingLot, 25.9ms\n",
      "image 1545/1614 d:\\Downloads\\VIT Downloads\\Local Downloads\\Semester 6\\Deep Learning\\Project\\Bounding Box Detection\\Final Merge\\final\\images\\train\\09.01.25 08.40Am_frame_030776_aug_1.jpg: 384x640 1 ParkingLot, 13.5ms\n",
      "image 1546/1614 d:\\Downloads\\VIT Downloads\\Local Downloads\\Semester 6\\Deep Learning\\Project\\Bounding Box Detection\\Final Merge\\final\\images\\train\\09.01.25 08.40Am_frame_030776_aug_2.jpg: 384x640 1 ParkingLot, 18.6ms\n",
      "image 1547/1614 d:\\Downloads\\VIT Downloads\\Local Downloads\\Semester 6\\Deep Learning\\Project\\Bounding Box Detection\\Final Merge\\final\\images\\train\\09.01.25 08.40Am_frame_030776_aug_3.jpg: 640x384 1 ParkingLot, 16.2ms\n",
      "image 1548/1614 d:\\Downloads\\VIT Downloads\\Local Downloads\\Semester 6\\Deep Learning\\Project\\Bounding Box Detection\\Final Merge\\final\\images\\train\\09.01.25 08.40Am_frame_030776_aug_4.jpg: 384x640 1 ParkingLot, 16.3ms\n",
      "image 1549/1614 d:\\Downloads\\VIT Downloads\\Local Downloads\\Semester 6\\Deep Learning\\Project\\Bounding Box Detection\\Final Merge\\final\\images\\train\\09.01.25 08.40Am_frame_153880_aug_0.jpg: 384x640 1 ParkingLot, 13.6ms\n",
      "image 1550/1614 d:\\Downloads\\VIT Downloads\\Local Downloads\\Semester 6\\Deep Learning\\Project\\Bounding Box Detection\\Final Merge\\final\\images\\train\\09.01.25 08.40Am_frame_153880_aug_1.jpg: 384x640 1 ParkingLot, 14.8ms\n",
      "image 1551/1614 d:\\Downloads\\VIT Downloads\\Local Downloads\\Semester 6\\Deep Learning\\Project\\Bounding Box Detection\\Final Merge\\final\\images\\train\\09.01.25 08.40Am_frame_153880_aug_2.jpg: 384x640 1 ParkingLot, 13.7ms\n",
      "image 1552/1614 d:\\Downloads\\VIT Downloads\\Local Downloads\\Semester 6\\Deep Learning\\Project\\Bounding Box Detection\\Final Merge\\final\\images\\train\\09.01.25 08.40Am_frame_153880_aug_3.jpg: 384x640 1 ParkingLot, 21.8ms\n",
      "image 1553/1614 d:\\Downloads\\VIT Downloads\\Local Downloads\\Semester 6\\Deep Learning\\Project\\Bounding Box Detection\\Final Merge\\final\\images\\train\\09.01.25 08.40Am_frame_153880_aug_4.jpg: 640x384 1 ParkingLot, 19.1ms\n",
      "image 1554/1614 d:\\Downloads\\VIT Downloads\\Local Downloads\\Semester 6\\Deep Learning\\Project\\Bounding Box Detection\\Final Merge\\final\\images\\train\\09.01.25 08.40Am_frame_184656_aug_0.jpg: 384x640 1 ParkingLot, 14.1ms\n",
      "image 1555/1614 d:\\Downloads\\VIT Downloads\\Local Downloads\\Semester 6\\Deep Learning\\Project\\Bounding Box Detection\\Final Merge\\final\\images\\train\\09.01.25 08.40Am_frame_184656_aug_1.jpg: 640x384 1 ParkingLot, 15.0ms\n",
      "image 1556/1614 d:\\Downloads\\VIT Downloads\\Local Downloads\\Semester 6\\Deep Learning\\Project\\Bounding Box Detection\\Final Merge\\final\\images\\train\\09.01.25 08.40Am_frame_184656_aug_2.jpg: 384x640 1 ParkingLot, 14.5ms\n",
      "image 1557/1614 d:\\Downloads\\VIT Downloads\\Local Downloads\\Semester 6\\Deep Learning\\Project\\Bounding Box Detection\\Final Merge\\final\\images\\train\\09.01.25 08.40Am_frame_184656_aug_4.jpg: 384x640 1 ParkingLot, 24.6ms\n",
      "image 1558/1614 d:\\Downloads\\VIT Downloads\\Local Downloads\\Semester 6\\Deep Learning\\Project\\Bounding Box Detection\\Final Merge\\final\\images\\train\\09.01.25 08.40Am_frame_200044_aug_1.jpg: 384x640 1 ParkingLot, 13.5ms\n",
      "image 1559/1614 d:\\Downloads\\VIT Downloads\\Local Downloads\\Semester 6\\Deep Learning\\Project\\Bounding Box Detection\\Final Merge\\final\\images\\train\\09.01.25 08.40Am_frame_200044_aug_2.jpg: 640x384 1 ParkingLot, 15.5ms\n",
      "image 1560/1614 d:\\Downloads\\VIT Downloads\\Local Downloads\\Semester 6\\Deep Learning\\Project\\Bounding Box Detection\\Final Merge\\final\\images\\train\\09.01.25 08.40Am_frame_200044_aug_3.jpg: 384x640 1 ParkingLot, 14.1ms\n",
      "image 1561/1614 d:\\Downloads\\VIT Downloads\\Local Downloads\\Semester 6\\Deep Learning\\Project\\Bounding Box Detection\\Final Merge\\final\\images\\train\\09.01.25 08.40Am_frame_200044_aug_4.jpg: 384x640 1 ParkingLot, 13.3ms\n",
      "image 1562/1614 d:\\Downloads\\VIT Downloads\\Local Downloads\\Semester 6\\Deep Learning\\Project\\Bounding Box Detection\\Final Merge\\final\\images\\train\\09.01.25 08.40Am_frame_207738_aug_0.jpg: 384x640 1 ParkingLot, 12.9ms\n",
      "image 1563/1614 d:\\Downloads\\VIT Downloads\\Local Downloads\\Semester 6\\Deep Learning\\Project\\Bounding Box Detection\\Final Merge\\final\\images\\train\\09.01.25 08.40Am_frame_207738_aug_1.jpg: 640x384 1 ParkingLot, 13.7ms\n",
      "image 1564/1614 d:\\Downloads\\VIT Downloads\\Local Downloads\\Semester 6\\Deep Learning\\Project\\Bounding Box Detection\\Final Merge\\final\\images\\train\\09.01.25 08.40Am_frame_207738_aug_2.jpg: 384x640 1 ParkingLot, 14.2ms\n",
      "image 1565/1614 d:\\Downloads\\VIT Downloads\\Local Downloads\\Semester 6\\Deep Learning\\Project\\Bounding Box Detection\\Final Merge\\final\\images\\train\\09.01.25 08.40Am_frame_207738_aug_3.jpg: 384x640 1 ParkingLot, 14.9ms\n",
      "image 1566/1614 d:\\Downloads\\VIT Downloads\\Local Downloads\\Semester 6\\Deep Learning\\Project\\Bounding Box Detection\\Final Merge\\final\\images\\train\\09.01.25 08.40Am_frame_207738_aug_4.jpg: 384x640 1 ParkingLot, 13.4ms\n",
      "image 1567/1614 d:\\Downloads\\VIT Downloads\\Local Downloads\\Semester 6\\Deep Learning\\Project\\Bounding Box Detection\\Final Merge\\final\\images\\train\\09.01.25 08.40Am_frame_215432_aug_0.jpg: 640x384 1 ParkingLot, 21.3ms\n",
      "image 1568/1614 d:\\Downloads\\VIT Downloads\\Local Downloads\\Semester 6\\Deep Learning\\Project\\Bounding Box Detection\\Final Merge\\final\\images\\train\\09.01.25 08.40Am_frame_215432_aug_1.jpg: 640x384 1 ParkingLot, 13.7ms\n",
      "image 1569/1614 d:\\Downloads\\VIT Downloads\\Local Downloads\\Semester 6\\Deep Learning\\Project\\Bounding Box Detection\\Final Merge\\final\\images\\train\\09.01.25 08.40Am_frame_215432_aug_2.jpg: 384x640 1 ParkingLot, 14.0ms\n",
      "image 1570/1614 d:\\Downloads\\VIT Downloads\\Local Downloads\\Semester 6\\Deep Learning\\Project\\Bounding Box Detection\\Final Merge\\final\\images\\train\\09.01.25 08.40Am_frame_215432_aug_3.jpg: 384x640 1 ParkingLot, 13.6ms\n",
      "image 1571/1614 d:\\Downloads\\VIT Downloads\\Local Downloads\\Semester 6\\Deep Learning\\Project\\Bounding Box Detection\\Final Merge\\final\\images\\train\\09.01.25 08.40Am_frame_215432_aug_4.jpg: 384x640 1 ParkingLot, 13.1ms\n",
      "image 1572/1614 d:\\Downloads\\VIT Downloads\\Local Downloads\\Semester 6\\Deep Learning\\Project\\Bounding Box Detection\\Final Merge\\final\\images\\train\\09.01.25 08.40Am_frame_230820_aug_0.jpg: 384x640 1 ParkingLot, 15.2ms\n",
      "image 1573/1614 d:\\Downloads\\VIT Downloads\\Local Downloads\\Semester 6\\Deep Learning\\Project\\Bounding Box Detection\\Final Merge\\final\\images\\train\\09.01.25 08.40Am_frame_230820_aug_1.jpg: 384x640 1 ParkingLot, 13.1ms\n",
      "image 1574/1614 d:\\Downloads\\VIT Downloads\\Local Downloads\\Semester 6\\Deep Learning\\Project\\Bounding Box Detection\\Final Merge\\final\\images\\train\\09.01.25 08.40Am_frame_230820_aug_3.jpg: 384x640 1 ParkingLot, 13.2ms\n",
      "image 1575/1614 d:\\Downloads\\VIT Downloads\\Local Downloads\\Semester 6\\Deep Learning\\Project\\Bounding Box Detection\\Final Merge\\final\\images\\train\\09.01.25 08.40Am_frame_246208_aug_0.jpg: 384x640 1 ParkingLot, 13.1ms\n",
      "image 1576/1614 d:\\Downloads\\VIT Downloads\\Local Downloads\\Semester 6\\Deep Learning\\Project\\Bounding Box Detection\\Final Merge\\final\\images\\train\\09.01.25 08.40Am_frame_246208_aug_2.jpg: 384x640 1 ParkingLot, 13.2ms\n",
      "image 1577/1614 d:\\Downloads\\VIT Downloads\\Local Downloads\\Semester 6\\Deep Learning\\Project\\Bounding Box Detection\\Final Merge\\final\\images\\train\\09.01.25 08.40Am_frame_253902_aug_1.jpg: 384x640 1 ParkingLot, 12.7ms\n",
      "image 1578/1614 d:\\Downloads\\VIT Downloads\\Local Downloads\\Semester 6\\Deep Learning\\Project\\Bounding Box Detection\\Final Merge\\final\\images\\train\\09.01.25 08.40Am_frame_253902_aug_2.jpg: 384x640 1 ParkingLot, 13.3ms\n",
      "image 1579/1614 d:\\Downloads\\VIT Downloads\\Local Downloads\\Semester 6\\Deep Learning\\Project\\Bounding Box Detection\\Final Merge\\final\\images\\train\\09.01.25 08.40Am_frame_261596_aug_3.jpg: 384x640 1 ParkingLot, 15.6ms\n",
      "image 1580/1614 d:\\Downloads\\VIT Downloads\\Local Downloads\\Semester 6\\Deep Learning\\Project\\Bounding Box Detection\\Final Merge\\final\\images\\train\\09.01.25 08.40Am_frame_284678_aug_3.jpg: 384x640 1 ParkingLot, 13.3ms\n",
      "image 1581/1614 d:\\Downloads\\VIT Downloads\\Local Downloads\\Semester 6\\Deep Learning\\Project\\Bounding Box Detection\\Final Merge\\final\\images\\train\\09.01.25 08.40Am_frame_300066_aug_0.jpg: 384x640 1 ParkingLot, 12.9ms\n",
      "image 1582/1614 d:\\Downloads\\VIT Downloads\\Local Downloads\\Semester 6\\Deep Learning\\Project\\Bounding Box Detection\\Final Merge\\final\\images\\train\\09.01.25 08.40Am_frame_300066_aug_3.jpg: 384x640 1 ParkingLot, 12.8ms\n",
      "image 1583/1614 d:\\Downloads\\VIT Downloads\\Local Downloads\\Semester 6\\Deep Learning\\Project\\Bounding Box Detection\\Final Merge\\final\\images\\train\\09.01.25 08.40Am_frame_300066_aug_4.jpg: 384x640 1 ParkingLot, 14.2ms\n",
      "image 1584/1614 d:\\Downloads\\VIT Downloads\\Local Downloads\\Semester 6\\Deep Learning\\Project\\Bounding Box Detection\\Final Merge\\final\\images\\train\\09.01.25 08.40Am_frame_307760_aug_1.jpg: 384x640 1 ParkingLot, 13.8ms\n",
      "image 1585/1614 d:\\Downloads\\VIT Downloads\\Local Downloads\\Semester 6\\Deep Learning\\Project\\Bounding Box Detection\\Final Merge\\final\\images\\train\\09.01.25 08.40Am_frame_307760_aug_4.jpg: 384x640 1 ParkingLot, 14.1ms\n",
      "image 1586/1614 d:\\Downloads\\VIT Downloads\\Local Downloads\\Semester 6\\Deep Learning\\Project\\Bounding Box Detection\\Final Merge\\final\\images\\train\\09.01.25 08.40Am_frame_323148_aug_0.jpg: 384x640 1 ParkingLot, 13.3ms\n",
      "image 1587/1614 d:\\Downloads\\VIT Downloads\\Local Downloads\\Semester 6\\Deep Learning\\Project\\Bounding Box Detection\\Final Merge\\final\\images\\train\\09.01.25 08.40Am_frame_323148_aug_3.jpg: 384x640 1 ParkingLot, 18.0ms\n",
      "image 1588/1614 d:\\Downloads\\VIT Downloads\\Local Downloads\\Semester 6\\Deep Learning\\Project\\Bounding Box Detection\\Final Merge\\final\\images\\train\\09.01.25 08.40Am_frame_323148_aug_4.jpg: 384x640 1 ParkingLot, 13.0ms\n",
      "image 1589/1614 d:\\Downloads\\VIT Downloads\\Local Downloads\\Semester 6\\Deep Learning\\Project\\Bounding Box Detection\\Final Merge\\final\\images\\train\\09.01.25 08.40Am_frame_330842_aug_0.jpg: 384x640 1 ParkingLot, 12.6ms\n",
      "image 1590/1614 d:\\Downloads\\VIT Downloads\\Local Downloads\\Semester 6\\Deep Learning\\Project\\Bounding Box Detection\\Final Merge\\final\\images\\train\\09.01.25 08.40Am_frame_330842_aug_4.jpg: 384x640 1 ParkingLot, 13.2ms\n",
      "image 1591/1614 d:\\Downloads\\VIT Downloads\\Local Downloads\\Semester 6\\Deep Learning\\Project\\Bounding Box Detection\\Final Merge\\final\\images\\train\\09.01.25 08.40Am_frame_338536_aug_1.jpg: 384x640 1 ParkingLot, 13.4ms\n",
      "image 1592/1614 d:\\Downloads\\VIT Downloads\\Local Downloads\\Semester 6\\Deep Learning\\Project\\Bounding Box Detection\\Final Merge\\final\\images\\train\\09.01.25 08.40Am_frame_338536_aug_2.jpg: 384x640 1 ParkingLot, 13.6ms\n",
      "image 1593/1614 d:\\Downloads\\VIT Downloads\\Local Downloads\\Semester 6\\Deep Learning\\Project\\Bounding Box Detection\\Final Merge\\final\\images\\train\\09.01.25 08.40Am_frame_338536_aug_4.jpg: 384x640 1 ParkingLot, 21.2ms\n",
      "image 1594/1614 d:\\Downloads\\VIT Downloads\\Local Downloads\\Semester 6\\Deep Learning\\Project\\Bounding Box Detection\\Final Merge\\final\\images\\train\\09.01.25 08.40Am_frame_353924_aug_0.jpg: 384x640 1 ParkingLot, 13.3ms\n",
      "image 1595/1614 d:\\Downloads\\VIT Downloads\\Local Downloads\\Semester 6\\Deep Learning\\Project\\Bounding Box Detection\\Final Merge\\final\\images\\train\\09.01.25 08.40Am_frame_353924_aug_2.jpg: 384x640 1 ParkingLot, 12.8ms\n",
      "image 1596/1614 d:\\Downloads\\VIT Downloads\\Local Downloads\\Semester 6\\Deep Learning\\Project\\Bounding Box Detection\\Final Merge\\final\\images\\train\\09.01.25 08.40Am_frame_353924_aug_4.jpg: 384x640 1 ParkingLot, 24.9ms\n",
      "image 1597/1614 d:\\Downloads\\VIT Downloads\\Local Downloads\\Semester 6\\Deep Learning\\Project\\Bounding Box Detection\\Final Merge\\final\\images\\train\\09.01.25 08.40Am_frame_361618_aug_0.jpg: 384x640 1 ParkingLot, 18.1ms\n",
      "image 1598/1614 d:\\Downloads\\VIT Downloads\\Local Downloads\\Semester 6\\Deep Learning\\Project\\Bounding Box Detection\\Final Merge\\final\\images\\train\\09.01.25 08.40Am_frame_361618_aug_1.jpg: 384x640 1 ParkingLot, 23.9ms\n",
      "image 1599/1614 d:\\Downloads\\VIT Downloads\\Local Downloads\\Semester 6\\Deep Learning\\Project\\Bounding Box Detection\\Final Merge\\final\\images\\train\\09.01.25 08.40Am_frame_361618_aug_2.jpg: 384x640 1 ParkingLot, 16.2ms\n",
      "image 1600/1614 d:\\Downloads\\VIT Downloads\\Local Downloads\\Semester 6\\Deep Learning\\Project\\Bounding Box Detection\\Final Merge\\final\\images\\train\\09.01.25 08.40Am_frame_361618_aug_3.jpg: 384x640 1 ParkingLot, 13.2ms\n",
      "image 1601/1614 d:\\Downloads\\VIT Downloads\\Local Downloads\\Semester 6\\Deep Learning\\Project\\Bounding Box Detection\\Final Merge\\final\\images\\train\\09.01.25 08.40Am_frame_369312_aug_0.jpg: 384x640 1 ParkingLot, 12.9ms\n",
      "image 1602/1614 d:\\Downloads\\VIT Downloads\\Local Downloads\\Semester 6\\Deep Learning\\Project\\Bounding Box Detection\\Final Merge\\final\\images\\train\\09.01.25 08.40Am_frame_369312_aug_1.jpg: 384x640 1 ParkingLot, 15.2ms\n",
      "image 1603/1614 d:\\Downloads\\VIT Downloads\\Local Downloads\\Semester 6\\Deep Learning\\Project\\Bounding Box Detection\\Final Merge\\final\\images\\train\\09.01.25 08.40Am_frame_369312_aug_2.jpg: 384x640 1 ParkingLot, 15.5ms\n",
      "image 1604/1614 d:\\Downloads\\VIT Downloads\\Local Downloads\\Semester 6\\Deep Learning\\Project\\Bounding Box Detection\\Final Merge\\final\\images\\train\\09.01.25 08.40Am_frame_369312_aug_4.jpg: 384x640 1 ParkingLot, 14.0ms\n",
      "image 1605/1614 d:\\Downloads\\VIT Downloads\\Local Downloads\\Semester 6\\Deep Learning\\Project\\Bounding Box Detection\\Final Merge\\final\\images\\train\\09.01.25 08.40Am_frame_377006_aug_0.jpg: 384x640 1 ParkingLot, 14.6ms\n",
      "image 1606/1614 d:\\Downloads\\VIT Downloads\\Local Downloads\\Semester 6\\Deep Learning\\Project\\Bounding Box Detection\\Final Merge\\final\\images\\train\\09.01.25 08.40Am_frame_377006_aug_1.jpg: 384x640 1 ParkingLot, 13.0ms\n",
      "image 1607/1614 d:\\Downloads\\VIT Downloads\\Local Downloads\\Semester 6\\Deep Learning\\Project\\Bounding Box Detection\\Final Merge\\final\\images\\train\\09.01.25 08.40Am_frame_377006_aug_2.jpg: 384x640 1 ParkingLot, 12.5ms\n",
      "image 1608/1614 d:\\Downloads\\VIT Downloads\\Local Downloads\\Semester 6\\Deep Learning\\Project\\Bounding Box Detection\\Final Merge\\final\\images\\train\\09.01.25 08.40Am_frame_377006_aug_3.jpg: 384x640 1 ParkingLot, 13.0ms\n",
      "image 1609/1614 d:\\Downloads\\VIT Downloads\\Local Downloads\\Semester 6\\Deep Learning\\Project\\Bounding Box Detection\\Final Merge\\final\\images\\train\\09.01.25 08.40Am_frame_377006_aug_4.jpg: 384x640 1 ParkingLot, 12.6ms\n",
      "image 1610/1614 d:\\Downloads\\VIT Downloads\\Local Downloads\\Semester 6\\Deep Learning\\Project\\Bounding Box Detection\\Final Merge\\final\\images\\train\\09.01.25 08.40Am_frame_384700_aug_0.jpg: 384x640 1 ParkingLot, 16.6ms\n",
      "image 1611/1614 d:\\Downloads\\VIT Downloads\\Local Downloads\\Semester 6\\Deep Learning\\Project\\Bounding Box Detection\\Final Merge\\final\\images\\train\\09.01.25 08.40Am_frame_384700_aug_1.jpg: 384x640 1 ParkingLot, 16.7ms\n",
      "image 1612/1614 d:\\Downloads\\VIT Downloads\\Local Downloads\\Semester 6\\Deep Learning\\Project\\Bounding Box Detection\\Final Merge\\final\\images\\train\\09.01.25 08.40Am_frame_384700_aug_2.jpg: 384x640 1 ParkingLot, 14.5ms\n",
      "image 1613/1614 d:\\Downloads\\VIT Downloads\\Local Downloads\\Semester 6\\Deep Learning\\Project\\Bounding Box Detection\\Final Merge\\final\\images\\train\\09.01.25 08.40Am_frame_384700_aug_3.jpg: 384x640 1 ParkingLot, 14.2ms\n",
      "image 1614/1614 d:\\Downloads\\VIT Downloads\\Local Downloads\\Semester 6\\Deep Learning\\Project\\Bounding Box Detection\\Final Merge\\final\\images\\train\\09.01.25 08.40Am_frame_384700_aug_4.jpg: 384x640 1 ParkingLot, 14.1ms\n",
      "Speed: 1.6ms preprocess, 16.0ms inference, 2.5ms postprocess per image at shape (1, 3, 384, 640)\n",
      "Results saved to \u001b[1mruns\\segment\\predict\u001b[0m\n",
      "1614 labels saved to runs\\segment\\predict\\labels\n"
     ]
    }
   ],
   "source": [
    "results = model(r'./Final Merge\\final\\images\\train', save_txt = True, exist_ok=True)\n"
   ]
  },
  {
   "cell_type": "markdown",
   "metadata": {},
   "source": [
    "Car Segmentation"
   ]
  },
  {
   "cell_type": "code",
   "execution_count": 1,
   "metadata": {},
   "outputs": [],
   "source": [
    "from ultralytics import YOLO\n"
   ]
  },
  {
   "cell_type": "code",
   "execution_count": null,
   "metadata": {},
   "outputs": [],
   "source": [
    "model = YOLO('./yolo11s-seg.pt')\n",
    "\n",
    "\n",
    "results = model.train(data = './Final Merge/final/data.yaml', epochs = 7, imgsz = 640, batch = 16, workers = 2)\n"
   ]
  }
 ],
 "metadata": {
  "kernelspec": {
   "display_name": "base",
   "language": "python",
   "name": "python3"
  },
  "language_info": {
   "codemirror_mode": {
    "name": "ipython",
    "version": 3
   },
   "file_extension": ".py",
   "mimetype": "text/x-python",
   "name": "python",
   "nbconvert_exporter": "python",
   "pygments_lexer": "ipython3",
   "version": "3.12.3"
  }
 },
 "nbformat": 4,
 "nbformat_minor": 2
}
